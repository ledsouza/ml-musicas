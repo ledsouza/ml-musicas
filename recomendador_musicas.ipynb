{
 "cells": [
  {
   "cell_type": "markdown",
   "metadata": {},
   "source": [
    "# Dicionário dos dados"
   ]
  },
  {
   "cell_type": "markdown",
   "metadata": {},
   "source": [
    "\t\n",
    "- Acousticness/Acústica: Variável numérica, medida de confiança de 0,0 a 1,0 se a faixa é acústica. 1.0 representa alta confiança de que a faixa é acústica.\n",
    "\n",
    "- Danceability/Dançabilidade: Variável numérica, a dançabilidade descreve o quão adequada uma faixa é para dançar com base em uma combinação de elementos musicais, incluindo tempo, estabilidade do ritmo, força da batida e regularidade geral. Um valor de 0,0 é o menos dançável e 1,0 é o mais dançável.\n",
    "\n",
    "- Duration_ms: Variável numérica, a duração da trilha em milissegundos.\n",
    "\n",
    "- Duration_min: Variável numérica, a duração da faixa em minutos.\n",
    "\n",
    "- Energy/Energia: Variável numérica, Energia é uma medida de 0,0 a 1,0 e representa uma medida perceptiva de intensidade e atividade. Normalmente, as faixas energéticas parecem rápidas, altas e barulhentas. Por exemplo, o death metal tem alta energia, enquanto um prelúdio de Bach tem uma pontuação baixa na escala. As características perceptivas que contribuem para este atributo incluem faixa dinâmica, intensidade percebida, timbre, taxa de início e entropia geral.\n",
    "\n",
    "- Explicit/Explícito: Variável categórica, se a faixa tem ou não letras explícitas (verdadeiro = sim (1); falso = não(0), não OU desconhecido).\n",
    "\n",
    "- Id: O ID do Spotify para a faixa.\n",
    "\n",
    "- Instrumentalness/Instrumentalidade: Variável numérica, prevê se uma faixa não contém vocais. Os sons “Ooh” e “aah” são tratados como instrumentais neste contexto. Faixas de rap ou de palavras faladas são claramente “vocais”. Quanto mais próximo o valor de instrumentalidade estiver de 1,0, maior a probabilidade de a faixa não conter conteúdo vocal. Valores acima de 0,5 destinam-se a representar faixas instrumentais, mas a confiança é maior à medida que o valor se aproxima de 1,0.\n",
    "\n",
    "- Key/Chave:Variável numérica, a chave geral estimada da faixa. Os inteiros são mapeados para pitchs usando a notação padrão de Pitch Class. Por exemplo. 0 = C, 1 = C#/Db, 2 = D, e assim por diante. Se nenhuma chave foi detectada, o valor é -1.\n",
    "\n",
    "- Liveness/ Ao vivo: Variável numérica, detecta a presença de um público na gravação. Valores mais altos de vivacidade representam uma probabilidade maior de que a faixa tenha sido executada ao vivo. Um valor acima de 0,8 fornece uma forte probabilidade de que a faixa esteja ativa.\n",
    "\n",
    "- Loudness/ Volume em dB: Variável numérica, volume geral de uma faixa em decibéis (dB). Os valores de volume são calculados em média em toda a faixa e são úteis para comparar o volume relativo das faixas. A sonoridade é a qualidade de um som que é o principal correlato psicológico da força física (amplitude). Os valores típicos variam entre -60 e 0 db.\n",
    "\n",
    "- Mode/ Modo: Variável numérica, o modo indica a modalidade (maior ou menor) de uma faixa, o tipo de escala da qual seu conteúdo melódico é derivado. Maior é representado por 1 e menor é 0.\n",
    "\n",
    "- Popularity/Popularidade: Variável numérica, a popularidade de uma faixa é um valor entre 0 e 100, sendo 100 o mais popular. A popularidade é calculada por algoritmo e é baseada, em grande parte, no número total de execuções que a faixa teve e quão recentes são essas execuções.\n",
    "\n",
    "- Speechiness/Fala: Variável numérica, a fala detecta a presença de palavras faladas em uma faixa. Quanto mais exclusivamente falada a gravação (por exemplo, talk show, audiolivro, poesia), mais próximo de 1,0 o valor do atributo. Valores acima de 0,66 descrevem faixas que provavelmente são feitas inteiramente de palavras faladas. Valores entre 0,33 e 0,66 descrevem faixas que podem conter música e fala, seja em seções ou em camadas, incluindo casos como música rap. Os valores abaixo de 0,33 provavelmente representam músicas e outras faixas que não são de fala.\n",
    "\n",
    "- Tempo: Variável numérica, Tempo estimado geral de uma faixa em batidas por minuto (BPM). Na terminologia musical, tempo é a velocidade ou ritmo de uma determinada peça e deriva diretamente da duração média da batida.\n",
    "\n",
    "- Valence/Valência: Variável numérica, Medida de 0,0 a 1,0 descrevendo a positividade musical transmitida por uma faixa. Faixas com alta valência soam mais positivas (por exemplo, feliz, alegre, eufórica), enquanto faixas com baixa valência soam mais negativas (por exemplo, triste, deprimida, irritada).\n",
    "\n",
    "- Year/Ano: Ano em que a música foi lançada."
   ]
  },
  {
   "cell_type": "markdown",
   "metadata": {},
   "source": [
    "# Análise dos dados"
   ]
  },
  {
   "cell_type": "code",
   "execution_count": 514,
   "metadata": {},
   "outputs": [],
   "source": [
    "import pandas as pd"
   ]
  },
  {
   "cell_type": "code",
   "execution_count": 515,
   "metadata": {},
   "outputs": [],
   "source": [
    "dados = pd.read_csv('dados/Dados_totais.csv')\n",
    "dados_generos = pd.read_csv('dados/data_by_genres.csv')\n",
    "dados_anos = pd.read_csv('dados/data_by_year.csv')"
   ]
  },
  {
   "cell_type": "code",
   "execution_count": 516,
   "metadata": {},
   "outputs": [
    {
     "data": {
      "text/html": [
       "<div>\n",
       "<style scoped>\n",
       "    .dataframe tbody tr th:only-of-type {\n",
       "        vertical-align: middle;\n",
       "    }\n",
       "\n",
       "    .dataframe tbody tr th {\n",
       "        vertical-align: top;\n",
       "    }\n",
       "\n",
       "    .dataframe thead th {\n",
       "        text-align: right;\n",
       "    }\n",
       "</style>\n",
       "<table border=\"1\" class=\"dataframe\">\n",
       "  <thead>\n",
       "    <tr style=\"text-align: right;\">\n",
       "      <th></th>\n",
       "      <th>valence</th>\n",
       "      <th>year</th>\n",
       "      <th>acousticness</th>\n",
       "      <th>artists</th>\n",
       "      <th>danceability</th>\n",
       "      <th>duration_ms</th>\n",
       "      <th>energy</th>\n",
       "      <th>explicit</th>\n",
       "      <th>id</th>\n",
       "      <th>instrumentalness</th>\n",
       "      <th>key</th>\n",
       "      <th>liveness</th>\n",
       "      <th>loudness</th>\n",
       "      <th>mode</th>\n",
       "      <th>name</th>\n",
       "      <th>popularity</th>\n",
       "      <th>speechiness</th>\n",
       "      <th>tempo</th>\n",
       "      <th>artists_song</th>\n",
       "    </tr>\n",
       "  </thead>\n",
       "  <tbody>\n",
       "    <tr>\n",
       "      <th>0</th>\n",
       "      <td>0.285</td>\n",
       "      <td>2000</td>\n",
       "      <td>0.00239</td>\n",
       "      <td>Coldplay</td>\n",
       "      <td>0.429</td>\n",
       "      <td>266773</td>\n",
       "      <td>0.661</td>\n",
       "      <td>0</td>\n",
       "      <td>3AJwUDP919kvQ9QcozQPxg</td>\n",
       "      <td>0.000121</td>\n",
       "      <td>11</td>\n",
       "      <td>0.2340</td>\n",
       "      <td>-7.227</td>\n",
       "      <td>1</td>\n",
       "      <td>Yellow</td>\n",
       "      <td>84</td>\n",
       "      <td>0.0281</td>\n",
       "      <td>173.372</td>\n",
       "      <td>Coldplay - Yellow</td>\n",
       "    </tr>\n",
       "    <tr>\n",
       "      <th>1</th>\n",
       "      <td>0.613</td>\n",
       "      <td>2000</td>\n",
       "      <td>0.14300</td>\n",
       "      <td>OutKast</td>\n",
       "      <td>0.843</td>\n",
       "      <td>270507</td>\n",
       "      <td>0.806</td>\n",
       "      <td>1</td>\n",
       "      <td>0I3q5fE6wg7LIfHGngUTnV</td>\n",
       "      <td>0.000000</td>\n",
       "      <td>4</td>\n",
       "      <td>0.0771</td>\n",
       "      <td>-5.946</td>\n",
       "      <td>0</td>\n",
       "      <td>Ms. Jackson</td>\n",
       "      <td>80</td>\n",
       "      <td>0.2690</td>\n",
       "      <td>94.948</td>\n",
       "      <td>OutKast - Ms. Jackson</td>\n",
       "    </tr>\n",
       "    <tr>\n",
       "      <th>2</th>\n",
       "      <td>0.400</td>\n",
       "      <td>2000</td>\n",
       "      <td>0.00958</td>\n",
       "      <td>Linkin Park</td>\n",
       "      <td>0.556</td>\n",
       "      <td>216880</td>\n",
       "      <td>0.864</td>\n",
       "      <td>0</td>\n",
       "      <td>60a0Rd6pjrkxjPbaKzXjfq</td>\n",
       "      <td>0.000000</td>\n",
       "      <td>3</td>\n",
       "      <td>0.2090</td>\n",
       "      <td>-5.870</td>\n",
       "      <td>0</td>\n",
       "      <td>In the End</td>\n",
       "      <td>84</td>\n",
       "      <td>0.0584</td>\n",
       "      <td>105.143</td>\n",
       "      <td>Linkin Park - In the End</td>\n",
       "    </tr>\n",
       "    <tr>\n",
       "      <th>3</th>\n",
       "      <td>0.543</td>\n",
       "      <td>2000</td>\n",
       "      <td>0.00664</td>\n",
       "      <td>3 Doors Down</td>\n",
       "      <td>0.545</td>\n",
       "      <td>233933</td>\n",
       "      <td>0.865</td>\n",
       "      <td>0</td>\n",
       "      <td>6ZOBP3NvffbU4SZcrnt1k6</td>\n",
       "      <td>0.000011</td>\n",
       "      <td>11</td>\n",
       "      <td>0.1680</td>\n",
       "      <td>-5.708</td>\n",
       "      <td>0</td>\n",
       "      <td>Kryptonite</td>\n",
       "      <td>78</td>\n",
       "      <td>0.0286</td>\n",
       "      <td>99.009</td>\n",
       "      <td>3 Doors Down - Kryptonite</td>\n",
       "    </tr>\n",
       "    <tr>\n",
       "      <th>4</th>\n",
       "      <td>0.760</td>\n",
       "      <td>2000</td>\n",
       "      <td>0.03020</td>\n",
       "      <td>Eminem</td>\n",
       "      <td>0.949</td>\n",
       "      <td>284200</td>\n",
       "      <td>0.661</td>\n",
       "      <td>1</td>\n",
       "      <td>3yfqSUWxFvZELEM4PmlwIR</td>\n",
       "      <td>0.000000</td>\n",
       "      <td>5</td>\n",
       "      <td>0.0454</td>\n",
       "      <td>-4.244</td>\n",
       "      <td>0</td>\n",
       "      <td>The Real Slim Shady</td>\n",
       "      <td>80</td>\n",
       "      <td>0.0572</td>\n",
       "      <td>104.504</td>\n",
       "      <td>Eminem - The Real Slim Shady</td>\n",
       "    </tr>\n",
       "  </tbody>\n",
       "</table>\n",
       "</div>"
      ],
      "text/plain": [
       "   valence  year  acousticness       artists  danceability  duration_ms  \\\n",
       "0    0.285  2000       0.00239      Coldplay         0.429       266773   \n",
       "1    0.613  2000       0.14300       OutKast         0.843       270507   \n",
       "2    0.400  2000       0.00958   Linkin Park         0.556       216880   \n",
       "3    0.543  2000       0.00664  3 Doors Down         0.545       233933   \n",
       "4    0.760  2000       0.03020        Eminem         0.949       284200   \n",
       "\n",
       "   energy  explicit                      id  instrumentalness  key  liveness  \\\n",
       "0   0.661         0  3AJwUDP919kvQ9QcozQPxg          0.000121   11    0.2340   \n",
       "1   0.806         1  0I3q5fE6wg7LIfHGngUTnV          0.000000    4    0.0771   \n",
       "2   0.864         0  60a0Rd6pjrkxjPbaKzXjfq          0.000000    3    0.2090   \n",
       "3   0.865         0  6ZOBP3NvffbU4SZcrnt1k6          0.000011   11    0.1680   \n",
       "4   0.661         1  3yfqSUWxFvZELEM4PmlwIR          0.000000    5    0.0454   \n",
       "\n",
       "   loudness  mode                 name  popularity  speechiness    tempo  \\\n",
       "0    -7.227     1               Yellow          84       0.0281  173.372   \n",
       "1    -5.946     0          Ms. Jackson          80       0.2690   94.948   \n",
       "2    -5.870     0           In the End          84       0.0584  105.143   \n",
       "3    -5.708     0           Kryptonite          78       0.0286   99.009   \n",
       "4    -4.244     0  The Real Slim Shady          80       0.0572  104.504   \n",
       "\n",
       "                   artists_song  \n",
       "0             Coldplay - Yellow  \n",
       "1         OutKast - Ms. Jackson  \n",
       "2      Linkin Park - In the End  \n",
       "3     3 Doors Down - Kryptonite  \n",
       "4  Eminem - The Real Slim Shady  "
      ]
     },
     "execution_count": 516,
     "metadata": {},
     "output_type": "execute_result"
    }
   ],
   "source": [
    "dados.head()"
   ]
  },
  {
   "cell_type": "code",
   "execution_count": 517,
   "metadata": {},
   "outputs": [
    {
     "data": {
      "text/plain": [
       "array([2000, 2001, 2002, 2003, 2004, 2005, 2006, 2007, 2008, 2009, 2010,\n",
       "       2011, 2012, 2013, 2014, 2015, 2016, 2017, 2018, 2019, 2020])"
      ]
     },
     "execution_count": 517,
     "metadata": {},
     "output_type": "execute_result"
    }
   ],
   "source": [
    "dados[\"year\"].unique()"
   ]
  },
  {
   "cell_type": "code",
   "execution_count": 518,
   "metadata": {},
   "outputs": [
    {
     "name": "stdout",
     "output_type": "stream",
     "text": [
      "<class 'pandas.core.frame.DataFrame'>\n",
      "RangeIndex: 20311 entries, 0 to 20310\n",
      "Data columns (total 19 columns):\n",
      " #   Column            Non-Null Count  Dtype  \n",
      "---  ------            --------------  -----  \n",
      " 0   valence           20311 non-null  float64\n",
      " 1   year              20311 non-null  int64  \n",
      " 2   acousticness      20311 non-null  float64\n",
      " 3   artists           20311 non-null  object \n",
      " 4   danceability      20311 non-null  float64\n",
      " 5   duration_ms       20311 non-null  int64  \n",
      " 6   energy            20311 non-null  float64\n",
      " 7   explicit          20311 non-null  int64  \n",
      " 8   id                20311 non-null  object \n",
      " 9   instrumentalness  20311 non-null  float64\n",
      " 10  key               20311 non-null  int64  \n",
      " 11  liveness          20311 non-null  float64\n",
      " 12  loudness          20311 non-null  float64\n",
      " 13  mode              20311 non-null  int64  \n",
      " 14  name              20311 non-null  object \n",
      " 15  popularity        20311 non-null  int64  \n",
      " 16  speechiness       20311 non-null  float64\n",
      " 17  tempo             20311 non-null  float64\n",
      " 18  artists_song      20311 non-null  object \n",
      "dtypes: float64(9), int64(6), object(4)\n",
      "memory usage: 2.9+ MB\n"
     ]
    }
   ],
   "source": [
    "dados.info()"
   ]
  },
  {
   "cell_type": "code",
   "execution_count": 519,
   "metadata": {},
   "outputs": [
    {
     "data": {
      "text/plain": [
       "Index(['valence', 'year', 'acousticness', 'artists', 'danceability',\n",
       "       'duration_ms', 'energy', 'id', 'instrumentalness', 'liveness',\n",
       "       'loudness', 'name', 'popularity', 'speechiness', 'tempo',\n",
       "       'artists_song'],\n",
       "      dtype='object')"
      ]
     },
     "execution_count": 519,
     "metadata": {},
     "output_type": "execute_result"
    }
   ],
   "source": [
    "dados.drop(columns=['explicit', 'key', 'mode'], inplace=True)\n",
    "dados.columns"
   ]
  },
  {
   "cell_type": "code",
   "execution_count": 520,
   "metadata": {},
   "outputs": [
    {
     "data": {
      "text/html": [
       "<div>\n",
       "<style scoped>\n",
       "    .dataframe tbody tr th:only-of-type {\n",
       "        vertical-align: middle;\n",
       "    }\n",
       "\n",
       "    .dataframe tbody tr th {\n",
       "        vertical-align: top;\n",
       "    }\n",
       "\n",
       "    .dataframe thead th {\n",
       "        text-align: right;\n",
       "    }\n",
       "</style>\n",
       "<table border=\"1\" class=\"dataframe\">\n",
       "  <thead>\n",
       "    <tr style=\"text-align: right;\">\n",
       "      <th></th>\n",
       "      <th>mode</th>\n",
       "      <th>genres</th>\n",
       "      <th>acousticness</th>\n",
       "      <th>danceability</th>\n",
       "      <th>duration_ms</th>\n",
       "      <th>energy</th>\n",
       "      <th>instrumentalness</th>\n",
       "      <th>liveness</th>\n",
       "      <th>loudness</th>\n",
       "      <th>speechiness</th>\n",
       "      <th>tempo</th>\n",
       "      <th>valence</th>\n",
       "      <th>popularity</th>\n",
       "      <th>key</th>\n",
       "    </tr>\n",
       "  </thead>\n",
       "  <tbody>\n",
       "    <tr>\n",
       "      <th>0</th>\n",
       "      <td>1</td>\n",
       "      <td>21st century classical</td>\n",
       "      <td>0.979333</td>\n",
       "      <td>0.162883</td>\n",
       "      <td>1.602977e+05</td>\n",
       "      <td>0.071317</td>\n",
       "      <td>0.606834</td>\n",
       "      <td>0.361600</td>\n",
       "      <td>-31.514333</td>\n",
       "      <td>0.040567</td>\n",
       "      <td>75.336500</td>\n",
       "      <td>0.103783</td>\n",
       "      <td>27.833333</td>\n",
       "      <td>6</td>\n",
       "    </tr>\n",
       "    <tr>\n",
       "      <th>1</th>\n",
       "      <td>1</td>\n",
       "      <td>432hz</td>\n",
       "      <td>0.494780</td>\n",
       "      <td>0.299333</td>\n",
       "      <td>1.048887e+06</td>\n",
       "      <td>0.450678</td>\n",
       "      <td>0.477762</td>\n",
       "      <td>0.131000</td>\n",
       "      <td>-16.854000</td>\n",
       "      <td>0.076817</td>\n",
       "      <td>120.285667</td>\n",
       "      <td>0.221750</td>\n",
       "      <td>52.500000</td>\n",
       "      <td>5</td>\n",
       "    </tr>\n",
       "    <tr>\n",
       "      <th>2</th>\n",
       "      <td>1</td>\n",
       "      <td>8-bit</td>\n",
       "      <td>0.762000</td>\n",
       "      <td>0.712000</td>\n",
       "      <td>1.151770e+05</td>\n",
       "      <td>0.818000</td>\n",
       "      <td>0.876000</td>\n",
       "      <td>0.126000</td>\n",
       "      <td>-9.180000</td>\n",
       "      <td>0.047000</td>\n",
       "      <td>133.444000</td>\n",
       "      <td>0.975000</td>\n",
       "      <td>48.000000</td>\n",
       "      <td>7</td>\n",
       "    </tr>\n",
       "    <tr>\n",
       "      <th>3</th>\n",
       "      <td>1</td>\n",
       "      <td>[]</td>\n",
       "      <td>0.651417</td>\n",
       "      <td>0.529093</td>\n",
       "      <td>2.328809e+05</td>\n",
       "      <td>0.419146</td>\n",
       "      <td>0.205309</td>\n",
       "      <td>0.218696</td>\n",
       "      <td>-12.288965</td>\n",
       "      <td>0.107872</td>\n",
       "      <td>112.857352</td>\n",
       "      <td>0.513604</td>\n",
       "      <td>20.859882</td>\n",
       "      <td>7</td>\n",
       "    </tr>\n",
       "    <tr>\n",
       "      <th>4</th>\n",
       "      <td>1</td>\n",
       "      <td>a cappella</td>\n",
       "      <td>0.676557</td>\n",
       "      <td>0.538961</td>\n",
       "      <td>1.906285e+05</td>\n",
       "      <td>0.316434</td>\n",
       "      <td>0.003003</td>\n",
       "      <td>0.172254</td>\n",
       "      <td>-12.479387</td>\n",
       "      <td>0.082851</td>\n",
       "      <td>112.110362</td>\n",
       "      <td>0.448249</td>\n",
       "      <td>45.820071</td>\n",
       "      <td>7</td>\n",
       "    </tr>\n",
       "  </tbody>\n",
       "</table>\n",
       "</div>"
      ],
      "text/plain": [
       "   mode                  genres  acousticness  danceability   duration_ms  \\\n",
       "0     1  21st century classical      0.979333      0.162883  1.602977e+05   \n",
       "1     1                   432hz      0.494780      0.299333  1.048887e+06   \n",
       "2     1                   8-bit      0.762000      0.712000  1.151770e+05   \n",
       "3     1                      []      0.651417      0.529093  2.328809e+05   \n",
       "4     1              a cappella      0.676557      0.538961  1.906285e+05   \n",
       "\n",
       "     energy  instrumentalness  liveness   loudness  speechiness       tempo  \\\n",
       "0  0.071317          0.606834  0.361600 -31.514333     0.040567   75.336500   \n",
       "1  0.450678          0.477762  0.131000 -16.854000     0.076817  120.285667   \n",
       "2  0.818000          0.876000  0.126000  -9.180000     0.047000  133.444000   \n",
       "3  0.419146          0.205309  0.218696 -12.288965     0.107872  112.857352   \n",
       "4  0.316434          0.003003  0.172254 -12.479387     0.082851  112.110362   \n",
       "\n",
       "    valence  popularity  key  \n",
       "0  0.103783   27.833333    6  \n",
       "1  0.221750   52.500000    5  \n",
       "2  0.975000   48.000000    7  \n",
       "3  0.513604   20.859882    7  \n",
       "4  0.448249   45.820071    7  "
      ]
     },
     "execution_count": 520,
     "metadata": {},
     "output_type": "execute_result"
    }
   ],
   "source": [
    "dados_generos.head()"
   ]
  },
  {
   "cell_type": "code",
   "execution_count": 521,
   "metadata": {},
   "outputs": [
    {
     "data": {
      "text/plain": [
       "Index(['genres', 'acousticness', 'danceability', 'duration_ms', 'energy',\n",
       "       'instrumentalness', 'liveness', 'loudness', 'speechiness', 'tempo',\n",
       "       'valence', 'popularity'],\n",
       "      dtype='object')"
      ]
     },
     "execution_count": 521,
     "metadata": {},
     "output_type": "execute_result"
    }
   ],
   "source": [
    "dados_generos.drop(columns=['key', 'mode'], inplace=True)\n",
    "dados_generos.columns"
   ]
  },
  {
   "cell_type": "code",
   "execution_count": 522,
   "metadata": {},
   "outputs": [
    {
     "name": "stdout",
     "output_type": "stream",
     "text": [
      "<class 'pandas.core.frame.DataFrame'>\n",
      "RangeIndex: 2973 entries, 0 to 2972\n",
      "Data columns (total 12 columns):\n",
      " #   Column            Non-Null Count  Dtype  \n",
      "---  ------            --------------  -----  \n",
      " 0   genres            2973 non-null   object \n",
      " 1   acousticness      2973 non-null   float64\n",
      " 2   danceability      2973 non-null   float64\n",
      " 3   duration_ms       2973 non-null   float64\n",
      " 4   energy            2973 non-null   float64\n",
      " 5   instrumentalness  2973 non-null   float64\n",
      " 6   liveness          2973 non-null   float64\n",
      " 7   loudness          2973 non-null   float64\n",
      " 8   speechiness       2973 non-null   float64\n",
      " 9   tempo             2973 non-null   float64\n",
      " 10  valence           2973 non-null   float64\n",
      " 11  popularity        2973 non-null   float64\n",
      "dtypes: float64(11), object(1)\n",
      "memory usage: 278.8+ KB\n"
     ]
    }
   ],
   "source": [
    "dados_generos.info()"
   ]
  },
  {
   "cell_type": "code",
   "execution_count": 523,
   "metadata": {},
   "outputs": [
    {
     "data": {
      "text/html": [
       "<div>\n",
       "<style scoped>\n",
       "    .dataframe tbody tr th:only-of-type {\n",
       "        vertical-align: middle;\n",
       "    }\n",
       "\n",
       "    .dataframe tbody tr th {\n",
       "        vertical-align: top;\n",
       "    }\n",
       "\n",
       "    .dataframe thead th {\n",
       "        text-align: right;\n",
       "    }\n",
       "</style>\n",
       "<table border=\"1\" class=\"dataframe\">\n",
       "  <thead>\n",
       "    <tr style=\"text-align: right;\">\n",
       "      <th></th>\n",
       "      <th>mode</th>\n",
       "      <th>year</th>\n",
       "      <th>acousticness</th>\n",
       "      <th>danceability</th>\n",
       "      <th>duration_ms</th>\n",
       "      <th>energy</th>\n",
       "      <th>instrumentalness</th>\n",
       "      <th>liveness</th>\n",
       "      <th>loudness</th>\n",
       "      <th>speechiness</th>\n",
       "      <th>tempo</th>\n",
       "      <th>valence</th>\n",
       "      <th>popularity</th>\n",
       "      <th>key</th>\n",
       "    </tr>\n",
       "  </thead>\n",
       "  <tbody>\n",
       "    <tr>\n",
       "      <th>0</th>\n",
       "      <td>1</td>\n",
       "      <td>1921</td>\n",
       "      <td>0.886896</td>\n",
       "      <td>0.418597</td>\n",
       "      <td>260537.166667</td>\n",
       "      <td>0.231815</td>\n",
       "      <td>0.344878</td>\n",
       "      <td>0.205710</td>\n",
       "      <td>-17.048667</td>\n",
       "      <td>0.073662</td>\n",
       "      <td>101.531493</td>\n",
       "      <td>0.379327</td>\n",
       "      <td>0.653333</td>\n",
       "      <td>2</td>\n",
       "    </tr>\n",
       "    <tr>\n",
       "      <th>1</th>\n",
       "      <td>1</td>\n",
       "      <td>1922</td>\n",
       "      <td>0.938592</td>\n",
       "      <td>0.482042</td>\n",
       "      <td>165469.746479</td>\n",
       "      <td>0.237815</td>\n",
       "      <td>0.434195</td>\n",
       "      <td>0.240720</td>\n",
       "      <td>-19.275282</td>\n",
       "      <td>0.116655</td>\n",
       "      <td>100.884521</td>\n",
       "      <td>0.535549</td>\n",
       "      <td>0.140845</td>\n",
       "      <td>10</td>\n",
       "    </tr>\n",
       "    <tr>\n",
       "      <th>2</th>\n",
       "      <td>1</td>\n",
       "      <td>1923</td>\n",
       "      <td>0.957247</td>\n",
       "      <td>0.577341</td>\n",
       "      <td>177942.362162</td>\n",
       "      <td>0.262406</td>\n",
       "      <td>0.371733</td>\n",
       "      <td>0.227462</td>\n",
       "      <td>-14.129211</td>\n",
       "      <td>0.093949</td>\n",
       "      <td>114.010730</td>\n",
       "      <td>0.625492</td>\n",
       "      <td>5.389189</td>\n",
       "      <td>0</td>\n",
       "    </tr>\n",
       "    <tr>\n",
       "      <th>3</th>\n",
       "      <td>1</td>\n",
       "      <td>1924</td>\n",
       "      <td>0.940200</td>\n",
       "      <td>0.549894</td>\n",
       "      <td>191046.707627</td>\n",
       "      <td>0.344347</td>\n",
       "      <td>0.581701</td>\n",
       "      <td>0.235219</td>\n",
       "      <td>-14.231343</td>\n",
       "      <td>0.092089</td>\n",
       "      <td>120.689572</td>\n",
       "      <td>0.663725</td>\n",
       "      <td>0.661017</td>\n",
       "      <td>10</td>\n",
       "    </tr>\n",
       "    <tr>\n",
       "      <th>4</th>\n",
       "      <td>1</td>\n",
       "      <td>1925</td>\n",
       "      <td>0.962607</td>\n",
       "      <td>0.573863</td>\n",
       "      <td>184986.924460</td>\n",
       "      <td>0.278594</td>\n",
       "      <td>0.418297</td>\n",
       "      <td>0.237668</td>\n",
       "      <td>-14.146414</td>\n",
       "      <td>0.111918</td>\n",
       "      <td>115.521921</td>\n",
       "      <td>0.621929</td>\n",
       "      <td>2.604317</td>\n",
       "      <td>5</td>\n",
       "    </tr>\n",
       "  </tbody>\n",
       "</table>\n",
       "</div>"
      ],
      "text/plain": [
       "   mode  year  acousticness  danceability    duration_ms    energy  \\\n",
       "0     1  1921      0.886896      0.418597  260537.166667  0.231815   \n",
       "1     1  1922      0.938592      0.482042  165469.746479  0.237815   \n",
       "2     1  1923      0.957247      0.577341  177942.362162  0.262406   \n",
       "3     1  1924      0.940200      0.549894  191046.707627  0.344347   \n",
       "4     1  1925      0.962607      0.573863  184986.924460  0.278594   \n",
       "\n",
       "   instrumentalness  liveness   loudness  speechiness       tempo   valence  \\\n",
       "0          0.344878  0.205710 -17.048667     0.073662  101.531493  0.379327   \n",
       "1          0.434195  0.240720 -19.275282     0.116655  100.884521  0.535549   \n",
       "2          0.371733  0.227462 -14.129211     0.093949  114.010730  0.625492   \n",
       "3          0.581701  0.235219 -14.231343     0.092089  120.689572  0.663725   \n",
       "4          0.418297  0.237668 -14.146414     0.111918  115.521921  0.621929   \n",
       "\n",
       "   popularity  key  \n",
       "0    0.653333    2  \n",
       "1    0.140845   10  \n",
       "2    5.389189    0  \n",
       "3    0.661017   10  \n",
       "4    2.604317    5  "
      ]
     },
     "execution_count": 523,
     "metadata": {},
     "output_type": "execute_result"
    }
   ],
   "source": [
    "dados_anos.head()"
   ]
  },
  {
   "cell_type": "code",
   "execution_count": 524,
   "metadata": {},
   "outputs": [
    {
     "data": {
      "text/plain": [
       "array([1921, 1922, 1923, 1924, 1925, 1926, 1927, 1928, 1929, 1930, 1931,\n",
       "       1932, 1933, 1934, 1935, 1936, 1937, 1938, 1939, 1940, 1941, 1942,\n",
       "       1943, 1944, 1945, 1946, 1947, 1948, 1949, 1950, 1951, 1952, 1953,\n",
       "       1954, 1955, 1956, 1957, 1958, 1959, 1960, 1961, 1962, 1963, 1964,\n",
       "       1965, 1966, 1967, 1968, 1969, 1970, 1971, 1972, 1973, 1974, 1975,\n",
       "       1976, 1977, 1978, 1979, 1980, 1981, 1982, 1983, 1984, 1985, 1986,\n",
       "       1987, 1988, 1989, 1990, 1991, 1992, 1993, 1994, 1995, 1996, 1997,\n",
       "       1998, 1999, 2000, 2001, 2002, 2003, 2004, 2005, 2006, 2007, 2008,\n",
       "       2009, 2010, 2011, 2012, 2013, 2014, 2015, 2016, 2017, 2018, 2019,\n",
       "       2020])"
      ]
     },
     "execution_count": 524,
     "metadata": {},
     "output_type": "execute_result"
    }
   ],
   "source": [
    "dados_anos[\"year\"].unique()"
   ]
  },
  {
   "cell_type": "code",
   "execution_count": 525,
   "metadata": {},
   "outputs": [
    {
     "data": {
      "text/plain": [
       "array([2000, 2001, 2002, 2003, 2004, 2005, 2006, 2007, 2008, 2009, 2010,\n",
       "       2011, 2012, 2013, 2014, 2015, 2016, 2017, 2018, 2019, 2020])"
      ]
     },
     "execution_count": 525,
     "metadata": {},
     "output_type": "execute_result"
    }
   ],
   "source": [
    "dados_anos = dados_anos.query('year >= 2000')\n",
    "dados_anos[\"year\"].unique()"
   ]
  },
  {
   "cell_type": "code",
   "execution_count": 526,
   "metadata": {},
   "outputs": [
    {
     "data": {
      "text/plain": [
       "False"
      ]
     },
     "execution_count": 526,
     "metadata": {},
     "output_type": "execute_result"
    }
   ],
   "source": [
    "dados_anos.drop(columns=['key', 'mode'], inplace=True)\n",
    "'key' in dados_anos.columns or 'mode' in dados_anos.columns"
   ]
  },
  {
   "cell_type": "code",
   "execution_count": 527,
   "metadata": {},
   "outputs": [],
   "source": [
    "dados_anos.reset_index(drop=True, inplace=True)"
   ]
  },
  {
   "cell_type": "code",
   "execution_count": 528,
   "metadata": {},
   "outputs": [
    {
     "data": {
      "text/html": [
       "<div>\n",
       "<style scoped>\n",
       "    .dataframe tbody tr th:only-of-type {\n",
       "        vertical-align: middle;\n",
       "    }\n",
       "\n",
       "    .dataframe tbody tr th {\n",
       "        vertical-align: top;\n",
       "    }\n",
       "\n",
       "    .dataframe thead th {\n",
       "        text-align: right;\n",
       "    }\n",
       "</style>\n",
       "<table border=\"1\" class=\"dataframe\">\n",
       "  <thead>\n",
       "    <tr style=\"text-align: right;\">\n",
       "      <th></th>\n",
       "      <th>year</th>\n",
       "      <th>acousticness</th>\n",
       "      <th>danceability</th>\n",
       "      <th>duration_ms</th>\n",
       "      <th>energy</th>\n",
       "      <th>instrumentalness</th>\n",
       "      <th>liveness</th>\n",
       "      <th>loudness</th>\n",
       "      <th>speechiness</th>\n",
       "      <th>tempo</th>\n",
       "      <th>valence</th>\n",
       "      <th>popularity</th>\n",
       "    </tr>\n",
       "  </thead>\n",
       "  <tbody>\n",
       "    <tr>\n",
       "      <th>0</th>\n",
       "      <td>2000</td>\n",
       "      <td>0.289323</td>\n",
       "      <td>0.590918</td>\n",
       "      <td>242724.642638</td>\n",
       "      <td>0.625413</td>\n",
       "      <td>0.101168</td>\n",
       "      <td>0.197686</td>\n",
       "      <td>-8.247766</td>\n",
       "      <td>0.089205</td>\n",
       "      <td>118.999323</td>\n",
       "      <td>0.559475</td>\n",
       "      <td>46.684049</td>\n",
       "    </tr>\n",
       "    <tr>\n",
       "      <th>1</th>\n",
       "      <td>2001</td>\n",
       "      <td>0.286842</td>\n",
       "      <td>0.583318</td>\n",
       "      <td>240307.796010</td>\n",
       "      <td>0.626986</td>\n",
       "      <td>0.107214</td>\n",
       "      <td>0.187026</td>\n",
       "      <td>-8.305095</td>\n",
       "      <td>0.089182</td>\n",
       "      <td>117.765399</td>\n",
       "      <td>0.541479</td>\n",
       "      <td>48.750125</td>\n",
       "    </tr>\n",
       "    <tr>\n",
       "      <th>2</th>\n",
       "      <td>2002</td>\n",
       "      <td>0.282624</td>\n",
       "      <td>0.576160</td>\n",
       "      <td>239503.283000</td>\n",
       "      <td>0.641270</td>\n",
       "      <td>0.088048</td>\n",
       "      <td>0.193911</td>\n",
       "      <td>-7.686640</td>\n",
       "      <td>0.084308</td>\n",
       "      <td>119.239738</td>\n",
       "      <td>0.542397</td>\n",
       "      <td>48.655500</td>\n",
       "    </tr>\n",
       "    <tr>\n",
       "      <th>3</th>\n",
       "      <td>2003</td>\n",
       "      <td>0.256471</td>\n",
       "      <td>0.575763</td>\n",
       "      <td>244670.575230</td>\n",
       "      <td>0.660165</td>\n",
       "      <td>0.083049</td>\n",
       "      <td>0.196976</td>\n",
       "      <td>-7.485545</td>\n",
       "      <td>0.093926</td>\n",
       "      <td>120.914622</td>\n",
       "      <td>0.530504</td>\n",
       "      <td>48.626407</td>\n",
       "    </tr>\n",
       "    <tr>\n",
       "      <th>4</th>\n",
       "      <td>2004</td>\n",
       "      <td>0.280559</td>\n",
       "      <td>0.567680</td>\n",
       "      <td>237378.708037</td>\n",
       "      <td>0.648868</td>\n",
       "      <td>0.077934</td>\n",
       "      <td>0.202199</td>\n",
       "      <td>-7.601655</td>\n",
       "      <td>0.094239</td>\n",
       "      <td>121.290346</td>\n",
       "      <td>0.524489</td>\n",
       "      <td>49.273143</td>\n",
       "    </tr>\n",
       "  </tbody>\n",
       "</table>\n",
       "</div>"
      ],
      "text/plain": [
       "   year  acousticness  danceability    duration_ms    energy  \\\n",
       "0  2000      0.289323      0.590918  242724.642638  0.625413   \n",
       "1  2001      0.286842      0.583318  240307.796010  0.626986   \n",
       "2  2002      0.282624      0.576160  239503.283000  0.641270   \n",
       "3  2003      0.256471      0.575763  244670.575230  0.660165   \n",
       "4  2004      0.280559      0.567680  237378.708037  0.648868   \n",
       "\n",
       "   instrumentalness  liveness  loudness  speechiness       tempo   valence  \\\n",
       "0          0.101168  0.197686 -8.247766     0.089205  118.999323  0.559475   \n",
       "1          0.107214  0.187026 -8.305095     0.089182  117.765399  0.541479   \n",
       "2          0.088048  0.193911 -7.686640     0.084308  119.239738  0.542397   \n",
       "3          0.083049  0.196976 -7.485545     0.093926  120.914622  0.530504   \n",
       "4          0.077934  0.202199 -7.601655     0.094239  121.290346  0.524489   \n",
       "\n",
       "   popularity  \n",
       "0   46.684049  \n",
       "1   48.750125  \n",
       "2   48.655500  \n",
       "3   48.626407  \n",
       "4   49.273143  "
      ]
     },
     "execution_count": 528,
     "metadata": {},
     "output_type": "execute_result"
    }
   ],
   "source": [
    "dados_anos.head()"
   ]
  },
  {
   "cell_type": "code",
   "execution_count": 529,
   "metadata": {},
   "outputs": [
    {
     "name": "stdout",
     "output_type": "stream",
     "text": [
      "<class 'pandas.core.frame.DataFrame'>\n",
      "RangeIndex: 21 entries, 0 to 20\n",
      "Data columns (total 12 columns):\n",
      " #   Column            Non-Null Count  Dtype  \n",
      "---  ------            --------------  -----  \n",
      " 0   year              21 non-null     int64  \n",
      " 1   acousticness      21 non-null     float64\n",
      " 2   danceability      21 non-null     float64\n",
      " 3   duration_ms       21 non-null     float64\n",
      " 4   energy            21 non-null     float64\n",
      " 5   instrumentalness  21 non-null     float64\n",
      " 6   liveness          21 non-null     float64\n",
      " 7   loudness          21 non-null     float64\n",
      " 8   speechiness       21 non-null     float64\n",
      " 9   tempo             21 non-null     float64\n",
      " 10  valence           21 non-null     float64\n",
      " 11  popularity        21 non-null     float64\n",
      "dtypes: float64(11), int64(1)\n",
      "memory usage: 2.1 KB\n"
     ]
    }
   ],
   "source": [
    "dados_anos.info()"
   ]
  },
  {
   "cell_type": "markdown",
   "metadata": {},
   "source": [
    "# Análise gráfica"
   ]
  },
  {
   "cell_type": "code",
   "execution_count": 530,
   "metadata": {},
   "outputs": [],
   "source": [
    "import plotly.express as px"
   ]
  },
  {
   "cell_type": "code",
   "execution_count": 531,
   "metadata": {},
   "outputs": [
    {
     "data": {
      "application/vnd.plotly.v1+json": {
       "config": {
        "plotlyServerURL": "https://plot.ly"
       },
       "data": [
        {
         "hovertemplate": "year=%{x}<br>loudness=%{y}<extra></extra>",
         "legendgroup": "",
         "line": {
          "color": "#636efa",
          "dash": "solid"
         },
         "marker": {
          "symbol": "circle"
         },
         "mode": "lines+markers",
         "name": "",
         "orientation": "v",
         "showlegend": false,
         "type": "scatter",
         "x": [
          2000,
          2001,
          2002,
          2003,
          2004,
          2005,
          2006,
          2007,
          2008,
          2009,
          2010,
          2011,
          2012,
          2013,
          2014,
          2015,
          2016,
          2017,
          2018,
          2019,
          2020
         ],
         "xaxis": "x",
         "y": [
          -8.247765848670758,
          -8.305095261845384,
          -7.686639500000013,
          -7.485545035823955,
          -7.601655137334684,
          -7.46615897435897,
          -7.265500512820514,
          -7.044535897435892,
          -6.8438040920716166,
          -7.0460147959183645,
          -6.9099042658730125,
          -7.574986117997006,
          -7.260549614395888,
          -7.472039473684207,
          -7.06743990024938,
          -7.625639311043569,
          -8.061056204785759,
          -8.31262951807228,
          -7.168785068949124,
          -7.722191893278596,
          -6.595066995073878
         ],
         "yaxis": "y"
        }
       ],
       "layout": {
        "legend": {
         "tracegroupgap": 0
        },
        "template": {
         "data": {
          "bar": [
           {
            "error_x": {
             "color": "#2a3f5f"
            },
            "error_y": {
             "color": "#2a3f5f"
            },
            "marker": {
             "line": {
              "color": "#E5ECF6",
              "width": 0.5
             },
             "pattern": {
              "fillmode": "overlay",
              "size": 10,
              "solidity": 0.2
             }
            },
            "type": "bar"
           }
          ],
          "barpolar": [
           {
            "marker": {
             "line": {
              "color": "#E5ECF6",
              "width": 0.5
             },
             "pattern": {
              "fillmode": "overlay",
              "size": 10,
              "solidity": 0.2
             }
            },
            "type": "barpolar"
           }
          ],
          "carpet": [
           {
            "aaxis": {
             "endlinecolor": "#2a3f5f",
             "gridcolor": "white",
             "linecolor": "white",
             "minorgridcolor": "white",
             "startlinecolor": "#2a3f5f"
            },
            "baxis": {
             "endlinecolor": "#2a3f5f",
             "gridcolor": "white",
             "linecolor": "white",
             "minorgridcolor": "white",
             "startlinecolor": "#2a3f5f"
            },
            "type": "carpet"
           }
          ],
          "choropleth": [
           {
            "colorbar": {
             "outlinewidth": 0,
             "ticks": ""
            },
            "type": "choropleth"
           }
          ],
          "contour": [
           {
            "colorbar": {
             "outlinewidth": 0,
             "ticks": ""
            },
            "colorscale": [
             [
              0,
              "#0d0887"
             ],
             [
              0.1111111111111111,
              "#46039f"
             ],
             [
              0.2222222222222222,
              "#7201a8"
             ],
             [
              0.3333333333333333,
              "#9c179e"
             ],
             [
              0.4444444444444444,
              "#bd3786"
             ],
             [
              0.5555555555555556,
              "#d8576b"
             ],
             [
              0.6666666666666666,
              "#ed7953"
             ],
             [
              0.7777777777777778,
              "#fb9f3a"
             ],
             [
              0.8888888888888888,
              "#fdca26"
             ],
             [
              1,
              "#f0f921"
             ]
            ],
            "type": "contour"
           }
          ],
          "contourcarpet": [
           {
            "colorbar": {
             "outlinewidth": 0,
             "ticks": ""
            },
            "type": "contourcarpet"
           }
          ],
          "heatmap": [
           {
            "colorbar": {
             "outlinewidth": 0,
             "ticks": ""
            },
            "colorscale": [
             [
              0,
              "#0d0887"
             ],
             [
              0.1111111111111111,
              "#46039f"
             ],
             [
              0.2222222222222222,
              "#7201a8"
             ],
             [
              0.3333333333333333,
              "#9c179e"
             ],
             [
              0.4444444444444444,
              "#bd3786"
             ],
             [
              0.5555555555555556,
              "#d8576b"
             ],
             [
              0.6666666666666666,
              "#ed7953"
             ],
             [
              0.7777777777777778,
              "#fb9f3a"
             ],
             [
              0.8888888888888888,
              "#fdca26"
             ],
             [
              1,
              "#f0f921"
             ]
            ],
            "type": "heatmap"
           }
          ],
          "heatmapgl": [
           {
            "colorbar": {
             "outlinewidth": 0,
             "ticks": ""
            },
            "colorscale": [
             [
              0,
              "#0d0887"
             ],
             [
              0.1111111111111111,
              "#46039f"
             ],
             [
              0.2222222222222222,
              "#7201a8"
             ],
             [
              0.3333333333333333,
              "#9c179e"
             ],
             [
              0.4444444444444444,
              "#bd3786"
             ],
             [
              0.5555555555555556,
              "#d8576b"
             ],
             [
              0.6666666666666666,
              "#ed7953"
             ],
             [
              0.7777777777777778,
              "#fb9f3a"
             ],
             [
              0.8888888888888888,
              "#fdca26"
             ],
             [
              1,
              "#f0f921"
             ]
            ],
            "type": "heatmapgl"
           }
          ],
          "histogram": [
           {
            "marker": {
             "pattern": {
              "fillmode": "overlay",
              "size": 10,
              "solidity": 0.2
             }
            },
            "type": "histogram"
           }
          ],
          "histogram2d": [
           {
            "colorbar": {
             "outlinewidth": 0,
             "ticks": ""
            },
            "colorscale": [
             [
              0,
              "#0d0887"
             ],
             [
              0.1111111111111111,
              "#46039f"
             ],
             [
              0.2222222222222222,
              "#7201a8"
             ],
             [
              0.3333333333333333,
              "#9c179e"
             ],
             [
              0.4444444444444444,
              "#bd3786"
             ],
             [
              0.5555555555555556,
              "#d8576b"
             ],
             [
              0.6666666666666666,
              "#ed7953"
             ],
             [
              0.7777777777777778,
              "#fb9f3a"
             ],
             [
              0.8888888888888888,
              "#fdca26"
             ],
             [
              1,
              "#f0f921"
             ]
            ],
            "type": "histogram2d"
           }
          ],
          "histogram2dcontour": [
           {
            "colorbar": {
             "outlinewidth": 0,
             "ticks": ""
            },
            "colorscale": [
             [
              0,
              "#0d0887"
             ],
             [
              0.1111111111111111,
              "#46039f"
             ],
             [
              0.2222222222222222,
              "#7201a8"
             ],
             [
              0.3333333333333333,
              "#9c179e"
             ],
             [
              0.4444444444444444,
              "#bd3786"
             ],
             [
              0.5555555555555556,
              "#d8576b"
             ],
             [
              0.6666666666666666,
              "#ed7953"
             ],
             [
              0.7777777777777778,
              "#fb9f3a"
             ],
             [
              0.8888888888888888,
              "#fdca26"
             ],
             [
              1,
              "#f0f921"
             ]
            ],
            "type": "histogram2dcontour"
           }
          ],
          "mesh3d": [
           {
            "colorbar": {
             "outlinewidth": 0,
             "ticks": ""
            },
            "type": "mesh3d"
           }
          ],
          "parcoords": [
           {
            "line": {
             "colorbar": {
              "outlinewidth": 0,
              "ticks": ""
             }
            },
            "type": "parcoords"
           }
          ],
          "pie": [
           {
            "automargin": true,
            "type": "pie"
           }
          ],
          "scatter": [
           {
            "fillpattern": {
             "fillmode": "overlay",
             "size": 10,
             "solidity": 0.2
            },
            "type": "scatter"
           }
          ],
          "scatter3d": [
           {
            "line": {
             "colorbar": {
              "outlinewidth": 0,
              "ticks": ""
             }
            },
            "marker": {
             "colorbar": {
              "outlinewidth": 0,
              "ticks": ""
             }
            },
            "type": "scatter3d"
           }
          ],
          "scattercarpet": [
           {
            "marker": {
             "colorbar": {
              "outlinewidth": 0,
              "ticks": ""
             }
            },
            "type": "scattercarpet"
           }
          ],
          "scattergeo": [
           {
            "marker": {
             "colorbar": {
              "outlinewidth": 0,
              "ticks": ""
             }
            },
            "type": "scattergeo"
           }
          ],
          "scattergl": [
           {
            "marker": {
             "colorbar": {
              "outlinewidth": 0,
              "ticks": ""
             }
            },
            "type": "scattergl"
           }
          ],
          "scattermapbox": [
           {
            "marker": {
             "colorbar": {
              "outlinewidth": 0,
              "ticks": ""
             }
            },
            "type": "scattermapbox"
           }
          ],
          "scatterpolar": [
           {
            "marker": {
             "colorbar": {
              "outlinewidth": 0,
              "ticks": ""
             }
            },
            "type": "scatterpolar"
           }
          ],
          "scatterpolargl": [
           {
            "marker": {
             "colorbar": {
              "outlinewidth": 0,
              "ticks": ""
             }
            },
            "type": "scatterpolargl"
           }
          ],
          "scatterternary": [
           {
            "marker": {
             "colorbar": {
              "outlinewidth": 0,
              "ticks": ""
             }
            },
            "type": "scatterternary"
           }
          ],
          "surface": [
           {
            "colorbar": {
             "outlinewidth": 0,
             "ticks": ""
            },
            "colorscale": [
             [
              0,
              "#0d0887"
             ],
             [
              0.1111111111111111,
              "#46039f"
             ],
             [
              0.2222222222222222,
              "#7201a8"
             ],
             [
              0.3333333333333333,
              "#9c179e"
             ],
             [
              0.4444444444444444,
              "#bd3786"
             ],
             [
              0.5555555555555556,
              "#d8576b"
             ],
             [
              0.6666666666666666,
              "#ed7953"
             ],
             [
              0.7777777777777778,
              "#fb9f3a"
             ],
             [
              0.8888888888888888,
              "#fdca26"
             ],
             [
              1,
              "#f0f921"
             ]
            ],
            "type": "surface"
           }
          ],
          "table": [
           {
            "cells": {
             "fill": {
              "color": "#EBF0F8"
             },
             "line": {
              "color": "white"
             }
            },
            "header": {
             "fill": {
              "color": "#C8D4E3"
             },
             "line": {
              "color": "white"
             }
            },
            "type": "table"
           }
          ]
         },
         "layout": {
          "annotationdefaults": {
           "arrowcolor": "#2a3f5f",
           "arrowhead": 0,
           "arrowwidth": 1
          },
          "autotypenumbers": "strict",
          "coloraxis": {
           "colorbar": {
            "outlinewidth": 0,
            "ticks": ""
           }
          },
          "colorscale": {
           "diverging": [
            [
             0,
             "#8e0152"
            ],
            [
             0.1,
             "#c51b7d"
            ],
            [
             0.2,
             "#de77ae"
            ],
            [
             0.3,
             "#f1b6da"
            ],
            [
             0.4,
             "#fde0ef"
            ],
            [
             0.5,
             "#f7f7f7"
            ],
            [
             0.6,
             "#e6f5d0"
            ],
            [
             0.7,
             "#b8e186"
            ],
            [
             0.8,
             "#7fbc41"
            ],
            [
             0.9,
             "#4d9221"
            ],
            [
             1,
             "#276419"
            ]
           ],
           "sequential": [
            [
             0,
             "#0d0887"
            ],
            [
             0.1111111111111111,
             "#46039f"
            ],
            [
             0.2222222222222222,
             "#7201a8"
            ],
            [
             0.3333333333333333,
             "#9c179e"
            ],
            [
             0.4444444444444444,
             "#bd3786"
            ],
            [
             0.5555555555555556,
             "#d8576b"
            ],
            [
             0.6666666666666666,
             "#ed7953"
            ],
            [
             0.7777777777777778,
             "#fb9f3a"
            ],
            [
             0.8888888888888888,
             "#fdca26"
            ],
            [
             1,
             "#f0f921"
            ]
           ],
           "sequentialminus": [
            [
             0,
             "#0d0887"
            ],
            [
             0.1111111111111111,
             "#46039f"
            ],
            [
             0.2222222222222222,
             "#7201a8"
            ],
            [
             0.3333333333333333,
             "#9c179e"
            ],
            [
             0.4444444444444444,
             "#bd3786"
            ],
            [
             0.5555555555555556,
             "#d8576b"
            ],
            [
             0.6666666666666666,
             "#ed7953"
            ],
            [
             0.7777777777777778,
             "#fb9f3a"
            ],
            [
             0.8888888888888888,
             "#fdca26"
            ],
            [
             1,
             "#f0f921"
            ]
           ]
          },
          "colorway": [
           "#636efa",
           "#EF553B",
           "#00cc96",
           "#ab63fa",
           "#FFA15A",
           "#19d3f3",
           "#FF6692",
           "#B6E880",
           "#FF97FF",
           "#FECB52"
          ],
          "font": {
           "color": "#2a3f5f"
          },
          "geo": {
           "bgcolor": "white",
           "lakecolor": "white",
           "landcolor": "#E5ECF6",
           "showlakes": true,
           "showland": true,
           "subunitcolor": "white"
          },
          "hoverlabel": {
           "align": "left"
          },
          "hovermode": "closest",
          "mapbox": {
           "style": "light"
          },
          "paper_bgcolor": "white",
          "plot_bgcolor": "#E5ECF6",
          "polar": {
           "angularaxis": {
            "gridcolor": "white",
            "linecolor": "white",
            "ticks": ""
           },
           "bgcolor": "#E5ECF6",
           "radialaxis": {
            "gridcolor": "white",
            "linecolor": "white",
            "ticks": ""
           }
          },
          "scene": {
           "xaxis": {
            "backgroundcolor": "#E5ECF6",
            "gridcolor": "white",
            "gridwidth": 2,
            "linecolor": "white",
            "showbackground": true,
            "ticks": "",
            "zerolinecolor": "white"
           },
           "yaxis": {
            "backgroundcolor": "#E5ECF6",
            "gridcolor": "white",
            "gridwidth": 2,
            "linecolor": "white",
            "showbackground": true,
            "ticks": "",
            "zerolinecolor": "white"
           },
           "zaxis": {
            "backgroundcolor": "#E5ECF6",
            "gridcolor": "white",
            "gridwidth": 2,
            "linecolor": "white",
            "showbackground": true,
            "ticks": "",
            "zerolinecolor": "white"
           }
          },
          "shapedefaults": {
           "line": {
            "color": "#2a3f5f"
           }
          },
          "ternary": {
           "aaxis": {
            "gridcolor": "white",
            "linecolor": "white",
            "ticks": ""
           },
           "baxis": {
            "gridcolor": "white",
            "linecolor": "white",
            "ticks": ""
           },
           "bgcolor": "#E5ECF6",
           "caxis": {
            "gridcolor": "white",
            "linecolor": "white",
            "ticks": ""
           }
          },
          "title": {
           "x": 0.05
          },
          "xaxis": {
           "automargin": true,
           "gridcolor": "white",
           "linecolor": "white",
           "ticks": "",
           "title": {
            "standoff": 15
           },
           "zerolinecolor": "white",
           "zerolinewidth": 2
          },
          "yaxis": {
           "automargin": true,
           "gridcolor": "white",
           "linecolor": "white",
           "ticks": "",
           "title": {
            "standoff": 15
           },
           "zerolinecolor": "white",
           "zerolinewidth": 2
          }
         }
        },
        "title": {
         "text": "Variação do loudness conforme os anos"
        },
        "xaxis": {
         "anchor": "y",
         "domain": [
          0,
          1
         ],
         "title": {
          "text": "year"
         }
        },
        "yaxis": {
         "anchor": "x",
         "domain": [
          0,
          1
         ],
         "title": {
          "text": "loudness"
         }
        }
       }
      }
     },
     "metadata": {},
     "output_type": "display_data"
    }
   ],
   "source": [
    "loudness_by_year = px.line(dados_anos, x='year', y='loudness', markers=True, title='Variação do loudness conforme os anos')\n",
    "loudness_by_year.show()"
   ]
  },
  {
   "cell_type": "code",
   "execution_count": 532,
   "metadata": {},
   "outputs": [],
   "source": [
    "import plotly.graph_objects as go"
   ]
  },
  {
   "cell_type": "code",
   "execution_count": 533,
   "metadata": {},
   "outputs": [
    {
     "data": {
      "application/vnd.plotly.v1+json": {
       "config": {
        "plotlyServerURL": "https://plot.ly"
       },
       "data": [
        {
         "name": "Acousticness",
         "type": "scatter",
         "x": [
          2000,
          2001,
          2002,
          2003,
          2004,
          2005,
          2006,
          2007,
          2008,
          2009,
          2010,
          2011,
          2012,
          2013,
          2014,
          2015,
          2016,
          2017,
          2018,
          2019,
          2020
         ],
         "y": [
          0.2893227005163599,
          0.2868424748428934,
          0.282624289885001,
          0.2564705181729783,
          0.2805589466225845,
          0.2557635068666665,
          0.2799863520256408,
          0.2540809575538463,
          0.2491917627212275,
          0.261928619096939,
          0.2426866435515872,
          0.2731826625185919,
          0.2499530443804624,
          0.2574880859564779,
          0.249312645880299,
          0.2539522577102332,
          0.2841710299554814,
          0.2860990665261043,
          0.2676329907750836,
          0.2782985863365824,
          0.2199308880935964
         ]
        },
        {
         "name": "Valence",
         "type": "scatter",
         "x": [
          2000,
          2001,
          2002,
          2003,
          2004,
          2005,
          2006,
          2007,
          2008,
          2009,
          2010,
          2011,
          2012,
          2013,
          2014,
          2015,
          2016,
          2017,
          2018,
          2019,
          2020
         ],
         "y": [
          0.5594754601226991,
          0.541479107231919,
          0.5423971500000008,
          0.5305042476970324,
          0.5244885554425227,
          0.5325309230769236,
          0.5200283076923078,
          0.5167938461538473,
          0.5275418925831203,
          0.5071696617346935,
          0.5208951587301589,
          0.4724536787307882,
          0.4627090128534706,
          0.4547411943319834,
          0.4630487780548628,
          0.4320983687943254,
          0.4315320589872012,
          0.4164763112449793,
          0.4479212743699474,
          0.4588176295536167,
          0.5010478078817729
         ]
        },
        {
         "name": "Danceability",
         "type": "scatter",
         "x": [
          2000,
          2001,
          2002,
          2003,
          2004,
          2005,
          2006,
          2007,
          2008,
          2009,
          2010,
          2011,
          2012,
          2013,
          2014,
          2015,
          2016,
          2017,
          2018,
          2019,
          2020
         ],
         "y": [
          0.590918047034764,
          0.5833178553615969,
          0.5761602999999997,
          0.5757633060388944,
          0.5676803662258397,
          0.5722805641025652,
          0.5682301538461539,
          0.5634143589743592,
          0.5791928388746803,
          0.5641903571428577,
          0.5724883432539687,
          0.5528669806643526,
          0.5708818508997433,
          0.5711480263157896,
          0.5899476807980057,
          0.5937740628166152,
          0.6002023928770179,
          0.6122170180722886,
          0.6635004755111744,
          0.6448141097998967,
          0.6929043349753701
         ]
        },
        {
         "name": "Energy",
         "type": "scatter",
         "x": [
          2000,
          2001,
          2002,
          2003,
          2004,
          2005,
          2006,
          2007,
          2008,
          2009,
          2010,
          2011,
          2012,
          2013,
          2014,
          2015,
          2016,
          2017,
          2018,
          2019,
          2020
         ],
         "y": [
          0.6254128323108387,
          0.6269855221945144,
          0.6412697960000012,
          0.6601652610030712,
          0.6488679450661226,
          0.653208511282051,
          0.6503262820512825,
          0.6683047743589737,
          0.6714608207672623,
          0.6707487551020408,
          0.6817778026289684,
          0.6483008934060499,
          0.6565714601542408,
          0.6455968914473688,
          0.6487954437905223,
          0.6270642715298895,
          0.5928552316082347,
          0.5904210208835337,
          0.6024346220161672,
          0.5932240360184717,
          0.6312316354679793
         ]
        },
        {
         "name": "Instrumentalness",
         "type": "scatter",
         "x": [
          2000,
          2001,
          2002,
          2003,
          2004,
          2005,
          2006,
          2007,
          2008,
          2009,
          2010,
          2011,
          2012,
          2013,
          2014,
          2015,
          2016,
          2017,
          2018,
          2019,
          2020
         ],
         "y": [
          0.1011677687934559,
          0.1072140189925186,
          0.0880483503149999,
          0.0830492746673491,
          0.0779340349084435,
          0.0901943611846154,
          0.0777014718769231,
          0.0729572680512819,
          0.0636620903171356,
          0.0758720736836735,
          0.0829805682192461,
          0.103772332166584,
          0.0852055206786631,
          0.0983650539170038,
          0.0765695548379051,
          0.1067868780547114,
          0.0939843871174179,
          0.0970906090662649,
          0.0542171216690441,
          0.0776402469728064,
          0.0163755243054187
         ]
        },
        {
         "name": "Liveness",
         "type": "scatter",
         "x": [
          2000,
          2001,
          2002,
          2003,
          2004,
          2005,
          2006,
          2007,
          2008,
          2009,
          2010,
          2011,
          2012,
          2013,
          2014,
          2015,
          2016,
          2017,
          2018,
          2019,
          2020
         ],
         "y": [
          0.1976860429447853,
          0.1870256359102248,
          0.1939111999999998,
          0.196976305015353,
          0.2021994404883014,
          0.1900816256410258,
          0.1882892820512821,
          0.1961265641025642,
          0.1984314066496162,
          0.2052522959183674,
          0.1997006448412699,
          0.2033088249876056,
          0.1897330077120824,
          0.1996308198380571,
          0.1918215960099752,
          0.1888564336372847,
          0.181169894268225,
          0.1917126004016064,
          0.1763255349500711,
          0.1726164186762446,
          0.1785354187192117
         ]
        },
        {
         "name": "Speechiness",
         "type": "scatter",
         "x": [
          2000,
          2001,
          2002,
          2003,
          2004,
          2005,
          2006,
          2007,
          2008,
          2009,
          2010,
          2011,
          2012,
          2013,
          2014,
          2015,
          2016,
          2017,
          2018,
          2019,
          2020
         ],
         "y": [
          0.0892054192229039,
          0.0891822942643391,
          0.0843075999999999,
          0.0939257420675538,
          0.0942388097660224,
          0.093333692307692,
          0.0858467692307692,
          0.0843473333333333,
          0.077356368286445,
          0.0854578061224489,
          0.0810314980158731,
          0.087479276152702,
          0.081742467866324,
          0.0938488866396761,
          0.0840605486284289,
          0.0967792299898684,
          0.1043132999443518,
          0.1105364959839356,
          0.1271755587256302,
          0.1210433555669573,
          0.1413836945812805
         ]
        }
       ],
       "layout": {
        "template": {
         "data": {
          "bar": [
           {
            "error_x": {
             "color": "#2a3f5f"
            },
            "error_y": {
             "color": "#2a3f5f"
            },
            "marker": {
             "line": {
              "color": "#E5ECF6",
              "width": 0.5
             },
             "pattern": {
              "fillmode": "overlay",
              "size": 10,
              "solidity": 0.2
             }
            },
            "type": "bar"
           }
          ],
          "barpolar": [
           {
            "marker": {
             "line": {
              "color": "#E5ECF6",
              "width": 0.5
             },
             "pattern": {
              "fillmode": "overlay",
              "size": 10,
              "solidity": 0.2
             }
            },
            "type": "barpolar"
           }
          ],
          "carpet": [
           {
            "aaxis": {
             "endlinecolor": "#2a3f5f",
             "gridcolor": "white",
             "linecolor": "white",
             "minorgridcolor": "white",
             "startlinecolor": "#2a3f5f"
            },
            "baxis": {
             "endlinecolor": "#2a3f5f",
             "gridcolor": "white",
             "linecolor": "white",
             "minorgridcolor": "white",
             "startlinecolor": "#2a3f5f"
            },
            "type": "carpet"
           }
          ],
          "choropleth": [
           {
            "colorbar": {
             "outlinewidth": 0,
             "ticks": ""
            },
            "type": "choropleth"
           }
          ],
          "contour": [
           {
            "colorbar": {
             "outlinewidth": 0,
             "ticks": ""
            },
            "colorscale": [
             [
              0,
              "#0d0887"
             ],
             [
              0.1111111111111111,
              "#46039f"
             ],
             [
              0.2222222222222222,
              "#7201a8"
             ],
             [
              0.3333333333333333,
              "#9c179e"
             ],
             [
              0.4444444444444444,
              "#bd3786"
             ],
             [
              0.5555555555555556,
              "#d8576b"
             ],
             [
              0.6666666666666666,
              "#ed7953"
             ],
             [
              0.7777777777777778,
              "#fb9f3a"
             ],
             [
              0.8888888888888888,
              "#fdca26"
             ],
             [
              1,
              "#f0f921"
             ]
            ],
            "type": "contour"
           }
          ],
          "contourcarpet": [
           {
            "colorbar": {
             "outlinewidth": 0,
             "ticks": ""
            },
            "type": "contourcarpet"
           }
          ],
          "heatmap": [
           {
            "colorbar": {
             "outlinewidth": 0,
             "ticks": ""
            },
            "colorscale": [
             [
              0,
              "#0d0887"
             ],
             [
              0.1111111111111111,
              "#46039f"
             ],
             [
              0.2222222222222222,
              "#7201a8"
             ],
             [
              0.3333333333333333,
              "#9c179e"
             ],
             [
              0.4444444444444444,
              "#bd3786"
             ],
             [
              0.5555555555555556,
              "#d8576b"
             ],
             [
              0.6666666666666666,
              "#ed7953"
             ],
             [
              0.7777777777777778,
              "#fb9f3a"
             ],
             [
              0.8888888888888888,
              "#fdca26"
             ],
             [
              1,
              "#f0f921"
             ]
            ],
            "type": "heatmap"
           }
          ],
          "heatmapgl": [
           {
            "colorbar": {
             "outlinewidth": 0,
             "ticks": ""
            },
            "colorscale": [
             [
              0,
              "#0d0887"
             ],
             [
              0.1111111111111111,
              "#46039f"
             ],
             [
              0.2222222222222222,
              "#7201a8"
             ],
             [
              0.3333333333333333,
              "#9c179e"
             ],
             [
              0.4444444444444444,
              "#bd3786"
             ],
             [
              0.5555555555555556,
              "#d8576b"
             ],
             [
              0.6666666666666666,
              "#ed7953"
             ],
             [
              0.7777777777777778,
              "#fb9f3a"
             ],
             [
              0.8888888888888888,
              "#fdca26"
             ],
             [
              1,
              "#f0f921"
             ]
            ],
            "type": "heatmapgl"
           }
          ],
          "histogram": [
           {
            "marker": {
             "pattern": {
              "fillmode": "overlay",
              "size": 10,
              "solidity": 0.2
             }
            },
            "type": "histogram"
           }
          ],
          "histogram2d": [
           {
            "colorbar": {
             "outlinewidth": 0,
             "ticks": ""
            },
            "colorscale": [
             [
              0,
              "#0d0887"
             ],
             [
              0.1111111111111111,
              "#46039f"
             ],
             [
              0.2222222222222222,
              "#7201a8"
             ],
             [
              0.3333333333333333,
              "#9c179e"
             ],
             [
              0.4444444444444444,
              "#bd3786"
             ],
             [
              0.5555555555555556,
              "#d8576b"
             ],
             [
              0.6666666666666666,
              "#ed7953"
             ],
             [
              0.7777777777777778,
              "#fb9f3a"
             ],
             [
              0.8888888888888888,
              "#fdca26"
             ],
             [
              1,
              "#f0f921"
             ]
            ],
            "type": "histogram2d"
           }
          ],
          "histogram2dcontour": [
           {
            "colorbar": {
             "outlinewidth": 0,
             "ticks": ""
            },
            "colorscale": [
             [
              0,
              "#0d0887"
             ],
             [
              0.1111111111111111,
              "#46039f"
             ],
             [
              0.2222222222222222,
              "#7201a8"
             ],
             [
              0.3333333333333333,
              "#9c179e"
             ],
             [
              0.4444444444444444,
              "#bd3786"
             ],
             [
              0.5555555555555556,
              "#d8576b"
             ],
             [
              0.6666666666666666,
              "#ed7953"
             ],
             [
              0.7777777777777778,
              "#fb9f3a"
             ],
             [
              0.8888888888888888,
              "#fdca26"
             ],
             [
              1,
              "#f0f921"
             ]
            ],
            "type": "histogram2dcontour"
           }
          ],
          "mesh3d": [
           {
            "colorbar": {
             "outlinewidth": 0,
             "ticks": ""
            },
            "type": "mesh3d"
           }
          ],
          "parcoords": [
           {
            "line": {
             "colorbar": {
              "outlinewidth": 0,
              "ticks": ""
             }
            },
            "type": "parcoords"
           }
          ],
          "pie": [
           {
            "automargin": true,
            "type": "pie"
           }
          ],
          "scatter": [
           {
            "fillpattern": {
             "fillmode": "overlay",
             "size": 10,
             "solidity": 0.2
            },
            "type": "scatter"
           }
          ],
          "scatter3d": [
           {
            "line": {
             "colorbar": {
              "outlinewidth": 0,
              "ticks": ""
             }
            },
            "marker": {
             "colorbar": {
              "outlinewidth": 0,
              "ticks": ""
             }
            },
            "type": "scatter3d"
           }
          ],
          "scattercarpet": [
           {
            "marker": {
             "colorbar": {
              "outlinewidth": 0,
              "ticks": ""
             }
            },
            "type": "scattercarpet"
           }
          ],
          "scattergeo": [
           {
            "marker": {
             "colorbar": {
              "outlinewidth": 0,
              "ticks": ""
             }
            },
            "type": "scattergeo"
           }
          ],
          "scattergl": [
           {
            "marker": {
             "colorbar": {
              "outlinewidth": 0,
              "ticks": ""
             }
            },
            "type": "scattergl"
           }
          ],
          "scattermapbox": [
           {
            "marker": {
             "colorbar": {
              "outlinewidth": 0,
              "ticks": ""
             }
            },
            "type": "scattermapbox"
           }
          ],
          "scatterpolar": [
           {
            "marker": {
             "colorbar": {
              "outlinewidth": 0,
              "ticks": ""
             }
            },
            "type": "scatterpolar"
           }
          ],
          "scatterpolargl": [
           {
            "marker": {
             "colorbar": {
              "outlinewidth": 0,
              "ticks": ""
             }
            },
            "type": "scatterpolargl"
           }
          ],
          "scatterternary": [
           {
            "marker": {
             "colorbar": {
              "outlinewidth": 0,
              "ticks": ""
             }
            },
            "type": "scatterternary"
           }
          ],
          "surface": [
           {
            "colorbar": {
             "outlinewidth": 0,
             "ticks": ""
            },
            "colorscale": [
             [
              0,
              "#0d0887"
             ],
             [
              0.1111111111111111,
              "#46039f"
             ],
             [
              0.2222222222222222,
              "#7201a8"
             ],
             [
              0.3333333333333333,
              "#9c179e"
             ],
             [
              0.4444444444444444,
              "#bd3786"
             ],
             [
              0.5555555555555556,
              "#d8576b"
             ],
             [
              0.6666666666666666,
              "#ed7953"
             ],
             [
              0.7777777777777778,
              "#fb9f3a"
             ],
             [
              0.8888888888888888,
              "#fdca26"
             ],
             [
              1,
              "#f0f921"
             ]
            ],
            "type": "surface"
           }
          ],
          "table": [
           {
            "cells": {
             "fill": {
              "color": "#EBF0F8"
             },
             "line": {
              "color": "white"
             }
            },
            "header": {
             "fill": {
              "color": "#C8D4E3"
             },
             "line": {
              "color": "white"
             }
            },
            "type": "table"
           }
          ]
         },
         "layout": {
          "annotationdefaults": {
           "arrowcolor": "#2a3f5f",
           "arrowhead": 0,
           "arrowwidth": 1
          },
          "autotypenumbers": "strict",
          "coloraxis": {
           "colorbar": {
            "outlinewidth": 0,
            "ticks": ""
           }
          },
          "colorscale": {
           "diverging": [
            [
             0,
             "#8e0152"
            ],
            [
             0.1,
             "#c51b7d"
            ],
            [
             0.2,
             "#de77ae"
            ],
            [
             0.3,
             "#f1b6da"
            ],
            [
             0.4,
             "#fde0ef"
            ],
            [
             0.5,
             "#f7f7f7"
            ],
            [
             0.6,
             "#e6f5d0"
            ],
            [
             0.7,
             "#b8e186"
            ],
            [
             0.8,
             "#7fbc41"
            ],
            [
             0.9,
             "#4d9221"
            ],
            [
             1,
             "#276419"
            ]
           ],
           "sequential": [
            [
             0,
             "#0d0887"
            ],
            [
             0.1111111111111111,
             "#46039f"
            ],
            [
             0.2222222222222222,
             "#7201a8"
            ],
            [
             0.3333333333333333,
             "#9c179e"
            ],
            [
             0.4444444444444444,
             "#bd3786"
            ],
            [
             0.5555555555555556,
             "#d8576b"
            ],
            [
             0.6666666666666666,
             "#ed7953"
            ],
            [
             0.7777777777777778,
             "#fb9f3a"
            ],
            [
             0.8888888888888888,
             "#fdca26"
            ],
            [
             1,
             "#f0f921"
            ]
           ],
           "sequentialminus": [
            [
             0,
             "#0d0887"
            ],
            [
             0.1111111111111111,
             "#46039f"
            ],
            [
             0.2222222222222222,
             "#7201a8"
            ],
            [
             0.3333333333333333,
             "#9c179e"
            ],
            [
             0.4444444444444444,
             "#bd3786"
            ],
            [
             0.5555555555555556,
             "#d8576b"
            ],
            [
             0.6666666666666666,
             "#ed7953"
            ],
            [
             0.7777777777777778,
             "#fb9f3a"
            ],
            [
             0.8888888888888888,
             "#fdca26"
            ],
            [
             1,
             "#f0f921"
            ]
           ]
          },
          "colorway": [
           "#636efa",
           "#EF553B",
           "#00cc96",
           "#ab63fa",
           "#FFA15A",
           "#19d3f3",
           "#FF6692",
           "#B6E880",
           "#FF97FF",
           "#FECB52"
          ],
          "font": {
           "color": "#2a3f5f"
          },
          "geo": {
           "bgcolor": "white",
           "lakecolor": "white",
           "landcolor": "#E5ECF6",
           "showlakes": true,
           "showland": true,
           "subunitcolor": "white"
          },
          "hoverlabel": {
           "align": "left"
          },
          "hovermode": "closest",
          "mapbox": {
           "style": "light"
          },
          "paper_bgcolor": "white",
          "plot_bgcolor": "#E5ECF6",
          "polar": {
           "angularaxis": {
            "gridcolor": "white",
            "linecolor": "white",
            "ticks": ""
           },
           "bgcolor": "#E5ECF6",
           "radialaxis": {
            "gridcolor": "white",
            "linecolor": "white",
            "ticks": ""
           }
          },
          "scene": {
           "xaxis": {
            "backgroundcolor": "#E5ECF6",
            "gridcolor": "white",
            "gridwidth": 2,
            "linecolor": "white",
            "showbackground": true,
            "ticks": "",
            "zerolinecolor": "white"
           },
           "yaxis": {
            "backgroundcolor": "#E5ECF6",
            "gridcolor": "white",
            "gridwidth": 2,
            "linecolor": "white",
            "showbackground": true,
            "ticks": "",
            "zerolinecolor": "white"
           },
           "zaxis": {
            "backgroundcolor": "#E5ECF6",
            "gridcolor": "white",
            "gridwidth": 2,
            "linecolor": "white",
            "showbackground": true,
            "ticks": "",
            "zerolinecolor": "white"
           }
          },
          "shapedefaults": {
           "line": {
            "color": "#2a3f5f"
           }
          },
          "ternary": {
           "aaxis": {
            "gridcolor": "white",
            "linecolor": "white",
            "ticks": ""
           },
           "baxis": {
            "gridcolor": "white",
            "linecolor": "white",
            "ticks": ""
           },
           "bgcolor": "#E5ECF6",
           "caxis": {
            "gridcolor": "white",
            "linecolor": "white",
            "ticks": ""
           }
          },
          "title": {
           "x": 0.05
          },
          "xaxis": {
           "automargin": true,
           "gridcolor": "white",
           "linecolor": "white",
           "ticks": "",
           "title": {
            "standoff": 15
           },
           "zerolinecolor": "white",
           "zerolinewidth": 2
          },
          "yaxis": {
           "automargin": true,
           "gridcolor": "white",
           "linecolor": "white",
           "ticks": "",
           "title": {
            "standoff": 15
           },
           "zerolinecolor": "white",
           "zerolinewidth": 2
          }
         }
        }
       }
      }
     },
     "metadata": {},
     "output_type": "display_data"
    }
   ],
   "source": [
    "features_by_year = go.Figure()\n",
    "\n",
    "features_by_year.add_trace(go.Scatter(x=dados_anos['year'], y=dados_anos['acousticness'],\n",
    "                    name='Acousticness'))\n",
    "features_by_year.add_trace(go.Scatter(x=dados_anos['year'], y=dados_anos['valence'],\n",
    "                    name='Valence'))\n",
    "features_by_year.add_trace(go.Scatter(x=dados_anos['year'], y=dados_anos['danceability'],\n",
    "                    name='Danceability'))\n",
    "features_by_year.add_trace(go.Scatter(x=dados_anos['year'], y=dados_anos['energy'],\n",
    "                    name='Energy'))\n",
    "features_by_year.add_trace(go.Scatter(x=dados_anos['year'], y=dados_anos['instrumentalness'],\n",
    "                    name='Instrumentalness'))\n",
    "features_by_year.add_trace(go.Scatter(x=dados_anos['year'], y=dados_anos['liveness'],\n",
    "                    name='Liveness'))\n",
    "features_by_year.add_trace(go.Scatter(x=dados_anos['year'], y=dados_anos['speechiness'],\n",
    "                    name='Speechiness'))\n",
    "\n",
    "features_by_year.show()"
   ]
  },
  {
   "cell_type": "code",
   "execution_count": 534,
   "metadata": {},
   "outputs": [
    {
     "data": {
      "application/vnd.plotly.v1+json": {
       "config": {
        "plotlyServerURL": "https://plot.ly"
       },
       "data": [
        {
         "coloraxis": "coloraxis",
         "hovertemplate": "x: %{x}<br>y: %{y}<br>color: %{z}<extra></extra>",
         "name": "0",
         "type": "heatmap",
         "x": [
          "year",
          "acousticness",
          "danceability",
          "duration_ms",
          "energy",
          "instrumentalness",
          "liveness",
          "loudness",
          "speechiness",
          "tempo",
          "valence",
          "popularity"
         ],
         "xaxis": "x",
         "y": [
          "year",
          "acousticness",
          "danceability",
          "duration_ms",
          "energy",
          "instrumentalness",
          "liveness",
          "loudness",
          "speechiness",
          "tempo",
          "valence",
          "popularity"
         ],
         "yaxis": "y",
         "z": [
          [
           1,
           -0.3411159583826949,
           0.6608199386023006,
           -0.7677124784467937,
           -0.48836149760179165,
           -0.3778796163418812,
           -0.5600359793453034,
           0.24481327200034972,
           0.6679407869495612,
           0.13520665128600898,
           -0.8475989110150032,
           0.9403224364955638
          ],
          [
           -0.3411159583826949,
           1,
           -0.21562914783872586,
           0.07027065889373207,
           -0.5028464016727305,
           0.6000179544161105,
           -0.005278610778447453,
           -0.8384634126764219,
           -0.11507903484724331,
           -0.7791290601092237,
           0.01765740128177655,
           -0.15878272118242648
          ],
          [
           0.6608199386023006,
           -0.21562914783872586,
           1,
           -0.9174882989904194,
           -0.6300040145063878,
           -0.6365783321457549,
           -0.7937311387338578,
           0.11774934529005913,
           0.9290984292792728,
           0.008636460322803635,
           -0.3339128886804442,
           0.8080907171455811
          ],
          [
           -0.7677124784467937,
           0.07027065889373207,
           -0.9174882989904194,
           1,
           0.7158216074913755,
           0.540893134106444,
           0.7726846760122192,
           -0.040353826764081425,
           -0.9337595836692878,
           0.04943538849118494,
           0.4998944618939771,
           -0.9211587580397508
          ],
          [
           -0.48836149760179165,
           -0.5028464016727305,
           -0.6300040145063878,
           0.7158216074913755,
           1,
           -0.09557373830784116,
           0.7059936616366324,
           0.6163827716194807,
           -0.6879629289427857,
           0.6827348256574142,
           0.5688501869406707,
           -0.6830008647144803
          ],
          [
           -0.3778796163418812,
           0.6000179544161105,
           -0.6365783321457549,
           0.540893134106444,
           -0.09557373830784116,
           1,
           0.3476714570242919,
           -0.7385756855090477,
           -0.5356289163845067,
           -0.6735345367211593,
           -0.0867655408466809,
           -0.399678058806993
          ],
          [
           -0.5600359793453034,
           -0.005278610778447453,
           -0.7937311387338578,
           0.7726846760122192,
           0.7059936616366324,
           0.3476714570242919,
           1,
           0.07598100746952863,
           -0.7340833881462234,
           0.18936558013168647,
           0.38466429778551814,
           -0.7202553144289293
          ],
          [
           0.24481327200034972,
           -0.8384634126764219,
           0.11774934529005913,
           -0.040353826764081425,
           0.6163827716194807,
           -0.7385756855090477,
           0.07598100746952863,
           1,
           0.005313336822696328,
           0.9597996046866651,
           0.11428988275912827,
           0.07272200634495016
          ],
          [
           0.6679407869495612,
           -0.11507903484724331,
           0.9290984292792728,
           -0.9337595836692878,
           -0.6879629289427857,
           -0.5356289163845067,
           -0.7340833881462234,
           0.005313336822696328,
           1,
           -0.06912092524610695,
           -0.4113409916169646,
           0.8300352075638717
          ],
          [
           0.13520665128600898,
           -0.7791290601092237,
           0.008636460322803635,
           0.04943538849118494,
           0.6827348256574142,
           -0.6735345367211593,
           0.18936558013168647,
           0.9597996046866651,
           -0.06912092524610695,
           1,
           0.21511151935343237,
           -0.03535889516641396
          ],
          [
           -0.8475989110150032,
           0.01765740128177655,
           -0.3339128886804442,
           0.4998944618939771,
           0.5688501869406707,
           -0.0867655408466809,
           0.38466429778551814,
           0.11428988275912827,
           -0.4113409916169646,
           0.21511151935343237,
           1,
           -0.7616832157267147
          ],
          [
           0.9403224364955638,
           -0.15878272118242648,
           0.8080907171455811,
           -0.9211587580397508,
           -0.6830008647144803,
           -0.399678058806993,
           -0.7202553144289293,
           0.07272200634495016,
           0.8300352075638717,
           -0.03535889516641396,
           -0.7616832157267147,
           1
          ]
         ]
        }
       ],
       "layout": {
        "coloraxis": {
         "colorscale": [
          [
           0,
           "#0d0887"
          ],
          [
           0.1111111111111111,
           "#46039f"
          ],
          [
           0.2222222222222222,
           "#7201a8"
          ],
          [
           0.3333333333333333,
           "#9c179e"
          ],
          [
           0.4444444444444444,
           "#bd3786"
          ],
          [
           0.5555555555555556,
           "#d8576b"
          ],
          [
           0.6666666666666666,
           "#ed7953"
          ],
          [
           0.7777777777777778,
           "#fb9f3a"
          ],
          [
           0.8888888888888888,
           "#fdca26"
          ],
          [
           1,
           "#f0f921"
          ]
         ]
        },
        "height": 600,
        "template": {
         "data": {
          "bar": [
           {
            "error_x": {
             "color": "#2a3f5f"
            },
            "error_y": {
             "color": "#2a3f5f"
            },
            "marker": {
             "line": {
              "color": "#E5ECF6",
              "width": 0.5
             },
             "pattern": {
              "fillmode": "overlay",
              "size": 10,
              "solidity": 0.2
             }
            },
            "type": "bar"
           }
          ],
          "barpolar": [
           {
            "marker": {
             "line": {
              "color": "#E5ECF6",
              "width": 0.5
             },
             "pattern": {
              "fillmode": "overlay",
              "size": 10,
              "solidity": 0.2
             }
            },
            "type": "barpolar"
           }
          ],
          "carpet": [
           {
            "aaxis": {
             "endlinecolor": "#2a3f5f",
             "gridcolor": "white",
             "linecolor": "white",
             "minorgridcolor": "white",
             "startlinecolor": "#2a3f5f"
            },
            "baxis": {
             "endlinecolor": "#2a3f5f",
             "gridcolor": "white",
             "linecolor": "white",
             "minorgridcolor": "white",
             "startlinecolor": "#2a3f5f"
            },
            "type": "carpet"
           }
          ],
          "choropleth": [
           {
            "colorbar": {
             "outlinewidth": 0,
             "ticks": ""
            },
            "type": "choropleth"
           }
          ],
          "contour": [
           {
            "colorbar": {
             "outlinewidth": 0,
             "ticks": ""
            },
            "colorscale": [
             [
              0,
              "#0d0887"
             ],
             [
              0.1111111111111111,
              "#46039f"
             ],
             [
              0.2222222222222222,
              "#7201a8"
             ],
             [
              0.3333333333333333,
              "#9c179e"
             ],
             [
              0.4444444444444444,
              "#bd3786"
             ],
             [
              0.5555555555555556,
              "#d8576b"
             ],
             [
              0.6666666666666666,
              "#ed7953"
             ],
             [
              0.7777777777777778,
              "#fb9f3a"
             ],
             [
              0.8888888888888888,
              "#fdca26"
             ],
             [
              1,
              "#f0f921"
             ]
            ],
            "type": "contour"
           }
          ],
          "contourcarpet": [
           {
            "colorbar": {
             "outlinewidth": 0,
             "ticks": ""
            },
            "type": "contourcarpet"
           }
          ],
          "heatmap": [
           {
            "colorbar": {
             "outlinewidth": 0,
             "ticks": ""
            },
            "colorscale": [
             [
              0,
              "#0d0887"
             ],
             [
              0.1111111111111111,
              "#46039f"
             ],
             [
              0.2222222222222222,
              "#7201a8"
             ],
             [
              0.3333333333333333,
              "#9c179e"
             ],
             [
              0.4444444444444444,
              "#bd3786"
             ],
             [
              0.5555555555555556,
              "#d8576b"
             ],
             [
              0.6666666666666666,
              "#ed7953"
             ],
             [
              0.7777777777777778,
              "#fb9f3a"
             ],
             [
              0.8888888888888888,
              "#fdca26"
             ],
             [
              1,
              "#f0f921"
             ]
            ],
            "type": "heatmap"
           }
          ],
          "heatmapgl": [
           {
            "colorbar": {
             "outlinewidth": 0,
             "ticks": ""
            },
            "colorscale": [
             [
              0,
              "#0d0887"
             ],
             [
              0.1111111111111111,
              "#46039f"
             ],
             [
              0.2222222222222222,
              "#7201a8"
             ],
             [
              0.3333333333333333,
              "#9c179e"
             ],
             [
              0.4444444444444444,
              "#bd3786"
             ],
             [
              0.5555555555555556,
              "#d8576b"
             ],
             [
              0.6666666666666666,
              "#ed7953"
             ],
             [
              0.7777777777777778,
              "#fb9f3a"
             ],
             [
              0.8888888888888888,
              "#fdca26"
             ],
             [
              1,
              "#f0f921"
             ]
            ],
            "type": "heatmapgl"
           }
          ],
          "histogram": [
           {
            "marker": {
             "pattern": {
              "fillmode": "overlay",
              "size": 10,
              "solidity": 0.2
             }
            },
            "type": "histogram"
           }
          ],
          "histogram2d": [
           {
            "colorbar": {
             "outlinewidth": 0,
             "ticks": ""
            },
            "colorscale": [
             [
              0,
              "#0d0887"
             ],
             [
              0.1111111111111111,
              "#46039f"
             ],
             [
              0.2222222222222222,
              "#7201a8"
             ],
             [
              0.3333333333333333,
              "#9c179e"
             ],
             [
              0.4444444444444444,
              "#bd3786"
             ],
             [
              0.5555555555555556,
              "#d8576b"
             ],
             [
              0.6666666666666666,
              "#ed7953"
             ],
             [
              0.7777777777777778,
              "#fb9f3a"
             ],
             [
              0.8888888888888888,
              "#fdca26"
             ],
             [
              1,
              "#f0f921"
             ]
            ],
            "type": "histogram2d"
           }
          ],
          "histogram2dcontour": [
           {
            "colorbar": {
             "outlinewidth": 0,
             "ticks": ""
            },
            "colorscale": [
             [
              0,
              "#0d0887"
             ],
             [
              0.1111111111111111,
              "#46039f"
             ],
             [
              0.2222222222222222,
              "#7201a8"
             ],
             [
              0.3333333333333333,
              "#9c179e"
             ],
             [
              0.4444444444444444,
              "#bd3786"
             ],
             [
              0.5555555555555556,
              "#d8576b"
             ],
             [
              0.6666666666666666,
              "#ed7953"
             ],
             [
              0.7777777777777778,
              "#fb9f3a"
             ],
             [
              0.8888888888888888,
              "#fdca26"
             ],
             [
              1,
              "#f0f921"
             ]
            ],
            "type": "histogram2dcontour"
           }
          ],
          "mesh3d": [
           {
            "colorbar": {
             "outlinewidth": 0,
             "ticks": ""
            },
            "type": "mesh3d"
           }
          ],
          "parcoords": [
           {
            "line": {
             "colorbar": {
              "outlinewidth": 0,
              "ticks": ""
             }
            },
            "type": "parcoords"
           }
          ],
          "pie": [
           {
            "automargin": true,
            "type": "pie"
           }
          ],
          "scatter": [
           {
            "fillpattern": {
             "fillmode": "overlay",
             "size": 10,
             "solidity": 0.2
            },
            "type": "scatter"
           }
          ],
          "scatter3d": [
           {
            "line": {
             "colorbar": {
              "outlinewidth": 0,
              "ticks": ""
             }
            },
            "marker": {
             "colorbar": {
              "outlinewidth": 0,
              "ticks": ""
             }
            },
            "type": "scatter3d"
           }
          ],
          "scattercarpet": [
           {
            "marker": {
             "colorbar": {
              "outlinewidth": 0,
              "ticks": ""
             }
            },
            "type": "scattercarpet"
           }
          ],
          "scattergeo": [
           {
            "marker": {
             "colorbar": {
              "outlinewidth": 0,
              "ticks": ""
             }
            },
            "type": "scattergeo"
           }
          ],
          "scattergl": [
           {
            "marker": {
             "colorbar": {
              "outlinewidth": 0,
              "ticks": ""
             }
            },
            "type": "scattergl"
           }
          ],
          "scattermapbox": [
           {
            "marker": {
             "colorbar": {
              "outlinewidth": 0,
              "ticks": ""
             }
            },
            "type": "scattermapbox"
           }
          ],
          "scatterpolar": [
           {
            "marker": {
             "colorbar": {
              "outlinewidth": 0,
              "ticks": ""
             }
            },
            "type": "scatterpolar"
           }
          ],
          "scatterpolargl": [
           {
            "marker": {
             "colorbar": {
              "outlinewidth": 0,
              "ticks": ""
             }
            },
            "type": "scatterpolargl"
           }
          ],
          "scatterternary": [
           {
            "marker": {
             "colorbar": {
              "outlinewidth": 0,
              "ticks": ""
             }
            },
            "type": "scatterternary"
           }
          ],
          "surface": [
           {
            "colorbar": {
             "outlinewidth": 0,
             "ticks": ""
            },
            "colorscale": [
             [
              0,
              "#0d0887"
             ],
             [
              0.1111111111111111,
              "#46039f"
             ],
             [
              0.2222222222222222,
              "#7201a8"
             ],
             [
              0.3333333333333333,
              "#9c179e"
             ],
             [
              0.4444444444444444,
              "#bd3786"
             ],
             [
              0.5555555555555556,
              "#d8576b"
             ],
             [
              0.6666666666666666,
              "#ed7953"
             ],
             [
              0.7777777777777778,
              "#fb9f3a"
             ],
             [
              0.8888888888888888,
              "#fdca26"
             ],
             [
              1,
              "#f0f921"
             ]
            ],
            "type": "surface"
           }
          ],
          "table": [
           {
            "cells": {
             "fill": {
              "color": "#EBF0F8"
             },
             "line": {
              "color": "white"
             }
            },
            "header": {
             "fill": {
              "color": "#C8D4E3"
             },
             "line": {
              "color": "white"
             }
            },
            "type": "table"
           }
          ]
         },
         "layout": {
          "annotationdefaults": {
           "arrowcolor": "#2a3f5f",
           "arrowhead": 0,
           "arrowwidth": 1
          },
          "autotypenumbers": "strict",
          "coloraxis": {
           "colorbar": {
            "outlinewidth": 0,
            "ticks": ""
           }
          },
          "colorscale": {
           "diverging": [
            [
             0,
             "#8e0152"
            ],
            [
             0.1,
             "#c51b7d"
            ],
            [
             0.2,
             "#de77ae"
            ],
            [
             0.3,
             "#f1b6da"
            ],
            [
             0.4,
             "#fde0ef"
            ],
            [
             0.5,
             "#f7f7f7"
            ],
            [
             0.6,
             "#e6f5d0"
            ],
            [
             0.7,
             "#b8e186"
            ],
            [
             0.8,
             "#7fbc41"
            ],
            [
             0.9,
             "#4d9221"
            ],
            [
             1,
             "#276419"
            ]
           ],
           "sequential": [
            [
             0,
             "#0d0887"
            ],
            [
             0.1111111111111111,
             "#46039f"
            ],
            [
             0.2222222222222222,
             "#7201a8"
            ],
            [
             0.3333333333333333,
             "#9c179e"
            ],
            [
             0.4444444444444444,
             "#bd3786"
            ],
            [
             0.5555555555555556,
             "#d8576b"
            ],
            [
             0.6666666666666666,
             "#ed7953"
            ],
            [
             0.7777777777777778,
             "#fb9f3a"
            ],
            [
             0.8888888888888888,
             "#fdca26"
            ],
            [
             1,
             "#f0f921"
            ]
           ],
           "sequentialminus": [
            [
             0,
             "#0d0887"
            ],
            [
             0.1111111111111111,
             "#46039f"
            ],
            [
             0.2222222222222222,
             "#7201a8"
            ],
            [
             0.3333333333333333,
             "#9c179e"
            ],
            [
             0.4444444444444444,
             "#bd3786"
            ],
            [
             0.5555555555555556,
             "#d8576b"
            ],
            [
             0.6666666666666666,
             "#ed7953"
            ],
            [
             0.7777777777777778,
             "#fb9f3a"
            ],
            [
             0.8888888888888888,
             "#fdca26"
            ],
            [
             1,
             "#f0f921"
            ]
           ]
          },
          "colorway": [
           "#636efa",
           "#EF553B",
           "#00cc96",
           "#ab63fa",
           "#FFA15A",
           "#19d3f3",
           "#FF6692",
           "#B6E880",
           "#FF97FF",
           "#FECB52"
          ],
          "font": {
           "color": "#2a3f5f"
          },
          "geo": {
           "bgcolor": "white",
           "lakecolor": "white",
           "landcolor": "#E5ECF6",
           "showlakes": true,
           "showland": true,
           "subunitcolor": "white"
          },
          "hoverlabel": {
           "align": "left"
          },
          "hovermode": "closest",
          "mapbox": {
           "style": "light"
          },
          "paper_bgcolor": "white",
          "plot_bgcolor": "#E5ECF6",
          "polar": {
           "angularaxis": {
            "gridcolor": "white",
            "linecolor": "white",
            "ticks": ""
           },
           "bgcolor": "#E5ECF6",
           "radialaxis": {
            "gridcolor": "white",
            "linecolor": "white",
            "ticks": ""
           }
          },
          "scene": {
           "xaxis": {
            "backgroundcolor": "#E5ECF6",
            "gridcolor": "white",
            "gridwidth": 2,
            "linecolor": "white",
            "showbackground": true,
            "ticks": "",
            "zerolinecolor": "white"
           },
           "yaxis": {
            "backgroundcolor": "#E5ECF6",
            "gridcolor": "white",
            "gridwidth": 2,
            "linecolor": "white",
            "showbackground": true,
            "ticks": "",
            "zerolinecolor": "white"
           },
           "zaxis": {
            "backgroundcolor": "#E5ECF6",
            "gridcolor": "white",
            "gridwidth": 2,
            "linecolor": "white",
            "showbackground": true,
            "ticks": "",
            "zerolinecolor": "white"
           }
          },
          "shapedefaults": {
           "line": {
            "color": "#2a3f5f"
           }
          },
          "ternary": {
           "aaxis": {
            "gridcolor": "white",
            "linecolor": "white",
            "ticks": ""
           },
           "baxis": {
            "gridcolor": "white",
            "linecolor": "white",
            "ticks": ""
           },
           "bgcolor": "#E5ECF6",
           "caxis": {
            "gridcolor": "white",
            "linecolor": "white",
            "ticks": ""
           }
          },
          "title": {
           "x": 0.05
          },
          "xaxis": {
           "automargin": true,
           "gridcolor": "white",
           "linecolor": "white",
           "ticks": "",
           "title": {
            "standoff": 15
           },
           "zerolinecolor": "white",
           "zerolinewidth": 2
          },
          "yaxis": {
           "automargin": true,
           "gridcolor": "white",
           "linecolor": "white",
           "ticks": "",
           "title": {
            "standoff": 15
           },
           "zerolinecolor": "white",
           "zerolinewidth": 2
          }
         }
        },
        "title": {
         "text": "Correlação entre as features"
        },
        "width": 800,
        "xaxis": {
         "anchor": "y",
         "constrain": "domain",
         "domain": [
          0,
          1
         ],
         "scaleanchor": "y"
        },
        "yaxis": {
         "anchor": "x",
         "autorange": "reversed",
         "constrain": "domain",
         "domain": [
          0,
          1
         ]
        }
       }
      }
     },
     "metadata": {},
     "output_type": "display_data"
    }
   ],
   "source": [
    "fig_correlation = px.imshow(dados_anos.corr(), title='Correlação entre as features')\n",
    "fig_correlation.update_layout(width=800, height=600)\n",
    "fig_correlation.show()"
   ]
  },
  {
   "cell_type": "markdown",
   "metadata": {},
   "source": [
    "# Clusterização por gênero"
   ]
  },
  {
   "cell_type": "markdown",
   "metadata": {},
   "source": [
    "## PCA e StandardScaler"
   ]
  },
  {
   "cell_type": "code",
   "execution_count": 535,
   "metadata": {},
   "outputs": [
    {
     "data": {
      "text/html": [
       "<div>\n",
       "<style scoped>\n",
       "    .dataframe tbody tr th:only-of-type {\n",
       "        vertical-align: middle;\n",
       "    }\n",
       "\n",
       "    .dataframe tbody tr th {\n",
       "        vertical-align: top;\n",
       "    }\n",
       "\n",
       "    .dataframe thead th {\n",
       "        text-align: right;\n",
       "    }\n",
       "</style>\n",
       "<table border=\"1\" class=\"dataframe\">\n",
       "  <thead>\n",
       "    <tr style=\"text-align: right;\">\n",
       "      <th></th>\n",
       "      <th>genres</th>\n",
       "      <th>acousticness</th>\n",
       "      <th>danceability</th>\n",
       "      <th>duration_ms</th>\n",
       "      <th>energy</th>\n",
       "      <th>instrumentalness</th>\n",
       "      <th>liveness</th>\n",
       "      <th>loudness</th>\n",
       "      <th>speechiness</th>\n",
       "      <th>tempo</th>\n",
       "      <th>valence</th>\n",
       "      <th>popularity</th>\n",
       "    </tr>\n",
       "  </thead>\n",
       "  <tbody>\n",
       "    <tr>\n",
       "      <th>0</th>\n",
       "      <td>21st century classical</td>\n",
       "      <td>0.979333</td>\n",
       "      <td>0.162883</td>\n",
       "      <td>1.602977e+05</td>\n",
       "      <td>0.071317</td>\n",
       "      <td>0.606834</td>\n",
       "      <td>0.361600</td>\n",
       "      <td>-31.514333</td>\n",
       "      <td>0.040567</td>\n",
       "      <td>75.336500</td>\n",
       "      <td>0.103783</td>\n",
       "      <td>27.833333</td>\n",
       "    </tr>\n",
       "    <tr>\n",
       "      <th>1</th>\n",
       "      <td>432hz</td>\n",
       "      <td>0.494780</td>\n",
       "      <td>0.299333</td>\n",
       "      <td>1.048887e+06</td>\n",
       "      <td>0.450678</td>\n",
       "      <td>0.477762</td>\n",
       "      <td>0.131000</td>\n",
       "      <td>-16.854000</td>\n",
       "      <td>0.076817</td>\n",
       "      <td>120.285667</td>\n",
       "      <td>0.221750</td>\n",
       "      <td>52.500000</td>\n",
       "    </tr>\n",
       "    <tr>\n",
       "      <th>2</th>\n",
       "      <td>8-bit</td>\n",
       "      <td>0.762000</td>\n",
       "      <td>0.712000</td>\n",
       "      <td>1.151770e+05</td>\n",
       "      <td>0.818000</td>\n",
       "      <td>0.876000</td>\n",
       "      <td>0.126000</td>\n",
       "      <td>-9.180000</td>\n",
       "      <td>0.047000</td>\n",
       "      <td>133.444000</td>\n",
       "      <td>0.975000</td>\n",
       "      <td>48.000000</td>\n",
       "    </tr>\n",
       "    <tr>\n",
       "      <th>3</th>\n",
       "      <td>[]</td>\n",
       "      <td>0.651417</td>\n",
       "      <td>0.529093</td>\n",
       "      <td>2.328809e+05</td>\n",
       "      <td>0.419146</td>\n",
       "      <td>0.205309</td>\n",
       "      <td>0.218696</td>\n",
       "      <td>-12.288965</td>\n",
       "      <td>0.107872</td>\n",
       "      <td>112.857352</td>\n",
       "      <td>0.513604</td>\n",
       "      <td>20.859882</td>\n",
       "    </tr>\n",
       "    <tr>\n",
       "      <th>4</th>\n",
       "      <td>a cappella</td>\n",
       "      <td>0.676557</td>\n",
       "      <td>0.538961</td>\n",
       "      <td>1.906285e+05</td>\n",
       "      <td>0.316434</td>\n",
       "      <td>0.003003</td>\n",
       "      <td>0.172254</td>\n",
       "      <td>-12.479387</td>\n",
       "      <td>0.082851</td>\n",
       "      <td>112.110362</td>\n",
       "      <td>0.448249</td>\n",
       "      <td>45.820071</td>\n",
       "    </tr>\n",
       "    <tr>\n",
       "      <th>...</th>\n",
       "      <td>...</td>\n",
       "      <td>...</td>\n",
       "      <td>...</td>\n",
       "      <td>...</td>\n",
       "      <td>...</td>\n",
       "      <td>...</td>\n",
       "      <td>...</td>\n",
       "      <td>...</td>\n",
       "      <td>...</td>\n",
       "      <td>...</td>\n",
       "      <td>...</td>\n",
       "      <td>...</td>\n",
       "    </tr>\n",
       "    <tr>\n",
       "      <th>2968</th>\n",
       "      <td>zolo</td>\n",
       "      <td>0.222625</td>\n",
       "      <td>0.547082</td>\n",
       "      <td>2.580991e+05</td>\n",
       "      <td>0.610240</td>\n",
       "      <td>0.143872</td>\n",
       "      <td>0.204206</td>\n",
       "      <td>-11.295878</td>\n",
       "      <td>0.061088</td>\n",
       "      <td>125.494919</td>\n",
       "      <td>0.596155</td>\n",
       "      <td>33.778943</td>\n",
       "    </tr>\n",
       "    <tr>\n",
       "      <th>2969</th>\n",
       "      <td>zouglou</td>\n",
       "      <td>0.161000</td>\n",
       "      <td>0.863000</td>\n",
       "      <td>2.063200e+05</td>\n",
       "      <td>0.909000</td>\n",
       "      <td>0.000000</td>\n",
       "      <td>0.108000</td>\n",
       "      <td>-5.985000</td>\n",
       "      <td>0.081300</td>\n",
       "      <td>119.038000</td>\n",
       "      <td>0.845000</td>\n",
       "      <td>58.000000</td>\n",
       "    </tr>\n",
       "    <tr>\n",
       "      <th>2970</th>\n",
       "      <td>zouk</td>\n",
       "      <td>0.263261</td>\n",
       "      <td>0.748889</td>\n",
       "      <td>3.060728e+05</td>\n",
       "      <td>0.622444</td>\n",
       "      <td>0.257227</td>\n",
       "      <td>0.089678</td>\n",
       "      <td>-10.289222</td>\n",
       "      <td>0.038778</td>\n",
       "      <td>101.965222</td>\n",
       "      <td>0.824111</td>\n",
       "      <td>46.666667</td>\n",
       "    </tr>\n",
       "    <tr>\n",
       "      <th>2971</th>\n",
       "      <td>zurich indie</td>\n",
       "      <td>0.993000</td>\n",
       "      <td>0.705667</td>\n",
       "      <td>1.984173e+05</td>\n",
       "      <td>0.172667</td>\n",
       "      <td>0.468633</td>\n",
       "      <td>0.179667</td>\n",
       "      <td>-11.453333</td>\n",
       "      <td>0.348667</td>\n",
       "      <td>91.278000</td>\n",
       "      <td>0.739000</td>\n",
       "      <td>0.000000</td>\n",
       "    </tr>\n",
       "    <tr>\n",
       "      <th>2972</th>\n",
       "      <td>zydeco</td>\n",
       "      <td>0.421038</td>\n",
       "      <td>0.629409</td>\n",
       "      <td>1.716717e+05</td>\n",
       "      <td>0.609369</td>\n",
       "      <td>0.019248</td>\n",
       "      <td>0.255877</td>\n",
       "      <td>-9.854825</td>\n",
       "      <td>0.050491</td>\n",
       "      <td>126.366087</td>\n",
       "      <td>0.808544</td>\n",
       "      <td>30.261905</td>\n",
       "    </tr>\n",
       "  </tbody>\n",
       "</table>\n",
       "<p>2973 rows × 12 columns</p>\n",
       "</div>"
      ],
      "text/plain": [
       "                      genres  acousticness  danceability   duration_ms  \\\n",
       "0     21st century classical      0.979333      0.162883  1.602977e+05   \n",
       "1                      432hz      0.494780      0.299333  1.048887e+06   \n",
       "2                      8-bit      0.762000      0.712000  1.151770e+05   \n",
       "3                         []      0.651417      0.529093  2.328809e+05   \n",
       "4                 a cappella      0.676557      0.538961  1.906285e+05   \n",
       "...                      ...           ...           ...           ...   \n",
       "2968                    zolo      0.222625      0.547082  2.580991e+05   \n",
       "2969                 zouglou      0.161000      0.863000  2.063200e+05   \n",
       "2970                    zouk      0.263261      0.748889  3.060728e+05   \n",
       "2971            zurich indie      0.993000      0.705667  1.984173e+05   \n",
       "2972                  zydeco      0.421038      0.629409  1.716717e+05   \n",
       "\n",
       "        energy  instrumentalness  liveness   loudness  speechiness  \\\n",
       "0     0.071317          0.606834  0.361600 -31.514333     0.040567   \n",
       "1     0.450678          0.477762  0.131000 -16.854000     0.076817   \n",
       "2     0.818000          0.876000  0.126000  -9.180000     0.047000   \n",
       "3     0.419146          0.205309  0.218696 -12.288965     0.107872   \n",
       "4     0.316434          0.003003  0.172254 -12.479387     0.082851   \n",
       "...        ...               ...       ...        ...          ...   \n",
       "2968  0.610240          0.143872  0.204206 -11.295878     0.061088   \n",
       "2969  0.909000          0.000000  0.108000  -5.985000     0.081300   \n",
       "2970  0.622444          0.257227  0.089678 -10.289222     0.038778   \n",
       "2971  0.172667          0.468633  0.179667 -11.453333     0.348667   \n",
       "2972  0.609369          0.019248  0.255877  -9.854825     0.050491   \n",
       "\n",
       "           tempo   valence  popularity  \n",
       "0      75.336500  0.103783   27.833333  \n",
       "1     120.285667  0.221750   52.500000  \n",
       "2     133.444000  0.975000   48.000000  \n",
       "3     112.857352  0.513604   20.859882  \n",
       "4     112.110362  0.448249   45.820071  \n",
       "...          ...       ...         ...  \n",
       "2968  125.494919  0.596155   33.778943  \n",
       "2969  119.038000  0.845000   58.000000  \n",
       "2970  101.965222  0.824111   46.666667  \n",
       "2971   91.278000  0.739000    0.000000  \n",
       "2972  126.366087  0.808544   30.261905  \n",
       "\n",
       "[2973 rows x 12 columns]"
      ]
     },
     "execution_count": 535,
     "metadata": {},
     "output_type": "execute_result"
    }
   ],
   "source": [
    "dados_generos"
   ]
  },
  {
   "cell_type": "code",
   "execution_count": 536,
   "metadata": {},
   "outputs": [
    {
     "data": {
      "text/plain": [
       "2973"
      ]
     },
     "execution_count": 536,
     "metadata": {},
     "output_type": "execute_result"
    }
   ],
   "source": [
    "dados_generos[\"genres\"].value_counts().sum()"
   ]
  },
  {
   "cell_type": "code",
   "execution_count": 537,
   "metadata": {},
   "outputs": [
    {
     "data": {
      "text/html": [
       "<div>\n",
       "<style scoped>\n",
       "    .dataframe tbody tr th:only-of-type {\n",
       "        vertical-align: middle;\n",
       "    }\n",
       "\n",
       "    .dataframe tbody tr th {\n",
       "        vertical-align: top;\n",
       "    }\n",
       "\n",
       "    .dataframe thead th {\n",
       "        text-align: right;\n",
       "    }\n",
       "</style>\n",
       "<table border=\"1\" class=\"dataframe\">\n",
       "  <thead>\n",
       "    <tr style=\"text-align: right;\">\n",
       "      <th></th>\n",
       "      <th>acousticness</th>\n",
       "      <th>danceability</th>\n",
       "      <th>duration_ms</th>\n",
       "      <th>energy</th>\n",
       "      <th>instrumentalness</th>\n",
       "      <th>liveness</th>\n",
       "      <th>loudness</th>\n",
       "      <th>speechiness</th>\n",
       "      <th>tempo</th>\n",
       "      <th>valence</th>\n",
       "      <th>popularity</th>\n",
       "    </tr>\n",
       "  </thead>\n",
       "  <tbody>\n",
       "    <tr>\n",
       "      <th>0</th>\n",
       "      <td>0.979333</td>\n",
       "      <td>0.162883</td>\n",
       "      <td>1.602977e+05</td>\n",
       "      <td>0.071317</td>\n",
       "      <td>0.606834</td>\n",
       "      <td>0.361600</td>\n",
       "      <td>-31.514333</td>\n",
       "      <td>0.040567</td>\n",
       "      <td>75.336500</td>\n",
       "      <td>0.103783</td>\n",
       "      <td>27.833333</td>\n",
       "    </tr>\n",
       "    <tr>\n",
       "      <th>1</th>\n",
       "      <td>0.494780</td>\n",
       "      <td>0.299333</td>\n",
       "      <td>1.048887e+06</td>\n",
       "      <td>0.450678</td>\n",
       "      <td>0.477762</td>\n",
       "      <td>0.131000</td>\n",
       "      <td>-16.854000</td>\n",
       "      <td>0.076817</td>\n",
       "      <td>120.285667</td>\n",
       "      <td>0.221750</td>\n",
       "      <td>52.500000</td>\n",
       "    </tr>\n",
       "    <tr>\n",
       "      <th>2</th>\n",
       "      <td>0.762000</td>\n",
       "      <td>0.712000</td>\n",
       "      <td>1.151770e+05</td>\n",
       "      <td>0.818000</td>\n",
       "      <td>0.876000</td>\n",
       "      <td>0.126000</td>\n",
       "      <td>-9.180000</td>\n",
       "      <td>0.047000</td>\n",
       "      <td>133.444000</td>\n",
       "      <td>0.975000</td>\n",
       "      <td>48.000000</td>\n",
       "    </tr>\n",
       "    <tr>\n",
       "      <th>3</th>\n",
       "      <td>0.651417</td>\n",
       "      <td>0.529093</td>\n",
       "      <td>2.328809e+05</td>\n",
       "      <td>0.419146</td>\n",
       "      <td>0.205309</td>\n",
       "      <td>0.218696</td>\n",
       "      <td>-12.288965</td>\n",
       "      <td>0.107872</td>\n",
       "      <td>112.857352</td>\n",
       "      <td>0.513604</td>\n",
       "      <td>20.859882</td>\n",
       "    </tr>\n",
       "    <tr>\n",
       "      <th>4</th>\n",
       "      <td>0.676557</td>\n",
       "      <td>0.538961</td>\n",
       "      <td>1.906285e+05</td>\n",
       "      <td>0.316434</td>\n",
       "      <td>0.003003</td>\n",
       "      <td>0.172254</td>\n",
       "      <td>-12.479387</td>\n",
       "      <td>0.082851</td>\n",
       "      <td>112.110362</td>\n",
       "      <td>0.448249</td>\n",
       "      <td>45.820071</td>\n",
       "    </tr>\n",
       "    <tr>\n",
       "      <th>...</th>\n",
       "      <td>...</td>\n",
       "      <td>...</td>\n",
       "      <td>...</td>\n",
       "      <td>...</td>\n",
       "      <td>...</td>\n",
       "      <td>...</td>\n",
       "      <td>...</td>\n",
       "      <td>...</td>\n",
       "      <td>...</td>\n",
       "      <td>...</td>\n",
       "      <td>...</td>\n",
       "    </tr>\n",
       "    <tr>\n",
       "      <th>2968</th>\n",
       "      <td>0.222625</td>\n",
       "      <td>0.547082</td>\n",
       "      <td>2.580991e+05</td>\n",
       "      <td>0.610240</td>\n",
       "      <td>0.143872</td>\n",
       "      <td>0.204206</td>\n",
       "      <td>-11.295878</td>\n",
       "      <td>0.061088</td>\n",
       "      <td>125.494919</td>\n",
       "      <td>0.596155</td>\n",
       "      <td>33.778943</td>\n",
       "    </tr>\n",
       "    <tr>\n",
       "      <th>2969</th>\n",
       "      <td>0.161000</td>\n",
       "      <td>0.863000</td>\n",
       "      <td>2.063200e+05</td>\n",
       "      <td>0.909000</td>\n",
       "      <td>0.000000</td>\n",
       "      <td>0.108000</td>\n",
       "      <td>-5.985000</td>\n",
       "      <td>0.081300</td>\n",
       "      <td>119.038000</td>\n",
       "      <td>0.845000</td>\n",
       "      <td>58.000000</td>\n",
       "    </tr>\n",
       "    <tr>\n",
       "      <th>2970</th>\n",
       "      <td>0.263261</td>\n",
       "      <td>0.748889</td>\n",
       "      <td>3.060728e+05</td>\n",
       "      <td>0.622444</td>\n",
       "      <td>0.257227</td>\n",
       "      <td>0.089678</td>\n",
       "      <td>-10.289222</td>\n",
       "      <td>0.038778</td>\n",
       "      <td>101.965222</td>\n",
       "      <td>0.824111</td>\n",
       "      <td>46.666667</td>\n",
       "    </tr>\n",
       "    <tr>\n",
       "      <th>2971</th>\n",
       "      <td>0.993000</td>\n",
       "      <td>0.705667</td>\n",
       "      <td>1.984173e+05</td>\n",
       "      <td>0.172667</td>\n",
       "      <td>0.468633</td>\n",
       "      <td>0.179667</td>\n",
       "      <td>-11.453333</td>\n",
       "      <td>0.348667</td>\n",
       "      <td>91.278000</td>\n",
       "      <td>0.739000</td>\n",
       "      <td>0.000000</td>\n",
       "    </tr>\n",
       "    <tr>\n",
       "      <th>2972</th>\n",
       "      <td>0.421038</td>\n",
       "      <td>0.629409</td>\n",
       "      <td>1.716717e+05</td>\n",
       "      <td>0.609369</td>\n",
       "      <td>0.019248</td>\n",
       "      <td>0.255877</td>\n",
       "      <td>-9.854825</td>\n",
       "      <td>0.050491</td>\n",
       "      <td>126.366087</td>\n",
       "      <td>0.808544</td>\n",
       "      <td>30.261905</td>\n",
       "    </tr>\n",
       "  </tbody>\n",
       "</table>\n",
       "<p>2973 rows × 11 columns</p>\n",
       "</div>"
      ],
      "text/plain": [
       "      acousticness  danceability   duration_ms    energy  instrumentalness  \\\n",
       "0         0.979333      0.162883  1.602977e+05  0.071317          0.606834   \n",
       "1         0.494780      0.299333  1.048887e+06  0.450678          0.477762   \n",
       "2         0.762000      0.712000  1.151770e+05  0.818000          0.876000   \n",
       "3         0.651417      0.529093  2.328809e+05  0.419146          0.205309   \n",
       "4         0.676557      0.538961  1.906285e+05  0.316434          0.003003   \n",
       "...            ...           ...           ...       ...               ...   \n",
       "2968      0.222625      0.547082  2.580991e+05  0.610240          0.143872   \n",
       "2969      0.161000      0.863000  2.063200e+05  0.909000          0.000000   \n",
       "2970      0.263261      0.748889  3.060728e+05  0.622444          0.257227   \n",
       "2971      0.993000      0.705667  1.984173e+05  0.172667          0.468633   \n",
       "2972      0.421038      0.629409  1.716717e+05  0.609369          0.019248   \n",
       "\n",
       "      liveness   loudness  speechiness       tempo   valence  popularity  \n",
       "0     0.361600 -31.514333     0.040567   75.336500  0.103783   27.833333  \n",
       "1     0.131000 -16.854000     0.076817  120.285667  0.221750   52.500000  \n",
       "2     0.126000  -9.180000     0.047000  133.444000  0.975000   48.000000  \n",
       "3     0.218696 -12.288965     0.107872  112.857352  0.513604   20.859882  \n",
       "4     0.172254 -12.479387     0.082851  112.110362  0.448249   45.820071  \n",
       "...        ...        ...          ...         ...       ...         ...  \n",
       "2968  0.204206 -11.295878     0.061088  125.494919  0.596155   33.778943  \n",
       "2969  0.108000  -5.985000     0.081300  119.038000  0.845000   58.000000  \n",
       "2970  0.089678 -10.289222     0.038778  101.965222  0.824111   46.666667  \n",
       "2971  0.179667 -11.453333     0.348667   91.278000  0.739000    0.000000  \n",
       "2972  0.255877  -9.854825     0.050491  126.366087  0.808544   30.261905  \n",
       "\n",
       "[2973 rows x 11 columns]"
      ]
     },
     "execution_count": 537,
     "metadata": {},
     "output_type": "execute_result"
    }
   ],
   "source": [
    "dados_generos_cleaned = dados_generos.drop(columns=[\"genres\"])\n",
    "dados_generos_cleaned"
   ]
  },
  {
   "cell_type": "markdown",
   "metadata": {},
   "source": [
    "Agora vamos utilizar vários conceitos em um processo de pipeline, então a primeira coisa que vamos fazer é importar o método Pipeline do sklearn.pipeline e esse método faz literalmente uma pipeline de machine learning, mas de uma forma automática, onde aplica sequencialmente uma lista de transformações até um resultado final. Então o que precisamos passar é o que a nossa pipeline vai fazer, como o primeiro passo e o que queremos de resultado final dela.\n",
    "\n",
    "Neste ponto precisamos reduzir a dimensionalidade da tabela que está com várias colunas, porém se utilizarmos um processo de redução diretamente, sem fazer a padronização dos dados na parte de pré processamento, os resultados ficarão totalmente desbalanceados, trazendo maior peso para as variáveis que têm uma amplitude maior, como por exemplo o loudness em relação às outras variáveis que compõem a música.\n",
    "\n",
    "Para resolver esse problema, o primeiro passo da pipeline vai ser usar o StandardScaler para trazer essa padronização e redução de escala para que no próximo passo seja feita a redução de dimensionalidade com um método de decomposição, no nosso caso vamos escolher o PCA.\n",
    "\n",
    "PCA significa Análise de componentes principais e ele trás consigo uma série de análises matemáticas que são feitas para que possamos transformar aquelas milhares de colunas que temos em uma quantidade menor, com um valor n que escolhermos, porém, quanto mais colunas a gente tem no dataset original e menos colunas queremos no dataset final, o aprendizado depois pode ser prejudicado.\n",
    "\n",
    "Na parte n_components podemos colocar a quantidade de % de explicação que queremos que o algoritmo tenha no final, como por exemplo 0.3, que seria 30%, ou um valor como por exemplo um valor X de colunas.\n",
    "\n",
    "Depois de feita a pipeline, vamos salvar em um arquivo chamado projection, com as colunas x e y, que são as posições dos pontos na cluster."
   ]
  },
  {
   "cell_type": "code",
   "execution_count": 538,
   "metadata": {},
   "outputs": [],
   "source": [
    "import numpy as np\n",
    "from sklearn.pipeline import Pipeline\n",
    "from sklearn.preprocessing import StandardScaler\n",
    "from sklearn.decomposition import PCA"
   ]
  },
  {
   "cell_type": "code",
   "execution_count": 539,
   "metadata": {},
   "outputs": [],
   "source": [
    "SEED = 1224\n",
    "np.random.seed(SEED)\n",
    "\n",
    "pca_pipeline = Pipeline(\n",
    "    [\n",
    "        ('scaler', StandardScaler()),\n",
    "        ('PCA', PCA(n_components=2))\n",
    "    ]\n",
    ")"
   ]
  },
  {
   "cell_type": "code",
   "execution_count": 540,
   "metadata": {},
   "outputs": [
    {
     "data": {
      "text/html": [
       "<div>\n",
       "<style scoped>\n",
       "    .dataframe tbody tr th:only-of-type {\n",
       "        vertical-align: middle;\n",
       "    }\n",
       "\n",
       "    .dataframe tbody tr th {\n",
       "        vertical-align: top;\n",
       "    }\n",
       "\n",
       "    .dataframe thead th {\n",
       "        text-align: right;\n",
       "    }\n",
       "</style>\n",
       "<table border=\"1\" class=\"dataframe\">\n",
       "  <thead>\n",
       "    <tr style=\"text-align: right;\">\n",
       "      <th></th>\n",
       "      <th>x</th>\n",
       "      <th>y</th>\n",
       "    </tr>\n",
       "  </thead>\n",
       "  <tbody>\n",
       "    <tr>\n",
       "      <th>0</th>\n",
       "      <td>5.910268</td>\n",
       "      <td>-0.011146</td>\n",
       "    </tr>\n",
       "    <tr>\n",
       "      <th>1</th>\n",
       "      <td>2.787093</td>\n",
       "      <td>4.498483</td>\n",
       "    </tr>\n",
       "    <tr>\n",
       "      <th>2</th>\n",
       "      <td>-0.757538</td>\n",
       "      <td>-1.258495</td>\n",
       "    </tr>\n",
       "    <tr>\n",
       "      <th>3</th>\n",
       "      <td>1.020521</td>\n",
       "      <td>-0.931690</td>\n",
       "    </tr>\n",
       "    <tr>\n",
       "      <th>4</th>\n",
       "      <td>0.753911</td>\n",
       "      <td>-0.999861</td>\n",
       "    </tr>\n",
       "    <tr>\n",
       "      <th>...</th>\n",
       "      <td>...</td>\n",
       "      <td>...</td>\n",
       "    </tr>\n",
       "    <tr>\n",
       "      <th>2968</th>\n",
       "      <td>-0.475136</td>\n",
       "      <td>-0.017126</td>\n",
       "    </tr>\n",
       "    <tr>\n",
       "      <th>2969</th>\n",
       "      <td>-3.026756</td>\n",
       "      <td>-1.304983</td>\n",
       "    </tr>\n",
       "    <tr>\n",
       "      <th>2970</th>\n",
       "      <td>-0.832511</td>\n",
       "      <td>-1.089726</td>\n",
       "    </tr>\n",
       "    <tr>\n",
       "      <th>2971</th>\n",
       "      <td>1.774790</td>\n",
       "      <td>-3.695233</td>\n",
       "    </tr>\n",
       "    <tr>\n",
       "      <th>2972</th>\n",
       "      <td>-1.028069</td>\n",
       "      <td>-1.390709</td>\n",
       "    </tr>\n",
       "  </tbody>\n",
       "</table>\n",
       "<p>2973 rows × 2 columns</p>\n",
       "</div>"
      ],
      "text/plain": [
       "             x         y\n",
       "0     5.910268 -0.011146\n",
       "1     2.787093  4.498483\n",
       "2    -0.757538 -1.258495\n",
       "3     1.020521 -0.931690\n",
       "4     0.753911 -0.999861\n",
       "...        ...       ...\n",
       "2968 -0.475136 -0.017126\n",
       "2969 -3.026756 -1.304983\n",
       "2970 -0.832511 -1.089726\n",
       "2971  1.774790 -3.695233\n",
       "2972 -1.028069 -1.390709\n",
       "\n",
       "[2973 rows x 2 columns]"
      ]
     },
     "execution_count": 540,
     "metadata": {},
     "output_type": "execute_result"
    }
   ],
   "source": [
    "genre_embedding_pca = pca_pipeline.fit_transform(dados_generos_cleaned)\n",
    "projection = pd.DataFrame(data=genre_embedding_pca, columns=['x', 'y'])\n",
    "projection"
   ]
  },
  {
   "cell_type": "markdown",
   "metadata": {},
   "source": [
    "## KMeans"
   ]
  },
  {
   "cell_type": "code",
   "execution_count": 541,
   "metadata": {},
   "outputs": [],
   "source": [
    "from sklearn.cluster import KMeans"
   ]
  },
  {
   "cell_type": "code",
   "execution_count": 542,
   "metadata": {},
   "outputs": [
    {
     "data": {
      "text/html": [
       "<div>\n",
       "<style scoped>\n",
       "    .dataframe tbody tr th:only-of-type {\n",
       "        vertical-align: middle;\n",
       "    }\n",
       "\n",
       "    .dataframe tbody tr th {\n",
       "        vertical-align: top;\n",
       "    }\n",
       "\n",
       "    .dataframe thead th {\n",
       "        text-align: right;\n",
       "    }\n",
       "</style>\n",
       "<table border=\"1\" class=\"dataframe\">\n",
       "  <thead>\n",
       "    <tr style=\"text-align: right;\">\n",
       "      <th></th>\n",
       "      <th>x</th>\n",
       "      <th>y</th>\n",
       "      <th>cluster_pca</th>\n",
       "    </tr>\n",
       "  </thead>\n",
       "  <tbody>\n",
       "    <tr>\n",
       "      <th>0</th>\n",
       "      <td>5.910268</td>\n",
       "      <td>-0.011146</td>\n",
       "      <td>2</td>\n",
       "    </tr>\n",
       "    <tr>\n",
       "      <th>1</th>\n",
       "      <td>2.787093</td>\n",
       "      <td>4.498483</td>\n",
       "      <td>2</td>\n",
       "    </tr>\n",
       "    <tr>\n",
       "      <th>2</th>\n",
       "      <td>-0.757538</td>\n",
       "      <td>-1.258495</td>\n",
       "      <td>1</td>\n",
       "    </tr>\n",
       "    <tr>\n",
       "      <th>3</th>\n",
       "      <td>1.020521</td>\n",
       "      <td>-0.931690</td>\n",
       "      <td>4</td>\n",
       "    </tr>\n",
       "    <tr>\n",
       "      <th>4</th>\n",
       "      <td>0.753911</td>\n",
       "      <td>-0.999861</td>\n",
       "      <td>4</td>\n",
       "    </tr>\n",
       "    <tr>\n",
       "      <th>...</th>\n",
       "      <td>...</td>\n",
       "      <td>...</td>\n",
       "      <td>...</td>\n",
       "    </tr>\n",
       "    <tr>\n",
       "      <th>2968</th>\n",
       "      <td>-0.475136</td>\n",
       "      <td>-0.017126</td>\n",
       "      <td>0</td>\n",
       "    </tr>\n",
       "    <tr>\n",
       "      <th>2969</th>\n",
       "      <td>-3.026756</td>\n",
       "      <td>-1.304983</td>\n",
       "      <td>1</td>\n",
       "    </tr>\n",
       "    <tr>\n",
       "      <th>2970</th>\n",
       "      <td>-0.832511</td>\n",
       "      <td>-1.089726</td>\n",
       "      <td>1</td>\n",
       "    </tr>\n",
       "    <tr>\n",
       "      <th>2971</th>\n",
       "      <td>1.774790</td>\n",
       "      <td>-3.695233</td>\n",
       "      <td>4</td>\n",
       "    </tr>\n",
       "    <tr>\n",
       "      <th>2972</th>\n",
       "      <td>-1.028069</td>\n",
       "      <td>-1.390709</td>\n",
       "      <td>1</td>\n",
       "    </tr>\n",
       "  </tbody>\n",
       "</table>\n",
       "<p>2973 rows × 3 columns</p>\n",
       "</div>"
      ],
      "text/plain": [
       "             x         y  cluster_pca\n",
       "0     5.910268 -0.011146            2\n",
       "1     2.787093  4.498483            2\n",
       "2    -0.757538 -1.258495            1\n",
       "3     1.020521 -0.931690            4\n",
       "4     0.753911 -0.999861            4\n",
       "...        ...       ...          ...\n",
       "2968 -0.475136 -0.017126            0\n",
       "2969 -3.026756 -1.304983            1\n",
       "2970 -0.832511 -1.089726            1\n",
       "2971  1.774790 -3.695233            4\n",
       "2972 -1.028069 -1.390709            1\n",
       "\n",
       "[2973 rows x 3 columns]"
      ]
     },
     "execution_count": 542,
     "metadata": {},
     "output_type": "execute_result"
    }
   ],
   "source": [
    "kmeans_pca = KMeans(n_clusters=5)\n",
    "kmeans_pca.fit(projection)\n",
    "\n",
    "dados_generos['cluster_pca'] = kmeans_pca.predict(projection)\n",
    "projection['cluster_pca'] = kmeans_pca.predict(projection)\n",
    "\n",
    "projection"
   ]
  },
  {
   "cell_type": "code",
   "execution_count": 543,
   "metadata": {},
   "outputs": [
    {
     "data": {
      "text/html": [
       "<div>\n",
       "<style scoped>\n",
       "    .dataframe tbody tr th:only-of-type {\n",
       "        vertical-align: middle;\n",
       "    }\n",
       "\n",
       "    .dataframe tbody tr th {\n",
       "        vertical-align: top;\n",
       "    }\n",
       "\n",
       "    .dataframe thead th {\n",
       "        text-align: right;\n",
       "    }\n",
       "</style>\n",
       "<table border=\"1\" class=\"dataframe\">\n",
       "  <thead>\n",
       "    <tr style=\"text-align: right;\">\n",
       "      <th></th>\n",
       "      <th>x</th>\n",
       "      <th>y</th>\n",
       "      <th>cluster_pca</th>\n",
       "      <th>generos</th>\n",
       "    </tr>\n",
       "  </thead>\n",
       "  <tbody>\n",
       "    <tr>\n",
       "      <th>0</th>\n",
       "      <td>5.910268</td>\n",
       "      <td>-0.011146</td>\n",
       "      <td>2</td>\n",
       "      <td>21st century classical</td>\n",
       "    </tr>\n",
       "    <tr>\n",
       "      <th>1</th>\n",
       "      <td>2.787093</td>\n",
       "      <td>4.498483</td>\n",
       "      <td>2</td>\n",
       "      <td>432hz</td>\n",
       "    </tr>\n",
       "    <tr>\n",
       "      <th>2</th>\n",
       "      <td>-0.757538</td>\n",
       "      <td>-1.258495</td>\n",
       "      <td>1</td>\n",
       "      <td>8-bit</td>\n",
       "    </tr>\n",
       "    <tr>\n",
       "      <th>3</th>\n",
       "      <td>1.020521</td>\n",
       "      <td>-0.931690</td>\n",
       "      <td>4</td>\n",
       "      <td>[]</td>\n",
       "    </tr>\n",
       "    <tr>\n",
       "      <th>4</th>\n",
       "      <td>0.753911</td>\n",
       "      <td>-0.999861</td>\n",
       "      <td>4</td>\n",
       "      <td>a cappella</td>\n",
       "    </tr>\n",
       "  </tbody>\n",
       "</table>\n",
       "</div>"
      ],
      "text/plain": [
       "          x         y  cluster_pca                 generos\n",
       "0  5.910268 -0.011146            2  21st century classical\n",
       "1  2.787093  4.498483            2                   432hz\n",
       "2 -0.757538 -1.258495            1                   8-bit\n",
       "3  1.020521 -0.931690            4                      []\n",
       "4  0.753911 -0.999861            4              a cappella"
      ]
     },
     "execution_count": 543,
     "metadata": {},
     "output_type": "execute_result"
    }
   ],
   "source": [
    "projection[\"generos\"] = dados_generos[\"genres\"]\n",
    "projection.head()"
   ]
  },
  {
   "cell_type": "markdown",
   "metadata": {},
   "source": [
    "## Visualização gráfica"
   ]
  },
  {
   "cell_type": "code",
   "execution_count": 544,
   "metadata": {},
   "outputs": [
    {
     "data": {
      "application/vnd.plotly.v1+json": {
       "config": {
        "plotlyServerURL": "https://plot.ly"
       },
       "data": [
        {
         "customdata": [
          [
           "21st century classical"
          ],
          [
           "432hz"
          ],
          [
           "8-bit"
          ],
          [
           "[]"
          ],
          [
           "a cappella"
          ],
          [
           "abstract"
          ],
          [
           "abstract beats"
          ],
          [
           "abstract hip hop"
          ],
          [
           "accordeon"
          ],
          [
           "accordion"
          ],
          [
           "acid house"
          ],
          [
           "acid rock"
          ],
          [
           "acid trance"
          ],
          [
           "acousmatic"
          ],
          [
           "acoustic blues"
          ],
          [
           "acoustic pop"
          ],
          [
           "acoustic punk"
          ],
          [
           "acoustic rock"
          ],
          [
           "action rock"
          ],
          [
           "adoracion"
          ],
          [
           "adult standards"
          ],
          [
           "adventista"
          ],
          [
           "afghan pop"
          ],
          [
           "afghan traditional"
          ],
          [
           "african percussion"
          ],
          [
           "african reggae"
          ],
          [
           "african rock"
          ],
          [
           "african-american classical"
          ],
          [
           "afro dancehall"
          ],
          [
           "afro house"
          ],
          [
           "afro psych"
          ],
          [
           "afro soul"
          ],
          [
           "afro-funk"
          ],
          [
           "afrobeat"
          ],
          [
           "afrofuturism"
          ],
          [
           "afrofuturismo brasileiro"
          ],
          [
           "afropop"
          ],
          [
           "afroswing"
          ],
          [
           "aggrotech"
          ],
          [
           "alabama indie"
          ],
          [
           "alabama metal"
          ],
          [
           "alabama rap"
          ],
          [
           "alaska indie"
          ],
          [
           "albanian pop"
          ],
          [
           "albany ny indie"
          ],
          [
           "alberta country"
          ],
          [
           "alberta hip hop"
          ],
          [
           "album rock"
          ],
          [
           "albuquerque indie"
          ],
          [
           "alt-idol"
          ],
          [
           "alte"
          ],
          [
           "alternative americana"
          ],
          [
           "alternative country"
          ],
          [
           "alternative dance"
          ],
          [
           "alternative emo"
          ],
          [
           "alternative hip hop"
          ],
          [
           "alternative metal"
          ],
          [
           "alternative pop"
          ],
          [
           "alternative pop rock"
          ],
          [
           "alternative r&b"
          ],
          [
           "alternative rock"
          ],
          [
           "alternative roots rock"
          ],
          [
           "ambeat"
          ],
          [
           "ambient"
          ],
          [
           "ambient black metal"
          ],
          [
           "ambient folk"
          ],
          [
           "ambient house"
          ],
          [
           "ambient idm"
          ],
          [
           "ambient industrial"
          ],
          [
           "ambient pop"
          ],
          [
           "ambient techno"
          ],
          [
           "ambient worship"
          ],
          [
           "american 21st century classical"
          ],
          [
           "american choir"
          ],
          [
           "american classical piano"
          ],
          [
           "american contemporary classical"
          ],
          [
           "american early music"
          ],
          [
           "american folk revival"
          ],
          [
           "american metalcore"
          ],
          [
           "american modern classical"
          ],
          [
           "american oi"
          ],
          [
           "american orchestra"
          ],
          [
           "american post-rock"
          ],
          [
           "american primitive"
          ],
          [
           "american romanticism"
          ],
          [
           "american shoegaze"
          ],
          [
           "anadolu rock"
          ],
          [
           "anarcho-punk"
          ],
          [
           "anglican liturgy"
          ],
          [
           "animal singing"
          ],
          [
           "anime"
          ],
          [
           "anime latino"
          ],
          [
           "anime rock"
          ],
          [
           "anime score"
          ],
          [
           "ann arbor indie"
          ],
          [
           "anthem emo"
          ],
          [
           "anthem worship"
          ],
          [
           "anti-folk"
          ],
          [
           "antilliaanse folklore"
          ],
          [
           "antiviral pop"
          ],
          [
           "appalachian folk"
          ],
          [
           "arab folk"
          ],
          [
           "arab groove"
          ],
          [
           "arab pop"
          ],
          [
           "arabesk"
          ],
          [
           "arabic hip hop"
          ],
          [
           "arabic jazz"
          ],
          [
           "argentine ambient"
          ],
          [
           "argentine hardcore"
          ],
          [
           "argentine heavy metal"
          ],
          [
           "argentine hip hop"
          ],
          [
           "argentine indie"
          ],
          [
           "argentine metal"
          ],
          [
           "argentine punk"
          ],
          [
           "argentine reggae"
          ],
          [
           "argentine rock"
          ],
          [
           "argentine telepop"
          ],
          [
           "arizona punk"
          ],
          [
           "arkansas country"
          ],
          [
           "arkansas hip hop"
          ],
          [
           "arkansas indie"
          ],
          [
           "armenian folk"
          ],
          [
           "art pop"
          ],
          [
           "art punk"
          ],
          [
           "art rock"
          ],
          [
           "art song"
          ],
          [
           "asbury park indie"
          ],
          [
           "asheville indie"
          ],
          [
           "asian american hip hop"
          ],
          [
           "asmr"
          ],
          [
           "athens indie"
          ],
          [
           "atl hip hop"
          ],
          [
           "atl trap"
          ],
          [
           "atlanta indie"
          ],
          [
           "atlanta metal"
          ],
          [
           "atlanta punk"
          ],
          [
           "atmosphere"
          ],
          [
           "atmospheric black metal"
          ],
          [
           "atmospheric dnb"
          ],
          [
           "atmospheric post-metal"
          ],
          [
           "atmospheric post-rock"
          ],
          [
           "atmospheric sludge"
          ],
          [
           "auckland indie"
          ],
          [
           "audiophile vocal"
          ],
          [
           "aussietronica"
          ],
          [
           "austin americana"
          ],
          [
           "austin singer-songwriter"
          ],
          [
           "austindie"
          ],
          [
           "australian alternative pop"
          ],
          [
           "australian alternative rock"
          ],
          [
           "australian ambient"
          ],
          [
           "australian children's music"
          ],
          [
           "australian choir"
          ],
          [
           "australian classical"
          ],
          [
           "australian classical piano"
          ],
          [
           "australian country"
          ],
          [
           "australian dance"
          ],
          [
           "australian electropop"
          ],
          [
           "australian garage punk"
          ],
          [
           "australian hip hop"
          ],
          [
           "australian house"
          ],
          [
           "australian indie"
          ],
          [
           "australian indie folk"
          ],
          [
           "australian indie rock"
          ],
          [
           "australian indigenous"
          ],
          [
           "australian metal"
          ],
          [
           "australian metalcore"
          ],
          [
           "australian pop"
          ],
          [
           "australian post-hardcore"
          ],
          [
           "australian post-punk"
          ],
          [
           "australian psych"
          ],
          [
           "australian r&b"
          ],
          [
           "australian reggae fusion"
          ],
          [
           "australian rock"
          ],
          [
           "australian singer-songwriter"
          ],
          [
           "australian ska"
          ],
          [
           "australian talent show"
          ],
          [
           "australian trap"
          ],
          [
           "australian underground hip hop"
          ],
          [
           "austrian choir"
          ],
          [
           "austrian classical piano"
          ],
          [
           "austrian orchestra"
          ],
          [
           "austrian pop"
          ],
          [
           "austro-german modernism"
          ],
          [
           "austropop"
          ],
          [
           "autoharp"
          ],
          [
           "autonomous black metal"
          ],
          [
           "avant-garde"
          ],
          [
           "avant-garde jazz"
          ],
          [
           "avant-garde metal"
          ],
          [
           "axe"
          ],
          [
           "azeri traditional"
          ],
          [
           "azonto"
          ],
          [
           "azontobeats"
          ],
          [
           "bachata"
          ],
          [
           "bachata dominicana"
          ],
          [
           "background music"
          ],
          [
           "background piano"
          ],
          [
           "baglama"
          ],
          [
           "bahai"
          ],
          [
           "bahamian folk"
          ],
          [
           "bahamian pop"
          ],
          [
           "baiao"
          ],
          [
           "bajki"
          ],
          [
           "bakersfield sound"
          ],
          [
           "balearic"
          ],
          [
           "balkan brass"
          ],
          [
           "balkan classical piano"
          ],
          [
           "ballet class"
          ],
          [
           "ballroom"
          ],
          [
           "baltic classical"
          ],
          [
           "baltimore hip hop"
          ],
          [
           "baltimore indie"
          ],
          [
           "banda"
          ],
          [
           "banda caliente"
          ],
          [
           "banda carnavalera"
          ],
          [
           "bandinhas"
          ],
          [
           "bandolim"
          ],
          [
           "bandoneon"
          ],
          [
           "bangla"
          ],
          [
           "banjo"
          ],
          [
           "bansuri"
          ],
          [
           "barbadian pop"
          ],
          [
           "barbershop"
          ],
          [
           "bard"
          ],
          [
           "barnmusik"
          ],
          [
           "barockinterpreten"
          ],
          [
           "baroque"
          ],
          [
           "baroque brass"
          ],
          [
           "baroque ensemble"
          ],
          [
           "baroque pop"
          ],
          [
           "baroque singing"
          ],
          [
           "baroque violin"
          ],
          [
           "baroque woodwind"
          ],
          [
           "bass house"
          ],
          [
           "bass music"
          ],
          [
           "bass trap"
          ],
          [
           "basshall"
          ],
          [
           "bassline"
          ],
          [
           "bath indie"
          ],
          [
           "baton rouge indie"
          ],
          [
           "baton rouge rap"
          ],
          [
           "battle rap"
          ],
          [
           "bay area hip hop"
          ],
          [
           "bay area indie"
          ],
          [
           "bboy"
          ],
          [
           "bc underground hip hop"
          ],
          [
           "beach music"
          ],
          [
           "beat italiano"
          ],
          [
           "beat poetry"
          ],
          [
           "beatboxing"
          ],
          [
           "beatlesque"
          ],
          [
           "bebop"
          ],
          [
           "bedroom pop"
          ],
          [
           "bedroom soul"
          ],
          [
           "belarusian indie"
          ],
          [
           "belarusian pop"
          ],
          [
           "belarusian rock"
          ],
          [
           "belgian classical piano"
          ],
          [
           "belgian contemporary classical"
          ],
          [
           "belgian dance"
          ],
          [
           "belgian edm"
          ],
          [
           "belgian hardcore"
          ],
          [
           "belgian indie"
          ],
          [
           "belgian indie rock"
          ],
          [
           "belgian jazz"
          ],
          [
           "belgian new wave"
          ],
          [
           "belgian pop"
          ],
          [
           "belgian rock"
          ],
          [
           "belgian singer-songwriter"
          ],
          [
           "belgian techno"
          ],
          [
           "belly dance"
          ],
          [
           "bengali folk"
          ],
          [
           "beninese pop"
          ],
          [
           "bergen indie"
          ],
          [
           "berlin minimal techno"
          ],
          [
           "berlin school"
          ],
          [
           "bhajan"
          ],
          [
           "bhangra"
          ],
          [
           "bible"
          ],
          [
           "big band"
          ],
          [
           "big beat"
          ],
          [
           "big room"
          ],
          [
           "binaural"
          ],
          [
           "birdsong"
          ],
          [
           "birmingham grime"
          ],
          [
           "birmingham hip hop"
          ],
          [
           "birmingham metal"
          ],
          [
           "bitpop"
          ],
          [
           "black 'n' roll"
          ],
          [
           "black comedy"
          ],
          [
           "black metal"
          ],
          [
           "black punk"
          ],
          [
           "black thrash"
          ],
          [
           "blackened crust"
          ],
          [
           "blackgaze"
          ],
          [
           "bleep techno"
          ],
          [
           "bluegrass"
          ],
          [
           "bluegrass fiddle"
          ],
          [
           "bluegrass gospel"
          ],
          [
           "blues"
          ],
          [
           "blues latinoamericano"
          ],
          [
           "blues mexicano"
          ],
          [
           "blues rock"
          ],
          [
           "bmore"
          ],
          [
           "bolero"
          ],
          [
           "bolero cubano"
          ],
          [
           "boogaloo"
          ],
          [
           "boogie"
          ],
          [
           "boogie-woogie"
          ],
          [
           "boom bap"
          ],
          [
           "boom bap brasileiro"
          ],
          [
           "bossa nova"
          ],
          [
           "bossa nova jazz"
          ],
          [
           "boston folk"
          ],
          [
           "boston hardcore"
          ],
          [
           "boston hip hop"
          ],
          [
           "boston indie"
          ],
          [
           "boston metal"
          ],
          [
           "boston punk"
          ],
          [
           "boston rock"
          ],
          [
           "bounce"
          ],
          [
           "bouncy house"
          ],
          [
           "bouzouki"
          ],
          [
           "bow pop"
          ],
          [
           "boy band"
          ],
          [
           "boy pop"
          ],
          [
           "boy soprano"
          ],
          [
           "brain waves"
          ],
          [
           "braindance"
          ],
          [
           "brass band"
          ],
          [
           "brass ensemble"
          ],
          [
           "brass quintet"
          ],
          [
           "brazilian boogie"
          ],
          [
           "brazilian classical"
          ],
          [
           "brazilian classical piano"
          ],
          [
           "brazilian contemporary classical"
          ],
          [
           "brazilian edm"
          ],
          [
           "brazilian groove metal"
          ],
          [
           "brazilian hip hop"
          ],
          [
           "brazilian indie"
          ],
          [
           "brazilian jazz"
          ],
          [
           "brazilian metal"
          ],
          [
           "brazilian modern jazz"
          ],
          [
           "brazilian percussion"
          ],
          [
           "brazilian punk"
          ],
          [
           "brazilian reggae"
          ],
          [
           "brazilian rock"
          ],
          [
           "brazilian ska"
          ],
          [
           "brazilian soul"
          ],
          [
           "brazilian thrash metal"
          ],
          [
           "breakbeat"
          ],
          [
           "breakcore"
          ],
          [
           "brega"
          ],
          [
           "breton folk"
          ],
          [
           "brighton indie"
          ],
          [
           "brill building pop"
          ],
          [
           "brisbane indie"
          ],
          [
           "bristol electronic"
          ],
          [
           "bristol indie"
          ],
          [
           "brit funk"
          ],
          [
           "british alternative rock"
          ],
          [
           "british black metal"
          ],
          [
           "british blues"
          ],
          [
           "british children's music"
          ],
          [
           "british choir"
          ],
          [
           "british classical piano"
          ],
          [
           "british comedy"
          ],
          [
           "british contemporary classical"
          ],
          [
           "british dance band"
          ],
          [
           "british death metal"
          ],
          [
           "british experimental"
          ],
          [
           "british folk"
          ],
          [
           "british grindcore"
          ],
          [
           "british indie rock"
          ],
          [
           "british industrial"
          ],
          [
           "british invasion"
          ],
          [
           "british jazz"
          ],
          [
           "british modern classical"
          ],
          [
           "british orchestra"
          ],
          [
           "british post-rock"
          ],
          [
           "british power metal"
          ],
          [
           "british singer-songwriter"
          ],
          [
           "british soul"
          ],
          [
           "british soundtrack"
          ],
          [
           "britpop"
          ],
          [
           "broadway"
          ],
          [
           "broken beat"
          ],
          [
           "bronx hip hop"
          ],
          [
           "brooklyn drill"
          ],
          [
           "brooklyn indie"
          ],
          [
           "brostep"
          ],
          [
           "brutal death metal"
          ],
          [
           "brutal deathcore"
          ],
          [
           "bubble trance"
          ],
          [
           "bubblegrunge"
          ],
          [
           "bubblegum dance"
          ],
          [
           "bubblegum pop"
          ],
          [
           "buffalo hip hop"
          ],
          [
           "buffalo ny indie"
          ],
          [
           "buffalo ny metal"
          ],
          [
           "bulgarian experimental"
          ],
          [
           "burmese traditional"
          ],
          [
           "bush ballad"
          ],
          [
           "c-pop"
          ],
          [
           "c86"
          ],
          [
           "cabaret"
          ],
          [
           "cajun"
          ],
          [
           "calgary indie"
          ],
          [
           "cali rap"
          ],
          [
           "calming instrumental"
          ],
          [
           "calypso"
          ],
          [
           "cambodian rock"
          ],
          [
           "cambridge choir"
          ],
          [
           "cambridgeshire indie"
          ],
          [
           "cameroonian pop"
          ],
          [
           "canadian americana"
          ],
          [
           "canadian blues"
          ],
          [
           "canadian ccm"
          ],
          [
           "canadian celtic"
          ],
          [
           "canadian children's music"
          ],
          [
           "canadian choir"
          ],
          [
           "canadian classical"
          ],
          [
           "canadian classical piano"
          ],
          [
           "canadian comedy"
          ],
          [
           "canadian contemporary country"
          ],
          [
           "canadian contemporary r&b"
          ],
          [
           "canadian country"
          ],
          [
           "canadian electronic"
          ],
          [
           "canadian electropop"
          ],
          [
           "canadian experimental"
          ],
          [
           "canadian folk"
          ],
          [
           "canadian hardcore"
          ],
          [
           "canadian hip hop"
          ],
          [
           "canadian house"
          ],
          [
           "canadian indie"
          ],
          [
           "canadian indie folk"
          ],
          [
           "canadian indigenous"
          ],
          [
           "canadian indigenous hip hop"
          ],
          [
           "canadian latin"
          ],
          [
           "canadian metal"
          ],
          [
           "canadian metalcore"
          ],
          [
           "canadian modern jazz"
          ],
          [
           "canadian pop"
          ],
          [
           "canadian pop punk"
          ],
          [
           "canadian post-hardcore"
          ],
          [
           "canadian post-rock"
          ],
          [
           "canadian psychedelic"
          ],
          [
           "canadian punk"
          ],
          [
           "canadian rock"
          ],
          [
           "canadian rockabilly"
          ],
          [
           "canadian singer-songwriter"
          ],
          [
           "canadian soundtrack"
          ],
          [
           "cancion melodica"
          ],
          [
           "candy pop"
          ],
          [
           "cantautor"
          ],
          [
           "cante flamenco"
          ],
          [
           "canterbury scene"
          ],
          [
           "canto popular uruguayo"
          ],
          [
           "cantopop"
          ],
          [
           "canzone d'autore"
          ],
          [
           "canzone genovese"
          ],
          [
           "canzone napoletana"
          ],
          [
           "cape town indie"
          ],
          [
           "cape verdean folk"
          ],
          [
           "capoeira"
          ],
          [
           "caracas indie"
          ],
          [
           "carnatic"
          ],
          [
           "carnatic instrumental"
          ],
          [
           "carnatic vocal"
          ],
          [
           "cartoon"
          ],
          [
           "cathedral choir"
          ],
          [
           "caucasian classical"
          ],
          [
           "caucasian classical piano"
          ],
          [
           "ccm"
          ],
          [
           "cedm"
          ],
          [
           "cello"
          ],
          [
           "celtic"
          ],
          [
           "celtic harp"
          ],
          [
           "celtic metal"
          ],
          [
           "celtic punk"
          ],
          [
           "celtic rock"
          ],
          [
           "cha-cha-cha"
          ],
          [
           "chakra"
          ],
          [
           "chamame"
          ],
          [
           "chamber choir"
          ],
          [
           "chamber ensemble"
          ],
          [
           "chamber folk"
          ],
          [
           "chamber orchestra"
          ],
          [
           "chamber pop"
          ],
          [
           "chamber psych"
          ],
          [
           "champeta"
          ],
          [
           "channel islands indie"
          ],
          [
           "channel pop"
          ],
          [
           "chanson"
          ],
          [
           "chanson paillarde"
          ],
          [
           "chaotic hardcore"
          ],
          [
           "charanga"
          ],
          [
           "charango"
          ],
          [
           "charlotte nc indie"
          ],
          [
           "charlottesville indie"
          ],
          [
           "chattanooga indie"
          ],
          [
           "chicago blues"
          ],
          [
           "chicago drill"
          ],
          [
           "chicago hardcore"
          ],
          [
           "chicago house"
          ],
          [
           "chicago indie"
          ],
          [
           "chicago pop punk"
          ],
          [
           "chicago punk"
          ],
          [
           "chicago rap"
          ],
          [
           "chicago soul"
          ],
          [
           "chicano punk"
          ],
          [
           "chicano rap"
          ],
          [
           "chicha"
          ],
          [
           "chihuahua indie"
          ],
          [
           "children's choir"
          ],
          [
           "children's folk"
          ],
          [
           "children's music"
          ],
          [
           "children's story"
          ],
          [
           "chilean hardcore"
          ],
          [
           "chilean indie"
          ],
          [
           "chilean rock"
          ],
          [
           "chilena"
          ],
          [
           "chill beats"
          ],
          [
           "chill guitar"
          ],
          [
           "chill lounge"
          ],
          [
           "chill out"
          ],
          [
           "chill pop"
          ],
          [
           "chill r&b"
          ],
          [
           "chillhop"
          ],
          [
           "chillstep"
          ],
          [
           "chillwave"
          ],
          [
           "chinese audiophile"
          ],
          [
           "chinese classical"
          ],
          [
           "chinese classical performance"
          ],
          [
           "chinese classical piano"
          ],
          [
           "chinese electropop"
          ],
          [
           "chinese hip hop"
          ],
          [
           "chinese idol pop"
          ],
          [
           "chinese indie"
          ],
          [
           "chinese indie rock"
          ],
          [
           "chinese instrumental"
          ],
          [
           "chinese jazz"
          ],
          [
           "chinese r&b"
          ],
          [
           "chinese soundtrack"
          ],
          [
           "chinese traditional"
          ],
          [
           "chiptune"
          ],
          [
           "chopped and screwed"
          ],
          [
           "choral"
          ],
          [
           "choro"
          ],
          [
           "christchurch indie"
          ],
          [
           "christelijk"
          ],
          [
           "christian a cappella"
          ],
          [
           "christian alternative rock"
          ],
          [
           "christian dance"
          ],
          [
           "christian hard rock"
          ],
          [
           "christian hardcore"
          ],
          [
           "christian hip hop"
          ],
          [
           "christian indie"
          ],
          [
           "christian metal"
          ],
          [
           "christian metalcore"
          ],
          [
           "christian music"
          ],
          [
           "christian pop"
          ],
          [
           "christian power metal"
          ],
          [
           "christian punk"
          ],
          [
           "christian relaxative"
          ],
          [
           "christian rock"
          ],
          [
           "christian trap"
          ],
          [
           "christian uplift"
          ],
          [
           "christmas instrumental"
          ],
          [
           "christmas product"
          ],
          [
           "chunchaca"
          ],
          [
           "chutney"
          ],
          [
           "cincinnati rap"
          ],
          [
           "cinematic post-rock"
          ],
          [
           "circuit"
          ],
          [
           "circus"
          ],
          [
           "classic afrobeat"
          ],
          [
           "classic arab pop"
          ],
          [
           "classic australian country"
          ],
          [
           "classic belgian pop"
          ],
          [
           "classic bhangra"
          ],
          [
           "classic bollywood"
          ],
          [
           "classic canadian rock"
          ],
          [
           "classic cantopop"
          ],
          [
           "classic colombian pop"
          ],
          [
           "classic country pop"
          ],
          [
           "classic czech pop"
          ],
          [
           "classic danish pop"
          ],
          [
           "classic dubstep"
          ],
          [
           "classic eurovision"
          ],
          [
           "classic finnish pop"
          ],
          [
           "classic french pop"
          ],
          [
           "classic garage rock"
          ],
          [
           "classic girl group"
          ],
          [
           "classic greek pop"
          ],
          [
           "classic hardstyle"
          ],
          [
           "classic icelandic pop"
          ],
          [
           "classic indo pop"
          ],
          [
           "classic iskelma"
          ],
          [
           "classic israeli pop"
          ],
          [
           "classic italian folk pop"
          ],
          [
           "classic italian pop"
          ],
          [
           "classic j-rock"
          ],
          [
           "classic japanese jazz"
          ],
          [
           "classic korean pop"
          ],
          [
           "classic latvian pop"
          ],
          [
           "classic mandopop"
          ],
          [
           "classic norwegian pop"
          ],
          [
           "classic opm"
          ],
          [
           "classic pakistani pop"
          ],
          [
           "classic persian pop"
          ],
          [
           "classic peruvian pop"
          ],
          [
           "classic polish pop"
          ],
          [
           "classic praise"
          ],
          [
           "classic psychedelic rock"
          ],
          [
           "classic punjabi pop"
          ],
          [
           "classic rock"
          ],
          [
           "classic russian pop"
          ],
          [
           "classic russian rock"
          ],
          [
           "classic schlager"
          ],
          [
           "classic soul"
          ],
          [
           "classic soundtrack"
          ],
          [
           "classic swedish pop"
          ],
          [
           "classic thai pop"
          ],
          [
           "classic tunisian pop"
          ],
          [
           "classic turkish pop"
          ],
          [
           "classic uk pop"
          ],
          [
           "classic venezuelan pop"
          ],
          [
           "classical"
          ],
          [
           "classical accordion"
          ],
          [
           "classical baritone"
          ],
          [
           "classical bass"
          ],
          [
           "classical cello"
          ],
          [
           "classical clarinet"
          ],
          [
           "classical contralto"
          ],
          [
           "classical countertenor"
          ],
          [
           "classical era"
          ],
          [
           "classical flute"
          ],
          [
           "classical guitar"
          ],
          [
           "classical harp"
          ],
          [
           "classical horn"
          ],
          [
           "classical mandolin"
          ],
          [
           "classical mezzo-soprano"
          ],
          [
           "classical oboe"
          ],
          [
           "classical organ"
          ],
          [
           "classical performance"
          ],
          [
           "classical piano"
          ],
          [
           "classical piano duo"
          ],
          [
           "classical piano trio"
          ],
          [
           "classical saxophone"
          ],
          [
           "classical soprano"
          ],
          [
           "classical tenor"
          ],
          [
           "classical trumpet"
          ],
          [
           "classify"
          ],
          [
           "clawhammer banjo"
          ],
          [
           "clean comedy"
          ],
          [
           "cleveland metal"
          ],
          [
           "coco"
          ],
          [
           "collage pop"
          ],
          [
           "college a cappella"
          ],
          [
           "colombian hip hop"
          ],
          [
           "colombian pop"
          ],
          [
           "colombian rock"
          ],
          [
           "columbus ohio indie"
          ],
          [
           "comedy"
          ],
          [
           "comedy rap"
          ],
          [
           "comedy rock"
          ],
          [
           "comic"
          ],
          [
           "comic metal"
          ],
          [
           "commons"
          ],
          [
           "complextro"
          ],
          [
           "compositional ambient"
          ],
          [
           "concepcion indie"
          ],
          [
           "concert band"
          ],
          [
           "connecticut hardcore"
          ],
          [
           "connecticut indie"
          ],
          [
           "conscious hip hop"
          ],
          [
           "contemporary choir"
          ],
          [
           "contemporary classical"
          ],
          [
           "contemporary classical piano"
          ],
          [
           "contemporary country"
          ],
          [
           "contemporary folk"
          ],
          [
           "contemporary gospel"
          ],
          [
           "contemporary jazz"
          ],
          [
           "contemporary post-bop"
          ],
          [
           "contemporary vocal jazz"
          ],
          [
           "contrabass"
          ],
          [
           "cool jazz"
          ],
          [
           "copla"
          ],
          [
           "cornish folk"
          ],
          [
           "cornwall indie"
          ],
          [
           "corrido"
          ],
          [
           "corridos cristianos"
          ],
          [
           "corridos tumbados"
          ],
          [
           "corrosion"
          ],
          [
           "cosmic american"
          ],
          [
           "cosmic post-rock"
          ],
          [
           "country"
          ],
          [
           "country blues"
          ],
          [
           "country boogie"
          ],
          [
           "country dawn"
          ],
          [
           "country gospel"
          ],
          [
           "country pop"
          ],
          [
           "country rap"
          ],
          [
           "country road"
          ],
          [
           "country rock"
          ],
          [
           "coverchill"
          ],
          [
           "cowboy western"
          ],
          [
           "cowpunk"
          ],
          [
           "crack rock steady"
          ],
          [
           "croatian folk"
          ],
          [
           "croatian pop"
          ],
          [
           "croatian rock"
          ],
          [
           "crossover thrash"
          ],
          [
           "crunk"
          ],
          [
           "crust punk"
          ],
          [
           "cuarteto"
          ],
          [
           "cuatro venezolano"
          ],
          [
           "cuban alternative"
          ],
          [
           "cuban rumba"
          ],
          [
           "cubaton"
          ],
          [
           "cumbia"
          ],
          [
           "cumbia andina mexicana"
          ],
          [
           "cumbia chilena"
          ],
          [
           "cumbia colombiana regia"
          ],
          [
           "cumbia ecuatoriana"
          ],
          [
           "cumbia funk"
          ],
          [
           "cumbia lagunera"
          ],
          [
           "cumbia paraguaya"
          ],
          [
           "cumbia peruana"
          ],
          [
           "cumbia pop"
          ],
          [
           "cumbia ranchera"
          ],
          [
           "cumbia salvadorena"
          ],
          [
           "cumbia santafesina"
          ],
          [
           "cumbia sonidera"
          ],
          [
           "cumbia villera"
          ],
          [
           "cyberpunk"
          ],
          [
           "cymraeg"
          ],
          [
           "cypriot pop"
          ],
          [
           "czech classical"
          ],
          [
           "czech classical piano"
          ],
          [
           "czech contemporary classical"
          ],
          [
           "d-beat"
          ],
          [
           "dabke"
          ],
          [
           "dakke dak"
          ],
          [
           "dallas indie"
          ],
          [
           "dance pop"
          ],
          [
           "dance rock"
          ],
          [
           "dance-punk"
          ],
          [
           "dancehall"
          ],
          [
           "dangdut"
          ],
          [
           "danish alternative rock"
          ],
          [
           "danish classical"
          ],
          [
           "danish electronic"
          ],
          [
           "danish electropop"
          ],
          [
           "danish hip hop"
          ],
          [
           "danish jazz"
          ],
          [
           "danish metal"
          ],
          [
           "danish pop"
          ],
          [
           "danish pop rock"
          ],
          [
           "danish post-punk"
          ],
          [
           "danish punk"
          ],
          [
           "danish rock"
          ],
          [
           "danish singer-songwriter"
          ],
          [
           "dansband"
          ],
          [
           "danseband"
          ],
          [
           "dansktop"
          ],
          [
           "danspunk"
          ],
          [
           "dark cabaret"
          ],
          [
           "dark clubbing"
          ],
          [
           "dark disco"
          ],
          [
           "dark hardcore"
          ],
          [
           "dark jazz"
          ],
          [
           "dark minimal techno"
          ],
          [
           "dark post-punk"
          ],
          [
           "dark techno"
          ],
          [
           "dark trap"
          ],
          [
           "dark wave"
          ],
          [
           "darksynth"
          ],
          [
           "dayton indie"
          ],
          [
           "dc hardcore"
          ],
          [
           "dc indie"
          ],
          [
           "death 'n' roll"
          ],
          [
           "death metal"
          ],
          [
           "deathcore"
          ],
          [
           "deathgrass"
          ],
          [
           "deathgrind"
          ],
          [
           "deathrash"
          ],
          [
           "deathrock"
          ],
          [
           "deathstep"
          ],
          [
           "deep acoustic pop"
          ],
          [
           "deep adult standards"
          ],
          [
           "deep big room"
          ],
          [
           "deep ccm"
          ],
          [
           "deep christian rock"
          ],
          [
           "deep classic garage rock"
          ],
          [
           "deep comedy"
          ],
          [
           "deep contemporary country"
          ],
          [
           "deep dance pop"
          ],
          [
           "deep delta blues"
          ],
          [
           "deep disco"
          ],
          [
           "deep disco house"
          ],
          [
           "deep dnb"
          ],
          [
           "deep east coast hip hop"
          ],
          [
           "deep euro house"
          ],
          [
           "deep flow"
          ],
          [
           "deep free jazz"
          ],
          [
           "deep freestyle"
          ],
          [
           "deep full on"
          ],
          [
           "deep funk"
          ],
          [
           "deep g funk"
          ],
          [
           "deep gothic post-punk"
          ],
          [
           "deep groove house"
          ],
          [
           "deep house"
          ],
          [
           "deep idm"
          ],
          [
           "deep indian pop"
          ],
          [
           "deep indie singer-songwriter"
          ],
          [
           "deep latin alternative"
          ],
          [
           "deep latin christian"
          ],
          [
           "deep melodic metalcore"
          ],
          [
           "deep minimal techno"
          ],
          [
           "deep motown"
          ],
          [
           "deep new americana"
          ],
          [
           "deep new wave"
          ],
          [
           "deep norteno"
          ],
          [
           "deep northern soul"
          ],
          [
           "deep pop edm"
          ],
          [
           "deep progressive house"
          ],
          [
           "deep psychobilly"
          ],
          [
           "deep punk rock"
          ],
          [
           "deep r&b"
          ],
          [
           "deep ragga"
          ],
          [
           "deep regional mexican"
          ],
          [
           "deep smooth jazz"
          ],
          [
           "deep soft rock"
          ],
          [
           "deep soul house"
          ],
          [
           "deep soundtrack"
          ],
          [
           "deep southern soul"
          ],
          [
           "deep southern trap"
          ],
          [
           "deep space rock"
          ],
          [
           "deep talent show"
          ],
          [
           "deep tech house"
          ],
          [
           "deep techno"
          ],
          [
           "deep tropical house"
          ],
          [
           "deep underground hip hop"
          ],
          [
           "deep uplifting trance"
          ],
          [
           "delta blues"
          ],
          [
           "dembow"
          ],
          [
           "denpa-kei"
          ],
          [
           "denton tx indie"
          ],
          [
           "denver indie"
          ],
          [
           "depressive black metal"
          ],
          [
           "derby indie"
          ],
          [
           "desert blues"
          ],
          [
           "desi hip hop"
          ],
          [
           "desi pop"
          ],
          [
           "destroy techno"
          ],
          [
           "detroit hip hop"
          ],
          [
           "detroit house"
          ],
          [
           "detroit techno"
          ],
          [
           "detroit trap"
          ],
          [
           "detske pisnicky"
          ],
          [
           "detskie pesni"
          ],
          [
           "devon indie"
          ],
          [
           "dfw rap"
          ],
          [
           "dhrupad"
          ],
          [
           "digital hardcore"
          ],
          [
           "dinner jazz"
          ],
          [
           "dirty south rap"
          ],
          [
           "dirty texas rap"
          ],
          [
           "disco"
          ],
          [
           "disco house"
          ],
          [
           "disney"
          ],
          [
           "diva house"
          ],
          [
           "dixieland"
          ],
          [
           "diy emo"
          ],
          [
           "djent"
          ],
          [
           "dmv rap"
          ],
          [
           "dominican pop"
          ],
          [
           "dong-yo"
          ],
          [
           "doo-wop"
          ],
          [
           "doom metal"
          ],
          [
           "double drumming"
          ],
          [
           "downtempo"
          ],
          [
           "drama"
          ],
          [
           "dream pop"
          ],
          [
           "dream trance"
          ],
          [
           "dreamgaze"
          ],
          [
           "dreamo"
          ],
          [
           "drift"
          ],
          [
           "drill"
          ],
          [
           "drill and bass"
          ],
          [
           "drone"
          ],
          [
           "drone folk"
          ],
          [
           "drone metal"
          ],
          [
           "drum and bass"
          ],
          [
           "dub"
          ],
          [
           "dub metal"
          ],
          [
           "dub poetry"
          ],
          [
           "dub techno"
          ],
          [
           "dubstep"
          ],
          [
           "dubsteppe"
          ],
          [
           "duduk"
          ],
          [
           "duluth indie"
          ],
          [
           "dunedin indie"
          ],
          [
           "dunedin sound"
          ],
          [
           "dungeon synth"
          ],
          [
           "duranguense"
          ],
          [
           "dusseldorf electronic"
          ],
          [
           "dutch blues"
          ],
          [
           "dutch cabaret"
          ],
          [
           "dutch classical piano"
          ],
          [
           "dutch death metal"
          ],
          [
           "dutch dnb"
          ],
          [
           "dutch edm"
          ],
          [
           "dutch folk"
          ],
          [
           "dutch hip hop"
          ],
          [
           "dutch house"
          ],
          [
           "dutch indie"
          ],
          [
           "dutch jazz"
          ],
          [
           "dutch metal"
          ],
          [
           "dutch pop"
          ],
          [
           "dutch prog"
          ],
          [
           "dutch rap pop"
          ],
          [
           "dutch rock"
          ],
          [
           "dutch trance"
          ],
          [
           "e6fi"
          ],
          [
           "early american folk"
          ],
          [
           "early avant garde"
          ],
          [
           "early modern classical"
          ],
          [
           "early music"
          ],
          [
           "early music choir"
          ],
          [
           "early music ensemble"
          ],
          [
           "early reggae"
          ],
          [
           "early romantic era"
          ],
          [
           "early synthpop"
          ],
          [
           "early us punk"
          ],
          [
           "east coast hip hop"
          ],
          [
           "east coast reggae"
          ],
          [
           "eastern bloc groove"
          ],
          [
           "easy listening"
          ],
          [
           "easycore"
          ],
          [
           "eau claire indie"
          ],
          [
           "ebm"
          ],
          [
           "ecm-style jazz"
          ],
          [
           "ectofolk"
          ],
          [
           "ecuadorian pop"
          ],
          [
           "edm"
          ],
          [
           "edmonton indie"
          ],
          [
           "egyptian pop"
          ],
          [
           "egyptian traditional"
          ],
          [
           "el paso indie"
          ],
          [
           "electra"
          ],
          [
           "electric bass"
          ],
          [
           "electric blues"
          ],
          [
           "electro"
          ],
          [
           "electro house"
          ],
          [
           "electro jazz"
          ],
          [
           "electro latino"
          ],
          [
           "electro swing"
          ],
          [
           "electro-industrial"
          ],
          [
           "electro-pop francais"
          ],
          [
           "electroclash"
          ],
          [
           "electrofox"
          ],
          [
           "electronic djent"
          ],
          [
           "electronic rock"
          ],
          [
           "electronic trap"
          ],
          [
           "electronica"
          ],
          [
           "electronica argentina"
          ],
          [
           "electropop"
          ],
          [
           "electropowerpop"
          ],
          [
           "emo"
          ],
          [
           "emo mexicano"
          ],
          [
           "emo punk"
          ],
          [
           "emo rap"
          ],
          [
           "emocore"
          ],
          [
           "english baroque"
          ],
          [
           "english indie rock"
          ],
          [
           "english renaissance"
          ],
          [
           "enka"
          ],
          [
           "entehno"
          ],
          [
           "environmental"
          ],
          [
           "epic doom"
          ],
          [
           "epicore"
          ],
          [
           "erhu"
          ],
          [
           "escape room"
          ],
          [
           "esperanto"
          ],
          [
           "essex indie"
          ],
          [
           "estonian hip hop"
          ],
          [
           "estonian pop"
          ],
          [
           "ethereal wave"
          ],
          [
           "etherpop"
          ],
          [
           "ethio-jazz"
          ],
          [
           "ethiopian pop"
          ],
          [
           "ethnomusicology"
          ],
          [
           "ethnotronica"
          ],
          [
           "eugene indie"
          ],
          [
           "euphoric hardstyle"
          ],
          [
           "eurobeat"
          ],
          [
           "eurodance"
          ],
          [
           "europop"
          ],
          [
           "euroska"
          ],
          [
           "eurovision"
          ],
          [
           "exotica"
          ],
          [
           "experimental"
          ],
          [
           "experimental ambient"
          ],
          [
           "experimental big band"
          ],
          [
           "experimental dub"
          ],
          [
           "experimental folk"
          ],
          [
           "experimental guitar"
          ],
          [
           "experimental hip hop"
          ],
          [
           "experimental house"
          ],
          [
           "experimental indie"
          ],
          [
           "experimental jazz"
          ],
          [
           "experimental pop"
          ],
          [
           "experimental rock"
          ],
          [
           "experimental vocal"
          ],
          [
           "fado"
          ],
          [
           "family gospel"
          ],
          [
           "faroese pop"
          ],
          [
           "fast melodic punk"
          ],
          [
           "fidget house"
          ],
          [
           "filmi"
          ],
          [
           "filter house"
          ],
          [
           "filthstep"
          ],
          [
           "final fantasy"
          ],
          [
           "fingerstyle"
          ],
          [
           "finnish alternative rock"
          ],
          [
           "finnish classical"
          ],
          [
           "finnish contemporary classical"
          ],
          [
           "finnish death metal"
          ],
          [
           "finnish edm"
          ],
          [
           "finnish hard rock"
          ],
          [
           "finnish heavy metal"
          ],
          [
           "finnish metal"
          ],
          [
           "finnish power metal"
          ],
          [
           "finnish soul"
          ],
          [
           "flamenco"
          ],
          [
           "flamenco guitar"
          ],
          [
           "flick hop"
          ],
          [
           "flint hip hop"
          ],
          [
           "float house"
          ],
          [
           "florida death metal"
          ],
          [
           "florida rap"
          ],
          [
           "fluxwork"
          ],
          [
           "fo jing"
          ],
          [
           "focus"
          ],
          [
           "focus beats"
          ],
          [
           "focus trance"
          ],
          [
           "folclor afrocolombiano"
          ],
          [
           "folclor colombiano"
          ],
          [
           "folclore extremeno"
          ],
          [
           "folclore jujeno"
          ],
          [
           "folclore navarra"
          ],
          [
           "folclore salteno"
          ],
          [
           "folclore tucumano"
          ],
          [
           "folk"
          ],
          [
           "folk metal"
          ],
          [
           "folk punk"
          ],
          [
           "folk rock"
          ],
          [
           "folk rock italiano"
          ],
          [
           "folk-pop"
          ],
          [
           "folklore argentino"
          ],
          [
           "folklore boliviano"
          ],
          [
           "folklore chileno"
          ],
          [
           "folklore ecuatoriano"
          ],
          [
           "folklore peruano"
          ],
          [
           "folklore venezolano"
          ],
          [
           "folklore veracruzano"
          ],
          [
           "folkmusik"
          ],
          [
           "folktronica"
          ],
          [
           "footwork"
          ],
          [
           "forro"
          ],
          [
           "forro tradicional"
          ],
          [
           "fort worth indie"
          ],
          [
           "fourth world"
          ],
          [
           "francoton"
          ],
          [
           "freak folk"
          ],
          [
           "freakbeat"
          ],
          [
           "free folk"
          ],
          [
           "free improvisation"
          ],
          [
           "free jazz"
          ],
          [
           "freestyle"
          ],
          [
           "french baroque"
          ],
          [
           "french classical piano"
          ],
          [
           "french contemporary classical"
          ],
          [
           "french death metal"
          ],
          [
           "french dnb"
          ],
          [
           "french hip hop"
          ],
          [
           "french indie folk"
          ],
          [
           "french indie pop"
          ],
          [
           "french indietronica"
          ],
          [
           "french jazz"
          ],
          [
           "french metal"
          ],
          [
           "french movie tunes"
          ],
          [
           "french opera"
          ],
          [
           "french orchestra"
          ],
          [
           "french pop"
          ],
          [
           "french post-punk"
          ],
          [
           "french psychedelic"
          ],
          [
           "french reggae"
          ],
          [
           "french rock"
          ],
          [
           "french romanticism"
          ],
          [
           "french shoegaze"
          ],
          [
           "french soundtrack"
          ],
          [
           "french synthpop"
          ],
          [
           "french techno"
          ],
          [
           "frenchcore"
          ],
          [
           "full on"
          ],
          [
           "funana"
          ],
          [
           "funeral doom"
          ],
          [
           "funk"
          ],
          [
           "funk 150 bpm"
          ],
          [
           "funk carioca"
          ],
          [
           "funk das antigas"
          ],
          [
           "funk metal"
          ],
          [
           "funk mexicano"
          ],
          [
           "funk ostentacao"
          ],
          [
           "funk paulista"
          ],
          [
           "funk pop"
          ],
          [
           "funk rock"
          ],
          [
           "funky breaks"
          ],
          [
           "funky tech house"
          ],
          [
           "future bass"
          ],
          [
           "future funk"
          ],
          [
           "future garage"
          ],
          [
           "future house"
          ],
          [
           "future rock"
          ],
          [
           "futurepop"
          ],
          [
           "g funk"
          ],
          [
           "gabba"
          ],
          [
           "gabonese pop"
          ],
          [
           "gaian doom"
          ],
          [
           "gainesville indie"
          ],
          [
           "gaita zuliana"
          ],
          [
           "galante era"
          ],
          [
           "gamelan"
          ],
          [
           "gaming dubstep"
          ],
          [
           "gaming edm"
          ],
          [
           "gangster rap"
          ],
          [
           "garage house"
          ],
          [
           "garage pop"
          ],
          [
           "garage psych"
          ],
          [
           "garage punk"
          ],
          [
           "garage punk blues"
          ],
          [
           "garage rock"
          ],
          [
           "garage rock revival"
          ],
          [
           "gauze pop"
          ],
          [
           "gbvfi"
          ],
          [
           "geek folk"
          ],
          [
           "geek rock"
          ],
          [
           "georgian folk"
          ],
          [
           "german alternative rock"
          ],
          [
           "german baroque"
          ],
          [
           "german choir"
          ],
          [
           "german classical piano"
          ],
          [
           "german country"
          ],
          [
           "german dance"
          ],
          [
           "german hard rock"
          ],
          [
           "german heavy metal"
          ],
          [
           "german house"
          ],
          [
           "german indie"
          ],
          [
           "german jazz"
          ],
          [
           "german literature"
          ],
          [
           "german metal"
          ],
          [
           "german oi"
          ],
          [
           "german opera"
          ],
          [
           "german orchestra"
          ],
          [
           "german pop"
          ],
          [
           "german pop rock"
          ],
          [
           "german post-hardcore"
          ],
          [
           "german power metal"
          ],
          [
           "german punk"
          ],
          [
           "german renaissance"
          ],
          [
           "german rock"
          ],
          [
           "german romanticism"
          ],
          [
           "german show tunes"
          ],
          [
           "german soundtrack"
          ],
          [
           "german techno"
          ],
          [
           "german thrash metal"
          ],
          [
           "german trance"
          ],
          [
           "german underground rap"
          ],
          [
           "ghanaian hip hop"
          ],
          [
           "ghanaian traditional"
          ],
          [
           "ghazal"
          ],
          [
           "ghent indie"
          ],
          [
           "girl group"
          ],
          [
           "glam metal"
          ],
          [
           "glam punk"
          ],
          [
           "glam rock"
          ],
          [
           "glee club"
          ],
          [
           "glitch"
          ],
          [
           "glitch hop"
          ],
          [
           "glitch pop"
          ],
          [
           "glitchcore"
          ],
          [
           "go-go"
          ],
          [
           "goregrind"
          ],
          [
           "gospel"
          ],
          [
           "gospel antigas"
          ],
          [
           "gospel blues"
          ],
          [
           "gospel italiano"
          ],
          [
           "gospel r&b"
          ],
          [
           "gospel rap"
          ],
          [
           "gospel singers"
          ],
          [
           "gospel soul"
          ],
          [
           "gothabilly"
          ],
          [
           "gothenburg indie"
          ],
          [
           "gothenburg metal"
          ],
          [
           "gothic alternative"
          ],
          [
           "gothic americana"
          ],
          [
           "gothic black metal"
          ],
          [
           "gothic metal"
          ],
          [
           "gothic post-punk"
          ],
          [
           "gothic rock"
          ],
          [
           "gothic symphonic metal"
          ],
          [
           "gqom"
          ],
          [
           "grand rapids indie"
          ],
          [
           "grave wave"
          ],
          [
           "greek clarinet"
          ],
          [
           "greek contemporary classical"
          ],
          [
           "greek folk"
          ],
          [
           "greek guitar"
          ],
          [
           "greek house"
          ],
          [
           "greek jazz"
          ],
          [
           "greek pop"
          ],
          [
           "greek swing"
          ],
          [
           "gregorian chant"
          ],
          [
           "grime"
          ],
          [
           "grindcore"
          ],
          [
           "griot"
          ],
          [
           "groove metal"
          ],
          [
           "groove room"
          ],
          [
           "grunge"
          ],
          [
           "grunge pop"
          ],
          [
           "grupera"
          ],
          [
           "gruperas inmortales"
          ],
          [
           "guadalajara indie"
          ],
          [
           "guam indie"
          ],
          [
           "guaracha"
          ],
          [
           "guatemalan pop"
          ],
          [
           "guidance"
          ],
          [
           "guinean pop"
          ],
          [
           "guitarra argentina"
          ],
          [
           "guitarra clasica"
          ],
          [
           "guitarra portuguesa"
          ],
          [
           "gujarati garba"
          ],
          [
           "gujarati pop"
          ],
          [
           "guzheng"
          ],
          [
           "gymcore"
          ],
          [
           "gypsy"
          ],
          [
           "gypsy jazz"
          ],
          [
           "gypsy punk"
          ],
          [
           "haitian traditional"
          ],
          [
           "halifax indie"
          ],
          [
           "halloween"
          ],
          [
           "hamburg electronic"
          ],
          [
           "hammered dulcimer"
          ],
          [
           "hammond organ"
          ],
          [
           "hands up"
          ],
          [
           "hangpan"
          ],
          [
           "happy hardcore"
          ],
          [
           "hard alternative"
          ],
          [
           "hard bop"
          ],
          [
           "hard minimal techno"
          ],
          [
           "hard rock"
          ],
          [
           "hard rock brasileiro"
          ],
          [
           "hardcore"
          ],
          [
           "hardcore hip hop"
          ],
          [
           "hardcore punk"
          ],
          [
           "hardcore techno"
          ],
          [
           "hardstyle"
          ],
          [
           "harlem hip hop"
          ],
          [
           "harlem renaissance"
          ],
          [
           "harmonica blues"
          ],
          [
           "harmonica jazz"
          ],
          [
           "harp"
          ],
          [
           "harpsichord"
          ],
          [
           "haryanvi pop"
          ],
          [
           "hauntology"
          ],
          [
           "hawaiian"
          ],
          [
           "hawaiian hip hop"
          ],
          [
           "hawaiian indie"
          ],
          [
           "healing"
          ],
          [
           "heartland rock"
          ],
          [
           "hi-nrg"
          ],
          [
           "highlife"
          ],
          [
           "hindi hip hop"
          ],
          [
           "hindi indie"
          ],
          [
           "hindustani classical"
          ],
          [
           "hindustani instrumental"
          ],
          [
           "hindustani vocal"
          ],
          [
           "hip hop"
          ],
          [
           "hip hop cubano"
          ],
          [
           "hip house"
          ],
          [
           "hip pop"
          ],
          [
           "hiplife"
          ],
          [
           "histoire pour enfants"
          ],
          [
           "historic classical performance"
          ],
          [
           "historic orchestral performance"
          ],
          [
           "historic piano performance"
          ],
          [
           "historic string quartet"
          ],
          [
           "historical keyboard"
          ],
          [
           "historically informed performance"
          ],
          [
           "hoerspiel"
          ],
          [
           "hokkien pop"
          ],
          [
           "hollywood"
          ],
          [
           "hong kong hip hop"
          ],
          [
           "hong kong indie"
          ],
          [
           "hong kong rock"
          ],
          [
           "honky tonk"
          ],
          [
           "honky-tonk piano"
          ],
          [
           "hopebeat"
          ],
          [
           "horror punk"
          ],
          [
           "horror synth"
          ],
          [
           "horrorcore"
          ],
          [
           "house"
          ],
          [
           "houston rap"
          ],
          [
           "huapango"
          ],
          [
           "huayno"
          ],
          [
           "hula"
          ],
          [
           "humppa"
          ],
          [
           "hungarian choir"
          ],
          [
           "hungarian classical performance"
          ],
          [
           "hungarian classical piano"
          ],
          [
           "hungarian contemporary classical"
          ],
          [
           "hungarian edm"
          ],
          [
           "hungarian folk"
          ],
          [
           "hungarian pop"
          ],
          [
           "hungarian rock"
          ],
          [
           "hungarian techno"
          ],
          [
           "hurdy-gurdy"
          ],
          [
           "hyperpop"
          ],
          [
           "hyphy"
          ],
          [
           "icelandic classical"
          ],
          [
           "icelandic electronic"
          ],
          [
           "icelandic experimental"
          ],
          [
           "icelandic folk"
          ],
          [
           "icelandic indie"
          ],
          [
           "icelandic jazz"
          ],
          [
           "icelandic pop"
          ],
          [
           "icelandic rock"
          ],
          [
           "idaho indie"
          ],
          [
           "idol"
          ],
          [
           "idol rock"
          ],
          [
           "ilahiler"
          ],
          [
           "ilocano pop"
          ],
          [
           "impressionism"
          ],
          [
           "indian classical"
          ],
          [
           "indian edm"
          ],
          [
           "indian folk"
          ],
          [
           "indian fusion"
          ],
          [
           "indian indie"
          ],
          [
           "indian instrumental"
          ],
          [
           "indian jazz"
          ],
          [
           "indiana hip hop"
          ],
          [
           "indie anthem-folk"
          ],
          [
           "indie cafe pop"
          ],
          [
           "indie deutschrap"
          ],
          [
           "indie dream pop"
          ],
          [
           "indie electronica"
          ],
          [
           "indie electropop"
          ],
          [
           "indie folk"
          ],
          [
           "indie game soundtrack"
          ],
          [
           "indie garage rock"
          ],
          [
           "indie hip hop"
          ],
          [
           "indie jazz"
          ],
          [
           "indie pop"
          ],
          [
           "indie pop rap"
          ],
          [
           "indie poptimism"
          ],
          [
           "indie psych-pop"
          ],
          [
           "indie punk"
          ],
          [
           "indie quebecois"
          ],
          [
           "indie r&b"
          ],
          [
           "indie rock"
          ],
          [
           "indie rock mexicano"
          ],
          [
           "indie rockism"
          ],
          [
           "indie shoegaze"
          ],
          [
           "indie singer-songwriter"
          ],
          [
           "indie soul"
          ],
          [
           "indie surf"
          ],
          [
           "indie triste"
          ],
          [
           "indiecoustica"
          ],
          [
           "indietronica"
          ],
          [
           "indonesian hip hop"
          ],
          [
           "indonesian indie"
          ],
          [
           "indonesian pop"
          ],
          [
           "indonesian r&b"
          ],
          [
           "indonesian worship"
          ],
          [
           "industrial"
          ],
          [
           "industrial hardcore"
          ],
          [
           "industrial hip hop"
          ],
          [
           "industrial metal"
          ],
          [
           "industrial rock"
          ],
          [
           "indy indie"
          ],
          [
           "instrumental acoustic guitar"
          ],
          [
           "instrumental bluegrass"
          ],
          [
           "instrumental funk"
          ],
          [
           "instrumental grime"
          ],
          [
           "instrumental math rock"
          ],
          [
           "instrumental post-rock"
          ],
          [
           "instrumental progressive metal"
          ],
          [
           "instrumental rock"
          ],
          [
           "instrumental soul"
          ],
          [
           "instrumental stoner rock"
          ],
          [
           "instrumental surf"
          ],
          [
           "intelligent dance music"
          ],
          [
           "iowa hip hop"
          ],
          [
           "irish accordion"
          ],
          [
           "irish ballad"
          ],
          [
           "irish banjo"
          ],
          [
           "irish classical"
          ],
          [
           "irish country"
          ],
          [
           "irish dance"
          ],
          [
           "irish fiddle"
          ],
          [
           "irish folk"
          ],
          [
           "irish hip hop"
          ],
          [
           "irish indie"
          ],
          [
           "irish metal"
          ],
          [
           "irish pop"
          ],
          [
           "irish pub song"
          ],
          [
           "irish rock"
          ],
          [
           "irish singer-songwriter"
          ],
          [
           "iskelma"
          ],
          [
           "islamic recitation"
          ],
          [
           "isle of wight indie"
          ],
          [
           "israeli classical"
          ],
          [
           "israeli classical piano"
          ],
          [
           "israeli folk"
          ],
          [
           "israeli hip hop"
          ],
          [
           "israeli mediterranean"
          ],
          [
           "israeli pop"
          ],
          [
           "israeli rock"
          ],
          [
           "israeli singer-songwriter"
          ],
          [
           "israeli techno"
          ],
          [
           "italian adult pop"
          ],
          [
           "italian baritone"
          ],
          [
           "italian baroque"
          ],
          [
           "italian baroque ensemble"
          ],
          [
           "italian bass"
          ],
          [
           "italian blues"
          ],
          [
           "italian classical guitar"
          ],
          [
           "italian classical piano"
          ],
          [
           "italian contemporary jazz"
          ],
          [
           "italian disco"
          ],
          [
           "italian gothic"
          ],
          [
           "italian gothic metal"
          ],
          [
           "italian indie pop"
          ],
          [
           "italian jazz"
          ],
          [
           "italian library music"
          ],
          [
           "italian mandolin"
          ],
          [
           "italian metal"
          ],
          [
           "italian mezzo-soprano"
          ],
          [
           "italian modern prog"
          ],
          [
           "italian opera"
          ],
          [
           "italian orchestra"
          ],
          [
           "italian pop rock"
          ],
          [
           "italian power metal"
          ],
          [
           "italian progressive metal"
          ],
          [
           "italian progressive rock"
          ],
          [
           "italian renaissance"
          ],
          [
           "italian romanticism"
          ],
          [
           "italian soprano"
          ],
          [
           "italian soundtrack"
          ],
          [
           "italian techno"
          ],
          [
           "italian tenor"
          ],
          [
           "italian violin"
          ],
          [
           "italo dance"
          ],
          [
           "italo house"
          ],
          [
           "j-acoustic"
          ],
          [
           "j-ambient"
          ],
          [
           "j-dance"
          ],
          [
           "j-division"
          ],
          [
           "j-idol"
          ],
          [
           "j-metal"
          ],
          [
           "j-pixie"
          ],
          [
           "j-pop"
          ],
          [
           "j-pop girl group"
          ],
          [
           "j-poprock"
          ],
          [
           "j-punk"
          ],
          [
           "j-reggae"
          ],
          [
           "j-rock"
          ],
          [
           "jacksonville indie"
          ],
          [
           "jam band"
          ],
          [
           "jamgrass"
          ],
          [
           "jamtronica"
          ],
          [
           "jangle pop"
          ],
          [
           "japanese alternative rock"
          ],
          [
           "japanese chillhop"
          ],
          [
           "japanese city pop"
          ],
          [
           "japanese classical"
          ],
          [
           "japanese classical performance"
          ],
          [
           "japanese classical piano"
          ],
          [
           "japanese concert band"
          ],
          [
           "japanese dream pop"
          ],
          [
           "japanese electronic"
          ],
          [
           "japanese electropop"
          ],
          [
           "japanese emo"
          ],
          [
           "japanese experimental"
          ],
          [
           "japanese folk"
          ],
          [
           "japanese garage rock"
          ],
          [
           "japanese girl punk"
          ],
          [
           "japanese heavy metal"
          ],
          [
           "japanese idm"
          ],
          [
           "japanese indie folk"
          ],
          [
           "japanese indie rock"
          ],
          [
           "japanese instrumental"
          ],
          [
           "japanese jazz"
          ],
          [
           "japanese jazz fusion"
          ],
          [
           "japanese jazztronica"
          ],
          [
           "japanese metalcore"
          ],
          [
           "japanese new wave"
          ],
          [
           "japanese piano"
          ],
          [
           "japanese pop punk"
          ],
          [
           "japanese post-hardcore"
          ],
          [
           "japanese power metal"
          ],
          [
           "japanese prog"
          ],
          [
           "japanese psychedelic"
          ],
          [
           "japanese punk rock"
          ],
          [
           "japanese r&b"
          ],
          [
           "japanese rockabilly"
          ],
          [
           "japanese singer-songwriter"
          ],
          [
           "japanese soundtrack"
          ],
          [
           "japanese traditional"
          ],
          [
           "japanese vgm"
          ],
          [
           "japanese vocal jazz"
          ],
          [
           "jawaiian"
          ],
          [
           "jazz"
          ],
          [
           "jazz accordion"
          ],
          [
           "jazz blues"
          ],
          [
           "jazz boom bap"
          ],
          [
           "jazz brass"
          ],
          [
           "jazz chileno"
          ],
          [
           "jazz clarinet"
          ],
          [
           "jazz colombiano"
          ],
          [
           "jazz cubano"
          ],
          [
           "jazz double bass"
          ],
          [
           "jazz drums"
          ],
          [
           "jazz flute"
          ],
          [
           "jazz funk"
          ],
          [
           "jazz fusion"
          ],
          [
           "jazz guitar"
          ],
          [
           "jazz harp"
          ],
          [
           "jazz metal"
          ],
          [
           "jazz mexicano"
          ],
          [
           "jazz orchestra"
          ],
          [
           "jazz organ"
          ],
          [
           "jazz piano"
          ],
          [
           "jazz pop"
          ],
          [
           "jazz quartet"
          ],
          [
           "jazz rap"
          ],
          [
           "jazz rock"
          ],
          [
           "jazz saxophone"
          ],
          [
           "jazz trio"
          ],
          [
           "jazz trombone"
          ],
          [
           "jazz trumpet"
          ],
          [
           "jazz tuba"
          ],
          [
           "jazz venezolano"
          ],
          [
           "jazz vibraphone"
          ],
          [
           "jazz violin"
          ],
          [
           "jazztronica"
          ],
          [
           "jewish cantorial"
          ],
          [
           "jewish hip hop"
          ],
          [
           "jig and reel"
          ],
          [
           "jordanian pop"
          ],
          [
           "joropo"
          ],
          [
           "jovem guarda"
          ],
          [
           "jug band"
          ],
          [
           "juju"
          ],
          [
           "jump blues"
          ],
          [
           "jump up"
          ],
          [
           "k-indie"
          ],
          [
           "k-pop"
          ],
          [
           "k-pop boy group"
          ],
          [
           "k-pop girl group"
          ],
          [
           "k-rap"
          ],
          [
           "kabarett"
          ],
          [
           "kabyle"
          ],
          [
           "kaneka"
          ],
          [
           "kannada bhava geethe"
          ],
          [
           "kansas city hip hop"
          ],
          [
           "kashmiri pop"
          ],
          [
           "kawaii future bass"
          ],
          [
           "kawaii metal"
          ],
          [
           "kayokyoku"
          ],
          [
           "kc indie"
          ],
          [
           "kent indie"
          ],
          [
           "kentucky hip hop"
          ],
          [
           "kentucky indie"
          ],
          [
           "kentucky metal"
          ],
          [
           "kentucky mountain folk"
          ],
          [
           "kentucky punk"
          ],
          [
           "kentucky roots"
          ],
          [
           "keroncong"
          ],
          [
           "khaleeji iraqi"
          ],
          [
           "khmer"
          ],
          [
           "kids dance party"
          ],
          [
           "kindie rock"
          ],
          [
           "kingston on indie"
          ],
          [
           "kirtan"
          ],
          [
           "kiwi rock"
          ],
          [
           "kizomba antigas"
          ],
          [
           "kleine hoerspiel"
          ],
          [
           "klezmer"
          ],
          [
           "knoxville indie"
          ],
          [
           "kodomo no ongaku"
          ],
          [
           "kolsche karneval"
          ],
          [
           "komedi"
          ],
          [
           "kompa"
          ],
          [
           "kora"
          ],
          [
           "korean classical performance"
          ],
          [
           "korean classical piano"
          ],
          [
           "korean indie rock"
          ],
          [
           "korean mask singer"
          ],
          [
           "korean pop"
          ],
          [
           "korean r&b"
          ],
          [
           "korean trap"
          ],
          [
           "koto"
          ],
          [
           "krautrock"
          ],
          [
           "kundiman"
          ],
          [
           "la indie"
          ],
          [
           "la pop"
          ],
          [
           "laboratorio"
          ],
          [
           "lafayette indie"
          ],
          [
           "laiko"
          ],
          [
           "lancashire indie"
          ],
          [
           "lancaster pa indie"
          ],
          [
           "late romantic era"
          ],
          [
           "latin"
          ],
          [
           "latin afrobeat"
          ],
          [
           "latin alternative"
          ],
          [
           "latin american classical piano"
          ],
          [
           "latin arena pop"
          ],
          [
           "latin christian"
          ],
          [
           "latin classical"
          ],
          [
           "latin funk"
          ],
          [
           "latin hip hop"
          ],
          [
           "latin house"
          ],
          [
           "latin jazz"
          ],
          [
           "latin metal"
          ],
          [
           "latin pop"
          ],
          [
           "latin rock"
          ],
          [
           "latin ska"
          ],
          [
           "latin soundtrack"
          ],
          [
           "latin talent show"
          ],
          [
           "latin tech house"
          ],
          [
           "latin viral pop"
          ],
          [
           "latin worship"
          ],
          [
           "latincore"
          ],
          [
           "latino comedy"
          ],
          [
           "latintronica"
          ],
          [
           "latinx alternative"
          ],
          [
           "latvian pop"
          ],
          [
           "lds"
          ],
          [
           "lds youth"
          ],
          [
           "lebanese pop"
          ],
          [
           "leicester indie"
          ],
          [
           "lexington ky indie"
          ],
          [
           "lgbtq+ hip hop"
          ],
          [
           "library music"
          ],
          [
           "liedermacher"
          ],
          [
           "light music"
          ],
          [
           "lilith"
          ],
          [
           "liquid funk"
          ],
          [
           "lithuanian electronic"
          ],
          [
           "liverpool indie"
          ],
          [
           "livetronica"
          ],
          [
           "lldm"
          ],
          [
           "lo star"
          ],
          [
           "lo-fi"
          ],
          [
           "lo-fi beats"
          ],
          [
           "lo-fi brasileiro"
          ],
          [
           "lo-fi chill"
          ],
          [
           "lo-fi cover"
          ],
          [
           "lo-fi emo"
          ],
          [
           "lo-fi house"
          ],
          [
           "lo-fi indie"
          ],
          [
           "lo-fi vgm"
          ],
          [
           "london rap"
          ],
          [
           "louisiana blues"
          ],
          [
           "louisiana metal"
          ],
          [
           "louisville indie"
          ],
          [
           "louisville underground"
          ],
          [
           "lounge"
          ],
          [
           "louvor"
          ],
          [
           "lovers rock"
          ],
          [
           "lullaby"
          ],
          [
           "lund indie"
          ],
          [
           "lute"
          ],
          [
           "macedonian folk"
          ],
          [
           "madchester"
          ],
          [
           "madrigal"
          ],
          [
           "magyar alternative"
          ],
          [
           "maine hip hop"
          ],
          [
           "maine indie"
          ],
          [
           "mainland chinese pop"
          ],
          [
           "makossa"
          ],
          [
           "malaysian mandopop"
          ],
          [
           "malaysian pop"
          ],
          [
           "malian blues"
          ],
          [
           "mallet"
          ],
          [
           "malmo indie"
          ],
          [
           "mambo"
          ],
          [
           "manchester hip hop"
          ],
          [
           "manchester indie"
          ],
          [
           "mande pop"
          ],
          [
           "mandolin"
          ],
          [
           "mandopop"
          ],
          [
           "manguebeat"
          ],
          [
           "manila sound"
          ],
          [
           "manitoba indie"
          ],
          [
           "mantra"
          ],
          [
           "marathi pop"
          ],
          [
           "marathi traditional"
          ],
          [
           "marching band"
          ],
          [
           "mariachi"
          ],
          [
           "mariachi cristiano"
          ],
          [
           "marimba orquesta"
          ],
          [
           "martial industrial"
          ],
          [
           "mashup"
          ],
          [
           "math rock"
          ],
          [
           "mathcore"
          ],
          [
           "mbalax"
          ],
          [
           "medieval"
          ],
          [
           "medieval folk"
          ],
          [
           "medieval rock"
          ],
          [
           "meditation"
          ],
          [
           "melancholia"
          ],
          [
           "melbourne bounce"
          ],
          [
           "melbourne bounce international"
          ],
          [
           "melbourne indie"
          ],
          [
           "mellow gold"
          ],
          [
           "melodic death metal"
          ],
          [
           "melodic deathcore"
          ],
          [
           "melodic dubstep"
          ],
          [
           "melodic groove metal"
          ],
          [
           "melodic hard rock"
          ],
          [
           "melodic hardcore"
          ],
          [
           "melodic metal"
          ],
          [
           "melodic metalcore"
          ],
          [
           "melodic power metal"
          ],
          [
           "melodic rap"
          ],
          [
           "melodic thrash"
          ],
          [
           "meme rap"
          ],
          [
           "memphis americana"
          ],
          [
           "memphis blues"
          ],
          [
           "memphis hip hop"
          ],
          [
           "memphis indie"
          ],
          [
           "memphis soul"
          ],
          [
           "mento"
          ],
          [
           "merengue"
          ],
          [
           "merengue tipico"
          ],
          [
           "merseybeat"
          ],
          [
           "messianic praise"
          ],
          [
           "metal"
          ],
          [
           "metal guitar"
          ],
          [
           "metal mineiro"
          ],
          [
           "metalcore"
          ],
          [
           "metropopolis"
          ],
          [
           "mexican classic rock"
          ],
          [
           "mexican classical"
          ],
          [
           "mexican hip hop"
          ],
          [
           "mexican indie"
          ],
          [
           "mexican pop"
          ],
          [
           "mexican pop punk"
          ],
          [
           "mexican rock"
          ],
          [
           "mexican rock-and-roll"
          ],
          [
           "mexican son"
          ],
          [
           "mexican traditional"
          ],
          [
           "miami bass"
          ],
          [
           "miami hip hop"
          ],
          [
           "miami indie"
          ],
          [
           "miami metal"
          ],
          [
           "michigan indie"
          ],
          [
           "microhouse"
          ],
          [
           "microtonal"
          ],
          [
           "middle earth"
          ],
          [
           "middle east hip hop"
          ],
          [
           "middle eastern traditional"
          ],
          [
           "midwest americana"
          ],
          [
           "midwest emo"
          ],
          [
           "military cadence"
          ],
          [
           "military rap"
          ],
          [
           "milwaukee indie"
          ],
          [
           "mindfulness"
          ],
          [
           "minecraft"
          ],
          [
           "minimal melodic techno"
          ],
          [
           "minimal tech house"
          ],
          [
           "minimal techno"
          ],
          [
           "minimal wave"
          ],
          [
           "minimalism"
          ],
          [
           "minneapolis indie"
          ],
          [
           "minneapolis metal"
          ],
          [
           "minneapolis punk"
          ],
          [
           "minneapolis sound"
          ],
          [
           "minnesota hip hop"
          ],
          [
           "mississippi hip hop"
          ],
          [
           "mississippi indie"
          ],
          [
           "mizrahi"
          ],
          [
           "mod revival"
          ],
          [
           "modern alternative pop"
          ],
          [
           "modern alternative rock"
          ],
          [
           "modern big band"
          ],
          [
           "modern blues"
          ],
          [
           "modern blues rock"
          ],
          [
           "modern bollywood"
          ],
          [
           "modern country rock"
          ],
          [
           "modern dream pop"
          ],
          [
           "modern folk rock"
          ],
          [
           "modern funk"
          ],
          [
           "modern hard rock"
          ],
          [
           "modern indie pop"
          ],
          [
           "modern jazz piano"
          ],
          [
           "modern jazz trio"
          ],
          [
           "modern old-time"
          ],
          [
           "modern performance"
          ],
          [
           "modern power pop"
          ],
          [
           "modern psychedelic folk"
          ],
          [
           "modern reggae"
          ],
          [
           "modern rock"
          ],
          [
           "modern salsa"
          ],
          [
           "modern ska punk"
          ],
          [
           "modern southern rock"
          ],
          [
           "modern string quartet"
          ],
          [
           "modern swing"
          ],
          [
           "modern uplift"
          ],
          [
           "modular synth"
          ],
          [
           "moldovan pop"
          ],
          [
           "mollywood"
          ],
          [
           "mongolian hip hop"
          ],
          [
           "mongolian pop"
          ],
          [
           "monterrey indie"
          ],
          [
           "montreal indie"
          ],
          [
           "moog"
          ],
          [
           "moombahton"
          ],
          [
           "morna"
          ],
          [
           "motivation"
          ],
          [
           "motown"
          ],
          [
           "mountain dulcimer"
          ],
          [
           "movie tunes"
          ],
          [
           "mpb"
          ],
          [
           "music box"
          ],
          [
           "music hall"
          ],
          [
           "musica afroperuana"
          ],
          [
           "musica alagoana"
          ],
          [
           "musica andina"
          ],
          [
           "musica andina colombiana"
          ],
          [
           "musica antigua"
          ],
          [
           "musica aragonesa"
          ],
          [
           "musica ayacuchana"
          ],
          [
           "musica canaria"
          ],
          [
           "musica costarricense"
          ],
          [
           "musica costena"
          ],
          [
           "musica cristiana guatemalteca"
          ],
          [
           "musica de fondo"
          ],
          [
           "musica gaucha tradicionalista"
          ],
          [
           "musica hondurena"
          ],
          [
           "musica infantil"
          ],
          [
           "musica jibara"
          ],
          [
           "musica juiz-forana"
          ],
          [
           "musica llanera"
          ],
          [
           "musica nicaraguense"
          ],
          [
           "musica para criancas"
          ],
          [
           "musica para ninos"
          ],
          [
           "musica paraibana"
          ],
          [
           "musica piemonteisa"
          ],
          [
           "musica popular colombiana"
          ],
          [
           "musica popular mineira"
          ],
          [
           "musica popular paraense"
          ],
          [
           "musica potosina"
          ],
          [
           "musica prehispanica"
          ],
          [
           "musica sarda"
          ],
          [
           "musica tradicional cubana"
          ],
          [
           "musica tropical guatemalteca"
          ],
          [
           "musical advocacy"
          ],
          [
           "musikkorps"
          ],
          [
           "musique concrete"
          ],
          [
           "musique peule"
          ],
          [
           "musique pour enfant quebecois"
          ],
          [
           "musique pour enfants"
          ],
          [
           "musique touareg"
          ],
          [
           "muzica populara"
          ],
          [
           "muzika l'yeladim"
          ],
          [
           "naija worship"
          ],
          [
           "nantes indie"
          ],
          [
           "narodna muzika"
          ],
          [
           "nashville americana"
          ],
          [
           "nashville hip hop"
          ],
          [
           "nashville indie"
          ],
          [
           "nashville singer-songwriter"
          ],
          [
           "nashville sound"
          ],
          [
           "native american"
          ],
          [
           "native american contemporary"
          ],
          [
           "native american flute"
          ],
          [
           "native american hip hop"
          ],
          [
           "native american spiritual"
          ],
          [
           "navajo"
          ],
          [
           "nederlandse hardstyle"
          ],
          [
           "nederpop"
          ],
          [
           "neo classical metal"
          ],
          [
           "neo kyma"
          ],
          [
           "neo mellow"
          ],
          [
           "neo r&b"
          ],
          [
           "neo soul"
          ],
          [
           "neo-classical"
          ],
          [
           "neo-kraut"
          ],
          [
           "neo-pagan"
          ],
          [
           "neo-progressive"
          ],
          [
           "neo-psychedelic"
          ],
          [
           "neo-rockabilly"
          ],
          [
           "neo-singer-songwriter"
          ],
          [
           "neo-synthpop"
          ],
          [
           "neo-trad metal"
          ],
          [
           "neo-traditional bluegrass"
          ],
          [
           "neo-traditional country"
          ],
          [
           "neoclassical darkwave"
          ],
          [
           "neoclassicism"
          ],
          [
           "neofolk"
          ],
          [
           "neon pop punk"
          ],
          [
           "neotango"
          ],
          [
           "nepali indie"
          ],
          [
           "nepali pop"
          ],
          [
           "nerdcore"
          ],
          [
           "neue deutsche harte"
          ],
          [
           "neue deutsche todeskunst"
          ],
          [
           "neue deutsche welle"
          ],
          [
           "neurofunk"
          ],
          [
           "new age"
          ],
          [
           "new age piano"
          ],
          [
           "new americana"
          ],
          [
           "new beat"
          ],
          [
           "new comedy"
          ],
          [
           "new england americana"
          ],
          [
           "new england emo"
          ],
          [
           "new french touch"
          ],
          [
           "new isolationism"
          ],
          [
           "new jack swing"
          ],
          [
           "new jersey hardcore"
          ],
          [
           "new jersey indie"
          ],
          [
           "new jersey punk"
          ],
          [
           "new jersey rap"
          ],
          [
           "new mexico music"
          ],
          [
           "new orleans blues"
          ],
          [
           "new orleans funk"
          ],
          [
           "new orleans indie"
          ],
          [
           "new orleans jazz"
          ],
          [
           "new orleans rap"
          ],
          [
           "new rave"
          ],
          [
           "new romantic"
          ],
          [
           "new tribe"
          ],
          [
           "new wave"
          ],
          [
           "new wave of thrash metal"
          ],
          [
           "new wave pop"
          ],
          [
           "new weird america"
          ],
          [
           "new york death metal"
          ],
          [
           "new york drill"
          ],
          [
           "new zealand classical"
          ],
          [
           "newcastle indie"
          ],
          [
           "newcastle nsw indie"
          ],
          [
           "nigerian hip hop"
          ],
          [
           "nigerian pop"
          ],
          [
           "nightcore"
          ],
          [
           "nightrun"
          ],
          [
           "ninja"
          ],
          [
           "nintendocore"
          ],
          [
           "nisiotika"
          ],
          [
           "nl folk"
          ],
          [
           "no wave"
          ],
          [
           "noise pop"
          ],
          [
           "noise punk"
          ],
          [
           "noise rock"
          ],
          [
           "nordic classical piano"
          ],
          [
           "nordic contemporary classical"
          ],
          [
           "nordic folk"
          ],
          [
           "nordic house"
          ],
          [
           "nordic orchestra"
          ],
          [
           "nordic post-rock"
          ],
          [
           "nordic soundtrack"
          ],
          [
           "norman ok indie"
          ],
          [
           "norsk lovsang"
          ],
          [
           "norteno"
          ],
          [
           "norteno-sax"
          ],
          [
           "north carolina emo"
          ],
          [
           "north carolina hip hop"
          ],
          [
           "north carolina indie"
          ],
          [
           "north carolina metal"
          ],
          [
           "north carolina roots"
          ],
          [
           "north east england indie"
          ],
          [
           "northern irish indie"
          ],
          [
           "northern irish punk"
          ],
          [
           "northern soul"
          ],
          [
           "norwegian black metal"
          ],
          [
           "norwegian choir"
          ],
          [
           "norwegian classical"
          ],
          [
           "norwegian contemporary jazz"
          ],
          [
           "norwegian death metal"
          ],
          [
           "norwegian experimental"
          ],
          [
           "norwegian hip hop"
          ],
          [
           "norwegian indie"
          ],
          [
           "norwegian jazz"
          ],
          [
           "norwegian metal"
          ],
          [
           "norwegian pop"
          ],
          [
           "norwegian pop rap"
          ],
          [
           "norwegian punk rock"
          ],
          [
           "norwegian rock"
          ],
          [
           "norwegian singer-songwriter"
          ],
          [
           "norwegian space disco"
          ],
          [
           "nottingham indie"
          ],
          [
           "nouvelle chanson francaise"
          ],
          [
           "nova canco"
          ],
          [
           "nova mpb"
          ],
          [
           "nova musica pernambucana"
          ],
          [
           "novelty"
          ],
          [
           "nu age"
          ],
          [
           "nu disco"
          ],
          [
           "nu gaze"
          ],
          [
           "nu jazz"
          ],
          [
           "nu metal"
          ],
          [
           "nu skool breaks"
          ],
          [
           "nu-cumbia"
          ],
          [
           "nu-metalcore"
          ],
          [
           "nubian traditional"
          ],
          [
           "nueva cancion"
          ],
          [
           "nueva ola chilena"
          ],
          [
           "nueva ola peruana"
          ],
          [
           "nuevo flamenco"
          ],
          [
           "nuevo folklore mexicano"
          ],
          [
           "nuevo regional mexicano"
          ],
          [
           "nuevo tango"
          ],
          [
           "nursery"
          ],
          [
           "nwobhm"
          ],
          [
           "nwothm"
          ],
          [
           "ny roots"
          ],
          [
           "nyc pop"
          ],
          [
           "nyc rap"
          ],
          [
           "nyhc"
          ],
          [
           "nz christian"
          ],
          [
           "nz folk"
          ],
          [
           "nz hardcore"
          ],
          [
           "nz indie"
          ],
          [
           "nz pop"
          ],
          [
           "nz punk"
          ],
          [
           "nz reggae"
          ],
          [
           "nz singer-songwriter"
          ],
          [
           "oakland hip hop"
          ],
          [
           "oakland indie"
          ],
          [
           "oc indie"
          ],
          [
           "oc rap"
          ],
          [
           "oceania soundtrack"
          ],
          [
           "ohio hip hop"
          ],
          [
           "ohio indie"
          ],
          [
           "oi"
          ],
          [
           "ok indie"
          ],
          [
           "okc indie"
          ],
          [
           "okinawan pop"
          ],
          [
           "oklahoma country"
          ],
          [
           "old school dancehall"
          ],
          [
           "old school hip hop"
          ],
          [
           "old school rap francais"
          ],
          [
           "old school thrash"
          ],
          [
           "old school uk hip hop"
          ],
          [
           "old west"
          ],
          [
           "old-time"
          ],
          [
           "old-time fiddle"
          ],
          [
           "olympia wa indie"
          ],
          [
           "omaha indie"
          ],
          [
           "one-person band"
          ],
          [
           "ontario indie"
          ],
          [
           "opera"
          ],
          [
           "opera chorus"
          ],
          [
           "opera metal"
          ],
          [
           "operatic pop"
          ],
          [
           "operetta"
          ],
          [
           "opm"
          ],
          [
           "oratory"
          ],
          [
           "orchestra"
          ],
          [
           "orchestral performance"
          ],
          [
           "orebro indie"
          ],
          [
           "organic ambient"
          ],
          [
           "organic electronic"
          ],
          [
           "organic house"
          ],
          [
           "orgcore"
          ],
          [
           "oriental classical"
          ],
          [
           "orkney and shetland folk"
          ],
          [
           "orlando indie"
          ],
          [
           "orquesta tipica"
          ],
          [
           "orthodox chant"
          ],
          [
           "oshare kei"
          ],
          [
           "otacore"
          ],
          [
           "oth indie"
          ],
          [
           "ottawa indie"
          ],
          [
           "ottawa rap"
          ],
          [
           "oud"
          ],
          [
           "outer hip hop"
          ],
          [
           "outlaw country"
          ],
          [
           "outsider"
          ],
          [
           "outsider house"
          ],
          [
           "oxford choir"
          ],
          [
           "oxford indie"
          ],
          [
           "p funk"
          ],
          [
           "pagan black metal"
          ],
          [
           "pagode"
          ],
          [
           "pagode baiano"
          ],
          [
           "paisley underground"
          ],
          [
           "pakistani folk"
          ],
          [
           "pakistani hip hop"
          ],
          [
           "pakistani pop"
          ],
          [
           "palestinian pop"
          ],
          [
           "palm desert scene"
          ],
          [
           "panamanian pop"
          ],
          [
           "panamanian rock"
          ],
          [
           "panpipe"
          ],
          [
           "papuri"
          ],
          [
           "parody"
          ],
          [
           "partido alto"
          ],
          [
           "partyschlager"
          ],
          [
           "pei indie"
          ],
          [
           "permanent wave"
          ],
          [
           "perreo"
          ],
          [
           "persian pop"
          ],
          [
           "persian traditional"
          ],
          [
           "perth indie"
          ],
          [
           "peruvian hip hop"
          ],
          [
           "peruvian rock"
          ],
          [
           "pet calming"
          ],
          [
           "philly indie"
          ],
          [
           "philly rap"
          ],
          [
           "philly soul"
          ],
          [
           "phoenix indie"
          ],
          [
           "phonk"
          ],
          [
           "pianissimo"
          ],
          [
           "piano blues"
          ],
          [
           "piano cover"
          ],
          [
           "piano mpb"
          ],
          [
           "piano rock"
          ],
          [
           "pibroch"
          ],
          [
           "piedmont blues"
          ],
          [
           "pinoy hip hop"
          ],
          [
           "pinoy indie"
          ],
          [
           "pinoy pop punk"
          ],
          [
           "pinoy praise"
          ],
          [
           "pinoy r&b"
          ],
          [
           "pinoy reggae"
          ],
          [
           "pinoy rock"
          ],
          [
           "pinoy traditional"
          ],
          [
           "pinoy trap"
          ],
          [
           "pirate"
          ],
          [
           "pittsburgh indie"
          ],
          [
           "pittsburgh rap"
          ],
          [
           "pittsburgh rock"
          ],
          [
           "pixie"
          ],
          [
           "plunderphonics"
          ],
          [
           "poetry"
          ],
          [
           "polca paraguaya"
          ],
          [
           "polish blues"
          ],
          [
           "polish classical"
          ],
          [
           "polish classical piano"
          ],
          [
           "polish contemporary classical"
          ],
          [
           "polish jazz"
          ],
          [
           "polish modern jazz"
          ],
          [
           "polish pop"
          ],
          [
           "polish post-rock"
          ],
          [
           "polish reggae"
          ],
          [
           "polish rock"
          ],
          [
           "political hip hop"
          ],
          [
           "polka"
          ],
          [
           "polynesian hip hop"
          ],
          [
           "polynesian pop"
          ],
          [
           "polyphony"
          ],
          [
           "pony"
          ],
          [
           "pop"
          ],
          [
           "pop argentino"
          ],
          [
           "pop chileno"
          ],
          [
           "pop dance"
          ],
          [
           "pop edm"
          ],
          [
           "pop electronico"
          ],
          [
           "pop emo"
          ],
          [
           "pop flamenco"
          ],
          [
           "pop folk"
          ],
          [
           "pop house"
          ],
          [
           "pop nacional"
          ],
          [
           "pop nacional antigas"
          ],
          [
           "pop peruano"
          ],
          [
           "pop punk"
          ],
          [
           "pop quebecois"
          ],
          [
           "pop r&b"
          ],
          [
           "pop rap"
          ],
          [
           "pop reggaeton"
          ],
          [
           "pop rock"
          ],
          [
           "pop rock brasileiro"
          ],
          [
           "pop romantico"
          ],
          [
           "pop soul"
          ],
          [
           "pop venezolano"
          ],
          [
           "pop violin"
          ],
          [
           "popgaze"
          ],
          [
           "popping"
          ],
          [
           "pops orchestra"
          ],
          [
           "popwave"
          ],
          [
           "pornogrind"
          ],
          [
           "porro"
          ],
          [
           "portland hip hop"
          ],
          [
           "portland indie"
          ],
          [
           "portland metal"
          ],
          [
           "portland punk"
          ],
          [
           "portuguese early music"
          ],
          [
           "post-disco"
          ],
          [
           "post-disco soul"
          ],
          [
           "post-doom metal"
          ],
          [
           "post-grunge"
          ],
          [
           "post-hardcore"
          ],
          [
           "post-metal"
          ],
          [
           "post-minimalism"
          ],
          [
           "post-post-hardcore"
          ],
          [
           "post-punk"
          ],
          [
           "post-punk argentina"
          ],
          [
           "post-rock"
          ],
          [
           "post-romantic era"
          ],
          [
           "post-screamo"
          ],
          [
           "post-teen pop"
          ],
          [
           "power metal"
          ],
          [
           "power pop"
          ],
          [
           "power thrash"
          ],
          [
           "power-pop punk"
          ],
          [
           "praise"
          ],
          [
           "prepared piano"
          ],
          [
           "preschool children's music"
          ],
          [
           "prog quebec"
          ],
          [
           "progressive alternative"
          ],
          [
           "progressive bluegrass"
          ],
          [
           "progressive deathcore"
          ],
          [
           "progressive electro house"
          ],
          [
           "progressive groove metal"
          ],
          [
           "progressive house"
          ],
          [
           "progressive jazz fusion"
          ],
          [
           "progressive metal"
          ],
          [
           "progressive metalcore"
          ],
          [
           "progressive post-hardcore"
          ],
          [
           "progressive power metal"
          ],
          [
           "progressive psytrance"
          ],
          [
           "progressive rock"
          ],
          [
           "progressive sludge"
          ],
          [
           "progressive trance"
          ],
          [
           "progressive trance house"
          ],
          [
           "progressive uplifting trance"
          ],
          [
           "proto-rap"
          ],
          [
           "proto-techno"
          ],
          [
           "protopunk"
          ],
          [
           "psalmen"
          ],
          [
           "psicodelia brasileira"
          ],
          [
           "psybass"
          ],
          [
           "psychedelic blues-rock"
          ],
          [
           "psychedelic doom"
          ],
          [
           "psychedelic folk"
          ],
          [
           "psychedelic folk rock"
          ],
          [
           "psychedelic hip hop"
          ],
          [
           "psychedelic pop"
          ],
          [
           "psychedelic punk"
          ],
          [
           "psychedelic rock"
          ],
          [
           "psychedelic soul"
          ],
          [
           "psychedelic trance"
          ],
          [
           "psychill"
          ],
          [
           "psychobilly"
          ],
          [
           "pub rock"
          ],
          [
           "puerto rican folk"
          ],
          [
           "puerto rican pop"
          ],
          [
           "puerto rican rock"
          ],
          [
           "punjabi folk"
          ],
          [
           "punjabi hip hop"
          ],
          [
           "punjabi pop"
          ],
          [
           "punk"
          ],
          [
           "punk 'n' roll"
          ],
          [
           "punk blues"
          ],
          [
           "punk rock italiano"
          ],
          [
           "punk rock mexicano"
          ],
          [
           "punta"
          ],
          [
           "purple sound"
          ],
          [
           "qawwali"
          ],
          [
           "quartetto d'archi"
          ],
          [
           "quatuor a cordes"
          ],
          [
           "quebec death metal"
          ],
          [
           "quebec indie"
          ],
          [
           "queens hip hop"
          ],
          [
           "queer country"
          ],
          [
           "queercore"
          ],
          [
           "quiet storm"
          ],
          [
           "quran"
          ],
          [
           "r&b"
          ],
          [
           "r&b en espanol"
          ],
          [
           "rabindra sangeet"
          ],
          [
           "radio symphony"
          ],
          [
           "ragtime"
          ],
          [
           "rai"
          ],
          [
           "ranchera"
          ],
          [
           "rap"
          ],
          [
           "rap chileno"
          ],
          [
           "rap conciencia"
          ],
          [
           "rap conscient"
          ],
          [
           "rap cristiano"
          ],
          [
           "rap dominicano"
          ],
          [
           "rap kreyol"
          ],
          [
           "rap latina"
          ],
          [
           "rap metal"
          ],
          [
           "rap nacional antigo"
          ],
          [
           "rap napoletano"
          ],
          [
           "rap rock"
          ],
          [
           "rap underground mexicano"
          ],
          [
           "rare groove"
          ],
          [
           "rave"
          ],
          [
           "rawstyle"
          ],
          [
           "reading"
          ],
          [
           "reading indie"
          ],
          [
           "rebel blues"
          ],
          [
           "rebetiko"
          ],
          [
           "recorder"
          ],
          [
           "red dirt"
          ],
          [
           "redneck"
          ],
          [
           "reggae"
          ],
          [
           "reggae en espanol"
          ],
          [
           "reggae fusion"
          ],
          [
           "reggae rock"
          ],
          [
           "reggaeton"
          ],
          [
           "reggaeton colombiano"
          ],
          [
           "reggaeton cristiano"
          ],
          [
           "reggaeton flow"
          ],
          [
           "reggaeton mexicano"
          ],
          [
           "regional mexican"
          ],
          [
           "relaxative"
          ],
          [
           "renaissance"
          ],
          [
           "rennes indie"
          ],
          [
           "retro metal"
          ],
          [
           "retro soul"
          ],
          [
           "rhode island indie"
          ],
          [
           "rhode island rap"
          ],
          [
           "rhythm and blues"
          ],
          [
           "riddim"
          ],
          [
           "rif"
          ],
          [
           "riot grrrl"
          ],
          [
           "ritmo kombina"
          ],
          [
           "rochester mn indie"
          ],
          [
           "rochester ny indie"
          ],
          [
           "rock"
          ],
          [
           "rock alternatif francais"
          ],
          [
           "rock alternativo brasileiro"
          ],
          [
           "rock andaluz"
          ],
          [
           "rock baiano"
          ],
          [
           "rock brasiliense"
          ],
          [
           "rock chapin"
          ],
          [
           "rock cristiano"
          ],
          [
           "rock drums"
          ],
          [
           "rock en espanol"
          ],
          [
           "rock gaucho"
          ],
          [
           "rock independant francais"
          ],
          [
           "rock kapak"
          ],
          [
           "rock keyboard"
          ],
          [
           "rock nacional"
          ],
          [
           "rock nacional brasileiro"
          ],
          [
           "rock pernambucano"
          ],
          [
           "rock progressif francais"
          ],
          [
           "rock steady"
          ],
          [
           "rock urbano mexicano"
          ],
          [
           "rock-and-roll"
          ],
          [
           "rockabilly"
          ],
          [
           "rockabilly en espanol"
          ],
          [
           "roda de samba"
          ],
          [
           "romanian classical piano"
          ],
          [
           "romanian electronic"
          ],
          [
           "romanian folk"
          ],
          [
           "romanian pop"
          ],
          [
           "romanian rock"
          ],
          [
           "romantico"
          ],
          [
           "roots americana"
          ],
          [
           "roots reggae"
          ],
          [
           "roots rock"
          ],
          [
           "roots worship"
          ],
          [
           "rosary"
          ],
          [
           "rumba"
          ],
          [
           "rumba congolaise"
          ],
          [
           "rune folk"
          ],
          [
           "russian alternative rock"
          ],
          [
           "russian ccm"
          ],
          [
           "russian chanson"
          ],
          [
           "russian choir"
          ],
          [
           "russian classical piano"
          ],
          [
           "russian dance"
          ],
          [
           "russian edm"
          ],
          [
           "russian folk"
          ],
          [
           "russian folk rock"
          ],
          [
           "russian jazz"
          ],
          [
           "russian metal"
          ],
          [
           "russian metalcore"
          ],
          [
           "russian modern classical"
          ],
          [
           "russian orchestra"
          ],
          [
           "russian pop"
          ],
          [
           "russian post-punk"
          ],
          [
           "russian punk"
          ],
          [
           "russian rock"
          ],
          [
           "russian romanticism"
          ],
          [
           "russian shoegaze"
          ],
          [
           "russian trance"
          ],
          [
           "rva indie"
          ],
          [
           "rwandan traditional"
          ],
          [
           "ryukyu ongaku"
          ],
          [
           "sacramento hip hop"
          ],
          [
           "sacramento indie"
          ],
          [
           "sacred steel"
          ],
          [
           "sad rap"
          ],
          [
           "salsa"
          ],
          [
           "salsa choke"
          ],
          [
           "salsa colombiana"
          ],
          [
           "salsa cubana"
          ],
          [
           "salsa international"
          ],
          [
           "salsa peruana"
          ],
          [
           "salsa puertorriquena"
          ],
          [
           "salsa venezolana"
          ],
          [
           "samba"
          ],
          [
           "samba de roda"
          ],
          [
           "samba moderno"
          ],
          [
           "samba-enredo"
          ],
          [
           "samba-jazz"
          ],
          [
           "samba-rock"
          ],
          [
           "san antonio rap"
          ],
          [
           "san diego indie"
          ],
          [
           "san diego rap"
          ],
          [
           "san marcos tx indie"
          ],
          [
           "sandalwood"
          ],
          [
           "sarod"
          ],
          [
           "saskatchewan indie"
          ],
          [
           "scam rap"
          ],
          [
           "scandinavian r&b"
          ],
          [
           "scandipop"
          ],
          [
           "schlager"
          ],
          [
           "scorecore"
          ],
          [
           "scottish electronic"
          ],
          [
           "scottish fiddle"
          ],
          [
           "scottish folk"
          ],
          [
           "scottish hip hop"
          ],
          [
           "scottish indie"
          ],
          [
           "scottish jazz"
          ],
          [
           "scottish metal"
          ],
          [
           "scottish new wave"
          ],
          [
           "scottish rock"
          ],
          [
           "scottish singer-songwriter"
          ],
          [
           "scratch"
          ],
          [
           "scream rap"
          ],
          [
           "screamo"
          ],
          [
           "seattle hip hop"
          ],
          [
           "seattle indie"
          ],
          [
           "second line"
          ],
          [
           "sefardi"
          ],
          [
           "serbian electronic"
          ],
          [
           "serialism"
          ],
          [
           "sertanejo"
          ],
          [
           "sertanejo pop"
          ],
          [
           "sertanejo tradicional"
          ],
          [
           "sertanejo universitario"
          ],
          [
           "sevdah"
          ],
          [
           "sevillanas"
          ],
          [
           "shaabi"
          ],
          [
           "shabad"
          ],
          [
           "shakuhachi"
          ],
          [
           "shamanic"
          ],
          [
           "shanty"
          ],
          [
           "sheffield indie"
          ],
          [
           "shibuya-kei"
          ],
          [
           "shimmer pop"
          ],
          [
           "shimmer psych"
          ],
          [
           "shiver pop"
          ],
          [
           "shoegaze"
          ],
          [
           "show tunes"
          ],
          [
           "shred"
          ],
          [
           "shush"
          ],
          [
           "sierreno"
          ],
          [
           "singaporean mandopop"
          ],
          [
           "singaporean pop"
          ],
          [
           "singaporean singer-songwriter"
          ],
          [
           "singer-songwriter"
          ],
          [
           "singing bowl"
          ],
          [
           "sitar"
          ],
          [
           "ska"
          ],
          [
           "ska argentino"
          ],
          [
           "ska chileno"
          ],
          [
           "ska jazz"
          ],
          [
           "ska mexicano"
          ],
          [
           "ska punk"
          ],
          [
           "ska revival"
          ],
          [
           "skate punk"
          ],
          [
           "skiffle"
          ],
          [
           "skramz"
          ],
          [
           "sky room"
          ],
          [
           "slack-key guitar"
          ],
          [
           "slam poetry"
          ],
          [
           "slamming deathcore"
          ],
          [
           "slavic folk metal"
          ],
          [
           "slayer"
          ],
          [
           "slc indie"
          ],
          [
           "sleaze rock"
          ],
          [
           "sleep"
          ],
          [
           "slovak electronic"
          ],
          [
           "slovenian electronic"
          ],
          [
           "slovenian metal"
          ],
          [
           "slow game"
          ],
          [
           "slowcore"
          ],
          [
           "sludge metal"
          ],
          [
           "small room"
          ],
          [
           "smooth jazz"
          ],
          [
           "smooth saxophone"
          ],
          [
           "smooth soul"
          ],
          [
           "soca"
          ],
          [
           "socal pop punk"
          ],
          [
           "social media pop"
          ],
          [
           "soda pop"
          ],
          [
           "soft rock"
          ],
          [
           "solipsynthm"
          ],
          [
           "son cubano"
          ],
          [
           "son cubano clasico"
          ],
          [
           "son jarocho"
          ],
          [
           "sophisti-pop"
          ],
          [
           "sotalaulut"
          ],
          [
           "soukous"
          ],
          [
           "soul"
          ],
          [
           "soul blues"
          ],
          [
           "soul flow"
          ],
          [
           "soul jazz"
          ],
          [
           "souldies"
          ],
          [
           "sound"
          ],
          [
           "sound art"
          ],
          [
           "sound effects"
          ],
          [
           "sound team"
          ],
          [
           "soundtrack"
          ],
          [
           "south african alternative"
          ],
          [
           "south african choral"
          ],
          [
           "south african country"
          ],
          [
           "south african hip hop"
          ],
          [
           "south african house"
          ],
          [
           "south african jazz"
          ],
          [
           "south african pop"
          ],
          [
           "south african pop dance"
          ],
          [
           "south african rock"
          ],
          [
           "south carolina hip hop"
          ],
          [
           "south carolina indie"
          ],
          [
           "south carolina metal"
          ],
          [
           "south dakota indie"
          ],
          [
           "southampton indie"
          ],
          [
           "southern americana"
          ],
          [
           "southern gospel"
          ],
          [
           "southern hip hop"
          ],
          [
           "southern metal"
          ],
          [
           "southern rock"
          ],
          [
           "southern soul"
          ],
          [
           "southern soul blues"
          ],
          [
           "soviet synthpop"
          ],
          [
           "sovietwave"
          ],
          [
           "spa"
          ],
          [
           "space age pop"
          ],
          [
           "space ambient"
          ],
          [
           "space rock"
          ],
          [
           "spanish baroque"
          ],
          [
           "spanish classical"
          ],
          [
           "spanish classical piano"
          ],
          [
           "spanish folk metal"
          ],
          [
           "spanish hip hop"
          ],
          [
           "spanish indie pop"
          ],
          [
           "spanish invasion"
          ],
          [
           "spanish metal"
          ],
          [
           "spanish modern rock"
          ],
          [
           "spanish new wave"
          ],
          [
           "spanish noise pop"
          ],
          [
           "spanish pop"
          ],
          [
           "spanish pop rock"
          ],
          [
           "spanish renaissance"
          ],
          [
           "spanish rock"
          ],
          [
           "spanish synthpop"
          ],
          [
           "spanish techno"
          ],
          [
           "speed garage"
          ],
          [
           "speed metal"
          ],
          [
           "speedcore"
          ],
          [
           "spiritual hip hop"
          ],
          [
           "spiritual jazz"
          ],
          [
           "spirituals"
          ],
          [
           "springfield mo indie"
          ],
          [
           "spytrack"
          ],
          [
           "st louis rap"
          ],
          [
           "steampunk"
          ],
          [
           "steel guitar"
          ],
          [
           "steelpan"
          ],
          [
           "stl indie"
          ],
          [
           "stomp and flutter"
          ],
          [
           "stomp and holler"
          ],
          [
           "stomp and whittle"
          ],
          [
           "stomp pop"
          ],
          [
           "stoner metal"
          ],
          [
           "stoner rock"
          ],
          [
           "straight edge"
          ],
          [
           "straight-ahead jazz"
          ],
          [
           "street band"
          ],
          [
           "street punk"
          ],
          [
           "streichquartett"
          ],
          [
           "stride"
          ],
          [
           "string band"
          ],
          [
           "string folk"
          ],
          [
           "string orchestra"
          ],
          [
           "string quartet"
          ],
          [
           "strut"
          ],
          [
           "substep"
          ],
          [
           "sudanese pop"
          ],
          [
           "sufi"
          ],
          [
           "sufi chant"
          ],
          [
           "sunshine pop"
          ],
          [
           "supergroup"
          ],
          [
           "surf music"
          ],
          [
           "surf punk"
          ],
          [
           "svensk progg"
          ],
          [
           "swamp blues"
          ],
          [
           "swamp pop"
          ],
          [
           "swamp rock"
          ],
          [
           "swancore"
          ],
          [
           "swedish alternative rock"
          ],
          [
           "swedish americana"
          ],
          [
           "swedish black metal"
          ],
          [
           "swedish choir"
          ],
          [
           "swedish country"
          ],
          [
           "swedish dancehall"
          ],
          [
           "swedish death metal"
          ],
          [
           "swedish doom metal"
          ],
          [
           "swedish electronic"
          ],
          [
           "swedish electropop"
          ],
          [
           "swedish eurodance"
          ],
          [
           "swedish garage rock"
          ],
          [
           "swedish hard rock"
          ],
          [
           "swedish hardcore"
          ],
          [
           "swedish heavy metal"
          ],
          [
           "swedish house"
          ],
          [
           "swedish idol pop"
          ],
          [
           "swedish indie folk"
          ],
          [
           "swedish indie pop"
          ],
          [
           "swedish indie rock"
          ],
          [
           "swedish jazz"
          ],
          [
           "swedish jazz orkester"
          ],
          [
           "swedish melodic rock"
          ],
          [
           "swedish metal"
          ],
          [
           "swedish metalcore"
          ],
          [
           "swedish pop"
          ],
          [
           "swedish post-hardcore"
          ],
          [
           "swedish power metal"
          ],
          [
           "swedish prog"
          ],
          [
           "swedish progressive metal"
          ],
          [
           "swedish rock-and-roll"
          ],
          [
           "swedish singer-songwriter"
          ],
          [
           "swedish soul"
          ],
          [
           "swedish stoner rock"
          ],
          [
           "swedish synth"
          ],
          [
           "swedish synthpop"
          ],
          [
           "swedish tropical house"
          ],
          [
           "swedish underground rap"
          ],
          [
           "swing"
          ],
          [
           "swing italiano"
          ],
          [
           "swing revival"
          ],
          [
           "swiss black metal"
          ],
          [
           "swiss classical piano"
          ],
          [
           "swiss country"
          ],
          [
           "swiss metal"
          ],
          [
           "swiss pop"
          ],
          [
           "swiss rock"
          ],
          [
           "swiss worship"
          ],
          [
           "sydney indie"
          ],
          [
           "symphonic black metal"
          ],
          [
           "symphonic metal"
          ],
          [
           "symphonic rock"
          ],
          [
           "synth funk"
          ],
          [
           "synthpop"
          ],
          [
           "synthwave"
          ],
          [
           "syrian pop"
          ],
          [
           "tabla"
          ],
          [
           "tagalog rap"
          ],
          [
           "tagalog worship"
          ],
          [
           "taiwan campus folk"
          ],
          [
           "taiwan classical performance"
          ],
          [
           "taiwan hip hop"
          ],
          [
           "taiwan indie"
          ],
          [
           "taiwan pop"
          ],
          [
           "taiwan singer-songwriter"
          ],
          [
           "tajik pop"
          ],
          [
           "talent show"
          ],
          [
           "tamaulipas indie"
          ],
          [
           "tamaulipas rap"
          ],
          [
           "tamborazo"
          ],
          [
           "tamil hip hop"
          ],
          [
           "tamil pop"
          ],
          [
           "tamil worship"
          ],
          [
           "tampa indie"
          ],
          [
           "tango"
          ],
          [
           "tango cancion"
          ],
          [
           "tape club"
          ],
          [
           "tech house"
          ],
          [
           "technical death metal"
          ],
          [
           "technical deathcore"
          ],
          [
           "technical groove metal"
          ],
          [
           "technical melodic death metal"
          ],
          [
           "technical thrash"
          ],
          [
           "techno"
          ],
          [
           "techno kayo"
          ],
          [
           "tecnobanda"
          ],
          [
           "teen pop"
          ],
          [
           "tejano"
          ],
          [
           "tempe indie"
          ],
          [
           "tennessee hip hop"
          ],
          [
           "tennessee metal"
          ],
          [
           "tex-mex"
          ],
          [
           "texas blues"
          ],
          [
           "texas country"
          ],
          [
           "texas latin rap"
          ],
          [
           "texas pop punk"
          ],
          [
           "texas punk"
          ],
          [
           "thai folk"
          ],
          [
           "thai folk rock"
          ],
          [
           "thai idol"
          ],
          [
           "thai indie rock"
          ],
          [
           "thai pop"
          ],
          [
           "thall"
          ],
          [
           "theme"
          ],
          [
           "theremin"
          ],
          [
           "thrash core"
          ],
          [
           "thrash metal"
          ],
          [
           "timba"
          ],
          [
           "tin pan alley"
          ],
          [
           "tipico"
          ],
          [
           "tolkien metal"
          ],
          [
           "tollywood"
          ],
          [
           "tone"
          ],
          [
           "torch song"
          ],
          [
           "toronto indie"
          ],
          [
           "toronto rap"
          ],
          [
           "trad jazz catala"
          ],
          [
           "traditional bluegrass"
          ],
          [
           "traditional blues"
          ],
          [
           "traditional british folk"
          ],
          [
           "traditional country"
          ],
          [
           "traditional folk"
          ],
          [
           "traditional funk"
          ],
          [
           "traditional rockabilly"
          ],
          [
           "traditional ska"
          ],
          [
           "traditional soul"
          ],
          [
           "trance"
          ],
          [
           "trance mexicano"
          ],
          [
           "trancecore"
          ],
          [
           "transpop"
          ],
          [
           "trap"
          ],
          [
           "trap argentino"
          ],
          [
           "trap chileno"
          ],
          [
           "trap dominicano"
          ],
          [
           "trap latino"
          ],
          [
           "trap mexicano"
          ],
          [
           "trap queen"
          ],
          [
           "trap soul"
          ],
          [
           "trap triste"
          ],
          [
           "trap venezolano"
          ],
          [
           "traprun"
          ],
          [
           "trash rock"
          ],
          [
           "triangle indie"
          ],
          [
           "tribal house"
          ],
          [
           "trinidadian reggae"
          ],
          [
           "trio cubano"
          ],
          [
           "trip hop"
          ],
          [
           "trival"
          ],
          [
           "tropical"
          ],
          [
           "tropical house"
          ],
          [
           "tropicalia"
          ],
          [
           "trova"
          ],
          [
           "trova mexicana"
          ],
          [
           "truck-driving country"
          ],
          [
           "tuareg guitar"
          ],
          [
           "tucson indie"
          ],
          [
           "tulsa indie"
          ],
          [
           "tuna estudiantil"
          ],
          [
           "tunisian pop"
          ],
          [
           "turbo folk"
          ],
          [
           "turkish classical"
          ],
          [
           "turkish classical performance"
          ],
          [
           "turkish edm"
          ],
          [
           "turkish experimental"
          ],
          [
           "turkish folk"
          ],
          [
           "turkish jazz"
          ],
          [
           "turkish modern jazz"
          ],
          [
           "turkish pop"
          ],
          [
           "turkish psych"
          ],
          [
           "turkish trap"
          ],
          [
           "turkish trap pop"
          ],
          [
           "turntablism"
          ],
          [
           "twee pop"
          ],
          [
           "twoubadou"
          ],
          [
           "tzadik"
          ],
          [
           "ugandan pop"
          ],
          [
           "uilleann pipes"
          ],
          [
           "uk alternative hip hop"
          ],
          [
           "uk alternative pop"
          ],
          [
           "uk americana"
          ],
          [
           "uk contemporary jazz"
          ],
          [
           "uk contemporary r&b"
          ],
          [
           "uk dance"
          ],
          [
           "uk dancehall"
          ],
          [
           "uk diy punk"
          ],
          [
           "uk dnb"
          ],
          [
           "uk doom metal"
          ],
          [
           "uk dub"
          ],
          [
           "uk experimental electronic"
          ],
          [
           "uk funky"
          ],
          [
           "uk garage"
          ],
          [
           "uk hip hop"
          ],
          [
           "uk house"
          ],
          [
           "uk metalcore"
          ],
          [
           "uk noise rock"
          ],
          [
           "uk pop"
          ],
          [
           "uk pop punk"
          ],
          [
           "uk post-hardcore"
          ],
          [
           "uk post-punk"
          ],
          [
           "uk reggae"
          ],
          [
           "uk rockabilly"
          ],
          [
           "uk stoner rock"
          ],
          [
           "uk worship"
          ],
          [
           "uk82"
          ],
          [
           "ukrainian choir"
          ],
          [
           "ukrainian classical"
          ],
          [
           "ukrainian classical piano"
          ],
          [
           "ukrainian electronic"
          ],
          [
           "ukrainian pop"
          ],
          [
           "ukulele"
          ],
          [
           "umbanda"
          ],
          [
           "underground hip hop"
          ],
          [
           "underground power pop"
          ],
          [
           "underground rap"
          ],
          [
           "university choir"
          ],
          [
           "uplifting trance"
          ],
          [
           "uptempo hardcore"
          ],
          [
           "urban contemporary"
          ],
          [
           "urbano espanol"
          ],
          [
           "us power metal"
          ],
          [
           "utah indie"
          ],
          [
           "uzbek pop"
          ],
          [
           "uzbek traditional"
          ],
          [
           "v-pop"
          ],
          [
           "vallenato"
          ],
          [
           "vallenato moderno"
          ],
          [
           "vancouver indie"
          ],
          [
           "vancouver metal"
          ],
          [
           "vancouver punk"
          ],
          [
           "vapor pop"
          ],
          [
           "vapor soul"
          ],
          [
           "vapor trap"
          ],
          [
           "vapor twitch"
          ],
          [
           "vaporwave"
          ],
          [
           "variete francaise"
          ],
          [
           "vaudeville"
          ],
          [
           "vbs"
          ],
          [
           "veena"
          ],
          [
           "vegan straight edge"
          ],
          [
           "vegas indie"
          ],
          [
           "velha guarda"
          ],
          [
           "venezuelan hip hop"
          ],
          [
           "venezuelan indie"
          ],
          [
           "venezuelan rock"
          ],
          [
           "veracruz indie"
          ],
          [
           "vermont indie"
          ],
          [
           "vgm instrumental"
          ],
          [
           "vgm remix"
          ],
          [
           "victoria bc indie"
          ],
          [
           "victorian britain"
          ],
          [
           "video game music"
          ],
          [
           "vienna indie"
          ],
          [
           "vietnamese bolero"
          ],
          [
           "vietnamese pop"
          ],
          [
           "viking black metal"
          ],
          [
           "viking folk"
          ],
          [
           "viking metal"
          ],
          [
           "villancicos"
          ],
          [
           "vintage chanson"
          ],
          [
           "vintage chinese pop"
          ],
          [
           "vintage classical singing"
          ],
          [
           "vintage country folk"
          ],
          [
           "vintage dutch pop"
          ],
          [
           "vintage french electronic"
          ],
          [
           "vintage gospel"
          ],
          [
           "vintage hollywood"
          ],
          [
           "vintage italian pop"
          ],
          [
           "vintage italian soundtrack"
          ],
          [
           "vintage jazz"
          ],
          [
           "vintage old-time"
          ],
          [
           "vintage rockabilly"
          ],
          [
           "vintage schlager"
          ],
          [
           "vintage spanish pop"
          ],
          [
           "vintage swedish pop"
          ],
          [
           "vintage swing"
          ],
          [
           "vintage tango"
          ],
          [
           "viola"
          ],
          [
           "violao"
          ],
          [
           "violao classico"
          ],
          [
           "violin"
          ],
          [
           "viral pop"
          ],
          [
           "viral rap"
          ],
          [
           "viral trap"
          ],
          [
           "virgin islands reggae"
          ],
          [
           "virginia hip hop"
          ],
          [
           "virginia metal"
          ],
          [
           "virginia punk"
          ],
          [
           "visor"
          ],
          [
           "visual kei"
          ],
          [
           "vocal ensemble"
          ],
          [
           "vocal harmony group"
          ],
          [
           "vocal house"
          ],
          [
           "vocal jazz"
          ],
          [
           "vocal trance"
          ],
          [
           "vocaloid"
          ],
          [
           "vogue"
          ],
          [
           "volksmusik"
          ],
          [
           "warm drone"
          ],
          [
           "washboard"
          ],
          [
           "washington indie"
          ],
          [
           "wassoulou"
          ],
          [
           "water"
          ],
          [
           "wave"
          ],
          [
           "welsh folk"
          ],
          [
           "welsh indie"
          ],
          [
           "welsh metal"
          ],
          [
           "welsh rock"
          ],
          [
           "west african jazz"
          ],
          [
           "west australian hip hop"
          ],
          [
           "west coast rap"
          ],
          [
           "west coast reggae"
          ],
          [
           "west coast trap"
          ],
          [
           "west end"
          ],
          [
           "west virginia indie"
          ],
          [
           "western americana"
          ],
          [
           "western mass indie"
          ],
          [
           "western saharan folk"
          ],
          [
           "western swing"
          ],
          [
           "white noise"
          ],
          [
           "wind ensemble"
          ],
          [
           "wind quintet"
          ],
          [
           "wisconsin indie"
          ],
          [
           "witch house"
          ],
          [
           "women's choir"
          ],
          [
           "women's music"
          ],
          [
           "wonky"
          ],
          [
           "worcester ma indie"
          ],
          [
           "world"
          ],
          [
           "world fusion"
          ],
          [
           "world meditation"
          ],
          [
           "world worship"
          ],
          [
           "worship"
          ],
          [
           "wrestling"
          ],
          [
           "wu fam"
          ],
          [
           "wyoming indie"
          ],
          [
           "wyoming roots"
          ],
          [
           "xhosa"
          ],
          [
           "xtra raw"
          ],
          [
           "yacht rock"
          ],
          [
           "ye ye"
          ],
          [
           "yiddish folk"
          ],
          [
           "yodeling"
          ],
          [
           "yoga"
          ],
          [
           "yoik"
          ],
          [
           "york indie"
          ],
          [
           "yorkshire folk"
          ],
          [
           "yugoslav new wave"
          ],
          [
           "yugoslav rock"
          ],
          [
           "zambian pop"
          ],
          [
           "zeuhl"
          ],
          [
           "zhongguo feng"
          ],
          [
           "zimdancehall"
          ],
          [
           "zolo"
          ],
          [
           "zouglou"
          ],
          [
           "zouk"
          ],
          [
           "zurich indie"
          ],
          [
           "zydeco"
          ]
         ],
         "hovertemplate": "x=%{x}<br>y=%{y}<br>generos=%{customdata[0]}<br>cluster_pca=%{marker.color}<extra></extra>",
         "legendgroup": "",
         "marker": {
          "color": [
           2,
           2,
           1,
           4,
           4,
           0,
           0,
           1,
           4,
           4,
           3,
           0,
           3,
           2,
           4,
           0,
           1,
           0,
           3,
           0,
           4,
           4,
           1,
           4,
           0,
           1,
           1,
           2,
           1,
           1,
           1,
           1,
           1,
           0,
           0,
           3,
           0,
           1,
           3,
           0,
           3,
           1,
           1,
           1,
           0,
           1,
           1,
           0,
           1,
           3,
           1,
           0,
           0,
           3,
           3,
           1,
           3,
           3,
           1,
           1,
           3,
           0,
           1,
           2,
           3,
           0,
           3,
           3,
           0,
           2,
           0,
           0,
           2,
           2,
           2,
           2,
           2,
           4,
           3,
           2,
           0,
           2,
           0,
           2,
           2,
           3,
           4,
           3,
           2,
           1,
           3,
           3,
           3,
           0,
           0,
           3,
           3,
           0,
           4,
           1,
           4,
           2,
           0,
           0,
           0,
           0,
           2,
           0,
           1,
           3,
           1,
           0,
           1,
           1,
           1,
           1,
           1,
           3,
           0,
           1,
           0,
           2,
           0,
           1,
           0,
           2,
           1,
           0,
           1,
           2,
           0,
           1,
           1,
           1,
           3,
           1,
           2,
           3,
           1,
           3,
           1,
           3,
           3,
           4,
           3,
           0,
           0,
           1,
           0,
           1,
           2,
           1,
           2,
           2,
           2,
           0,
           3,
           3,
           1,
           1,
           3,
           3,
           0,
           3,
           1,
           3,
           3,
           1,
           1,
           0,
           3,
           0,
           0,
           1,
           1,
           3,
           0,
           1,
           1,
           2,
           2,
           2,
           0,
           2,
           1,
           4,
           3,
           2,
           2,
           3,
           1,
           4,
           1,
           1,
           1,
           1,
           2,
           2,
           4,
           0,
           4,
           1,
           4,
           4,
           4,
           3,
           0,
           2,
           2,
           4,
           2,
           1,
           3,
           1,
           1,
           1,
           4,
           4,
           4,
           4,
           0,
           2,
           1,
           4,
           4,
           4,
           2,
           2,
           2,
           2,
           0,
           2,
           2,
           4,
           1,
           0,
           3,
           1,
           1,
           3,
           1,
           1,
           1,
           1,
           3,
           1,
           1,
           4,
           0,
           4,
           1,
           0,
           4,
           0,
           1,
           3,
           3,
           3,
           2,
           2,
           3,
           3,
           1,
           0,
           3,
           4,
           3,
           1,
           0,
           0,
           0,
           0,
           4,
           1,
           1,
           0,
           2,
           4,
           1,
           2,
           4,
           3,
           3,
           2,
           2,
           1,
           1,
           3,
           3,
           3,
           1,
           3,
           3,
           3,
           3,
           0,
           3,
           0,
           4,
           0,
           4,
           3,
           3,
           0,
           1,
           4,
           4,
           1,
           1,
           4,
           1,
           1,
           4,
           4,
           0,
           1,
           1,
           1,
           3,
           3,
           0,
           1,
           1,
           4,
           0,
           1,
           1,
           2,
           2,
           0,
           0,
           2,
           2,
           1,
           2,
           2,
           2,
           1,
           3,
           1,
           4,
           4,
           3,
           4,
           4,
           1,
           1,
           1,
           3,
           1,
           3,
           3,
           1,
           0,
           2,
           0,
           0,
           3,
           3,
           3,
           1,
           3,
           3,
           0,
           1,
           2,
           2,
           1,
           2,
           4,
           3,
           0,
           4,
           3,
           3,
           0,
           0,
           0,
           2,
           2,
           0,
           3,
           0,
           1,
           2,
           3,
           0,
           0,
           1,
           1,
           1,
           3,
           3,
           1,
           3,
           0,
           1,
           1,
           1,
           0,
           3,
           2,
           4,
           4,
           0,
           0,
           4,
           1,
           1,
           1,
           2,
           4,
           1,
           2,
           0,
           1,
           4,
           1,
           3,
           1,
           4,
           2,
           2,
           2,
           4,
           1,
           0,
           0,
           3,
           1,
           2,
           4,
           3,
           1,
           3,
           0,
           4,
           0,
           1,
           1,
           3,
           3,
           0,
           1,
           3,
           3,
           2,
           0,
           3,
           3,
           1,
           0,
           2,
           0,
           3,
           0,
           0,
           0,
           4,
           0,
           0,
           4,
           4,
           3,
           4,
           4,
           1,
           4,
           4,
           4,
           1,
           2,
           2,
           2,
           3,
           1,
           2,
           4,
           2,
           3,
           1,
           1,
           4,
           2,
           4,
           2,
           2,
           0,
           2,
           0,
           0,
           3,
           1,
           0,
           0,
           1,
           3,
           4,
           1,
           1,
           3,
           4,
           4,
           1,
           3,
           1,
           3,
           3,
           3,
           1,
           0,
           3,
           1,
           1,
           1,
           4,
           4,
           1,
           4,
           1,
           0,
           0,
           1,
           3,
           2,
           4,
           0,
           4,
           1,
           4,
           3,
           0,
           0,
           2,
           2,
           2,
           3,
           3,
           1,
           0,
           3,
           2,
           0,
           0,
           2,
           2,
           2,
           1,
           2,
           4,
           0,
           4,
           0,
           3,
           1,
           3,
           1,
           1,
           0,
           3,
           3,
           0,
           3,
           3,
           1,
           2,
           3,
           1,
           0,
           2,
           0,
           1,
           1,
           1,
           3,
           3,
           0,
           1,
           4,
           4,
           1,
           1,
           4,
           1,
           0,
           4,
           4,
           4,
           4,
           3,
           4,
           1,
           1,
           1,
           0,
           4,
           3,
           3,
           3,
           4,
           0,
           4,
           0,
           3,
           4,
           4,
           4,
           0,
           1,
           0,
           4,
           0,
           1,
           4,
           0,
           0,
           1,
           0,
           4,
           3,
           4,
           0,
           2,
           1,
           1,
           1,
           0,
           0,
           1,
           2,
           0,
           2,
           2,
           2,
           2,
           2,
           2,
           2,
           2,
           2,
           2,
           2,
           4,
           2,
           2,
           2,
           2,
           2,
           2,
           2,
           0,
           2,
           2,
           2,
           4,
           4,
           1,
           3,
           1,
           1,
           1,
           1,
           1,
           1,
           1,
           1,
           1,
           4,
           1,
           3,
           0,
           3,
           2,
           1,
           2,
           3,
           3,
           1,
           2,
           2,
           2,
           1,
           0,
           0,
           2,
           4,
           4,
           2,
           4,
           4,
           4,
           3,
           1,
           1,
           1,
           3,
           0,
           2,
           1,
           4,
           4,
           0,
           4,
           1,
           1,
           1,
           0,
           4,
           4,
           1,
           1,
           0,
           1,
           1,
           3,
           1,
           3,
           1,
           1,
           1,
           4,
           1,
           1,
           1,
           1,
           1,
           1,
           1,
           1,
           1,
           4,
           1,
           4,
           1,
           1,
           1,
           1,
           3,
           3,
           4,
           2,
           2,
           4,
           3,
           4,
           1,
           1,
           1,
           1,
           3,
           1,
           3,
           3,
           2,
           3,
           2,
           1,
           2,
           3,
           1,
           0,
           3,
           1,
           3,
           3,
           4,
           1,
           4,
           1,
           1,
           3,
           1,
           3,
           2,
           0,
           3,
           0,
           1,
           3,
           3,
           3,
           3,
           0,
           3,
           3,
           3,
           1,
           3,
           3,
           3,
           3,
           1,
           4,
           3,
           3,
           0,
           1,
           4,
           0,
           1,
           4,
           1,
           0,
           3,
           1,
           1,
           1,
           4,
           1,
           3,
           1,
           1,
           3,
           1,
           1,
           2,
           4,
           3,
           4,
           0,
           3,
           0,
           4,
           0,
           1,
           1,
           2,
           3,
           3,
           3,
           1,
           3,
           1,
           1,
           0,
           0,
           0,
           2,
           4,
           1,
           0,
           1,
           0,
           0,
           1,
           1,
           3,
           4,
           1,
           1,
           1,
           1,
           0,
           1,
           0,
           1,
           1,
           3,
           1,
           0,
           3,
           1,
           0,
           4,
           0,
           1,
           4,
           3,
           2,
           1,
           1,
           1,
           1,
           4,
           1,
           4,
           3,
           3,
           1,
           1,
           1,
           4,
           3,
           3,
           0,
           4,
           0,
           3,
           3,
           3,
           2,
           1,
           0,
           2,
           2,
           3,
           3,
           1,
           3,
           1,
           2,
           3,
           0,
           2,
           0,
           4,
           4,
           3,
           1,
           0,
           3,
           4,
           2,
           3,
           3,
           1,
           4,
           1,
           3,
           4,
           2,
           3,
           1,
           3,
           1,
           0,
           3,
           0,
           4,
           4,
           2,
           2,
           2,
           2,
           1,
           2,
           0,
           3,
           1,
           1,
           0,
           4,
           1,
           0,
           3,
           2,
           0,
           1,
           3,
           1,
           1,
           4,
           3,
           3,
           4,
           0,
           1,
           3,
           0,
           1,
           1,
           3,
           0,
           3,
           1,
           3,
           3,
           3,
           0,
           1,
           1,
           1,
           3,
           3,
           3,
           1,
           3,
           2,
           3,
           2,
           0,
           4,
           2,
           3,
           0,
           4,
           1,
           2,
           3,
           4,
           1,
           0,
           0,
           0,
           2,
           4,
           0,
           1,
           3,
           3,
           1,
           1,
           1,
           1,
           4,
           0,
           2,
           2,
           1,
           1,
           2,
           0,
           1,
           3,
           2,
           0,
           0,
           4,
           4,
           0,
           4,
           3,
           1,
           4,
           1,
           3,
           0,
           2,
           3,
           2,
           2,
           3,
           3,
           3,
           3,
           3,
           3,
           1,
           0,
           0,
           2,
           1,
           0,
           3,
           1,
           3,
           0,
           2,
           1,
           3,
           1,
           1,
           4,
           4,
           4,
           4,
           0,
           0,
           3,
           1,
           0,
           0,
           0,
           0,
           1,
           4,
           4,
           1,
           1,
           1,
           4,
           0,
           0,
           1,
           1,
           3,
           2,
           1,
           0,
           0,
           0,
           2,
           2,
           1,
           2,
           2,
           4,
           3,
           3,
           1,
           0,
           0,
           3,
           4,
           3,
           4,
           2,
           2,
           0,
           1,
           3,
           1,
           1,
           2,
           3,
           4,
           1,
           3,
           3,
           3,
           1,
           3,
           0,
           4,
           1,
           1,
           3,
           3,
           4,
           1,
           1,
           1,
           1,
           3,
           3,
           1,
           0,
           1,
           3,
           0,
           1,
           3,
           0,
           3,
           3,
           1,
           4,
           2,
           3,
           3,
           1,
           1,
           3,
           0,
           3,
           0,
           3,
           1,
           3,
           0,
           0,
           1,
           0,
           3,
           2,
           2,
           2,
           0,
           1,
           3,
           3,
           1,
           1,
           2,
           4,
           3,
           3,
           2,
           2,
           1,
           1,
           1,
           3,
           1,
           2,
           3,
           2,
           2,
           2,
           3,
           3,
           3,
           1,
           1,
           4,
           4,
           3,
           1,
           3,
           3,
           0,
           1,
           3,
           3,
           3,
           1,
           1,
           3,
           0,
           4,
           4,
           4,
           0,
           1,
           4,
           0,
           3,
           0,
           3,
           1,
           1,
           3,
           3,
           0,
           3,
           3,
           1,
           1,
           3,
           4,
           2,
           4,
           4,
           3,
           2,
           4,
           4,
           2,
           1,
           3,
           0,
           3,
           1,
           3,
           3,
           1,
           1,
           1,
           1,
           3,
           3,
           4,
           0,
           4,
           2,
           4,
           4,
           4,
           2,
           3,
           4,
           4,
           0,
           4,
           1,
           1,
           1,
           2,
           0,
           1,
           2,
           3,
           3,
           4,
           0,
           3,
           1,
           3,
           1,
           3,
           3,
           3,
           1,
           4,
           4,
           4,
           2,
           2,
           2,
           2,
           4,
           1,
           1,
           2,
           1,
           1,
           1,
           0,
           1,
           2,
           2,
           4,
           1,
           1,
           1,
           1,
           1,
           2,
           2,
           2,
           2,
           2,
           2,
           2,
           4,
           0,
           0,
           1,
           0,
           0,
           4,
           4,
           1,
           3,
           2,
           1,
           1,
           1,
           1,
           1,
           4,
           1,
           2,
           2,
           2,
           2,
           0,
           4,
           4,
           4,
           0,
           0,
           1,
           1,
           2,
           3,
           2,
           0,
           0,
           0,
           0,
           0,
           0,
           0,
           3,
           0,
           4,
           2,
           4,
           1,
           1,
           2,
           1,
           4,
           4,
           1,
           0,
           0,
           4,
           0,
           2,
           1,
           0,
           0,
           0,
           1,
           0,
           0,
           1,
           1,
           0,
           3,
           0,
           1,
           0,
           3,
           1,
           3,
           0,
           0,
           3,
           4,
           0,
           3,
           1,
           3,
           0,
           1,
           2,
           0,
           0,
           1,
           3,
           3,
           0,
           4,
           4,
           0,
           1,
           3,
           3,
           3,
           3,
           0,
           3,
           0,
           0,
           1,
           1,
           4,
           0,
           2,
           0,
           0,
           4,
           4,
           1,
           2,
           3,
           0,
           4,
           3,
           4,
           1,
           4,
           4,
           2,
           2,
           4,
           1,
           3,
           1,
           0,
           0,
           0,
           0,
           2,
           2,
           2,
           2,
           3,
           2,
           2,
           0,
           1,
           3,
           3,
           1,
           2,
           0,
           2,
           3,
           2,
           3,
           2,
           2,
           0,
           3,
           0,
           3,
           2,
           2,
           2,
           2,
           0,
           4,
           4,
           1,
           1,
           3,
           2,
           0,
           3,
           1,
           3,
           3,
           3,
           1,
           3,
           3,
           1,
           3,
           3,
           0,
           0,
           1,
           1,
           3,
           4,
           1,
           2,
           2,
           2,
           2,
           3,
           2,
           1,
           3,
           0,
           0,
           1,
           3,
           3,
           2,
           4,
           1,
           0,
           4,
           0,
           3,
           3,
           0,
           3,
           3,
           3,
           3,
           0,
           3,
           3,
           1,
           1,
           3,
           0,
           2,
           0,
           0,
           1,
           4,
           4,
           4,
           1,
           4,
           4,
           4,
           0,
           4,
           2,
           4,
           4,
           0,
           0,
           4,
           4,
           3,
           2,
           4,
           0,
           4,
           0,
           4,
           1,
           0,
           4,
           2,
           4,
           4,
           4,
           4,
           4,
           4,
           0,
           2,
           1,
           0,
           1,
           1,
           0,
           4,
           1,
           4,
           3,
           1,
           1,
           1,
           1,
           1,
           4,
           4,
           1,
           4,
           1,
           4,
           3,
           3,
           0,
           3,
           0,
           1,
           0,
           1,
           4,
           1,
           1,
           4,
           2,
           1,
           1,
           4,
           1,
           2,
           0,
           0,
           4,
           4,
           1,
           2,
           2,
           2,
           0,
           4,
           2,
           2,
           3,
           1,
           1,
           1,
           1,
           2,
           2,
           4,
           1,
           3,
           2,
           1,
           4,
           0,
           0,
           2,
           1,
           1,
           1,
           2,
           1,
           0,
           4,
           1,
           1,
           1,
           1,
           3,
           1,
           1,
           1,
           4,
           1,
           1,
           1,
           0,
           1,
           1,
           1,
           1,
           4,
           2,
           0,
           0,
           3,
           1,
           1,
           4,
           0,
           2,
           0,
           3,
           0,
           0,
           3,
           4,
           1,
           0,
           4,
           1,
           4,
           0,
           0,
           4,
           0,
           0,
           1,
           4,
           3,
           3,
           3,
           4,
           0,
           1,
           2,
           0,
           4,
           0,
           3,
           2,
           4,
           1,
           0,
           0,
           1,
           0,
           3,
           0,
           2,
           3,
           4,
           1,
           3,
           0,
           0,
           0,
           1,
           4,
           0,
           4,
           1,
           4,
           4,
           0,
           0,
           1,
           0,
           1,
           0,
           3,
           0,
           2,
           0,
           3,
           2,
           0,
           1,
           1,
           3,
           0,
           3,
           3,
           3,
           3,
           3,
           3,
           3,
           3,
           3,
           1,
           3,
           1,
           0,
           4,
           1,
           3,
           0,
           4,
           1,
           1,
           0,
           4,
           3,
           3,
           3,
           3,
           3,
           0,
           2,
           1,
           3,
           1,
           3,
           1,
           4,
           1,
           1,
           1,
           1,
           1,
           3,
           1,
           0,
           2,
           2,
           0,
           2,
           0,
           3,
           4,
           1,
           0,
           2,
           0,
           3,
           1,
           0,
           3,
           2,
           0,
           3,
           3,
           1,
           1,
           1,
           0,
           2,
           3,
           0,
           3,
           0,
           0,
           3,
           1,
           1,
           3,
           0,
           0,
           1,
           0,
           2,
           2,
           1,
           2,
           3,
           1,
           1,
           3,
           1,
           1,
           1,
           2,
           3,
           3,
           2,
           1,
           4,
           4,
           4,
           0,
           1,
           2,
           1,
           4,
           4,
           0,
           4,
           4,
           0,
           4,
           4,
           1,
           0,
           0,
           1,
           2,
           3,
           1,
           1,
           0,
           1,
           0,
           2,
           4,
           1,
           4,
           4,
           1,
           1,
           4,
           1,
           4,
           4,
           4,
           1,
           0,
           1,
           1,
           4,
           4,
           4,
           1,
           0,
           4,
           3,
           3,
           1,
           2,
           0,
           4,
           4,
           3,
           3,
           0,
           0,
           1,
           3,
           0,
           4,
           2,
           1,
           2,
           1,
           2,
           4,
           3,
           0,
           3,
           4,
           0,
           1,
           1,
           2,
           0,
           4,
           0,
           3,
           1,
           0,
           3,
           3,
           0,
           0,
           0,
           2,
           0,
           1,
           0,
           4,
           4,
           0,
           3,
           3,
           1,
           3,
           2,
           2,
           0,
           1,
           1,
           0,
           3,
           0,
           2,
           1,
           3,
           0,
           3,
           1,
           4,
           4,
           1,
           1,
           4,
           1,
           3,
           1,
           0,
           1,
           3,
           1,
           0,
           3,
           1,
           2,
           3,
           3,
           1,
           1,
           3,
           3,
           0,
           3,
           4,
           1,
           0,
           3,
           3,
           3,
           2,
           2,
           0,
           1,
           2,
           0,
           2,
           4,
           3,
           1,
           1,
           3,
           1,
           0,
           3,
           0,
           3,
           1,
           3,
           1,
           3,
           2,
           2,
           2,
           3,
           2,
           1,
           0,
           2,
           3,
           3,
           3,
           3,
           3,
           0,
           3,
           0,
           1,
           0,
           0,
           1,
           1,
           2,
           1,
           3,
           0,
           3,
           3,
           1,
           3,
           4,
           0,
           0,
           0,
           0,
           4,
           1,
           4,
           4,
           3,
           3,
           1,
           1,
           1,
           3,
           2,
           0,
           1,
           0,
           1,
           1,
           3,
           0,
           1,
           1,
           3,
           1,
           2,
           1,
           0,
           3,
           1,
           0,
           1,
           0,
           1,
           1,
           1,
           3,
           1,
           0,
           4,
           4,
           0,
           3,
           1,
           0,
           2,
           2,
           3,
           2,
           2,
           0,
           2,
           2,
           2,
           3,
           2,
           3,
           0,
           3,
           2,
           2,
           4,
           4,
           2,
           1,
           3,
           1,
           1,
           1,
           4,
           1,
           0,
           0,
           2,
           2,
           3,
           1,
           3,
           1,
           1,
           3,
           4,
           1,
           4,
           0,
           0,
           1,
           1,
           2,
           0,
           1,
           1,
           1,
           4,
           0,
           1,
           0,
           4,
           3,
           1,
           1,
           4,
           3,
           1,
           0,
           1,
           1,
           1,
           4,
           2,
           0,
           0,
           2,
           4,
           1,
           3,
           3,
           3,
           4,
           0,
           3,
           0,
           1,
           1,
           1,
           1,
           1,
           3,
           3,
           4,
           2,
           1,
           2,
           2,
           2,
           2,
           2,
           4,
           3,
           4,
           1,
           1,
           4,
           1,
           1,
           2,
           1,
           1,
           1,
           0,
           1,
           3,
           1,
           3,
           1,
           0,
           1,
           1,
           0,
           1,
           3,
           0,
           1,
           1,
           1,
           1,
           3,
           0,
           0,
           1,
           0,
           1,
           1,
           2,
           3,
           4,
           1,
           0,
           0,
           3,
           0,
           2,
           1,
           1,
           3,
           3,
           3,
           3,
           2,
           3,
           0,
           0,
           2,
           2,
           3,
           1,
           3,
           1,
           3,
           3,
           0,
           2,
           1,
           0,
           0,
           0,
           3,
           3,
           3,
           3,
           3,
           3,
           3,
           3,
           3,
           3,
           0,
           3,
           3,
           0,
           3,
           4,
           3,
           0,
           4,
           0,
           3,
           0,
           3,
           4,
           0,
           1,
           0,
           3,
           0,
           0,
           3,
           3,
           3,
           1,
           4,
           0,
           1,
           4,
           1,
           1,
           3,
           3,
           3,
           1,
           3,
           1,
           1,
           4,
           2,
           2,
           3,
           0,
           1,
           1,
           1,
           0,
           4,
           1,
           1,
           4,
           2,
           4,
           0,
           0,
           1,
           1,
           1,
           1,
           0,
           1,
           1,
           1,
           3,
           1,
           2,
           3,
           1,
           0,
           3,
           3,
           4,
           3,
           1,
           4,
           4,
           3,
           1,
           1,
           1,
           1,
           1,
           1,
           1,
           3,
           1,
           1,
           1,
           4,
           2,
           1,
           3,
           1,
           0,
           1,
           4,
           1,
           0,
           3,
           1,
           3,
           1,
           3,
           1,
           1,
           1,
           1,
           0,
           3,
           3,
           0,
           1,
           3,
           3,
           1,
           0,
           0,
           1,
           4,
           0,
           1,
           3,
           0,
           1,
           1,
           4,
           2,
           0,
           2,
           1,
           4,
           0,
           0,
           1,
           0,
           0,
           4,
           0,
           0,
           0,
           3,
           3,
           4,
           2,
           2,
           3,
           3,
           4,
           0,
           4,
           3,
           3,
           2,
           2,
           1,
           3,
           0,
           0,
           2,
           0,
           3,
           1,
           2,
           4,
           1,
           3,
           1,
           1,
           1,
           1,
           1,
           1,
           1,
           1,
           1,
           0,
           4,
           4,
           1,
           1,
           4,
           1,
           1,
           3,
           1,
           0,
           4,
           2,
           4,
           1,
           0,
           1,
           0,
           2,
           1,
           2,
           0,
           1,
           0,
           4,
           1,
           1,
           1,
           1,
           1,
           1,
           3,
           1,
           0,
           1,
           1,
           0,
           2,
           0,
           4,
           4,
           1,
           0,
           0,
           1,
           4,
           2,
           2,
           4,
           3,
           0,
           3,
           0,
           0,
           3,
           0,
           3,
           2,
           1,
           0,
           0,
           3,
           0,
           2,
           2,
           1,
           1,
           1,
           0,
           1,
           1,
           1,
           3,
           4,
           4,
           3,
           4,
           3,
           3,
           3,
           3,
           0,
           3,
           2,
           0,
           1,
           3,
           1,
           0,
           3,
           0,
           0,
           0,
           0,
           1,
           3,
           1,
           4,
           0,
           1,
           0,
           4,
           1,
           1,
           1,
           4,
           0,
           0,
           1,
           4,
           0,
           2,
           2,
           2,
           1,
           2,
           1,
           4,
           1,
           1,
           1,
           4,
           1,
           1,
           3,
           1,
           0,
           3,
           3,
           0,
           1,
           0,
           1,
           3,
           0,
           0,
           1,
           1,
           3,
           2,
           4,
           2,
           0,
           2,
           2,
           2,
           3,
           1,
           0,
           1,
           3,
           0,
           1,
           0,
           1,
           1,
           2,
           1,
           1,
           0,
           1,
           3,
           0,
           1,
           0,
           4,
           0,
           4,
           1,
           1,
           4,
           4,
           1,
           4,
           0,
           4,
           1,
           3,
           3,
           3,
           2,
           1,
           3,
           2,
           4,
           4,
           2,
           2,
           2,
           1,
           3,
           0,
           0,
           0,
           0,
           0,
           0,
           3,
           3,
           1,
           1,
           1,
           3,
           3,
           0,
           3,
           2,
           1,
           1,
           3,
           3,
           0,
           3,
           3,
           1,
           3,
           3,
           0,
           0,
           3,
           0,
           3,
           3,
           2,
           4,
           0,
           3,
           3,
           1,
           3,
           3,
           3,
           3,
           1,
           0,
           0,
           0,
           2,
           0,
           3,
           1,
           4,
           4,
           0,
           3,
           2,
           2,
           3,
           1,
           0,
           2,
           4,
           3,
           3,
           0,
           1,
           1,
           3,
           4,
           4,
           1,
           0,
           0,
           2,
           4,
           0,
           0,
           0,
           4,
           1,
           1,
           1,
           1,
           4,
           4,
           4,
           3,
           4,
           4,
           0,
           0,
           3,
           0,
           3,
           3,
           3,
           0,
           0,
           1,
           1,
           1,
           1,
           1,
           3,
           1,
           0,
           0,
           1,
           1,
           1,
           1,
           1,
           0,
           4,
           1,
           3,
           4,
           2,
           3,
           3,
           1,
           4,
           0,
           0,
           4,
           2,
           4,
           0,
           1,
           4,
           0,
           4,
           0,
           4,
           4,
           0,
           1,
           1,
           1,
           3,
           3,
           3,
           1,
           1,
           1,
           3,
           0,
           1,
           1,
           1,
           1,
           1,
           1,
           3,
           3,
           3,
           1,
           4,
           4,
           0,
           1,
           1,
           1,
           0,
           0,
           4,
           4,
           0,
           1,
           0,
           1,
           1,
           1,
           4,
           2,
           3,
           3,
           4,
           4,
           4,
           0,
           4,
           3,
           0,
           1,
           0,
           4,
           2,
           0,
           4,
           1,
           1,
           0,
           0,
           1,
           1,
           1,
           3,
           3,
           3,
           1,
           0,
           1,
           1,
           1,
           1,
           3,
           1,
           1,
           1,
           3,
           0,
           1,
           1,
           3,
           0,
           3,
           2,
           2,
           2,
           3,
           1,
           4,
           1,
           1,
           1,
           1,
           2,
           3,
           3,
           1,
           1,
           3,
           0,
           4,
           4,
           1,
           1,
           1,
           0,
           3,
           3,
           0,
           0,
           1,
           0,
           3,
           0,
           4,
           1,
           4,
           3,
           3,
           4,
           1,
           1,
           1,
           1,
           0,
           2,
           3,
           1,
           2,
           0,
           0,
           1,
           1,
           3,
           0,
           3,
           4,
           4,
           4,
           2,
           4,
           4,
           0,
           4,
           4,
           4,
           2,
           4,
           4,
           1,
           4,
           4,
           4,
           4,
           4,
           2,
           4,
           4,
           2,
           0,
           1,
           1,
           1,
           1,
           3,
           3,
           4,
           3,
           2,
           4,
           1,
           4,
           3,
           3,
           1,
           4,
           2,
           4,
           1,
           0,
           2,
           1,
           2,
           3,
           3,
           3,
           0,
           1,
           1,
           1,
           1,
           4,
           1,
           0,
           1,
           0,
           4,
           2,
           2,
           2,
           2,
           0,
           3,
           0,
           0,
           1,
           0,
           0,
           2,
           3,
           0,
           3,
           1,
           3,
           0,
           0,
           3,
           0,
           0,
           2,
           4,
           2,
           2,
           4,
           0,
           1,
           1,
           1,
           3,
           1,
           1,
           0,
           1,
           1,
           4,
           1
          ],
          "coloraxis": "coloraxis",
          "symbol": "circle"
         },
         "mode": "markers",
         "name": "",
         "showlegend": false,
         "type": "scattergl",
         "x": [
          5.9102681082217945,
          2.7870931528085947,
          -0.7575375383744639,
          1.0205214866168166,
          0.7539105142791425,
          1.7971062652419418,
          -0.4620496054489369,
          -1.3116722595637265,
          0.5984179553898565,
          0.5982012013950391,
          -1.1656525385277154,
          -0.07118124655695997,
          -2.1717115858284015,
          3.6732966630297708,
          0.8327855889826037,
          0.001405939211135068,
          -0.9273057420077749,
          0.6796203745139363,
          -1.4878005371777185,
          -0.25016976307256567,
          0.9541894103960765,
          0.8894938464845353,
          -0.9349244756981557,
          2.435242216702913,
          -0.5794096848078703,
          -1.687270487008668,
          -1.06652907590303,
          3.743308758581934,
          -2.154301657445695,
          -1.0808503055522527,
          -0.9549632645218921,
          -3.235872651592803,
          -1.711975534173557,
          -0.43365637370201976,
          -0.6062336832001025,
          -0.9441629326199638,
          -0.21897352791236935,
          -1.5617667209055157,
          -1.3458348880477147,
          -0.6937048482628616,
          -1.619040544664701,
          -1.5333276858350358,
          -1.698833579257117,
          -1.8093965083506094,
          1.0018621405554713,
          -1.550555791953906,
          -2.6162017995351032,
          -0.7218561265706737,
          -0.9358284356998535,
          -2.3217190043773908,
          -2.1698597717064203,
          -0.11704076484140155,
          -0.17798254163413815,
          -1.3770978627884978,
          -1.277570648448912,
          -1.6689082229336598,
          -1.4330066722916897,
          -0.8812940272849349,
          -1.9337278510850244,
          -0.9919561769523915,
          -0.855440801250114,
          -0.450048628592535,
          -1.0642892702634437,
          3.4626062715850767,
          0.6998427652454081,
          1.0246979229312394,
          -0.8535513919608633,
          0.6504792609298515,
          -0.47748776932747095,
          3.6547368585169044,
          -0.5680284493815139,
          1.227568557882675,
          6.308184544302044,
          3.394757217806677,
          4.909954292792233,
          4.521497311111671,
          3.436840226679443,
          1.7065111212663084,
          -1.994921310407094,
          2.883522671902226,
          -0.049240415763694416,
          4.2518819078177,
          1.520533909000314,
          2.7578274763525528,
          3.8188688418188868,
          0.5222233385124357,
          0.6640664570007118,
          -1.8377265384972323,
          4.3073699327256145,
          -0.9793272008623085,
          -1.753254673290716,
          -2.255179190561469,
          -2.290441566421831,
          -0.28007894163165453,
          0.22291185347269307,
          -1.5101821955287535,
          -0.6192845089796347,
          -0.07420986987072403,
          1.6728243374303775,
          -1.94335301465705,
          1.0149766128732864,
          2.7195576686454257,
          0.9057166961074976,
          -0.21837300691801076,
          -0.262566556562155,
          0.8449080453819653,
          2.832779475931769,
          1.4614957709996284,
          -1.5842602988284016,
          -1.8856176787118504,
          -2.393866425909586,
          -0.008422928392725867,
          -3.0786420856227754,
          -1.6438199733026302,
          -2.039372984415572,
          -0.9968674357840717,
          -1.9809887425444181,
          -1.9736099706764743,
          -0.21426030082170933,
          -2.3201588880940083,
          0.6288114935083472,
          5.262718544641116,
          -0.12166536408823837,
          -1.012105475461396,
          0.035260963005684674,
          3.49261051434279,
          -1.2753710449014175,
          0.32826468813668297,
          -1.6951789119860827,
          3.7286177933129556,
          -0.610701559201713,
          -1.9032893260849413,
          -1.8874273931826748,
          -1.4787588103471283,
          -1.6879273436441131,
          -2.160665941591211,
          4.6580882075069185,
          0.6998427652454081,
          -1.8094474553131523,
          0.6443884999442745,
          -2.818281416913886,
          0.6443884999442745,
          -1.471692683880156,
          1.8781753016297524,
          -1.1338434847768155,
          -0.7702516670886762,
          -0.5221138504004776,
          -0.9270989547196352,
          0.5931378934821796,
          -1.3843251626688349,
          5.27117778440782,
          -0.9642170705834134,
          3.7543195842804673,
          2.992652708073429,
          4.167831601809075,
          -0.3896280793317456,
          -1.6424751435576141,
          -1.1675433931298085,
          -1.7381524969306452,
          -1.9383384408051347,
          -1.6757529454902504,
          -1.187337265148716,
          -0.3541927469754771,
          -1.9748930162104523,
          -1.4332166640427928,
          -1.8599621279939214,
          -1.628508125210332,
          -1.2616275422044285,
          -1.2397362810749406,
          0.188682881243727,
          -1.2018029791688296,
          0.07754390698956933,
          -0.436069970580209,
          -1.272795338523541,
          -1.02740903974863,
          -1.8617821657705755,
          -0.8788683358223205,
          -2.622199874478132,
          -1.6576596345415073,
          4.075563099476095,
          4.894322340584223,
          4.158854712674679,
          0.3441558565252684,
          3.2529655317034614,
          -2.0146663246069756,
          0.19335161691421668,
          0.5398747178532811,
          4.4076560013832,
          2.359553565217616,
          -1.0134812826832036,
          -1.4775598253498055,
          1.7516550987332944,
          -1.9813204401207747,
          -1.5921148477738623,
          -1.8603543986322106,
          -1.6438683942628738,
          4.743511527342341,
          2.1646111991229042,
          1.9271058748133272,
          0.24867553257171032,
          0.26404958881534574,
          -3.106214577644638,
          1.0069292318079606,
          0.7363487998666418,
          0.013770393933029923,
          -0.9862592055897735,
          -0.010758925244005563,
          5.381249937095058,
          3.0311340782567386,
          2.121957979975028,
          5.37682505488502,
          -1.8715344938197171,
          -0.8257044500186871,
          -1.8050999520940776,
          -1.5965747063171403,
          -1.390362051849043,
          2.381784988233929,
          0.3267105421940264,
          1.185544836543208,
          2.2307952333073504,
          0.18273407852012666,
          4.81981338611359,
          -1.89311904727584,
          1.0877277036361286,
          1.2390028548321215,
          2.3940366677464064,
          2.5765941967237214,
          3.7581250644676363,
          3.603387921723093,
          3.0892966317647015,
          -0.2978414883711009,
          4.138457045658253,
          2.6839649557379297,
          0.9951124914788209,
          -1.64092692281903,
          -0.10733653159368327,
          -1.7242942774158052,
          -2.2972037194660824,
          -2.151173770862403,
          -1.575918141576342,
          -1.3487051914956136,
          -2.026548482080459,
          -2.1206904747689888,
          -1.9307654535976813,
          -0.9234066530601974,
          -1.2516471860681757,
          -1.9113516620063316,
          0.7812550919890988,
          -0.5237497338668535,
          1.5258122967139598,
          -1.481522903777516,
          -0.8608015003990186,
          2.0664450888696644,
          -0.3918110027355383,
          -0.8627420859305032,
          -1.7244851503949108,
          -2.451976422151481,
          -2.451976422151481,
          4.911094086350665,
          2.1284228776298373,
          -2.0262276800530055,
          -1.7259688400927664,
          -1.7612462995881768,
          -0.32942484453738213,
          -0.7167812722224335,
          2.3599126557972525,
          -0.41095162447510675,
          -2.07249906783173,
          0.4941512548817769,
          0.394736757846106,
          0.501114745599441,
          -0.15019477310741117,
          2.264366565829926,
          -1.3540154536804447,
          -1.4700532554453174,
          -0.3914865896117497,
          2.928686830844195,
          1.5627344941817924,
          -1.804653395322846,
          4.421919934708996,
          1.6666341252458157,
          -0.8630069468661098,
          -1.8240161816083955,
          6.202329832453551,
          2.700729757114224,
          -1.9219988731601116,
          -3.885335156982538,
          -0.32373523372279195,
          -1.483043799221636,
          -0.6661581305866574,
          -0.8975313027897456,
          -0.2715001095859894,
          -2.026007496411841,
          0.030668548225325627,
          -0.6661581305866574,
          1.6679376175634013,
          -0.962843199003248,
          0.05229047058608263,
          1.4342428370670814,
          -0.07440927214208784,
          0.31619568972430323,
          -1.6854348307187539,
          -1.3783735498215977,
          -0.5302811239602089,
          -1.9482834157370146,
          0.4376816653802438,
          0.4611651127096499,
          -0.6169217471719327,
          -1.1400256377059372,
          1.2533220435925623,
          -1.806501142362128,
          -2.1058975606514685,
          0.5834156893519926,
          0.6150431813346561,
          0.8314068380244768,
          -1.1677498330947194,
          -1.8797451580250861,
          -1.5737313828666788,
          -1.714870972910062,
          -1.2187163240425551,
          -0.9081075934919383,
          -2.4076385061986554,
          -2.631247737130893,
          1.5673168136376303,
          1.2606761374764381,
          -1.273136278441533,
          -1.9933897451720628,
          6.078392568331346,
          6.202329832453551,
          1.8806471974660983,
          0.48550384897295196,
          3.7247868746474655,
          4.999022851023018,
          -0.6507019188068316,
          2.831754032108111,
          5.157224121091321,
          3.8192902746508084,
          -1.8812815325483472,
          -1.0170415780895803,
          -2.343114277873313,
          -0.06139419459486099,
          1.1244973226335095,
          -1.0170415780895803,
          1.5499874451851445,
          -0.23880439879088797,
          -2.0548948833262486,
          -1.4608536919332902,
          -1.2511268482027644,
          -1.432623136909021,
          -0.8322050040893003,
          -1.0170415780895803,
          -1.4771002595731535,
          -2.628606599334161,
          -0.2103525565903901,
          3.722041106491932,
          -0.6601937727661521,
          -0.08898081277070419,
          -1.3796424287630304,
          0.8934594009314062,
          -0.6029963198787512,
          -0.7120551860400108,
          -0.7769839379468484,
          -0.6805758573158147,
          -0.2427984490140355,
          -1.956231538351015,
          4.118042026063585,
          5.71374103184416,
          -0.7417411626392645,
          4.424095099147773,
          2.327318240629539,
          0.017763471206448334,
          0.3014939930849976,
          0.9650215283895119,
          0.02246839262249741,
          -1.219965045969142,
          0.34177511590531057,
          -0.5378912868672481,
          0.8644678960471941,
          4.004696577326853,
          4.008320181774835,
          1.3829663131262564,
          -2.0574297891427644,
          1.3094774137593308,
          -1.2244223547667648,
          3.301387747874773,
          -1.11076041847659,
          0.5360702750732715,
          -0.2474405369725475,
          -1.9441899850782944,
          -2.1330576537603543,
          -1.0891187918604013,
          -1.8302469752259656,
          -0.15516416449344067,
          -0.9951653539849201,
          -1.359606053701547,
          -0.6110809564064192,
          -2.5498154982660934,
          -0.60677530526471,
          -0.7288872748469309,
          -0.6427561202341462,
          -0.8384661829154185,
          7.048160534198854,
          3.0862995100788644,
          1.6499160539143825,
          0.5039626516959589,
          -0.76282347792543,
          1.909886143097406,
          -0.7381554703584147,
          -1.2105050375339603,
          -1.616500641144998,
          2.9152852845241632,
          0.7875315395435433,
          -1.4713066508652932,
          3.840536654487977,
          0.8180105809922924,
          -1.5363920461225509,
          1.5017010248753793,
          -0.8269573928584226,
          -1.23655379848635,
          -1.1213910396496642,
          0.35325357571309424,
          4.156988672470463,
          4.181143915852827,
          5.874241617946339,
          0.7726737970500185,
          -1.2384651584229953,
          0.17391144426442484,
          -0.291019156821326,
          -1.3643289196729798,
          -1.001357622951206,
          2.814361084932083,
          1.0152267748235695,
          -0.8997096472317083,
          -1.8161225830951806,
          -0.4069198563664308,
          -0.6222506022041557,
          0.9298554236724578,
          -0.031158874814143506,
          -1.8953253854100014,
          -2.0864594737726576,
          -1.0330740365002846,
          -1.6484788353344284,
          -0.07688967377256156,
          -0.9626729037514548,
          -2.014035053021467,
          -1.3293413005641408,
          2.9602001025583244,
          0.3366612973343734,
          -1.713615022176361,
          -1.432279762951495,
          -0.9929724146692328,
          0.37104684811124167,
          2.6387134059669584,
          -0.028077801649979528,
          -1.6676648655046535,
          -0.6079060289417967,
          0.02237747438216035,
          0.9645203776907141,
          1.238776128033603,
          0.3211546567581573,
          0.39931016340159853,
          1.4480493860298334,
          2.279897641894934,
          -0.2266340201036189,
          0.25316511117440327,
          -0.21480126217786139,
          -2.4628532337473232,
          1.369780176535799,
          1.7508953452310558,
          1.3863298495833434,
          -1.2538737101450228,
          5.1330501699713285,
          3.5265151258837,
          6.346033202222226,
          -0.6161373499207315,
          -2.3748289472525204,
          2.2533078147803614,
          0.8167571253489768,
          3.6537653788133873,
          -1.8047421918261302,
          -1.8627951125034803,
          -0.9242152643491607,
          0.7066524688936531,
          4.942598053975865,
          1.1252336127832723,
          4.795289250255228,
          2.4635678490114996,
          -0.09446247231001616,
          4.247306482872686,
          0.24903576136686995,
          -0.1101929401743654,
          -1.8060319312706896,
          -1.4690797127486257,
          -0.025425946360966362,
          0.3370037422179007,
          -1.0272113725970837,
          -1.1806601610443497,
          -0.08462383414741051,
          -1.2131974145350364,
          -1.5289774319052667,
          -1.337808685779718,
          0.9015460755941916,
          0.34704130353341295,
          -1.8391030814300064,
          -1.2105926310370014,
          -1.3843046322401926,
          -1.1745523891881091,
          -0.8900534710795279,
          -1.7792525918076751,
          -1.7629015313750147,
          -0.22626369877920566,
          -1.3596743740108523,
          -1.437329804222368,
          -1.0505476390009727,
          -1.232690715418207,
          1.3565283499092398,
          -0.31742155846790193,
          -0.8073456954282046,
          0.6294753135461074,
          -2.0174373591629937,
          -0.11454795107118945,
          -0.5797367236830111,
          -1.8188905101656416,
          -0.21705098951570226,
          4.529430260517016,
          0.33318971537504816,
          0.9708797436014687,
          -0.17127054263204167,
          -0.794185250026439,
          0.1589213249972655,
          -1.187643224151159,
          -0.6402858806840847,
          0.8750838457096441,
          3.6087315817291588,
          5.022988638057471,
          5.805832447701812,
          -2.484585586954588,
          -0.06723872685756636,
          -1.8199456802868195,
          -0.16463751050254677,
          -0.9373426065815248,
          3.695987464448698,
          -0.11499063549310383,
          -0.31191194974263775,
          3.6087315817291588,
          2.962821117328597,
          1.9745255543280624,
          -1.8693347569376906,
          3.9265835294224662,
          0.8514655969973886,
          0.25165487338246073,
          1.5069037952476545,
          0.8765073635953349,
          -0.849328625697538,
          -2.7670422182850576,
          -1.9426782361716526,
          -1.9404583741889667,
          -2.327714153105752,
          -0.4893008855169198,
          -1.244808553462056,
          -1.468188796976153,
          -0.41977050789702136,
          -1.1794041820554677,
          -0.7316519448921265,
          -1.9934477924940701,
          2.6589574687484148,
          -1.8424902425655327,
          -1.9752037541359393,
          0.4973821345345369,
          2.803014248045929,
          0.8898853897758188,
          -1.6997216230484247,
          -1.1189657700263962,
          -2.2297276153308543,
          -0.736915574314453,
          -2.8860579727672393,
          -0.04773120798274592,
          -1.245507758932584,
          1.5812933821637345,
          0.3862402573486101,
          -1.3826420603119791,
          -2.4775829776870504,
          1.1497627661579262,
          -1.085969756457868,
          0.6207099620941167,
          -0.07313623450418984,
          0.0026958861477242623,
          2.1700272297685474,
          0.3671862771709776,
          -0.9314426872002082,
          2.3532485455974834,
          -1.0597890934720609,
          -2.276109855694125,
          -0.7031780913867123,
          -0.2926633824128872,
          1.0280402330301828,
          -1.16482213767772,
          0.45116045775254743,
          -0.5491172599185644,
          -0.6751459147216354,
          0.2997968815429108,
          2.6834129126268156,
          0.5984074638508643,
          -0.5498879058004906,
          1.5305789710549682,
          1.6719273733102389,
          2.3650341880945858,
          0.5073760258805262,
          -1.3539098259275268,
          0.5151319213344537,
          1.0608289232294803,
          0.5729789672192859,
          -0.7152407495550084,
          -0.043178192952210606,
          1.6217258746453858,
          0.3675158568404512,
          -0.7640261804664323,
          -0.5419837729171583,
          1.0156004276682964,
          -1.010490103971869,
          0.34745430653825055,
          -0.2807461940428689,
          3.187703134852315,
          -0.5452603790317767,
          -1.632620562430046,
          -1.1815682360615913,
          0.48316178858881287,
          -0.46624827532572416,
          -0.6461748391001946,
          4.245475571774246,
          -0.170327940417602,
          3.4798674918083137,
          3.840975880940373,
          4.963938781947,
          4.408080150824802,
          4.139496296933864,
          4.0312853081022775,
          3.936321424219397,
          4.187078489713527,
          4.917808163601019,
          4.9595316070320346,
          5.491363812178901,
          1.53246246905525,
          3.786004970194431,
          4.224405197605612,
          3.8134457247031825,
          4.269047290947432,
          5.355886276386325,
          5.6345253172503185,
          5.131366024213474,
          1.5778734844665676,
          3.628399804806302,
          3.374867958400428,
          3.1366409364731784,
          1.5464616640991637,
          1.7734555001668157,
          -0.5736981384083443,
          -1.3474769379185074,
          -1.4095676969430224,
          -1.7902349574504643,
          -0.9599392716314985,
          -2.3378502090707283,
          -1.9219232563386317,
          -1.455468336595946,
          -1.907226287672336,
          -0.6716795002770619,
          -2.004656223155101,
          0.3251566625513809,
          -1.1523860720717638,
          -1.4557044571067244,
          0.18059071362684256,
          -1.9079350595148405,
          3.5236590611379057,
          -2.049118693479205,
          3.618083406229153,
          -1.7374845146577116,
          -1.4392948516572366,
          -1.5714083380161559,
          6.308184544302044,
          5.008294840003463,
          5.403265664257091,
          -1.4853710029965543,
          0.33114376729517814,
          -0.46419951317277985,
          2.793778628069706,
          2.2293271459533788,
          1.3893334009215683,
          4.269223510110595,
          2.1474447251427846,
          0.7629686163768572,
          0.5313880649539591,
          -1.1115207404332907,
          -1.8204209333872419,
          -2.1921376455691473,
          -1.6730626775637123,
          -0.5625611286937763,
          0.4519180457487405,
          1.9195738575431929,
          -0.8702170708257273,
          1.0741748437686,
          -0.2271813656959777,
          -0.8526204872249913,
          0.43098339581022055,
          -1.5594414900233997,
          -1.7883857649490378,
          -1.2843690828034702,
          -0.3289293614603017,
          1.0518143755809588,
          0.5340816012176943,
          -1.1097151949345354,
          -1.9685741228713403,
          1.352697131444028,
          -1.1080951590932833,
          -1.1080951590932833,
          -0.7862581323449487,
          -2.186656988218458,
          -0.796602805439535,
          -1.841841154586214,
          -0.7800250543797576,
          -2.478483820128177,
          0.2597603556403647,
          -1.355029769381704,
          -1.6177557993272018,
          -1.8260772103567122,
          -2.3046905029491946,
          -1.7235553968485768,
          -1.3761949647926444,
          -1.02187574328525,
          -1.7791379054828043,
          -2.656622572909874,
          1.029114625510055,
          -3.094666351260062,
          0.2724699225082953,
          -1.7900071853916149,
          -2.4793830877712435,
          -1.887169023550592,
          -2.643073812178535,
          -0.3573801366614923,
          -2.567193649556244,
          1.3794835128663614,
          4.5251235539365995,
          4.716885186699747,
          2.5950255919710705,
          -1.136616537299091,
          1.9842254319975148,
          -2.4281391425039116,
          -1.356175401140455,
          -1.6507557002712345,
          -0.9916773688297719,
          -1.4614838432330985,
          -2.1097261247542543,
          -0.5491172599185644,
          -1.9852742550337772,
          4.386572613899495,
          -1.1101722919442196,
          3.3776002947938033,
          -2.434424783398598,
          3.593493867103376,
          -0.49643132082921304,
          -2.442010816809561,
          1.0393967728352183,
          0.024172636350282165,
          -2.5360436014647667,
          -1.4224961761214603,
          0.024172636350282165,
          -0.26129956152696887,
          -0.9108428135470139,
          2.094042485609157,
          -2.5645649137076534,
          -1.2386221853149901,
          -0.3084219235875961,
          -1.5155895125722447,
          -2.0312986146780387,
          3.863104889734329,
          -0.1083829959440769,
          -0.6022552644160737,
          0.517750965521336,
          -1.7090697231493615,
          -0.27614522230501054,
          -0.7551372548019916,
          -1.3763064760423578,
          -0.5312260392016581,
          0.23717195172482433,
          -0.3026081729421215,
          -0.5065280021147457,
          -1.2055895512885537,
          -0.8204348260187271,
          0.2660650637100623,
          -0.29884421461537614,
          -0.8728012554034774,
          -1.7175667292646404,
          -1.5155528888804215,
          0.8864093485671768,
          -1.6766468747459682,
          -0.4694345966142334,
          0.8710775895722581,
          -0.8644705676615119,
          -0.7144561741353842,
          -0.44068855694914794,
          -2.7902709009224282,
          2.890414617654669,
          -1.1507276718314714,
          -0.8031773216690995,
          -1.947382401954026,
          -2.1629636170947366,
          -1.4723654985500974,
          -2.6893121402844167,
          0.9240011933509131,
          -1.7474528809598422,
          -0.1457665336864973,
          -1.898358690244528,
          -2.6693478479357364,
          -0.5221693744493334,
          -1.4548434949416957,
          -1.0283096381666235,
          2.362239771180449,
          0.5436395862813675,
          -1.8689304368530792,
          1.171003621255903,
          0.6999040042938867,
          -1.704447142955155,
          -0.5920546990026874,
          0.44986497282074284,
          -0.3295745148089147,
          -1.6376693914418612,
          -1.4572609901665465,
          2.4660708696178197,
          -1.2095953675949753,
          0.5254555899481623,
          0.07547147484810726,
          -1.584713439364369,
          -2.9080619282235425,
          -1.1765084408048714,
          -1.9119343526634274,
          0.9356036829290545,
          -0.36086600256967216,
          0.967963586119679,
          4.699816675368837,
          -0.47233140556173264,
          -2.0056305322142784,
          1.5727472398500442,
          -0.9464089318334719,
          1.4686267276229203,
          0.501114745599441,
          -1.3537495043623873,
          -1.8434120476123388,
          -0.6537657414667494,
          0.8902655962892365,
          -2.816259125058931,
          -1.223509588635169,
          -1.51278496051753,
          -0.9684779368006278,
          1.1487058582651952,
          -1.0984469249325663,
          0.5022377972137839,
          -1.4812543999862993,
          -0.5435665341609944,
          -1.2909649366086222,
          -2.1628333074786075,
          -0.8354743294354069,
          -0.03314856246124715,
          -2.01492656924932,
          1.7960332420843457,
          0.7846163460118237,
          0.32114376159708025,
          -2.190137139222609,
          2.5971373640646997,
          -1.6127967117375037,
          3.02605302894775,
          -2.0657056457669625,
          -1.5210993374175878,
          -0.9258655178346514,
          -2.0743795323201732,
          0.7511849781136245,
          -1.7164833605229046,
          1.3199455730608431,
          -0.29967490885489606,
          -1.0601592783170943,
          -1.5793861632167496,
          -1.6924656514757925,
          -3.13317773279554,
          -0.0372462328629705,
          -0.08421121464130042,
          -0.7467746719958055,
          -0.16470824566879239,
          1.4022482201741089,
          0.4677989764236724,
          -1.3373216840889646,
          0.08110278845448576,
          -1.3779265458413683,
          5.031107844903642,
          -1.898392214778935,
          0.5995552083481094,
          3.5252046394474537,
          2.268319149636233,
          0.9096299592015574,
          -1.026418914347898,
          -1.0690904627080777,
          0.6556631320797374,
          -2.02376901941226,
          2.1959209999050584,
          -1.920267434098355,
          0.6521268829335795,
          5.262718544641116,
          -0.6974112188432161,
          0.7820338260369193,
          -0.2090432327886091,
          0.6998427652454081,
          -2.0224335239758715,
          0.47120716399528284,
          -1.2604802866831246,
          1.8271454550885453,
          6.083318328609309,
          -0.850869633244279,
          -2.0825048372647577,
          -2.224336625502372,
          1.4014298850676419,
          -2.72282952995868,
          -1.6085417664418025,
          1.6013054390496686,
          3.3170485154906735,
          -0.8936287712527985,
          -1.0459539727090397,
          -0.7263218841933001,
          -2.943648169892281,
          0.06221403756445228,
          -1.1663865563967553,
          -0.5132483562854896,
          0.652517874046073,
          2.2136234284814886,
          4.1576892330428565,
          3.995264448657275,
          3.744144134343589,
          3.334036129265215,
          -0.67069228623616,
          3.7210836024692706,
          -0.7220199150774415,
          -1.5037488884709544,
          -1.8208063443174318,
          -1.3092499530556858,
          -0.5828274996029217,
          1.876743018100114,
          -2.3135721971896444,
          0.70991282012931,
          -0.7812682277707911,
          3.3949279818682623,
          0.9032880273730485,
          -1.5365804542172712,
          -1.6283452043117537,
          -1.70226848149421,
          -2.4352854352283106,
          2.0186542826167475,
          -0.316615551563935,
          -0.8941954290264572,
          1.1047609784727364,
          -0.19612740703368434,
          -1.328020041906507,
          -1.8704463127127646,
          -0.7325588346573655,
          -2.4322104556325086,
          -1.0631051517428247,
          -0.9018458559798227,
          -0.569049586138495,
          -1.7303866732825897,
          -2.1007718092553658,
          0.12062405251041515,
          -1.5280973319537645,
          -1.9108022973619916,
          -0.21031089609908846,
          -1.794354812733885,
          -1.536121305827938,
          -2.216000136727968,
          -1.4955985695299727,
          -2.5500589751698035,
          -1.0982262167206454,
          -1.2393277340386921,
          -0.8577092210584601,
          3.6603956645131954,
          -2.6601514416636047,
          4.225043041397308,
          0.4150807814857089,
          1.1880597387996015,
          2.753189107588193,
          -0.29049845972908994,
          0.5136929486351995,
          1.8792188806685457,
          -1.665774549979445,
          4.166293634806009,
          -0.5221693744493334,
          1.0434337104662197,
          -1.873099653497444,
          0.850028535373002,
          -0.33185038438281483,
          0.27442997513218687,
          3.4812762404541298,
          2.3317755006466854,
          -0.07084590733890439,
          -1.2092837434063095,
          -1.3631427295039151,
          -2.4502227813858064,
          -2.088476993478859,
          -1.8057549808143698,
          -3.399583731082439,
          -1.699822589137529,
          1.5209018222443884,
          0.7646308800896886,
          4.478609512834524,
          2.4661133198039717,
          -2.2354904599284446,
          -0.8246614851720215,
          3.432450645076326,
          -0.4882362322682685,
          -2.0813223551309625,
          0.14989400405551798,
          1.8973889528910974,
          -0.13683775308019513,
          0.4502592342354187,
          2.0957686662777855,
          0.9153914685653913,
          0.5857264273779648,
          2.233359533306139,
          -3.045076587771544,
          -2.329150871431178,
          0.45432202704512586,
          -1.6301207350897278,
          -1.4143229884606345,
          0.24435456870028188,
          3.21079964856441,
          -0.9304532954544279,
          5.15003575398485,
          5.004281707388851,
          -1.3148675759101842,
          -0.7597385878813318,
          -1.6628375487419662,
          -1.890230329783115,
          -1.5328467352522697,
          -1.2536233695640084,
          -1.230235225523595,
          0.10461162581345607,
          0.5222047642496482,
          4.431045401922307,
          -1.189688486841706,
          0.382651510728624,
          -0.7773625634585382,
          -1.4952959189875172,
          1.667526722398398,
          1.485242878068136,
          4.356729544123439,
          -0.9108592533331856,
          0.18164272293418607,
          -1.8732582454237798,
          -1.6946786996734693,
          0.43583143175887645,
          0.4879910198583239,
          2.765858150220442,
          1.95408766817973,
          -0.17613599599091642,
          0.4227931229385329,
          -1.6117359369821913,
          -1.0419915528465538,
          -0.1202123747315058,
          -0.11140233801850595,
          -0.3443427862674368,
          0.6672750904822246,
          -1.2131974145350364,
          2.5136903101093653,
          1.1845545043666192,
          -1.7553890311473126,
          -0.6992418306210507,
          -1.058019557956237,
          2.3119403786115744,
          -0.1368894817829303,
          -0.8741749815567258,
          -0.9304422088236265,
          -0.9840382097343711,
          -1.3564305630785587,
          3.3966287287929506,
          -1.7688160662074723,
          0.25324946539756943,
          -0.5625432966733258,
          0.13894980838009333,
          2.9951823246963127,
          2.321929694779631,
          -1.4964895263633482,
          3.2743693149316204,
          5.335536638163783,
          1.197094866717349,
          -0.9325106706495225,
          -1.0348098358027824,
          -2.0251481991515745,
          1.0657747825801034,
          -0.38574105649317103,
          -0.625379990779483,
          1.5479900682861583,
          -0.9325106706495225,
          1.181020052840216,
          3.6809276424008903,
          3.757014733272656,
          0.012415187357943796,
          -3.030569719031829,
          -0.909841045316185,
          -1.5191912139342898,
          -0.9195814288618507,
          3.8284561838288975,
          -1.1117133103932153,
          2.2673373620579818,
          -1.5150721309734034,
          -1.392503325761309,
          -1.2995846666732833,
          -0.12266151502753611,
          -1.8668753039071242,
          -1.5018729408205707,
          -0.5700160017381587,
          3.039882270510462,
          -1.8005405433301174,
          -3.6632315599681724,
          -1.467945509235145,
          -1.0800614696303608,
          0.8055109936842506,
          -2.820267239135905,
          -3.4529710337762114,
          -1.1110635172556051,
          -2.7918970904646634,
          -0.6542529218710761,
          -1.2316328350265477,
          -1.3092383176769784,
          -0.4469941032014107,
          -2.114793859435531,
          -0.8486770478305622,
          -0.9409778444685292,
          -1.832083243995954,
          -1.4789288509342495,
          -0.2603117476767201,
          0.7062856706652355,
          -0.9472312383775645,
          -1.8280677033103931,
          2.8968869857554753,
          4.209593201660839,
          -2.754870819905935,
          -1.545945924038413,
          -1.8925052109960365,
          -1.7067784255245093,
          -1.677453950866065,
          -0.4563518583717418,
          -1.3346043453735315,
          -0.32162950035436894,
          -1.5006475935961936,
          -1.4595938170239806,
          -0.8243341544860173,
          -0.6580875903276748,
          0.2864270143471928,
          -1.2796134458978505,
          -0.37049705875550054,
          -1.2343513887207476,
          3.9963005471458803,
          3.3395779158555365,
          5.3840164843469545,
          0.21837706806185864,
          -2.306768848291025,
          -0.5021981388206945,
          -1.006897853418229,
          -2.147694443940263,
          -2.3968637435576947,
          2.7096069646934557,
          1.7560435745437557,
          -0.9443973872998475,
          -1.139643098815126,
          3.5578638142965175,
          3.8535198201214174,
          -0.8855858941782224,
          -0.9829651653205778,
          -2.3201254212705895,
          -1.2569492976214987,
          -1.7231498462043984,
          5.961074281238081,
          -0.9304306817837587,
          3.7923096640832346,
          2.5338939245783845,
          2.4003469329064773,
          -1.7878372257776929,
          -0.23352895324163647,
          -1.8863702813551424,
          -3.000784722314574,
          -2.088853425657693,
          1.0430639994862394,
          1.4753691607777777,
          -0.7167812722224335,
          -1.8241639760866637,
          -1.0939818264875387,
          -1.4173759806756023,
          -0.9227672156589173,
          -1.104428046412082,
          0.06735268474735855,
          -0.7895365930463448,
          -0.07072149456798837,
          -1.8517630213186198,
          -1.8601271467736304,
          -0.08828355973957666,
          -0.2554410311634315,
          1.8793807339843205,
          0.9116853878805055,
          0.10012379315177718,
          -0.6039439779725393,
          -2.9298175854967057,
          0.19839714092277622,
          -0.44918673033604145,
          -0.7937960986538565,
          -0.6206510300666298,
          -1.445924049009497,
          -2.3369061253580057,
          -1.463382068040219,
          -1.2208847510985532,
          -1.1296546207459421,
          -0.17787330371714702,
          -0.6960752028433902,
          -1.3678339527436494,
          -2.3446882446890305,
          -1.599435550174289,
          -0.6953135901672173,
          1.6229388520328976,
          2.7823998445336757,
          2.285874428736387,
          2.1555507987969493,
          -0.26478294441046984,
          2.8276062488980167,
          0.6100656850450622,
          1.3174805042783133,
          2.746800775169635,
          -2.2523754075787226,
          0.7036343124900779,
          -0.0011837602491468046,
          -1.4829619080699727,
          -1.1075232058518307,
          -0.6971997960267919,
          -1.9568620208735605,
          -1.1054970278095255,
          -1.3264831935701507,
          -1.7849025600389334,
          -1.281137179120504,
          -2.8860579727672393,
          -1.2418348568152906,
          -0.154272035467536,
          0.566830228379573,
          3.16387382953157,
          5.047031224564761,
          1.2487075452916372,
          0.6273736799906456,
          0.07539853780510537,
          4.046423353988647,
          -2.0948414895359453,
          1.77047050615043,
          1.342805348548644,
          -0.6281159028604064,
          2.7007571007880014,
          -2.8964595824616746,
          -0.48907148657955807,
          -2.4153603716354715,
          3.350597068739796,
          0.11785838188577144,
          -2.081831504077907,
          3.3833813768610854,
          -2.028868370344413,
          -1.9296895864420234,
          1.9624352875108138,
          -0.11473781767402395,
          -0.8976185323361072,
          -0.6162589382614425,
          -1.339850634422028,
          -1.8605094581925594,
          -1.1256165151572646,
          -1.3471905127214159,
          -1.6634667301389152,
          -1.793717221224365,
          1.711607079218843,
          0.6875307868210204,
          2.3599126557972525,
          3.4077455863709964,
          3.420163417355513,
          3.170408043356184,
          4.18970943674314,
          0.8861883023723547,
          -1.2041336806401508,
          -2.4332660384219977,
          4.396257729264009,
          -0.9943458450544883,
          -1.664078600965618,
          -0.6530120732992508,
          -0.702416096330658,
          -1.6162721975405987,
          2.700067123399994,
          3.133230314213807,
          2.623033645020912,
          -1.723406422691791,
          -2.8800245580393926,
          -1.8011679111545562,
          -1.6369871043498485,
          -1.8914809660644962,
          4.6189357801611655,
          4.050843042184683,
          4.35266305126899,
          5.122067061563876,
          3.906816410033583,
          3.986678980914989,
          2.78522340938951,
          0.9999800069643587,
          0.6799719491218115,
          0.014298306941483551,
          -3.15615276114799,
          0.022755347441269672,
          0.022755347441269672,
          0.16215521835046603,
          1.8848249364406564,
          -1.6357883699260114,
          -1.4405368092396211,
          1.9595862552593748,
          -1.9643963626404652,
          -1.5973738646502857,
          -2.089446314970425,
          -1.8026658189060811,
          -1.291771062102563,
          1.6122957977964258,
          -1.0597890934720609,
          4.601631831528846,
          4.4505681765590515,
          5.210196579660406,
          5.77739976990329,
          0.20076562572775733,
          2.132612098958045,
          1.7459968094343283,
          1.7459968094343283,
          0.20076562572775733,
          0.3454668439277414,
          -1.5154226810918991,
          -1.6922378597241023,
          4.3106818782491585,
          0.46926894723910706,
          2.324208231380986,
          0.938112123399802,
          1.1841252442734733,
          -0.3743066976564622,
          1.0133098935057996,
          1.0103085340590081,
          0.7875315203113386,
          -0.5858043284252912,
          -2.643227313951729,
          0.745467864964596,
          1.043743896138429,
          4.839564142521276,
          2.2896581436048002,
          -1.3025333410462436,
          -1.32124993874134,
          4.033258007856046,
          -0.9054653279761937,
          1.4077154542863608,
          1.819776761863795,
          -2.0266801412988698,
          0.4069739919366756,
          -0.17898853073046242,
          0.48476181187359524,
          0.2637378078660114,
          1.9490472897705733,
          -1.2617841821502727,
          0.14921514800553576,
          -0.21755040086465166,
          -0.7624724066787735,
          -0.9387029953969077,
          0.27949977926882486,
          -0.7588630483770615,
          -2.152795985798636,
          -1.53578146180787,
          0.8290154285889058,
          -0.9817137056298615,
          0.0007320463538193622,
          -1.0590701782309833,
          -0.7529011708788534,
          -2.5175145217551655,
          -2.319940517122191,
          -0.23471491664775132,
          -0.2212072962441547,
          -0.681030571993421,
          -1.3423911334200629,
          0.9329099433229753,
          -0.33138598600913244,
          -1.3663419235685057,
          -1.0192775239661638,
          -0.5491172599185644,
          0.053066294991843,
          -1.2567107324055813,
          5.259661506974291,
          -0.2965634305110331,
          -0.20192591787069997,
          -2.024602339850487,
          -1.4443686593542007,
          -0.9751839182365097,
          0.05452714640811956,
          1.4523524534217256,
          0.819273923187355,
          0.07698261684037505,
          -2.424113347680564,
          -1.0499396836036363,
          1.359348166175823,
          -0.84370182480357,
          -0.4054386474312049,
          0.6101227140817,
          0.12017397103911888,
          -1.008409709766836,
          1.2229974720456418,
          -1.103168293799469,
          -1.4083418571679753,
          2.575630306021977,
          -0.15864834545483525,
          2.915458923587588,
          0.014968192928109525,
          1.408880672599903,
          0.8082967149746669,
          0.4464945802762562,
          -1.2795600059785799,
          2.8272600811544866,
          -0.4277133637975994,
          -0.8837451046928401,
          -0.23093094143364556,
          -0.5371447045574775,
          1.3880784370526698,
          -1.0597890934720609,
          0.8795324448096468,
          1.4764147298242964,
          2.7650016272370346,
          5.637075618753222,
          3.5002357640189063,
          -1.510418400212594,
          -1.233484359154511,
          -0.752940502921876,
          0.08511187324309119,
          0.3205109851451512,
          -0.9120762581936722,
          -0.2785807002941411,
          3.088433624767482,
          4.143247777999698,
          2.3997163163978628,
          3.1769579298468997,
          -0.6044283440694066,
          5.574219688203975,
          5.333727896640728,
          -0.170327940417602,
          -1.4427210612478674,
          -1.339987937021489,
          -1.339987937021489,
          -1.0802458985701933,
          3.9166593931872034,
          1.133353987991856,
          3.1319240633605436,
          -1.339987937021489,
          3.1351717246654642,
          0.05296106361416914,
          3.824228685300258,
          3.3139603610314214,
          0.637643397535771,
          -1.367827649451647,
          1.479594968952714,
          0.5075398114106471,
          4.025163763893031,
          3.3976341754496953,
          3.3025291157013466,
          2.8311288224741094,
          0.429870398720927,
          2.6526038200999,
          1.9894395187425347,
          -2.44513483770625,
          -1.9828992824413236,
          -2.9088138803783696,
          4.910713009747099,
          -0.6498036654322965,
          -1.5303444494937988,
          -2.715389745415452,
          -2.0687544157967657,
          -2.2542542997003836,
          -2.0100526796115545,
          -2.1099099573153457,
          -2.2236326075156017,
          -2.313210306482978,
          -0.9502346814249341,
          -2.1364027095393254,
          -1.0065335489460208,
          -0.5635117535932602,
          -0.5452437114590932,
          -2.26980909886097,
          -1.2016336137926897,
          -1.311771496073855,
          0.11607867116484637,
          -1.1573319711835888,
          2.844261208468639,
          4.816971047050102,
          5.3885021378864515,
          4.902234021478256,
          0.17804007974110816,
          3.1296296239009402,
          -2.6715653444756344,
          -1.473288100303353,
          1.210945654717013,
          -0.6283268472049905,
          -1.8232159852586602,
          -2.761626719266496,
          -0.8038412941572954,
          3.1296296239009402,
          1.2775355899569327,
          -3.499987153766302,
          1.3589483043899577,
          1.7385554462803205,
          -0.22573449118776875,
          -2.274067346388716,
          -2.722292027168739,
          -0.5665714728194741,
          -0.7245547433332944,
          -1.899241989411068,
          -2.8397395979008904,
          -2.0779173370881696,
          -0.8771721526876279,
          -0.40668386778986704,
          -2.462682444077484,
          -0.9502346814249341,
          -0.8848052512508229,
          -1.475971563051594,
          1.034056339073768,
          3.926653088228389,
          1.3504189491626395,
          0.4022811443833142,
          -0.7883433217568941,
          2.027965414020065,
          2.0402179546875274,
          0.897991007385602,
          -1.370362281983276,
          2.1959478767859344,
          -0.3257151107438944,
          2.166790516006024,
          -0.10849963879625074,
          0.5555801926793545,
          2.685527235091844,
          2.062971850274052,
          1.932778973012088,
          0.5823874663723922,
          1.4280076694700534,
          2.2279502077988345,
          2.014111723724463,
          -1.7548260472472814,
          3.1452711577365062,
          1.8851878311394754,
          0.5461741363291335,
          2.3563966282033193,
          0.8590333940405679,
          1.5750036225782393,
          -1.4254079176047503,
          0.13229505704734984,
          1.6585341861753566,
          2.6330801007313855,
          1.291985896710181,
          1.5307731412375452,
          1.8030112846657083,
          0.06706942676045957,
          1.8045403505981712,
          1.374587434774431,
          -0.08395614302769251,
          4.049749172711461,
          -2.127550029030416,
          0.5273523375187056,
          -3.091473789327693,
          -0.9291176379098591,
          -0.40155489571023434,
          1.1987811941730064,
          -1.4489486989802902,
          0.42164195837834545,
          -1.0348098358027824,
          -0.6337420572126488,
          -2.183496509851048,
          -2.1758672952105016,
          -2.824356856047121,
          -1.5657851439064698,
          2.488852486987384,
          1.7069952938522641,
          -1.7699525413624655,
          2.0944287535894546,
          -2.5389405610748894,
          1.7757562576013006,
          -1.3673813815784812,
          -2.3217190043773908,
          -0.07145510003716096,
          -0.12953515656082035,
          0.017056520577367194,
          -1.6918615662065624,
          0.24788898634041936,
          -3.37194900569206,
          1.8109439725347143,
          -2.9563167102804084,
          -0.9326576513945365,
          1.5453563721904244,
          2.0175676302543053,
          -0.9777384825203533,
          -1.8088045851480499,
          -0.19764938933701573,
          -1.7360045350795759,
          3.684220198929721,
          -0.6847094485509616,
          -0.2603117476767201,
          1.5422988888047624,
          0.593002664612163,
          -1.7912959670136783,
          3.118021498922633,
          3.3580144918752337,
          3.5099309650882837,
          -0.19461924016161863,
          2.480527963790225,
          4.517776810914008,
          6.091867137337178,
          -1.3864258127587983,
          -1.6590894291934797,
          -0.845161508939958,
          -1.041719254878501,
          -2.212632844114007,
          3.904762418566284,
          2.3576582971520192,
          0.03992601661587274,
          -1.1004953247578722,
          -1.3293394373721152,
          2.4179234417138873,
          -1.8494158071698892,
          0.6194589894389155,
          0.7007141496868068,
          -0.22131099576619365,
          4.069805840259911,
          -1.6915198589429599,
          -1.6480326701342505,
          -1.6266757262409492,
          5.070598490109719,
          -1.2012069430765238,
          -0.20161483159628807,
          2.2123779499001266,
          -2.464924839700888,
          -1.9249814682117177,
          -2.408016409672176,
          -0.3981606546944897,
          -1.1481127843950474,
          -1.2373304643909682,
          -1.4628181365509452,
          -2.6429915346372566,
          1.9533017033003965,
          -2.119572558061232,
          -1.0140421857817654,
          -1.8430894155768578,
          -0.1743434158047828,
          -1.807906374375227,
          -1.0770098667738885,
          -1.490548176924027,
          -1.298078489717667,
          2.3650341880945858,
          2.805690268078531,
          0.48472351061886243,
          0.8549288236322986,
          -1.5013922149508787,
          -1.3673565615888013,
          -1.5786623309290857,
          1.9460913874910186,
          0.03174403073604917,
          3.5189870964878094,
          -0.12194207361813156,
          -0.8643826427197121,
          -0.3431640158084615,
          0.1487995698285165,
          -0.702134515576947,
          2.526890730193047,
          -1.5907428957012455,
          -0.040819221845631776,
          0.7899298288307428,
          -0.9108592533331856,
          0.5345492960066749,
          1.7118640514247756,
          0.32913723878694867,
          1.1931202253106956,
          1.0958689907088601,
          1.2545681987114248,
          -1.6454912421714354,
          0.06998303323160458,
          -0.6562708849308357,
          -0.8025844842561628,
          1.0288670632622703,
          1.550314814959789,
          0.7522544149888792,
          -1.3594752795046878,
          3.018000391387946,
          1.0712957412947133,
          3.2217287372984567,
          -0.09309152149855199,
          -1.2985779973467584,
          3.2186280625537056,
          2.132612098958045,
          -2.344673001682558,
          0.4052933124022662,
          -0.5726023021440046,
          -0.8831651240421444,
          0.2864992879018392,
          -1.1602891468274363,
          0.7158496154657075,
          3.510753435620002,
          -0.2064659721466558,
          0.138936391592186,
          -1.805818815917158,
          -1.7690512660095568,
          0.8116576480875326,
          0.3375246919062729,
          -0.010394775910613567,
          -0.8944573785036684,
          0.2138747361762309,
          0.23100452434814012,
          2.030878227187984,
          -2.2995204704233045,
          2.464111119546668,
          2.1192178617213577,
          0.03900046465196465,
          -0.6538759240822308,
          -2.5086272188807204,
          0.8123565472634449,
          -1.5787530557618956,
          0.2146572600940383,
          -1.8370165087569905,
          0.9229565319598533,
          5.656350818133164,
          1.2758796109944477,
          -0.5087977010750427,
          4.278428722085264,
          0.6992100078765243,
          -2.384136424298684,
          -1.7777308426945022,
          -1.7803898860126564,
          -0.41675396826810746,
          -1.1894418289754778,
          -1.3168814365839534,
          -1.3415980593024461,
          -1.9057076077566901,
          -0.9399967293329499,
          -1.6808685152004794,
          -1.1904065555534995,
          -1.4119055620195082,
          -1.9190223555873622,
          -1.68182039020012,
          -1.4359027004171439,
          -2.011230902479245,
          0.09121406890156428,
          0.5055869622129671,
          -2.3991249477716154,
          -1.4878005371777185,
          0.09012877718788244,
          0.3101465274982137,
          -1.4468211063157412,
          -1.8879364766330242,
          -0.43080997590404685,
          1.9127398992549012,
          -0.9340739420096689,
          -0.09245424702743017,
          -1.0170415780895803,
          -1.433710639070366,
          -1.1513085587600576,
          -0.3505327260134424,
          4.891728612485044,
          -2.2620354657009685,
          -1.1646239535239469,
          -1.4194876518446782,
          -2.178982674772514,
          -1.704846765341105,
          0.08723516303489763,
          -1.5513713971895928,
          -1.130591932974703,
          -2.008601460302475,
          -1.9719849087291317,
          -0.7603552441700429,
          -1.7081845936205504,
          -1.4526447883764568,
          1.0936536290838421,
          4.707297316935381,
          4.066416551661848,
          0.8449080453819653,
          2.0175676302543053,
          -0.5221029502555894,
          -1.0819030183511784,
          0.9363603495410885,
          -1.6901930633720716,
          -0.0673443775537735,
          3.128409610084767,
          -0.013372924890362457,
          0.9315488370480701,
          -1.1078988413689923,
          0.9836845171357769,
          -0.6216384167307967,
          4.176384153224834,
          -0.8174650647916104,
          -0.9844049327521098,
          -1.9340208521383078,
          -0.9150586306583643,
          -1.9024375077661242,
          -1.599119189997869,
          -0.3979122673442816,
          3.189010773438727,
          -1.3604505665769024,
          -0.714103404733728,
          -1.5914938986038452,
          -0.2698179011474336,
          -0.32057160195909246,
          -0.9748467556979397,
          -0.634611242395277,
          -1.4852467869909067,
          -0.6488361413093123,
          -0.6875208972982042,
          -0.5235210522524472,
          -1.2997644179330257,
          -0.39374742517973926,
          3.492407798994575,
          2.576357723271178,
          -1.2550502056471335,
          3.8527580670263832,
          -1.3963654042352835,
          -1.597041994849096,
          -1.688632875815764,
          -1.3774550293604098,
          -1.369072952462098,
          -2.0826181995813404,
          -1.1954018276570268,
          3.4027511525664957,
          -1.9587229941745243,
          -2.6463148412916935,
          2.3353127950974386,
          -2.345824751081747,
          1.3957426239486534,
          0.30917657842898094,
          0.30917657842898094,
          0.04825874689567985,
          -1.0823520722647508,
          3.049088181041764,
          -2.0975769095841943,
          0.25316511117440327,
          -0.154272035467536,
          -0.4124018197799249,
          2.8948856676427672,
          0.9925700176837301,
          -0.1038038744527446,
          1.8938195243268825,
          0.9398182903443837,
          -2.2190070001920605,
          -0.4028999508832656,
          0.4855598419464202,
          -1.6946786996734693,
          4.453263833371457,
          -1.769804225100499,
          -1.291771062102563,
          -1.845644154747359,
          0.09262464006245262,
          -1.853771804976349,
          -0.324124062217461,
          5.6990303048774305,
          2.381784988233929,
          -1.5609102360473242,
          -0.2799174074815636,
          -0.5542550572699021,
          -0.6637454999146557,
          -0.3292698306096521,
          0.6663435469489158,
          -0.8145720543150364,
          0.6939265197491387,
          1.416207588595245,
          0.5778186477553654,
          -1.258474178901716,
          -0.18772365879072353,
          -0.88360137570681,
          -1.6875506785986958,
          1.521134032798551,
          0.2195908194829488,
          0.2885020536256104,
          -1.492621767180281,
          -0.2117569244755799,
          -0.1758102049616325,
          -0.8875625801717629,
          -1.255621986620698,
          -1.2269361604283753,
          4.6189357801611655,
          1.3552239026426234,
          1.933616409353559,
          0.3436840728473253,
          -0.5690376399407597,
          -1.8919920103002266,
          -0.5841890549176632,
          0.33276996189999625,
          -1.917555081893607,
          -1.2392356281844932,
          -0.09546520325791762,
          0.5577786585832488,
          3.002801573904522,
          -0.575352212588653,
          4.161022525837933,
          -1.998877005770337,
          3.7468909865289715,
          2.2244782603334077,
          -2.060176960058501,
          -0.7651747940113188,
          -0.881823375298756,
          2.200828587032447,
          -0.5335105742105526,
          -0.5913765417068707,
          -0.8686121365386249,
          3.12692919116963,
          1.5727472398500442,
          1.8241788630931575,
          0.9487631695800602,
          -0.7979632686424226,
          -1.527438509373406,
          -0.04031006817489391,
          -1.4688940844932505,
          -1.5189484652220908,
          -0.3336390303841251,
          -0.2874184653253744,
          1.9173914860919659,
          4.2177932577548924,
          0.8123565472634449,
          -2.026822876035975,
          -0.9888603025879965,
          1.350597817544659,
          1.350597817544659,
          -0.22448253695649212,
          -1.5599823753878843,
          -0.9445110188851533,
          -0.9687374941369976,
          -1.947382401954026,
          3.2626195808960086,
          3.3357502012362756,
          -0.08400104548677025,
          -1.835301661847436,
          -1.0147768860330921,
          0.6805879787852321,
          -0.9288952404986113,
          -0.9673631567290877,
          4.168363339147136,
          -0.8950461905575406,
          -1.6554978350332143,
          -0.6736705457075536,
          -1.569479403445227,
          -1.6619836307825164,
          -0.15889958107504182,
          0.6637508483382961,
          -0.8307561706234642,
          -2.283315635946638,
          0.8752453390642231,
          -2.427740105884188,
          -1.4224065981480551,
          -1.1037662140332813,
          1.565067109513588,
          -1.0895612371376295,
          -1.1687147925779529,
          -0.9946974720841744,
          0.7352426388393162,
          0.05685055929293642,
          -2.3649098795794226,
          4.904751130878138,
          -2.8030403909571486,
          -2.2525620808187843,
          -1.8959245730757286,
          -2.091751605201151,
          -2.508317131163248,
          -1.0932669094952767,
          0.23002712834864755,
          -1.7664024000158318,
          0.6845546448708268,
          -0.90246065712377,
          -0.4794045361365282,
          -0.7455458630228241,
          -0.901332679054791,
          -0.7150579071819956,
          5.521484025398485,
          4.330780758381722,
          1.0507517772310695,
          -1.6734809168327205,
          4.236594177348255,
          -0.27450214919145804,
          4.055818049656476,
          2.13576691328172,
          -0.8330021081673913,
          -1.8279298926842606,
          -1.746209578146317,
          -1.4292748016739307,
          -1.8043356480433586,
          -0.03892607223898085,
          -1.3609492642096952,
          0.4479854069546507,
          -1.688196619742154,
          -2.260555498082259,
          -1.6032958665289643,
          -0.571986827972486,
          0.22680621843925677,
          3.0007464182467123,
          5.262058618140633,
          2.8858699481600536,
          -0.6661581305866574,
          4.647416850813503,
          -2.325980508300887,
          -0.8749418351069356,
          3.435844753643245,
          -0.1859205699604816,
          -1.3252577961419494,
          -1.6454826504708169,
          -2.274363772769269,
          -1.1375489854458387,
          -0.3059464908211036,
          -0.2632103614648368,
          0.36823439087847637,
          -0.774991959841607,
          -0.1711919996199077,
          -0.06981557094042509,
          -1.2072588326020257,
          -0.6241021127308286,
          5.419874741023523,
          -1.5972222455784253,
          -0.36389517538093713,
          -0.34450217250929616,
          -1.616569713163502,
          -1.1021594097961753,
          -1.2273516660222625,
          -2.0452140986874654,
          2.0186542826167475,
          0.4298289927167258,
          0.6052682794470802,
          -0.44235378658709623,
          0.022947141944436773,
          0.001594477147351605,
          -1.8238846076569708,
          2.23175416819827,
          0.764274814163571,
          -0.8433282919666294,
          -1.3230875790813403,
          -1.3298929349932969,
          -1.2267220894847888,
          -2.1499949310856787,
          -1.2163920877132455,
          3.463484711466784,
          0.4539412166357163,
          -3.061338303198414,
          0.22729614518138547,
          -1.1344768325631749,
          -3.061338303198414,
          -0.7072963438992377,
          0.34184338041430545,
          -1.5671182591234905,
          -0.869666690061237,
          -1.5795590761486484,
          -0.8772502462786002,
          3.5825006834571176,
          -2.2268342780614705,
          -0.20126115331103758,
          -1.6675215191123849,
          -1.1676869386410889,
          -0.09594405636152764,
          -2.382066424984603,
          -0.12872264422547494,
          -1.5822498519629948,
          -1.6387434617760284,
          -2.0251481991515745,
          -0.6993509873931995,
          -1.8764670933076544,
          0.35443256089681086,
          0.5717167306430493,
          3.1019647144481817,
          -0.5188294035461434,
          -1.012674121933812,
          -0.709764104672591,
          -0.7276269751785631,
          3.3634624924175154,
          2.9752226817107954,
          -0.821936659903438,
          2.2089628716223118,
          2.7850640053433673,
          0.29814635203571455,
          1.8664884741638699,
          4.140411488353791,
          4.133048817017733,
          0.5282838272987548,
          2.6055721017645626,
          -0.26478294441046984,
          -0.17832420764440737,
          -1.9380303715726246,
          2.9039050390292234,
          3.6496770215064656,
          -0.012929923744353604,
          0.9703843368446685,
          4.840030364876463,
          -2.382120428766226,
          -1.5441689772345777,
          -1.388869780980408,
          -1.9542613765865011,
          -1.5849819030822287,
          2.4466955357895834,
          -1.366648048374638,
          -0.26762453170464945,
          0.40230341805213815,
          2.3745705662041585,
          5.050054496026235,
          -0.9053180429942438,
          -1.2698419846443323,
          0.5398747178532811,
          -0.9479576954954881,
          -3.0324499813922876,
          -1.1121517547583089,
          1.0543642222548273,
          -2.1748260590504622,
          0.8783391882405464,
          0.8449080453819653,
          -0.28380427510568895,
          -1.8083647450254476,
          -3.2024704591966744,
          3.3215521054488213,
          0.8539122759964453,
          -1.05270798354319,
          -1.6233526075106717,
          -1.4951842716237838,
          1.7519453777759315,
          -0.8298967446281689,
          -2.1873335437017483,
          -0.2494408066463483,
          1.1074723601112297,
          -2.085935541408212,
          -2.412511518031863,
          -1.2499990583699128,
          1.2918669581773632,
          -1.4808604861756578,
          -2.0144429700235,
          -0.5413481296670034,
          -1.6534058002388414,
          -1.4317917003045728,
          -0.9871359024336294,
          1.1655411567729193,
          3.000235685866881,
          0.15000872558749032,
          -0.5219177664341917,
          3.047428758666203,
          0.8524577565344763,
          -1.8419708771379102,
          -1.4212505387436196,
          -1.5990912760966656,
          -0.09245231702928404,
          0.7589239174389394,
          -0.38861753676292693,
          -0.4886912992334436,
          0.18601744652391786,
          -0.5767423202391138,
          -1.0445259856521207,
          -1.4103425017750708,
          -0.9467174638564455,
          -1.5570907577492827,
          -2.031656522376276,
          -1.5050207141773995,
          2.033041433841412,
          2.9972411903138925,
          -1.1131903712057176,
          3.414345747692765,
          5.320867729182727,
          4.085991435509483,
          2.127442535834885,
          4.947269754284724,
          0.4726197924305069,
          -2.201686825571932,
          0.4316718530586413,
          -1.1131903712057176,
          -1.6057702396471827,
          0.8312197050104072,
          -1.7642479233188497,
          -1.1590732070276348,
          4.081447099437761,
          -1.1266837590924166,
          -1.2919547680535046,
          -1.7723311723076078,
          0.021900563903480174,
          -1.8333368443589526,
          -1.7602758888628416,
          -1.8693460615922184,
          -2.0465422770963446,
          -1.056139046860632,
          1.1770516789703722,
          -1.8762990960288097,
          -2.425224032256408,
          -0.12210277573933521,
          -1.6260066325782987,
          -1.844549491208007,
          -0.3033082971030341,
          -1.2048764587975176,
          -1.8182765975060038,
          -1.442209488752755,
          -1.0947009976647615,
          -1.9236465210710891,
          0.06349215750229709,
          -0.7967643032374757,
          -1.308960039356971,
          0.5354649061742403,
          -1.1538421770428802,
          -1.1326586912829233,
          3.105698982407421,
          -0.5655314564562379,
          1.6711847582607384,
          -1.6903592808965597,
          -0.17282411226062372,
          -0.15342344242621822,
          -1.1213935734132485,
          -0.3560114892032393,
          4.26439326344587,
          -0.9702087331231121,
          -1.4795207011403098,
          -0.01916393802213751,
          -1.6262673095858822,
          -1.0729349066364677,
          0.6594213427915584,
          4.066995385985657,
          -1.7593947139165313,
          -0.6148631774543116,
          -0.5328443733186653,
          2.1951310166489777,
          4.211073384228149,
          -2.0951936831935867,
          -1.712677312219174,
          -1.3176226052793825,
          -1.239838944035292,
          -0.6365159443123238,
          -1.86807183658703,
          -0.20774898984439596,
          4.663158190213198,
          -0.7172902492876054,
          1.4126375362115098,
          -0.05348159629165097,
          0.12258449104649283,
          -0.6930082747630689,
          -1.6842462616801215,
          -0.9997143462304261,
          -0.9925277416519354,
          -0.4055455246851512,
          -0.7943307030855632,
          -1.4179766882023699,
          -1.5077618691738786,
          -0.11864752625193892,
          0.06513251514330025,
          0.44790618060021914,
          -0.5905352698295552,
          -0.6656940772015778,
          -0.1256835365102057,
          -0.2968239783275776,
          -0.3020850369503298,
          -0.44315387676607726,
          -0.8497568273164446,
          1.5069037952476545,
          0.4803661333128789,
          -0.697080464613876,
          -0.10347402499997133,
          0.42611844118291226,
          1.718198895670898,
          -0.1488087242056276,
          -0.8608961760184047,
          -0.21186655948989555,
          -1.2074405624776157,
          -0.2444728652772305,
          -0.11108361445809369,
          0.43318289130716375,
          -0.46666599304565765,
          -1.8413507629642507,
          -1.0214066744382941,
          -0.4975884880865198,
          -0.6844849178178244,
          -1.6697028500088251,
          1.9435278334052573,
          -2.5904012105039653,
          -0.9832888022778709,
          -1.5102450456487508,
          -1.5772672834448835,
          -1.3747547479445201,
          -1.2001953198664033,
          -2.5500589751698035,
          -1.5609102360473242,
          -1.8902776392732579,
          1.6587543910014169,
          2.7931435870373353,
          3.393669730358816,
          -0.30781971693868215,
          -0.5170085720229919,
          -1.938067491497645,
          -0.8915763547993779,
          -0.9886668262046707,
          -0.5696178874425261,
          0.8795324448096468,
          -1.1447334158703653,
          -2.006545406729143,
          2.8205742097621744,
          4.0289861912102145,
          1.737225379649977,
          1.5655853810053773,
          0.07802122878736968,
          -1.8274876886852274,
          -1.9502075389529847,
          -1.7354065296445789,
          -1.8699631356031983,
          -0.5644354650111925,
          -2.0061121385605527,
          -1.763414078413879,
          -1.8723008941323511,
          -1.8639932204222436,
          -2.1058975606514685,
          2.9575397143169204,
          -1.9232812200626481,
          -1.7291945028487068,
          -0.33946039336051004,
          -1.4817947434057148,
          -1.364827290068008,
          1.6184380633196085,
          0.6731669759445238,
          -1.3981525797114387,
          1.489770759858215,
          1.0157432689846022,
          -1.056850952974356,
          -1.7518249634932703,
          -1.2421958404602664,
          -1.9336938727708384,
          -1.759821704033375,
          -1.455552348294333,
          -2.108294479868845,
          -2.060666043906394,
          -1.4904194189397024,
          -2.073494506413841,
          -3.9937547184628532,
          -1.7804503009224815,
          0.4188013767860371,
          4.074252866889354,
          -1.654099602100136,
          -0.8706935586305727,
          -1.2311045301288568,
          -0.07788453537429949,
          -2.4434013956713962,
          -0.07625660353628219,
          -2.1318590249117153,
          -0.16461671372417488,
          -1.777122285525844,
          -2.2929023354570393,
          -1.2277075421191317,
          -2.4270031251579987,
          -1.0198781946837485,
          -0.6385744256983851,
          -0.6162589382614425,
          -1.5903114999670267,
          -1.122686792400835,
          -0.7780117610925482,
          -1.2418348568152906,
          -0.41877224870219865,
          -0.588761045357807,
          -1.4255157505699625,
          -1.9236465210710891,
          -0.8321122702871244,
          -0.7103155395647762,
          -0.45457897450550966,
          -0.5006469673618129,
          -1.3433860165170097,
          -0.5586881735072354,
          0.7183670596719584,
          -0.8757146430848188,
          -1.0684891129569067,
          -0.3791907206345882,
          -0.5255270518176556,
          -0.48993083701793183,
          -0.15972671026188495,
          4.813777021504075,
          -0.869000942686585,
          3.3215521054488213,
          -2.579204212530707,
          1.5603981597326742,
          0.888896898914361,
          -0.47690770582583414,
          -1.3173980164012018,
          -0.4962570470088788,
          0.33757641276583517,
          2.1487550179202066,
          0.5205896223390916,
          0.002390378671265069,
          1.44385437022298,
          -1.7722920756714389,
          -0.21138765775075424,
          0.9097158032319779,
          4.844601565033674,
          5.666384156661315,
          -1.9417108967056638,
          -2.106550982409217,
          1.140796258083532,
          0.2310346378694856,
          0.42561757819746454,
          -1.565711492393082,
          -1.565711492393082,
          4.244480994355995,
          5.176708744973614,
          -0.8596027093370091,
          -1.0270738870476321,
          0.3751242769202262,
          0.05181137151232453,
          4.582553845204489,
          0.5168944033678434,
          0.060574269729905164,
          -1.7784927255694194,
          5.408174041012419,
          2.532775701991875,
          -1.5302866131478001,
          -1.061033922284212,
          -1.0947736380529187,
          -0.9227741339323366,
          -0.9605533109182781,
          -2.132240077056637,
          -1.6689001793002776,
          -1.4351673016485853,
          -0.7169772246162461,
          -0.9568264963416656,
          -0.9416875707314987,
          -0.41333850470528416,
          0.16883070258110108,
          1.43224934201698,
          -0.7813213297476463,
          -1.1271281147595316,
          0.6524595908390048,
          -0.6927403014042195,
          -0.6732878229230739,
          -1.1414799926170132,
          -1.489277070264691,
          -0.35535854852106713,
          1.8294487165805173,
          3.656077271822229,
          0.7261799401622572,
          -1.896971419854982,
          -0.41939395144300956,
          -1.2730663318838364,
          0.10397499296520925,
          2.096483641589661,
          -0.8776788935290588,
          2.5299097893625837,
          1.0082003519061755,
          -1.8902776392732579,
          -0.4220782534476117,
          2.10900571434995,
          -2.371561218751931,
          -1.0444388347634845,
          -1.2311316155798775,
          -1.1776970800546382,
          -1.0345327312064305,
          -2.723466640316102,
          -1.71044201135573,
          -1.9914059300228177,
          -0.6226927475906403,
          -1.0468527623234292,
          -1.290024838233274,
          0.12309112973266148,
          4.652403689691262,
          -0.4046236413406732,
          0.4430017973536218,
          0.7869224265474067,
          -0.5605651851159847,
          -0.12843809243295382,
          -0.5314028806277057,
          -1.0238290888621413,
          3.174879734132036,
          3.859538766764742,
          2.602623133165774,
          0.15833263461928188,
          -0.7710403655798268,
          -0.49954195302792936,
          -1.2938074605601013,
          -0.3580542688912642,
          -0.8371847600040484,
          0.2332762265516228,
          -0.0885213858559186,
          -0.6084691009396404,
          3.8798628593031754,
          -1.6480835900823718,
          -0.07920628817761172,
          0.18122554674263483,
          -0.7235894288501387,
          0.38067681393629815,
          7.226544609014923,
          3.4015397135220784,
          -1.4159279091453276,
          -1.912796030564507,
          -2.0174373591629937,
          -0.8956325749527952,
          -2.260349604311189,
          -1.9407337361195254,
          -1.453939530842022,
          -1.9899331345222513,
          0.5563608894958334,
          1.3655741274589208,
          -0.6778354788931382,
          1.4872586279570361,
          -1.423700845133622,
          -1.2748104198497445,
          -2.552461167194016,
          -1.7375662708101356,
          0.8903585804759292,
          -1.3514066895790262,
          3.6734951616390217,
          0.23893979548550615,
          -1.8009380597154059,
          -0.6930082747630689,
          -1.130234615338385,
          1.0424609969554546,
          -0.38549302852157913,
          0.48080268984702157,
          0.3696015150662237,
          -0.24312431299061174,
          -0.3142989666133027,
          -2.1229905425409283,
          -1.7729246995643377,
          -1.6173696754713018,
          0.23810845387496857,
          -0.48339166999374156,
          -1.7273711551849704,
          -0.10198804553304701,
          0.5055144803084034,
          -0.7131430817527228,
          -0.8951228201123642,
          -1.0597890934720609,
          0.3674321547116669,
          -0.3275524799958202,
          -0.15392290335129089,
          -1.0079751959068282,
          1.3312267508392612,
          0.14879178398842166,
          2.5937576493924195,
          5.280198100270837,
          2.6125401236233965,
          -1.2429187294667825,
          2.883460748025333,
          -0.8454958932986626,
          2.1255631796368917,
          -1.284844712998298,
          -2.333529043949486,
          -2.3874608455512796,
          0.4708102218623851,
          -1.87036540913001,
          -2.6048645631439276,
          -1.5249585479981822,
          -1.9311352130461585,
          0.15925914311312822,
          -0.3368542746747278,
          -1.7238132206500618,
          -0.1452317393293594,
          -1.1513324744387914,
          0.5329054203221859,
          -1.9612249102027286,
          -1.2399292163761022,
          -0.921352042534898,
          -0.2934493481289038,
          -0.7878251517408993,
          -1.9817641589624004,
          -1.7244851503949106,
          3.925517286069736,
          1.5942931299634595,
          3.186335317997049,
          0.9775969311537848,
          3.5867432508255224,
          2.647745049799364,
          5.270217759644972,
          -1.7082485977385526,
          -2.199803980460222,
          -0.06578081779005386,
          -0.8368706284559649,
          -0.7854677175050846,
          -0.20916402742117862,
          -1.7085754585994817,
          -0.20916402742117862,
          -1.3997320777127074,
          -1.0909590554136062,
          4.169466471505722,
          -1.3684630603624208,
          -1.9324283671873028,
          0.1106170699592351,
          -1.8318071541194496,
          -0.9598571387641519,
          -0.20192591787069997,
          -2.322482104084647,
          1.295624263858962,
          2.43993896804247,
          -0.0034299770508505957,
          1.9689878707923258,
          -1.8110394558681608,
          -1.2760228016973996,
          1.7512646091908473,
          0.0473548425080293,
          -1.4262864308855527,
          0.8119245867926475,
          -0.3351614731377257,
          -0.28854191440586036,
          -1.9135217129716564,
          -0.4450657468956565,
          -0.3898013592395592,
          -1.0965604946490626,
          2.8632445586955466,
          -1.006436653664147,
          -1.6679956265557825,
          5.037072097193789,
          2.3072516687894216,
          0.9817234747421213,
          3.023290887104782,
          4.117010734472985,
          4.113361444554917,
          -1.7640887933065446,
          0.1520039730115458,
          1.010057474777606,
          -0.09826825918659711,
          0.745467864964596,
          -0.07912913968776587,
          -0.5869929672815049,
          0.06137656758641617,
          -1.2493185544417875,
          -1.162532956966598,
          -0.5446464357178706,
          -0.5257359411169928,
          -0.6973969041449732,
          -0.9719600477668991,
          -1.7113924337417707,
          0.6626099536052521,
          0.3799066704611543,
          4.353172762386835,
          -1.750511188321822,
          -2.608281914795239,
          -0.7744430956484721,
          -0.29049845972908994,
          0.19347918400083816,
          -1.5005648417719324,
          -1.3802231760043524,
          -2.5201491133096106,
          -0.6742590697690064,
          -1.2280633296074592,
          0.42297421259544343,
          0.19347918400083816,
          -1.6139893679672435,
          0.24592070134157076,
          -0.9320241203449572,
          -2.029188215364681,
          3.0861648235299457,
          3.2896302356289495,
          -0.8430280926050701,
          -1.0191080260121514,
          -1.2581311719443327,
          -1.4293847145323801,
          -1.2280633296074592,
          -0.8918518314853027,
          -1.162532956966598,
          0.33200940246639493,
          -1.4006157751179202,
          0.4749551626010544,
          -0.32853831112165655,
          1.2317234135229207,
          1.8982351464781346,
          -0.8272044736771343,
          -1.1182953375910356,
          -1.2140979999974266,
          1.4102809155728926,
          1.1162558244140934,
          -0.962526168503506,
          -0.22774342883917326,
          4.820483671447008,
          2.806672678167791,
          -0.8910597762575787,
          -1.419710022543955,
          -0.637305362423106,
          2.6678110759629465,
          1.3709647550842825,
          -0.8509927620370422,
          -1.1349369532310434,
          0.30831398576217495,
          -1.4183221756409596,
          -1.109325273601508,
          -0.7858824490959341,
          2.143356564904713,
          1.6998034813955674,
          -0.5767423202391136,
          1.1753290502836986,
          0.7683249437917394,
          3.067247968624568,
          2.1713827731880713,
          0.09109228763953084,
          0.17424196049511956,
          0.31907993640080984,
          0.5277083757468625,
          -1.5891418340117438,
          -1.807906374375227,
          -3.0009494117128,
          -1.5683430554100026,
          1.2531320966526067,
          0.4800788069577345,
          1.1470176346512193,
          -1.3095170917389247,
          1.592938815983416,
          1.071042013249129,
          -0.6277790692076223,
          -0.704989190263326,
          -0.3660994904340931,
          -0.4871764094606707,
          -0.7621598571323512,
          -0.09005428008473083,
          -0.14868520555968984,
          -0.2507783494082106,
          -0.7043224955062204,
          -2.109018269583259,
          -1.879334070811122,
          -1.4483273104314522,
          -1.6855200932596461,
          -1.8814813682552236,
          -1.4090316369170126,
          -1.8761815210993211,
          -0.4113534767140592,
          -0.8662032598582581,
          -1.5843624105760052,
          -2.442834751812608,
          -1.0024189493957547,
          -0.7470110613107905,
          -1.2099907754251198,
          0.8179688501593769,
          -0.32126428074581004,
          -1.1398522347318445,
          -0.84370182480357,
          2.0422528852061292,
          4.763938610263662,
          -0.8284168584098436,
          -0.6352570447275027,
          -0.851505985634519,
          2.246176734164679,
          -0.39823929265682806,
          0.6404987805565762,
          1.2643075804942292,
          5.199354627810798,
          1.8583829004360757,
          0.7197917125418747,
          -1.8100918480866646,
          -0.051435894770323315,
          0.3738921019551172,
          0.7611727109350755,
          0.8241113127768862,
          0.5550844565870735,
          0.7400410988074468,
          0.43047588600987685,
          -1.1913376013534471,
          -2.019629083892071,
          -1.0362298519507234,
          -0.6266858975965718,
          -1.7617435578112286,
          -1.9484506333422855,
          -1.0008080358122449,
          -1.946560939940712,
          -2.476175635292686,
          -2.657580092427618,
          -0.7988177186083165,
          -2.132364305711079,
          -2.564168655670438,
          -2.130563835869556,
          -1.0271095058981736,
          -2.2711827620735554,
          -2.995567970719323,
          -2.0137771473781387,
          -1.5437600629004635,
          -0.5641657478210654,
          -1.953961590067143,
          0.13531177462094035,
          1.5240830508841012,
          -0.3897913275357001,
          -2.1472490541110067,
          -1.7165767230653308,
          -1.7102416567782457,
          -0.29456810914750264,
          0.6183200167275005,
          1.1050523168212676,
          0.013477089149456847,
          1.3552239026426234,
          -1.498784208534466,
          -0.8367365709615107,
          -1.0892869241339995,
          -1.1815682360615913,
          -0.8359986265401648,
          1.8064229455207192,
          4.5735222855358515,
          -2.389547203958501,
          -0.8875625801717629,
          1.5623932472527684,
          1.6129921406346894,
          2.378287010706772,
          0.24814725641207488,
          0.8731453432239895,
          -1.7647645267425438,
          -0.13139150759423404,
          -1.6129773081287342,
          -0.5758965096135346,
          0.07342012773008766,
          5.9483102527002,
          -0.2603117476767201,
          2.34395297742316,
          -2.0317748746875965,
          -1.3422308343188227,
          0.5257049943117349,
          0.22042439977145023,
          -1.4231533307505306,
          -1.9680325183749647,
          -2.490004187789632,
          -3.6403170139945327,
          -0.7100689834528807,
          0.18037744575466538,
          -2.7307792390101304,
          0.6051493269356285,
          -2.0122268085743853,
          -2.9882377865906733,
          -1.9881226567087895,
          -1.1001811056752322,
          -1.6322560102481385,
          -1.5585212785368736,
          -1.200376905617609,
          -1.1518035655172458,
          -1.5626575408762542,
          -0.7030185679656775,
          -1.5109878564250234,
          -2.0949762564053716,
          0.21820803727112004,
          0.2810209256473462,
          -1.5999015985109128,
          3.636437671895396,
          4.377634569812745,
          5.517832620777447,
          -0.15593220469833202,
          -2.7823545006812154,
          1.705818604551294,
          -0.33256344644116204,
          -1.5606335978828192,
          -1.4666166729454657,
          -1.6720377493956828,
          5.050054496026235,
          -0.42113023519586956,
          -1.415680578178469,
          -1.031017531753144,
          -2.0594619338254345,
          -1.1993121002513587,
          0.8418391167498278,
          0.5277083757468625,
          3.2000540604664494,
          -1.0918956593169193,
          -1.6640321370290698,
          -1.7940379519331608,
          0.2675915444468305,
          -1.1761461616742344,
          -0.9236608800933436,
          -0.7383878592737928,
          -0.737011567656227,
          -1.7260061487881728,
          -0.8276749826467557,
          -1.098188925827514,
          -0.0686037331421922,
          -0.198423004998087,
          -1.7252882884251948,
          1.902704125064271,
          -1.2041377469319998,
          -2.1467615740377144,
          0.5675226390225951,
          -2.737860585635958,
          -2.364673522999304,
          -1.5159051852544074,
          -1.1991820155424164,
          -0.23901879110390278,
          3.755510100997643,
          -0.9172187524603739,
          -0.6027578678703446,
          4.365128553031848,
          1.357052659263262,
          1.0610805001881742,
          -1.0918956593169193,
          -1.0918956593169193,
          0.3799066704611543,
          1.0507517772310693,
          -0.8347222062998002,
          -0.43629024499739405,
          1.839346014750084,
          0.9749323262388514,
          3.599847460359529,
          1.3878500421641167,
          1.880899893264137,
          -0.24102161445379258,
          2.5242881418413683,
          1.8226454879784875,
          2.382405468796726,
          2.716071146567463,
          1.3400521098127434,
          2.0675085711905994,
          -1.377414780561449,
          2.116901712809413,
          0.47253708128568145,
          1.70050903302792,
          1.0124138734776416,
          1.4638489861406856,
          4.517415285770566,
          1.6062390664664283,
          1.5090985483914172,
          3.328173071321644,
          -0.7586867391814034,
          -1.9710893785207464,
          -2.627945347818508,
          -1.0959217221133761,
          -1.733034039336158,
          -1.5509421569582762,
          -1.9153264230825677,
          3.2865430676300695,
          -1.8853012598366494,
          4.031929446383435,
          1.0917032949632037,
          -2.0995891751226234,
          1.607751513817956,
          -0.7338996331495033,
          -2.329923166852286,
          -1.6714994013804194,
          1.3227936929233726,
          3.2245788048711383,
          0.849307813616014,
          -0.8991050041159993,
          -0.25963697831105526,
          2.487845989688521,
          -1.0057381074581435,
          3.7826527020996887,
          -1.9157679231230473,
          -2.002623395739876,
          -1.6696448272331206,
          0.351505462569008,
          -2.4460483692044,
          -1.7619019356353502,
          -1.6517774567678387,
          -1.6237547621234036,
          0.8957766323986622,
          -1.8642286743270595,
          0.0533734482409986,
          -1.6425344618411397,
          1.3552239026426234,
          0.14624608874565287,
          5.858209721616869,
          3.7180312609607884,
          4.993793590175096,
          1.8999455539621668,
          -0.8127854597663116,
          -0.9882751706880374,
          0.632151630110098,
          0.01341666796079528,
          -1.2772504087424372,
          0.5751095293838525,
          1.8650579113698982,
          4.510568593122146,
          -0.0844990555337555,
          -0.2416463803129784,
          -1.9830682310610863,
          -1.8494850568377144,
          -2.507249276942519,
          -0.31208753852228266,
          -0.19799516276387966,
          -1.9132406824951964,
          -0.4667570855707588,
          0.5301321114835891,
          2.8059892371366977,
          0.6503978876248566,
          4.008015267389635,
          3.0007464182467123,
          0.30328525020158487,
          0.7826398955578465,
          -1.479221905282411,
          -1.356382774233701,
          -0.9660709260830571,
          -0.05259932417507837,
          -1.3776523091749273,
          -3.072525663599118,
          -0.47513563176003165,
          -3.026756059954508,
          -0.8325111872744713,
          1.7747900310136349,
          -1.0280691588067057
         ],
         "xaxis": "x",
         "y": [
          -0.011146290126831184,
          4.49848304049158,
          -1.258495053091245,
          -0.9316902391794355,
          -0.9998605575699325,
          1.4491987952161307,
          -0.15349105666352145,
          -1.0976948285917063,
          -1.2029511963611932,
          -1.6720710185825929,
          0.6245816077119482,
          0.3542795183340968,
          0.621886259504114,
          -0.7257260770647124,
          -1.7533744258913746,
          0.09456002264657544,
          -0.7607765416859101,
          0.09023324070522667,
          0.6354891072036867,
          0.9549247299482836,
          -0.8173396601849992,
          -1.2470979651002136,
          -1.038450458310719,
          -1.8477530524364003,
          0.36640565879192977,
          -1.0939423326821667,
          -0.5130725914703975,
          0.1928519103816333,
          -0.40850583478902414,
          -0.4019127768691365,
          -0.5390360868356441,
          -0.5093297116411099,
          -1.5551823065201966,
          -0.3275202482615806,
          -0.11881659332814404,
          0.6359085300784648,
          -0.5876810821821725,
          -1.6234813101233758,
          0.9261554472362568,
          -0.0025837146344449948,
          0.9482384115361033,
          -0.43252723603061227,
          -1.0477234546789933,
          -0.588412794916781,
          0.10962376719394572,
          -0.1763156263830333,
          -2.231310852520521,
          0.3421759568804069,
          -0.13393724871445759,
          1.82829378392111,
          -1.5586608599510372,
          0.39413770702294487,
          -0.16899555980659314,
          0.6402870848131598,
          0.7535261568595857,
          -1.0071979202008527,
          1.251381544732154,
          0.7283795254050479,
          -0.31558709207069324,
          -0.3743084277381324,
          0.6971582660739032,
          0.49078150228465434,
          -1.4496313293936167,
          1.4022237154782535,
          3.1825154078065823,
          -0.13343620635138354,
          0.7231412843907914,
          2.43567323241277,
          -0.6624452959668017,
          0.882861064926849,
          -0.4539974243368555,
          1.289565202694539,
          0.7021569500086007,
          -0.032120349417951895,
          0.1558931183333493,
          0.04483740558801678,
          0.7644853720457658,
          -1.87008300867179,
          1.9424014130733982,
          -0.535553232852017,
          -0.7101916522494046,
          0.6821340814378545,
          1.509604288913733,
          1.0677125248492447,
          -0.20319345565050492,
          1.9000703759917135,
          -0.956927231937421,
          1.7957948181498635,
          -0.5045512816835356,
          -3.035114235492888,
          1.1858743295178067,
          0.8760206158908894,
          1.0658710831443405,
          0.8982598530428657,
          -0.10984688935739849,
          0.7719022721632369,
          1.199081680321865,
          -0.052756160150404484,
          -1.856989490046598,
          -0.32643552532892217,
          -1.6939481840668313,
          -0.10438796376461679,
          -0.14531043781235536,
          -0.49969689446459464,
          0.32606478883571494,
          0.5077876996619071,
          -0.05048147181217224,
          0.4746966598255501,
          -0.3879735524805966,
          0.9981145621078839,
          -0.06458868577411735,
          -0.1668060796051406,
          0.6183612930258751,
          0.3466789772890178,
          -0.8498816694047595,
          0.02828535453093981,
          -0.4309880876226708,
          0.9716433758065672,
          -1.0005494442087894,
          0.5665290125385686,
          1.146581119526802,
          1.3964744337563022,
          0.4331926430237944,
          0.09286868670805433,
          0.282717029663582,
          -0.4675119546435429,
          0.3005906656279878,
          -0.2568312192639178,
          -0.7082299299146118,
          1.9653556872423248,
          0.5402660920588384,
          -0.4733052245128074,
          -0.4590570749385399,
          0.1771284073532376,
          1.322605743013247,
          -0.1836457211918588,
          0.571541872576383,
          3.1825154078065823,
          -0.22520769265871485,
          3.33727777290588,
          -1.1787016560533616,
          3.33727777290588,
          0.8919286352285138,
          -1.66212293410152,
          0.9126518916872708,
          0.04544220504715711,
          0.15799090914535138,
          -0.38811167466529667,
          0.769384106786229,
          0.31652003537511153,
          1.5899977353431314,
          -1.9047868000468424,
          -0.9570850389300176,
          0.22303451284725884,
          2.1053849872447716,
          -0.6995465461225112,
          0.7111076327776112,
          1.0092401714194617,
          0.323811882669645,
          -0.16319434873238153,
          1.040437590492315,
          0.6564793989659159,
          0.39517415148942137,
          1.2410104338213022,
          0.37695909322640847,
          2.4618886452370776,
          1.235700557888625,
          0.26347434069350906,
          -0.31498030623084716,
          0.5105081730241836,
          1.1597876950391839,
          -0.15864705407278976,
          0.29605844599103487,
          0.08484118937578791,
          -0.7467089182464859,
          2.2114132179374693,
          0.08320541248182134,
          -1.0443441784920724,
          0.19123446817489279,
          0.6089226265344342,
          0.7789952619638932,
          0.9523723915944762,
          1.0296391405424687,
          -0.36267015960538385,
          -0.971139026376092,
          -2.6424864233452174,
          3.103331962225941,
          0.2161930877317953,
          0.014957619740982106,
          3.9190384728573733,
          -0.5723148273970255,
          -0.9986452552999885,
          -0.9516486023188426,
          -0.6906988660514822,
          -1.18408418184263,
          -1.3006189908905785,
          0.5947979963623194,
          0.08054162638613438,
          -1.879038751232318,
          -0.33885212574193563,
          -1.630949174398555,
          -1.09417151656864,
          -2.446461747927907,
          -1.1407059930266443,
          -1.8453286786660517,
          0.6507379346285589,
          -0.47118087570081985,
          1.0197325913084656,
          -0.273365156373654,
          0.017367780195282873,
          0.7744178910726969,
          -1.165349075284618,
          1.5829275370760434,
          -1.28455304019265,
          -1.3462327707720705,
          -1.1924586912170845,
          -2.355220982919512,
          -1.6350920282524675,
          -0.7943134394819891,
          -1.5948015187911306,
          -1.0367744163767703,
          0.2383420258656912,
          -0.9150329918104101,
          -1.6791143643828956,
          -1.1140081837787836,
          -0.42641535088457083,
          0.19720315170069977,
          -0.7675781583836289,
          -0.6634064026910889,
          0.018494863427137714,
          0.03239395742923372,
          0.542984961083324,
          -0.5502293308844979,
          -2.587755947082542,
          0.07003755588593005,
          0.7387646468178272,
          0.851744808959511,
          -1.0045392123559733,
          0.02274491893061861,
          1.1028840070236037,
          -0.9711482695074364,
          -0.574775943496921,
          -0.7041665708533734,
          -1.2590290776964832,
          0.5110837248386942,
          -0.447392930274673,
          -0.7770987572885063,
          -1.5128098061317325,
          -0.010119072281300441,
          -2.656517044283653,
          -1.8578537653499554,
          0.029678348751542207,
          -0.4881176600840493,
          -0.4626350100807745,
          -0.6323213193002113,
          0.8689648267049017,
          3.2404775080304917,
          3.2404775080304917,
          0.023892287317246547,
          0.6703963948146869,
          0.7996627431599499,
          0.5833737164149406,
          -0.11689578549234361,
          0.7123683209024152,
          1.5310948073312332,
          -1.6069800221607204,
          1.855994257066212,
          0.044375399803954205,
          1.2105451052359488,
          -0.6133121765032427,
          1.0809283795560019,
          -0.21205336988886048,
          -1.181891002333823,
          -0.7775444494726164,
          -0.623408822738391,
          0.5694778943370088,
          1.717518937021364,
          -1.0189490622171704,
          -1.1180976339575952,
          0.5457794249420197,
          -1.2203204394225367,
          0.8906898331423574,
          0.960827602930902,
          -1.2672613034227678,
          1.6835784222939223,
          -0.7047166607825199,
          -0.6445389710374216,
          1.7118067203121372,
          2.0700335917909674,
          3.7740953500324315,
          -2.5264020438823365,
          3.027705154585716,
          0.7863022708009565,
          2.853662751981014,
          3.7740953500324315,
          2.0513570557630865,
          1.4012277428553173,
          -0.9266969511957196,
          -0.632647691995329,
          -1.1279563071617376,
          -1.1810383810275715,
          1.9575377687744195,
          1.9979683623798494,
          0.06784792539787238,
          0.5362425827548241,
          -1.4777415250203876,
          -1.977790167123202,
          -1.1096645491064119,
          -0.7895282956595113,
          -1.4068333771286485,
          -0.8359585182991217,
          -1.547565309042901,
          -1.204676248070084,
          -1.6143833336086229,
          -0.531499854640387,
          0.18027712010472274,
          -0.7320794166920248,
          -0.035066869396598234,
          1.980774236171031,
          0.42232942329204537,
          0.28360676072867247,
          -0.6255932639365422,
          0.7112353207108749,
          -1.1077101885611733,
          0.48824908011310575,
          -0.2279573044765778,
          0.19717824977674145,
          0.3150319980462688,
          -1.2672613034227678,
          1.1177165541627043,
          -0.4457172777483633,
          -0.8138693535483456,
          0.31786427908998205,
          -1.1464663024558064,
          -0.17714161009328055,
          0.3484442111053189,
          2.406404972446321,
          -0.0003525217776416634,
          1.8873203415832434,
          -1.3725204164548304,
          -1.2657688377536707,
          -0.6949733179444166,
          1.8873203415832434,
          -0.8101213187323152,
          -2.918341516468283,
          -0.9151402576715305,
          -0.9894869373615403,
          -0.2992327208272401,
          0.4760198718631162,
          -1.5094498562717895,
          1.8873203415832434,
          1.1113603909961745,
          -0.37497601475159464,
          -1.2545771481814108,
          0.9048464943469012,
          0.14491983213610315,
          -1.079841356015365,
          0.8958070512138059,
          2.0607557633872733,
          1.3380694906666468,
          -0.792785079934499,
          0.7801239402947883,
          2.389002631678662,
          0.01092387841534336,
          -2.701162881091417,
          0.30716006665628576,
          0.4060177721073533,
          -1.7931461706698195,
          0.658252872669044,
          -1.5634644260717645,
          2.4150542414887304,
          0.5843336029259837,
          -0.6038418556220891,
          2.282537677712435,
          0.5348228328720834,
          0.4434997849539595,
          -0.6515118089357856,
          1.0533504658934294,
          -0.05684593511018232,
          0.7667072369067,
          1.9924299245585095,
          1.6650019235103062,
          0.09891338575271626,
          -0.2103044597197811,
          1.4049591878689234,
          0.6572987131801554,
          -0.7572609888099857,
          -0.42897885501636784,
          -1.166382725543874,
          -1.0375737857811513,
          0.31776025996952073,
          1.177027282599027,
          2.52201330229885,
          -0.3556569717547151,
          1.2739159471111878,
          0.12552664107296005,
          -0.044436888535213694,
          -0.9598826795695877,
          -0.9994617694103664,
          -0.17192238560156842,
          2.0825047669647576,
          9.808615665275777,
          -1.9109995363880075,
          -1.5953448853504684,
          -0.20772046078352718,
          0.3837984365774657,
          -1.6622338726879473,
          -0.5449138158015013,
          0.3926042114015636,
          -1.0816366373679906,
          0.25331032353653904,
          -2.393874721053961,
          -0.47150127593609775,
          -0.17561167281722664,
          0.7451440430086258,
          -1.6873495018786029,
          -0.20380451675243538,
          -0.6772495315786108,
          0.4515441159027941,
          -0.47274860646605565,
          -2.6124788945229933,
          -0.5263262266185564,
          0.8079535533547805,
          0.11383168486562456,
          -0.8406691236039683,
          -0.07662975110137647,
          -0.5132639481080156,
          -0.5820581328286774,
          1.4966189151479763,
          0.2159129418191706,
          0.8749333087385138,
          -0.4958347243325971,
          1.2667969389178977,
          -0.6352214968617708,
          1.711686248449103,
          -0.05981311705813981,
          -0.6497724736162351,
          -0.6584021042342976,
          -0.11984531532774871,
          -0.6498927216938726,
          1.65832476940695,
          2.0021393264062324,
          0.10467094944932874,
          0.12593071239530465,
          0.9211842808505287,
          1.1566985880876268,
          4.137971827721916,
          0.45103399100912633,
          0.7392753979079753,
          0.7802223761612859,
          -2.0010115300907727,
          -0.5462424385825627,
          1.2886913072683845,
          -0.4138934852797087,
          0.5142060333389612,
          -0.19834002790450064,
          -1.1325191168425937,
          1.0888335146592414,
          -0.8852774981108746,
          -0.2595736667103286,
          -0.33655960124604084,
          -1.4383020605948789,
          -0.855368929785127,
          2.037415663490339,
          -1.0849805099308265,
          -2.624972510429552,
          -0.2911849371881085,
          -0.9406771827196838,
          -0.8619638727305488,
          -0.744655243334679,
          -1.5806404300447336,
          -0.2454019965262058,
          0.16613234798095397,
          0.2552234665149203,
          0.897480772227443,
          0.6208671719375559,
          0.2805925306926599,
          -0.6340873085014095,
          1.0661851762831915,
          1.5503964871266431,
          -0.7612398420860182,
          -0.0692274923552739,
          -2.157715636599804,
          2.1872713095153995,
          -1.3215548520622293,
          0.7356238326523741,
          0.7673642510824682,
          -0.06979929244776277,
          0.48866766504332165,
          0.26698121988756585,
          0.7328123563979596,
          0.5861214875061431,
          -0.9953858151396187,
          -0.17759522520564136,
          -0.6764116893753361,
          -1.2989213224117415,
          0.8921496309187905,
          -2.2675364797362896,
          -0.6406026434243637,
          0.0816071810704448,
          0.7976536903440744,
          -2.5319163057702414,
          -1.079901417635556,
          -0.19615586969321416,
          1.1384170320766456,
          0.28707549080251366,
          0.4226851034531925,
          1.5804058973004476,
          0.7663364597659547,
          -0.6146786963745642,
          -1.117519342186274,
          0.67857611729278,
          -1.1806363394390698,
          -1.2359788765089352,
          -0.3195532424962463,
          -0.3744071069079024,
          -1.864070874914774,
          -1.7773287436540264,
          -1.9813608548146204,
          0.2570733598340699,
          -0.6155426574374915,
          0.2429255993826791,
          -1.1616324224085066,
          1.8958622798558815,
          -0.3356606365168618,
          -1.0694624857178225,
          1.751315852076822,
          -2.4367945237996915,
          -0.7722764505011086,
          -1.1810989500449784,
          1.9317052289038237,
          0.5716358610330149,
          -0.4666957497791056,
          0.7085487574433709,
          0.28161800267875436,
          0.39077968913995215,
          1.866457264485952,
          1.257051539574471,
          -0.02598992779727345,
          0.08292369316000696,
          2.212558250703967,
          0.32506176456087277,
          -1.1703087112108914,
          0.2742683209909477,
          0.7085487574433709,
          1.1437392895821454,
          1.375264594431323,
          -0.5836498678916406,
          0.19823214236746087,
          -1.6148947810199725,
          1.062086481056792,
          -0.9361637998069988,
          -0.022866776118988356,
          0.6613537913076042,
          0.3853063184308234,
          1.2299781646381984,
          -0.07782348751577052,
          -0.1592364575513639,
          0.462791310291955,
          0.8672704536836491,
          1.5854835718191644,
          0.7367549070529664,
          0.7140682739125948,
          0.9688369678118374,
          0.25126802391534414,
          0.5132039117659931,
          0.8372222203501735,
          -0.357367074815776,
          0.7717816493277018,
          -0.6074502986416028,
          -0.26946117978952344,
          -0.8556227790287766,
          -1.1068158657389366,
          0.18685711887944703,
          0.6816277954199131,
          0.9788842536594305,
          0.4520838728502264,
          -0.79830214418091,
          -0.13385525664812448,
          -1.3796314186286895,
          -0.2107813864028451,
          -0.9811799170595041,
          -1.3319948163180733,
          -0.1932809398077525,
          -0.27708365578956295,
          -1.9783775271564652,
          -1.3738927533892722,
          -1.2024447361796236,
          -1.3080694576617207,
          1.765047539754432,
          -1.1229156368814164,
          -2.7309258321583587,
          -0.870622484211255,
          -0.5243173469086188,
          -1.1097479863616238,
          -1.2308039831949489,
          1.1494624022273883,
          1.9641977657477883,
          2.178529382318976,
          -2.813561060773164,
          -0.4446860762774565,
          -1.3634716348410436,
          -0.6220149462494268,
          1.0416800370699912,
          -0.3952177166580224,
          -0.1944946955358416,
          -0.38526083549147183,
          -0.06318642030526894,
          -0.0679398891286134,
          0.04752527244375065,
          -1.2880149374051069,
          -0.47422450868317195,
          -1.3815311599721705,
          -1.4991282734577838,
          0.1059749745768795,
          1.2977230389711811,
          -1.4864565185645977,
          -0.04309271241806793,
          -2.332831179770084,
          0.9425352116267081,
          -0.9782852103707478,
          -0.8375933378434288,
          0.2418211945751757,
          -0.8490077081291304,
          0.06737530831032199,
          -1.1745357862551775,
          -0.6271315392818431,
          -0.5770669957486703,
          -1.3448712697469243,
          0.23196544102466796,
          0.8445197390903189,
          -0.40290098978720845,
          -0.005736214361111353,
          0.44991433403587267,
          0.6750056141422728,
          0.28269214284247585,
          1.269607218037028,
          -0.4871801805221617,
          0.6108104896236389,
          -0.49485873149141457,
          0.11817817238234125,
          0.7334875142917907,
          -0.5180917961506777,
          0.1810641604085824,
          0.7146230917208747,
          0.7428997971628278,
          0.5593656303835159,
          0.4849053310827815,
          -1.0171259983707737,
          0.38781049055471095,
          1.6226377843395532,
          -0.1780970479433469,
          -0.12476503646773981,
          -0.2961779604109387,
          -0.27379892263627587,
          -0.9268841480713078,
          -2.038010112230419,
          1.450633713791229,
          -2.0579085201675205,
          0.03302731056234021,
          -0.6887356962529712,
          -0.5190815328898666,
          -0.747266318611097,
          -0.868239020690792,
          -0.23433916561783139,
          -1.4053392824479318,
          -1.298186109840002,
          -1.112746750628707,
          -0.9768526143068071,
          0.6741636247927307,
          -0.9814765781246833,
          1.0934127148953359,
          1.1383910108144222,
          0.06965396958827796,
          1.9959801067556338,
          0.9755122541602328,
          0.6623848700199334,
          -0.8861233320777759,
          0.7021569500086007,
          0.7363870858767172,
          0.23300896490672035,
          0.1553283747858432,
          -0.7151335683911892,
          0.4534623044762662,
          0.5953873912830425,
          -0.1208386240577007,
          -0.7904677532104019,
          0.7442943549477111,
          -0.5173945461923829,
          -1.3671815537397154,
          -2.164760686281047,
          2.4065757701891544,
          -1.249114229575507,
          -1.7138057454863669,
          -1.1199854719256808,
          1.6019710557732256,
          -0.7298052345060049,
          2.6962725990358916,
          -0.3514964395317291,
          -1.7024709074298876,
          -2.602808344103329,
          -0.0018618573810412768,
          -1.6785787472575266,
          0.1710084301558378,
          -0.26644865112001104,
          0.07288441826828156,
          -0.5148061391081232,
          -3.6521473312229356,
          -1.5229955970088511,
          -0.3615044442366955,
          0.332099146019707,
          0.06386128061298575,
          -0.06798773550581598,
          -0.06798773550581598,
          1.6600878927881184,
          -0.549923070913887,
          1.165758976011194,
          -0.5731714708818129,
          -1.6661836834923525,
          -1.416562462785049,
          -1.430832818093605,
          -1.194397175358904,
          -1.427409520873938,
          -1.1511209970770395,
          -1.4869190971071609,
          -1.5228713473950615,
          -1.4516382091534192,
          0.17590165038654923,
          -1.2007541057312041,
          -1.1574513304114873,
          -0.8775905383634284,
          -0.5753777267466673,
          -2.0477466943732665,
          -1.2612019677118833,
          -1.657891597204079,
          -0.9738377876979737,
          -1.30218283256202,
          2.030428652041034,
          0.7354293886633626,
          -1.4150905188259995,
          0.5545644883197957,
          0.4961085640844246,
          -1.4305639637987255,
          1.6075802808416428,
          -0.8012284798287416,
          0.6747351899313601,
          0.1219465488588968,
          -0.09902124256603871,
          -0.06924925887923142,
          0.6715536596689551,
          -1.1968649079150164,
          2.178529382318976,
          0.7120396547541878,
          1.0719117293829032,
          1.147852074059687,
          0.6481283190597519,
          -0.5960966025054212,
          0.2210938757975809,
          1.9766866328626091,
          0.0667644971130503,
          0.9143713972798225,
          2.846770826534309,
          0.14701877091225737,
          1.2816469698098139,
          2.846770826534309,
          -1.9407940206375216,
          0.04594027856042832,
          -2.106243615014697,
          -0.7473077818496994,
          0.38133053707087233,
          1.1563480223931888,
          0.09832857235023869,
          1.3195450645550864,
          0.6838502211062936,
          0.9286327150239307,
          1.2197449477602855,
          1.181261887713894,
          -0.24626779839357088,
          1.0543507232367988,
          1.634624948268462,
          1.1208526375187806,
          1.1665004006106954,
          0.3592048896803277,
          2.9368444395740827,
          2.3594110153431527,
          1.5909270645632734,
          -0.21910571865285175,
          2.2780569687552257,
          2.6215188359867816,
          1.5149446421866537,
          2.1521154668475533,
          0.3527371550411672,
          -1.5239595469807,
          0.8283125934152257,
          1.4516358923430046,
          -0.07205021415422884,
          -1.1760735761202992,
          -3.1982178651250655,
          -0.8201818438122858,
          0.64860299196621,
          -1.8391905524002912,
          -0.29583327844079504,
          -0.08593625358313264,
          2.1616477161589414,
          -1.556651173133042,
          -0.19148102107685833,
          -0.7299870431004476,
          -0.7726676252422114,
          -0.8789815373159141,
          2.596594940330131,
          -0.9684721849669117,
          -0.012415922773763239,
          2.777631799250745,
          0.008146240049375423,
          -0.12915323542917978,
          0.6678652880289526,
          -1.5107021703796673,
          3.07314935553807,
          -1.4438610416065338,
          -0.5025097048772145,
          1.3242077355585737,
          0.5827095805282652,
          -2.1973568753736163,
          -0.14753873569748688,
          -0.4880953525546389,
          -1.34500839436128,
          0.32685326130838444,
          0.8459249238174404,
          2.2524644820304167,
          3.3049931546089693,
          0.038395247395700514,
          0.9816545686601067,
          -1.746105375396729,
          -1.4139744288995464,
          0.10598670322736001,
          -1.122963178037594,
          1.3844106892201404,
          -0.16167197298894245,
          -2.254469623879285,
          -0.6869253409334289,
          0.7902407593582296,
          -0.1497373230885112,
          2.0284456703648432,
          1.0809283795560019,
          0.25328243485601326,
          -0.139869804076375,
          1.5193532518080133,
          -1.5507576235702545,
          -0.8088935101256495,
          0.15044670458467094,
          -0.04500234018913836,
          0.18720132576081003,
          1.2968594264079611,
          -0.4626240158171086,
          1.0988180711853754,
          -0.4246271861727925,
          -0.8185606053174725,
          1.1197926281004653,
          -0.6119842950529529,
          0.29474561896679174,
          1.4551038711161914,
          -0.4100179474855025,
          0.5691942254362443,
          -2.5905991500480168,
          -0.18202951374809584,
          -0.8607013036745841,
          -2.2960756072603266,
          1.3167076465878864,
          -0.27251690398117745,
          -0.556673886299599,
          -0.7152170885868786,
          -0.7028362760612359,
          0.06303033231618399,
          -0.9902208730061548,
          0.019724106704528628,
          -1.5601392302159753,
          1.2645522348952987,
          1.7383022229355871,
          -0.2495732285193388,
          -1.0702528843505699,
          -1.2844295150086975,
          -1.2464356433071107,
          2.2993299862982353,
          1.1641245992756364,
          0.7015448503931607,
          -1.5291054878331325,
          1.24511250431971,
          1.2631399169680355,
          2.210371436006023,
          0.8690317957680929,
          1.7953295321679041,
          -0.22799795098332154,
          1.0354966936301406,
          1.747185016862291,
          0.639351241368098,
          2.7322746057582017,
          1.9385695616987793,
          -1.4797811365083366,
          2.6268932317139146,
          -0.9871339708869431,
          1.5030130287038048,
          1.0529794513877162,
          1.2377964378668707,
          1.3964744337563022,
          -0.4050203930043917,
          -0.9982484808587216,
          -1.5468837439767467,
          3.1825154078065823,
          -1.5412634785360109,
          0.8001407315361082,
          1.6262958353849513,
          -3.438988591761607,
          0.5753938621894702,
          2.2122163894790106,
          2.4836772733523023,
          0.5885938945441715,
          -4.1211833927024335,
          -1.3940325838598768,
          0.7540240214844236,
          -0.9321725445352367,
          3.0281100691433447,
          2.2881131630279743,
          -0.4078631192511298,
          1.1182369660441582,
          -1.3045923139922657,
          -1.0114715054304502,
          1.4550998217037547,
          -0.11640318223675895,
          -2.4161106590600325,
          -1.979628892770839,
          0.16213361299954054,
          -0.468287527262571,
          0.5913167294180829,
          -0.3108898220591173,
          -2.52009073697686,
          -0.09431542449179699,
          -0.1378307211658043,
          0.6444051988424148,
          -1.1620644660524437,
          -0.5610637779327763,
          0.23168889026857603,
          -0.5581193468046429,
          0.2153890923015158,
          0.38654712958519083,
          0.9889416595795429,
          0.7515095953074546,
          -0.2332940537339575,
          -1.2297478871029004,
          0.8201643769410967,
          -0.15882043442039376,
          -0.7565388853115717,
          -2.1120286151716248,
          1.8405369669807954,
          0.5764743024800889,
          -0.6914969477991745,
          -0.3157707058674232,
          -0.8810996699177831,
          0.8021470798848589,
          0.19347997695700603,
          -0.4260196653524419,
          -0.5943416563048262,
          1.4291872876100469,
          -0.16409245911004589,
          0.8120993643015316,
          -1.5026498422538666,
          2.598779509754671,
          0.5293587436794371,
          0.7783608326259316,
          0.6238136690580935,
          -0.1219194919350477,
          0.2679161610638068,
          0.42379064874774985,
          1.068640816938227,
          1.4026574288018097,
          1.387981656143108,
          -0.21462188479536612,
          1.5320826718596197,
          -0.6503647631977223,
          1.302203303034631,
          -1.3393116405859757,
          0.09681015173227887,
          -1.315588006217711,
          3.283644768299014,
          2.7994210517958282,
          1.3470804164822858,
          -0.18101845690861304,
          -0.17543690178552054,
          0.6064345226532626,
          2.777631799250745,
          -1.8230617493286458,
          0.13057729102599316,
          1.2313845008696005,
          0.346604521603588,
          -0.09832938999496219,
          -0.09436777659232866,
          -1.8418970721984371,
          0.5570265612360737,
          0.3387411601865368,
          1.0151455031556165,
          0.7643506416929176,
          0.08291424450270404,
          -0.10603512351487324,
          -0.04999871550889907,
          -0.8471965335775011,
          -0.7625426989529602,
          0.4494971789327847,
          1.1125741175253234,
          0.6084618967296088,
          -1.2541278438638572,
          -0.6314035129261276,
          1.2962849057650514,
          0.2462120721773815,
          0.05394140392632112,
          1.4956554144984207,
          1.7899910019342098,
          0.47066581613318037,
          0.5196573621206048,
          -0.09702344877198697,
          -1.6289827036759486,
          -0.14762103535583251,
          -1.0538483392871978,
          2.57547389731015,
          0.3269827008452075,
          -1.0584835530918622,
          0.2810292146864922,
          1.4795346263809055,
          0.8726252657977513,
          0.019121467791140927,
          0.8287698711128366,
          1.1378368096175715,
          0.26354457909270124,
          2.2707965426279677,
          1.3077206199092628,
          0.8185767880870023,
          0.6650768549335049,
          1.7874380723812995,
          2.0664051307236857,
          -0.3463926836305335,
          -0.8577415633782193,
          -0.34664296939333716,
          -1.0922817043651114,
          -1.3118166173906027,
          0.8976326080505242,
          2.538527767313563,
          -1.1870387717949196,
          2.7869826184936706,
          0.2545143723187341,
          0.38936147667519777,
          -1.1071412055199426,
          1.6107705074878318,
          -1.1739525088554192,
          -2.0616820132566884,
          -2.8053945963871176,
          -0.8831663371685509,
          -2.063367899423593,
          -1.7987616717190256,
          -0.42073147532697847,
          -0.6148024213290796,
          2.274393449922068,
          0.1859934865096033,
          -0.5898593904191551,
          -1.201819946596272,
          -0.11050871698377183,
          -0.5749320975573802,
          -0.6406026434243637,
          -1.3543005202399974,
          -1.572566092403902,
          -0.6421207488010812,
          -1.7657936503406637,
          -1.4009596285162913,
          -0.5103533356941593,
          0.31366695973061326,
          0.10148720546280415,
          -2.227761661146163,
          -2.166398930590743,
          0.979837076614425,
          1.2933397156417672,
          -0.18737478514681338,
          0.3543719949788684,
          -0.4940457410139059,
          0.40820241461265505,
          0.0754588972510809,
          -0.02009748944254484,
          -0.5232755081075603,
          -1.1151845701111476,
          -0.03524547218808972,
          -1.7256356053318598,
          2.565355550971356,
          3.7855980781445657,
          -0.5196969124319141,
          2.0225229491030845,
          -0.32733611209997576,
          0.902094411364328,
          -0.9310219539819906,
          2.565355550971356,
          -0.9971014093097115,
          -0.2976292993379711,
          0.32410340956387323,
          -0.39729658274353363,
          -0.29185280304219946,
          1.2589704060075484,
          -1.1152716845022315,
          -0.6068327709989888,
          -0.0196087185250908,
          1.8576890270533746,
          -0.4460132004082277,
          -0.08888667464901641,
          1.2226267391788144,
          1.318041944793478,
          2.8347796606319897,
          -1.6881739103057394,
          0.8702582499121735,
          -0.601632959087164,
          -1.6520216682288387,
          -0.6742172913753651,
          -0.16801077379186868,
          0.6829368856864021,
          1.0166141420885209,
          -1.1573513700831817,
          -0.9920311725425539,
          -0.3094075954101779,
          0.27314354771894717,
          0.015838701558656285,
          0.7240235934694047,
          0.8707080592041285,
          0.21601977979558168,
          0.4183086601789254,
          -0.7748456390260213,
          1.6700907754335663,
          0.21471234273482442,
          -1.1733447838065592,
          1.0707460862605098,
          -0.5757347764161718,
          2.7914806372152157,
          0.8073484220482444,
          -1.051185803333701,
          -1.1638906002201073,
          -0.9323783000383276,
          1.433845222952861,
          1.5482517667523994,
          -0.82430536968491,
          -0.2172776174893358,
          0.7408819707686032,
          0.7766444874755662,
          1.246607452225627,
          0.7996077501042855,
          0.7098984500909353,
          0.15738238233608817,
          0.8291981600164915,
          0.41152118484000977,
          0.1850701219470108,
          -1.0699889202336434,
          0.5477835991559221,
          1.0667926679701096,
          -0.8775491680441394,
          -0.411277177439825,
          0.09562702241928438,
          0.07627133581846114,
          -0.4121154042046919,
          1.2651376595429629,
          1.1350518360935904,
          -0.0633777149328392,
          -0.4354620140625755,
          0.7196787549342643,
          -4.402578912524448,
          1.968720868368263,
          0.655512601385143,
          -0.056040088055309814,
          0.36014843924403805,
          -0.339331053051573,
          -0.056188640618950056,
          -0.76203607565414,
          2.2765844364760266,
          -0.18097852487374916,
          0.04741030706684931,
          0.9977781862139053,
          -0.10368604875802549,
          0.08477651925558541,
          0.8612425944740133,
          0.7906107892066142,
          2.2221531688980325,
          0.927113757282782,
          -0.933076573827793,
          -0.8988029806520131,
          -2.313794695898903,
          -1.2620312997889211,
          1.5310948073312332,
          -0.469800247275356,
          0.8215286852076044,
          0.7262953082237085,
          0.34746088691821575,
          0.19331601407251836,
          1.40302092570133,
          1.4136472750859501,
          1.4846899884981613,
          -0.31071788634396097,
          -0.105122707230389,
          2.788588196063793,
          0.6942665279067934,
          -1.6221205168196717,
          -1.5358891258969767,
          -5.390230091324023,
          -0.05382714583808388,
          -0.28986654175931836,
          -1.2603822989769307,
          -0.7803224545641413,
          1.5051495770311587,
          0.5803112501175957,
          2.0866649366493775,
          -0.18161001740644367,
          -0.6501600677716771,
          2.8005081295505843,
          2.010684631814509,
          1.0261929757046142,
          0.8826209995591445,
          1.4018861885732565,
          -0.16219622891775892,
          0.2559954609722755,
          0.8691497060902623,
          -1.50118484887321,
          -0.32005972773275654,
          -1.294499404202613,
          -0.5456178840144876,
          1.88882432086971,
          -0.5729396178889065,
          -1.4908371626662986,
          -2.1898217107727223,
          -0.6979816378653636,
          -0.2390529547481166,
          2.4092943529985416,
          0.9257675849876741,
          1.5566745603483807,
          -1.0069374967242792,
          1.0084966732206215,
          0.9323963957092489,
          -1.0527303276752829,
          -1.2373064742887594,
          -1.0619565111290772,
          -0.5555449222733354,
          0.9788842536594305,
          1.040825929876668,
          -2.8428263971497474,
          0.5180488529611273,
          -1.6905110652741555,
          -0.3262885111417059,
          -2.130031613612813,
          -1.127816890727567,
          -1.2815634859617293,
          2.468497036072904,
          1.0838583358054044,
          -3.134978290334296,
          -1.6413306810627173,
          -0.4525027847066123,
          -1.9522743211029687,
          0.4836229107519124,
          -1.4563425687414246,
          -0.10987314385041909,
          0.6158576137099464,
          -0.5868950184257331,
          0.5769079407121143,
          0.9088328834540087,
          0.9740543609654421,
          1.4055402227803468,
          -0.45150411441299704,
          0.8918181728173374,
          0.8975360796648482,
          -0.6621999979037612,
          0.9635875557456,
          -1.2252005169240607,
          0.870703987564465,
          0.8253771930222148,
          1.0561426926150965,
          -0.9405407931339537,
          -1.8287828386842517,
          -1.354012449305035,
          -1.6069800221607204,
          0.3460117677467233,
          -0.48224370036170433,
          -1.0797421576520259,
          2.0494423788017313,
          -0.6863589864441059,
          -1.2312058155561378,
          -0.4408077734631795,
          1.9103928827399055,
          0.03270583740353581,
          -0.20996796039133653,
          -0.6289580764774867,
          0.5105359440905769,
          -0.959193673966365,
          -0.625881763306141,
          0.06520142346467894,
          -1.7822998845983415,
          -0.8405755615134076,
          -0.6824369774306136,
          -0.30506673575070564,
          -0.6683855409374189,
          -1.2952094103434575,
          4.826559931350435,
          -0.33603727332859357,
          0.5404265351754741,
          -0.12259444631687236,
          0.40405031095811433,
          -0.4306863303344518,
          -0.24231908854981468,
          -3.7463039154987934,
          0.3903540292108698,
          -0.3559583563930905,
          0.06001886261222985,
          -0.8933600247286182,
          -0.8933600247286182,
          -2.0865163953577066,
          -1.7010795872307385,
          0.2606769403007998,
          1.0922593933929903,
          1.2345506751356459,
          -0.48824078778516466,
          0.45241863132259696,
          -0.8399721363552347,
          -1.5610763688475284,
          -0.5750562636036347,
          -0.8381301731828621,
          -2.7309258321583587,
          0.7874939756284264,
          0.4911950927440071,
          0.37744873752101515,
          -0.9967827441174487,
          1.2010413815187755,
          -1.6818591537753564,
          -1.4601155094272107,
          -1.4601155094272107,
          1.2010413815187755,
          1.0670428479199028,
          -0.45679465998486124,
          -1.224537885100137,
          0.6475400473459294,
          1.7194337387580394,
          0.472152050179653,
          0.13514671558855246,
          -0.28063377886379326,
          -0.3541260846265776,
          1.0318573930800476,
          1.7208456743530538,
          1.3009344093014217,
          0.47899759126323477,
          1.869734898114161,
          -0.5914828614287032,
          -2.059037664516556,
          0.2675743062137775,
          -0.9853266239471611,
          -0.4604816004754548,
          -0.5391510807840083,
          0.9443175429761795,
          -0.25995302986961644,
          -1.0649853089125993,
          -0.23905742054502657,
          -0.7345811253619412,
          -0.08720400421958015,
          -0.04894204937688896,
          -2.8657596347127257,
          0.6414594616910214,
          0.6520037893508134,
          0.2747868787312042,
          -0.08784013708631272,
          0.6768356895737312,
          0.35920674858526824,
          -1.3101377947307824,
          -0.06956410118681434,
          0.21875627038952822,
          -0.10658644268281192,
          0.3257683708684391,
          -0.2924354141491236,
          0.6336547576565378,
          0.3133456930887123,
          -0.5032505939465279,
          0.5371220456325407,
          2.3743377142720066,
          0.27904299357174217,
          3.1922750681240526,
          0.08380126477325472,
          -0.34517502480052203,
          0.6167098993104875,
          -1.079290054814858,
          0.14936143468670007,
          0.44470993270299547,
          -0.5114790901334081,
          2.178529382318976,
          0.45722060207314913,
          -0.2555612326053287,
          -0.8074208670098914,
          0.9472386308757975,
          -1.2426905814373947,
          -0.3364176185262611,
          1.0736651373184198,
          1.1904782212570635,
          0.7623681292410848,
          -0.6732696472195215,
          -0.6440393410699312,
          -0.4569795729109639,
          -0.93552147428327,
          2.992943722669239,
          2.7260040104125696,
          0.571893250165838,
          1.5889260213849867,
          -0.20647348498483192,
          2.5038347489576904,
          0.2961501475715487,
          1.0846189796399626,
          -2.202209531135041,
          -1.4404515406505785,
          -1.2821572583643774,
          -1.0392645050027771,
          -0.835978428243052,
          -0.30479871560060195,
          2.072970576974864,
          -1.8586859035534302,
          -1.20494756345331,
          -0.5032153485091942,
          0.33624312056904393,
          2.564961981122826,
          0.30175743185269643,
          -1.7667927291437797,
          0.8235435410088734,
          -0.22551329798239136,
          -2.7309258321583587,
          -1.66133923042458,
          -0.5014512201902215,
          -0.6092820716180181,
          0.8458223801724124,
          -1.9773985178392357,
          -1.053851972624269,
          1.8607976208546815,
          -0.3395686494139353,
          -0.9174984834704716,
          -0.8125754547368489,
          0.1430170152730144,
          -0.4362737933068577,
          -0.9044991715514351,
          -0.27678921811505586,
          -0.24579307422651198,
          -0.8244011946355014,
          0.9298124473763074,
          -0.5950664354754125,
          0.44125070418632967,
          0.8445197390903189,
          -0.465070132032482,
          2.1319338498127407,
          2.1319338498127407,
          -0.33139835788936156,
          0.4415323021122133,
          0.07998978375631596,
          -0.3963211426076451,
          2.1319338498127407,
          -0.815541308129147,
          3.17187347578478,
          -0.5190281872867472,
          -0.04992336453818024,
          -0.5719527809990385,
          1.4382986039502887,
          1.0900669684738797,
          1.784362690675149,
          0.1009559073426788,
          -0.6444052078607314,
          -0.6061843984291281,
          0.5550883374467248,
          1.5481209530840552,
          -0.7817051706674049,
          -0.6388486423779081,
          -0.17090223401107435,
          -0.3261121819132962,
          2.3012225966724373,
          1.7357442769118538,
          0.04692563163928563,
          1.3344903152923,
          -0.31151254721625415,
          1.5407603460529964,
          1.5085799273169225,
          0.8075604130275329,
          -0.441068589590391,
          1.1461892091104096,
          1.0750781640158076,
          -0.025287696876736758,
          1.0359956773490944,
          0.7940371917879292,
          0.010298079972032054,
          -0.23136664446222163,
          -1.1263578380899044,
          0.34827356830738665,
          0.7188007759804196,
          -1.2006685866016822,
          -0.48874919385379517,
          1.0511329441517379,
          0.7337050641208379,
          0.5801340207770187,
          1.7465185489496924,
          1.584539967557503,
          1.2293627570567158,
          -0.06943785397606805,
          1.3142245990799333,
          0.346687799217714,
          -0.32247279140588786,
          0.29009240219455035,
          1.2744631039301626,
          1.950146889917617,
          1.2293627570567158,
          -2.374200815105656,
          0.8097924046763022,
          0.32574938288037764,
          -0.11367229774894547,
          0.5239443339764667,
          1.6637469576513109,
          1.7453471747826617,
          0.1983225982378719,
          1.7258681710226322,
          1.474575388027561,
          1.6228113586987183,
          2.1264928384127204,
          0.30837059075439527,
          1.1642030880653813,
          1.141539810653927,
          -0.025287696876736758,
          -0.6942782995410612,
          0.606244150532469,
          0.8056575915427336,
          -0.9718696038331147,
          1.1846475025888188,
          0.2226039312098758,
          -1.1380333885721883,
          -0.4229417107027693,
          -0.9603842841299504,
          -1.2655864882816015,
          -1.674309468276218,
          -0.959232569667662,
          -2.2082757823500145,
          -0.761431112746127,
          -0.9283602915772446,
          -1.00038727780342,
          0.33305942804359906,
          -0.19978661479337106,
          -0.09779050727088491,
          -0.3273231663866192,
          0.32999149224548,
          -0.17328787315154384,
          -0.2181039074702139,
          2.077877064765505,
          0.025489112912358187,
          -0.9418507803283752,
          -0.48049402993067075,
          -0.47779605592947266,
          -0.5236326235491918,
          -0.9163671842424636,
          -1.2884126387002188,
          0.7256755059981302,
          -0.5361754770471576,
          -0.20004831834695253,
          -1.5613522001109879,
          -0.6142121203837292,
          -1.1941311908090275,
          -2.112375819129678,
          -0.7475462109839741,
          -1.0862550094175347,
          0.6072921779752926,
          -0.35977774728872636,
          -1.5821085055818658,
          -0.13876869479145942,
          -0.003982163539610285,
          -1.7721004542251864,
          -0.10800633824616163,
          -1.7184551482442973,
          -0.722060077357138,
          -2.0084981311726913,
          3.7855980781445657,
          -0.6245323153977068,
          -0.1811411093788351,
          -0.02280029214200533,
          -0.1526302556077654,
          -0.18879500559028334,
          -2.323447975853468,
          -1.612958575629981,
          -1.9259738186536475,
          -1.4099877285403832,
          0.1066186020779704,
          -3.2055384867100987,
          0.5323072652927354,
          1.82829378392111,
          -0.615500754249147,
          1.312255095015002,
          0.6822192108782613,
          -1.0354897180880485,
          -0.45676528942886485,
          -0.845313101007242,
          -1.9210975153315752,
          -0.6527180829080169,
          0.024262505451435865,
          -1.1247553043951943,
          0.4014556948454184,
          0.05346625837849088,
          -1.7065805207387788,
          -1.9235702921852267,
          -0.6810658577223953,
          1.6164448236652205,
          0.09441690780118935,
          -0.5757347764161718,
          -5.324849710991165,
          -1.807005782716965,
          -0.021224692335781867,
          -0.817981281543176,
          -1.3805997531516432,
          -0.4252552251575275,
          -1.1523424561827995,
          -0.6194712237286742,
          0.2735411475255187,
          -1.275616264042181,
          1.777061965927173,
          -0.4548824173651359,
          -0.4217610806862267,
          -0.6384313705147722,
          0.3983427053701476,
          -0.1877564432767335,
          1.6973069926470368,
          -1.5495981205691784,
          0.1937997624785193,
          0.4813935019603197,
          -0.2051231030281124,
          -1.0982469509351984,
          -1.508139029815271,
          1.4235176038388098,
          0.8841847068181838,
          0.20932951138073877,
          -0.5197990686970079,
          -0.7780011535498258,
          -0.08477339014202874,
          0.7143393983015874,
          0.13736835214689688,
          0.7007718477066608,
          -1.0091976515141285,
          -1.0020222624106292,
          -0.7434581785609015,
          -0.7805593020332112,
          -1.3122341658827263,
          1.0170344495471038,
          -0.3040733125345667,
          0.08946315030054408,
          -0.3123068127017175,
          -0.16456801441916125,
          -0.2049495698588305,
          -0.07991557811551529,
          -0.480040233568212,
          1.0418746296709693,
          0.4183237628628043,
          -1.0277443701394036,
          -0.6611049658549462,
          -0.64896804972558,
          -0.3852608354914721,
          0.1744841053717777,
          0.524833900963762,
          -0.4352913993616478,
          1.1609463777718747,
          0.2589852009041745,
          -0.42691453943558544,
          -0.6464046362867774,
          0.4281503175252167,
          0.4327388460338247,
          -0.10281476747520267,
          1.7409198864727402,
          0.5389720184815614,
          0.20213755898732716,
          0.7995084254451733,
          -2.2233358551456637,
          -0.29818416988593044,
          0.4103470932355608,
          -1.1839367028471615,
          -1.1071412055199426,
          -1.1559737393615073,
          0.447151576388072,
          0.7108677100843064,
          -0.4873342819660077,
          0.6078594827312328,
          0.1493626086872335,
          -0.5306247834551384,
          -1.4600986525329216,
          2.158879972144935,
          1.4175724059415635,
          2.323474646233738,
          -0.7264340924704075,
          0.5380051620704813,
          -1.555140179519789,
          -0.23681909680486052,
          0.4830988146821094,
          -1.6654053221269116,
          -0.7714833608045428,
          0.43587842058410853,
          -0.9528768477392701,
          -1.6818591537753564,
          -1.1853532984892683,
          0.03981564058481055,
          0.42768027326640873,
          -1.14393201016726,
          0.48812003926868186,
          1.066662585650463,
          0.011626124047278679,
          0.506063178024322,
          1.4863001605179262,
          -1.2844967685177493,
          -0.3713389048807119,
          1.964001700166654,
          -0.16778180715887148,
          -0.6040355782456622,
          0.29178307745409876,
          -1.4741218575235402,
          -1.1120222115701337,
          0.30596236372108276,
          -0.4379365403909972,
          -0.567220447163662,
          -1.48983281179499,
          -0.43677317153655115,
          -0.9923148417845835,
          -0.20902437743052535,
          -1.0654567706274065,
          0.7770097252992119,
          0.33401701714382964,
          0.5252445248516953,
          1.8155609678787503,
          0.5081082583965716,
          -1.7117626410225635,
          0.49594484497374636,
          1.7418772023653075,
          1.4017740558582379,
          0.281922187430115,
          0.135367125044678,
          0.07841349962985589,
          0.6245229490939121,
          -0.35942637089814494,
          1.7406762762745673,
          1.78107901323913,
          1.6140113589621887,
          1.6826908295445588,
          1.2215784649122443,
          0.9220277790772246,
          1.7617395286963538,
          1.5690767467252922,
          2.7233564576301768,
          -0.47763708031993957,
          2.1233022870016143,
          -1.1063612328205017,
          0.10993501322157832,
          -1.656922397115936,
          -0.7710263136821063,
          0.6354891072036867,
          -0.9350760961442343,
          -3.1540523613575266,
          -1.2137938729879865,
          -0.8438981481839098,
          -0.9125375098004542,
          0.23681176346470115,
          1.7845842030479526,
          1.9879280654500129,
          1.8873203415832434,
          1.3890820852305412,
          0.525057776042805,
          -0.6949754865209071,
          -1.6187760969086673,
          -1.001906597455533,
          0.46327213127598027,
          -0.1628034037795067,
          0.9104905958323071,
          0.4298723392551114,
          -1.1802309291515356,
          -1.1011781151568272,
          -2.409564022889263,
          -1.1367904663450694,
          -0.4810385583693382,
          -1.2429177650114953,
          0.6135342320569066,
          0.06955499887095178,
          0.8825057082452487,
          5.66106446975014,
          -0.16173252619485648,
          0.5077876996619071,
          0.4014556948454184,
          0.6099267306357674,
          0.7221971732916743,
          -1.1482497042279023,
          -0.3069504230571485,
          -0.7545499809956961,
          2.327751738173522,
          0.24686911448379636,
          2.436830025160063,
          0.3434852089598278,
          0.5893342154021547,
          1.0175082866881149,
          0.6428230485845239,
          0.08601275154033237,
          1.3216325337985866,
          1.7160008601508712,
          -0.5715956896217791,
          -0.8386394424269169,
          -0.3763273731967997,
          -0.004324987100125091,
          0.8203433536037076,
          0.9161667510871493,
          -0.14941271670467726,
          0.6042109943935768,
          1.0137097562146629,
          0.13603763028618648,
          0.5283163487891253,
          -0.7549928952607788,
          0.16600454255353347,
          0.9505098176612282,
          -0.1212674376840216,
          -0.27660102442963935,
          0.2823440524192906,
          -0.6505340216336389,
          0.584214596728778,
          0.5598043266791874,
          -0.4591874361420246,
          1.1835659275212298,
          0.7476109366159932,
          0.09042435986383249,
          -1.1641913972188551,
          0.5884791515413874,
          -0.940627903840054,
          0.1852494298999767,
          0.1900479995062986,
          0.894745389403341,
          1.5051506536341928,
          0.8918238940497768,
          2.913545690631496,
          0.19535040548850838,
          -2.1347042752673873,
          -1.0963441427170537,
          -1.0963441427170537,
          -0.17984935525889506,
          -0.8950542673028737,
          0.4247555799804481,
          0.5831053065264439,
          -1.0849805099308265,
          -2.8428263971497474,
          -0.9306059402806298,
          -1.236128423842648,
          -0.9994364223214967,
          -0.8532624380946288,
          -1.2052063378789601,
          -3.0064137891182563,
          -0.7091852339985275,
          -1.0871716684012849,
          -0.5411080761057522,
          -2.0616820132566884,
          -1.8606143982219385,
          1.0730684436328817,
          -0.5750562636036347,
          -1.4422160971020899,
          0.18867895860108772,
          -1.3758920059641728,
          -0.5901899611195277,
          0.9140536000059529,
          -2.355220982919512,
          -1.1982458217628011,
          -1.435492445988599,
          -2.282372401763114,
          -1.449541131702213,
          -1.396164610657439,
          -1.232245985391988,
          -0.6873446047620492,
          -1.3331003309856126,
          -0.3457065151016562,
          -1.651020638964734,
          -1.255049925858343,
          -0.6079438902660655,
          -1.376175104825972,
          -1.5947288333897778,
          -2.756815146103762,
          -2.0975174481531966,
          -1.7890453009986367,
          0.2693814055156148,
          0.6810389452681562,
          -1.4846548825159853,
          0.7411803149126492,
          1.9235878436744327,
          -3.1653627866074747,
          4.826559931350435,
          -0.08741851902060187,
          -2.0674106916733943,
          -2.9687344407540337,
          0.9064658020706813,
          0.7987656364710463,
          -0.5571382455449462,
          -0.2985993159826257,
          -1.1430498587646871,
          0.4817104725042963,
          0.24316610774922656,
          -1.280571140894988,
          -0.5518033813859783,
          -1.1406132411762973,
          -0.6281451448687294,
          -1.865098767014208,
          -0.07153712703738532,
          -1.594756060854449,
          1.4829391941009982,
          -0.030417443991499437,
          1.902544692499398,
          -0.6947868184198281,
          0.14542983433201315,
          -0.7902420934319355,
          -0.4958217071530854,
          0.4233905789931014,
          0.7902407593582296,
          -0.3263511848736155,
          1.1445857085486666,
          0.8799311581112474,
          -0.9439438340615437,
          -0.4296076407966284,
          0.6670912404694659,
          2.2933766544371164,
          -0.4854428229005897,
          -0.7261160220215,
          0.6223149471238151,
          0.16143317928932413,
          0.7770097252992119,
          0.4494073239760201,
          0.2917261998932685,
          -2.8559660325114815,
          -2.8559660325114815,
          0.6559230533819543,
          1.406293735881839,
          1.0147877716635751,
          -0.2578256762650233,
          2.1616477161589414,
          0.9725077360054138,
          0.5566877659983638,
          -0.12451622959310117,
          0.38684109384886695,
          -2.274267147404076,
          -0.5032745309280616,
          0.46325743828393057,
          0.24131108774216106,
          0.4347306693747585,
          -0.4860819155388505,
          1.3493684929291616,
          0.5291162113167038,
          1.3688832383135703,
          -0.7445120828736261,
          -1.487337348536497,
          -1.4723501299578956,
          -0.5094951483576848,
          -0.6626360277993791,
          -1.0397485474220636,
          -0.5147913976645226,
          0.6622361023624533,
          -0.12984942660822296,
          2.5095452655965036,
          0.03438825382887568,
          1.682011814506189,
          -0.22151898410253926,
          -0.4154576536923465,
          1.864336458834132,
          -0.6931916182715603,
          3.3892843225133262,
          1.6888125651475747,
          0.7724804102748091,
          -0.027114204062824474,
          -0.44158173588629046,
          0.8066569243264334,
          1.3009605925765604,
          0.8036905200841319,
          1.4551854278010679,
          -0.966841712081991,
          -1.6011254016144791,
          0.42396345440319216,
          0.9768693414114815,
          1.6643262992104502,
          0.6616282733623571,
          -0.07493749940943258,
          -0.053419150523235745,
          1.5817331684268636,
          0.2508037832268143,
          1.4150167553021773,
          0.9464624614115398,
          1.785420809158665,
          -1.8986513450642595,
          1.660281990069679,
          -1.2797034194713333,
          -1.2278698439781464,
          1.5382079251100929,
          -0.9416686159264953,
          0.25954218045523236,
          1.0825135388044307,
          -0.4795650203233559,
          2.5234170447632347,
          0.5799128089869465,
          0.8994140052267771,
          -1.1652508706177422,
          3.541066134530158,
          -0.615160306456337,
          1.2037797236775671,
          -0.19189490558534023,
          3.7740953500324315,
          1.419024705095503,
          0.46052362278153985,
          0.19506465400557732,
          0.8894868952712854,
          3.4923409189643393,
          0.5095306889194503,
          2.558033727453959,
          2.9413296035633727,
          2.958537628387946,
          0.6664854167602068,
          1.275112218538204,
          1.0858549905634791,
          -1.0223874893828713,
          -0.4896122311522355,
          -0.8883453305418892,
          -1.052714642681394,
          -1.59796721308847,
          2.420543579808563,
          -0.018409808694463143,
          1.3150039075834299,
          0.05034428153885852,
          1.2175238766675414,
          1.4513188974470896,
          -0.776438450096819,
          1.4989831502198459,
          -2.1120286151716248,
          -0.8242950319505034,
          -0.7193176773642324,
          -0.5324102979469509,
          -0.737757044158715,
          -1.7549264883420501,
          -1.1175832891565378,
          -0.8167610018597071,
          -1.4246076648562267,
          1.9210094918523006,
          2.510789089861237,
          -1.098381014920891,
          -0.31907824241307925,
          -0.7018982279762424,
          1.111843294972247,
          -0.439251240429325,
          0.22403578221356468,
          0.6909457256744254,
          0.13117975779423122,
          0.17250022808780416,
          0.6909457256744254,
          0.8801445212944213,
          -0.1726494324053835,
          -0.9571843923901069,
          -0.3418744272736656,
          1.2354223195199185,
          -0.4772773599784346,
          0.674417509712882,
          -0.40133533548180467,
          0.024502695165668026,
          1.0114888345052577,
          -0.858228976852556,
          0.9394174796720564,
          0.41812138172327373,
          -0.8914675871467148,
          -1.543030931424465,
          -1.0478864536138874,
          -0.5196969124319141,
          2.093378912735368,
          0.04095302452669514,
          0.9543876770247639,
          -1.261352710826356,
          -1.3497698875032427,
          0.10155215220948786,
          1.1395224978776402,
          -0.6224926824437764,
          -0.2996109399796006,
          -0.038761203351084184,
          -0.3328413481692109,
          2.1948710462685423,
          0.3926654752334084,
          -0.7082917138338335,
          0.2902319832740673,
          1.3922680305446336,
          0.6626605141152966,
          0.6693446790274982,
          3.826832140878457,
          1.0358556804491126,
          1.88882432086971,
          0.9430672461585837,
          1.2597163972076544,
          -0.8635581785887433,
          -1.623692972127173,
          -1.2939500198084344,
          -1.6971954084152059,
          1.966372838418211,
          0.516364999228502,
          0.5004206553924494,
          0.14092098116822388,
          -1.3864965358510826,
          -0.025169305094830473,
          -1.110287192223832,
          -0.7901974202446442,
          -0.8316780531167186,
          -0.6670526559898661,
          1.4554367646834034,
          0.9890710951795669,
          0.9287715899499619,
          -0.5819582864843322,
          3.103331962225941,
          -1.2547084597372231,
          -0.5922012386468014,
          0.44359553061128726,
          -1.172002542799353,
          0.1301078402567234,
          -0.8263097141400562,
          0.5077876996619071,
          0.9391439233166048,
          -0.8361202369462658,
          -0.41710445916982153,
          0.7424716521704843,
          0.6133935006749399,
          -0.6458383516302351,
          -1.7510201157210303,
          -0.31983833145671753,
          -1.459640795466039,
          0.32456410733230073,
          -0.43057562980432657,
          -1.1280657628897417,
          -0.46563576744897484,
          1.2702245745656204,
          -0.21965273572097802,
          -0.6328920510936805,
          -0.6988975412606975,
          0.7686819591582693,
          -0.8578855206836883,
          -0.6751035437408784,
          -0.4860554777818968,
          -0.6387093576147189,
          -2.3003554276697624,
          -1.4089869637399528,
          0.5329524166170261,
          -0.5503229283988359,
          0.26496692510713776,
          0.16553005113670147,
          -1.729406726271487,
          -1.55773475178462,
          0.7672821803529764,
          1.2004658861734092,
          1.406140145354596,
          -2.350193203598052,
          -0.08627299783939876,
          0.8446557092574348,
          -0.6487851809748321,
          -1.7149594650926854,
          0.0013927407355502721,
          -0.6547324029555951,
          -0.671649825960534,
          -0.23597623740894458,
          0.9064187971729898,
          0.8189954933017451,
          -3.9657535964109174,
          -0.11703497197782851,
          -2.256751542779666,
          -0.09410452304932393,
          0.38125867172018063,
          2.697646336612403,
          0.5131120537669331,
          0.9959213711304594,
          -1.240268993045712,
          1.5628972442440003,
          -1.0607416100157363,
          -2.256751542779666,
          -0.9567877399978013,
          -1.7290648744164672,
          0.2044930518485142,
          -1.423900417611848,
          0.24505719072753263,
          -0.25033575125748875,
          -0.05687280290597509,
          -0.06143591839480622,
          0.7385669494015946,
          0.21719128364849963,
          0.7781800659952596,
          -0.6563513629989125,
          0.6651735153459146,
          -0.8660248605849098,
          0.10023142404119262,
          0.43555699753972704,
          -0.20416279444805718,
          -0.2306611770102493,
          -0.8316304566337291,
          0.7676614983898066,
          -0.24079201735998523,
          -0.2615215886055988,
          -0.41122320695676057,
          -0.8988800994715409,
          0.33369412234070456,
          0.6860578631441854,
          -0.495121405062593,
          -0.059560190095299975,
          0.1207581210737343,
          0.4444178437987884,
          -0.6616514069680521,
          -1.4117539522982125,
          0.27815757325230633,
          1.243929359758918,
          -0.23523107582540706,
          -1.2922767646910296,
          0.13248114283798165,
          -0.592654452071097,
          3.1162867697322665,
          0.23782341079723868,
          -0.6096458997580971,
          -0.6930003232440008,
          -1.1323136221586476,
          2.1986968196259067,
          1.1580810480104031,
          1.245779047423991,
          2.390098384649926,
          0.24373481668966543,
          1.0924350472163025,
          0.29035429531492146,
          -0.22221128725045972,
          1.8975682273569179,
          0.021286560459713767,
          1.3744385074292995,
          0.015710810497530783,
          1.9290845928997946,
          0.19741899494320037,
          2.3161896559614865,
          0.8430468316977235,
          0.7314162765751083,
          -0.7154802731599044,
          -2.2004649250143338,
          0.7920409187021265,
          -0.5335446105803917,
          -0.611630632366397,
          3.603182112776723,
          1.016272321782738,
          2.597830637319542,
          1.0108598689274608,
          1.0938512321728926,
          2.251323592944942,
          1.577004209806866,
          1.3467527027553363,
          4.185024132169881,
          2.0897495005941082,
          1.0383832443919583,
          2.350845883738038,
          1.2583716721302405,
          0.7401609265457807,
          2.160228863385686,
          -1.7852850671989047,
          1.045639887400706,
          0.02815417728787348,
          -0.9361637998069988,
          -0.5220718237448786,
          3.513969831465889,
          1.113180457402914,
          2.5375564571759495,
          -0.29017001406721893,
          -0.5300761897294451,
          -0.2569306475472462,
          -0.3142662177413454,
          2.556676519754195,
          -0.032935202369641293,
          -0.19885795871475273,
          2.401645428187091,
          1.0351778267918212,
          0.6444849876155512,
          0.028306074933143324,
          -2.1162902439844764,
          0.0023635999375399945,
          0.11962982789440267,
          -2.3475492425405373,
          -0.9201381858245024,
          -0.9743563680480036,
          0.685502885275577,
          1.1370901144624272,
          0.5578793427893982,
          0.26544876172433995,
          1.4026574288018097,
          -1.1982458217628011,
          -0.45983998099859663,
          0.004144946964961633,
          -0.12385926837783195,
          0.9074993270322175,
          2.9661176348304363,
          0.2337305855333531,
          -1.063938915022329,
          -0.46220981259857097,
          -0.2980526711510968,
          -0.594315332648695,
          -1.66133923042458,
          -0.36790667229535534,
          -1.0497134604561393,
          -1.3494016832394546,
          0.7991499058784426,
          -1.6325913148629343,
          1.6707445011481512,
          -0.9660544362186677,
          -0.655656490706649,
          -2.060659345414368,
          -0.9655688502559303,
          -0.6386814446471757,
          0.39223597708810487,
          -0.8850916940287195,
          -0.37443829851879057,
          -0.8776851115060579,
          1.017444837628481,
          -1.547565309042901,
          -0.34767541953337144,
          0.747693536214773,
          -1.7158149473483126,
          -0.10726619418296354,
          1.1371005994234762,
          1.1252714892569784,
          -3.393722940762166,
          2.00800196001427,
          0.3406402701807236,
          -1.937835895681665,
          -1.6406240108949246,
          0.3611379628164949,
          -0.11848794556724333,
          -1.3859775972109314,
          -0.8010825313436063,
          -0.6575570841874526,
          -0.839436697516081,
          -0.5271531372802952,
          -0.6114212774880584,
          1.584515152113728,
          -0.4643760537535925,
          -1.3018832532958429,
          -1.1516668256705396,
          -0.8751633821228637,
          -0.8847666158004648,
          -1.169323386379573,
          1.7741759054637456,
          -0.08797624049417745,
          0.0031216044997820647,
          -0.2194826927177579,
          -1.4655689988816694,
          -1.5463730166337222,
          0.4032761766150092,
          0.7755578306120939,
          -0.7059657906162893,
          0.5503898665299508,
          -1.1182317836598312,
          0.5624036751698468,
          -1.4549911125915862,
          -0.6621999979037612,
          -0.46814956413727843,
          -0.4870410138232009,
          0.33010939541902734,
          1.040825929876668,
          1.4738730430602986,
          0.5156531889061455,
          -0.015715671755880914,
          0.6860578631441854,
          1.2872874286237423,
          -1.7328518095993413,
          0.6959769757292272,
          -0.007669339267966909,
          -0.02627685644732987,
          -2.3639641186732745,
          1.1631494108116494,
          -1.963869438165941,
          0.5622885515036898,
          -1.1870319739345874,
          -1.2154061426403087,
          -1.4566505898126167,
          -2.265914905684877,
          0.1794845077670367,
          0.09855330331148648,
          0.7424716521704843,
          -0.08219381352159731,
          -0.8236358611214692,
          -0.4835296956000919,
          -0.16310794825620206,
          -1.390333562746731,
          -0.25239003901778345,
          0.4873161663950991,
          -0.47860482608153115,
          -0.31959440173336123,
          -0.42283836051147466,
          0.46157248994392075,
          1.3345949133414956,
          2.135338854279271,
          -1.2603689420633675,
          0.6396464239450934,
          0.7174376136046103,
          2.3452729670637362,
          1.3733289406188716,
          -0.5966630580451416,
          -0.8228496570941338,
          -2.4169422454436047,
          0.9336350514741313,
          0.9336350514741313,
          0.23664873280865203,
          1.2386911146487698,
          -0.5418841654097453,
          0.8575279188846299,
          -0.7605992017394522,
          -0.23040106781687558,
          0.5411367955330917,
          1.3618413519709747,
          2.457186219925863,
          -1.4898216303774816,
          -1.0689235689502834,
          -2.0465134097188815,
          -0.9547823761436207,
          0.8758128302585266,
          -0.5020453808359139,
          -0.8450034896699794,
          -1.1505866051408822,
          -1.0162719172752006,
          -0.6633142881216204,
          -1.6697928510711917,
          -1.3533738902887793,
          -0.9919352561058719,
          -1.0803934023175583,
          -0.6401416299877919,
          -1.3024094498395533,
          -1.527463322382273,
          -1.8816369915962392,
          -0.6241541934765727,
          -1.1087513872616197,
          -1.0937437785451856,
          -0.5769655569107679,
          1.3501165937602118,
          -0.6835707776461972,
          -0.21333495891230753,
          -1.720888166739298,
          0.6069933473401397,
          -0.9485578909088257,
          0.34063800496897867,
          -0.6728024875104741,
          0.009588568549988933,
          -0.3318682072964199,
          1.2099337331859223,
          -0.04351653889015337,
          0.47249730841774773,
          0.16670061782509787,
          -0.45983998099859663,
          0.8379678502770377,
          -1.8668083916396343,
          0.39134901070350536,
          0.030032344428860294,
          0.33346010912390517,
          -0.4109946285590798,
          -0.7476281108276701,
          -0.5327999702766609,
          1.4165753877023477,
          -0.9778755269931472,
          0.5343302360287053,
          -1.1023076661037072,
          -0.8610990263499432,
          -0.7747711983975611,
          -0.14363907758537275,
          -0.9146586648127379,
          -0.9765413938527051,
          -1.7663661393860093,
          -1.1307289608189788,
          -0.7087335536763935,
          -0.5947383472184745,
          0.07306755370479746,
          -1.5158796949645639,
          0.661310868660678,
          1.1286274880828184,
          -2.0581977671877016,
          1.0677052103269236,
          -0.30124592352344126,
          0.42578014988780627,
          -0.40263933571266447,
          0.2989675907068798,
          1.6285636697961776,
          -0.6663501829263653,
          1.8664334683739923,
          2.420357930284384,
          -1.109234749299672,
          0.3200841475174367,
          0.0316918901269802,
          1.1160776457145438,
          -0.43945652058233337,
          2.0898309796232213,
          -0.7570751399473813,
          -0.7746598120563302,
          -0.38653891891373326,
          0.2570733598340699,
          0.06329890129218393,
          0.3373619817345914,
          0.22643180698531143,
          -1.3546107260806588,
          0.8002025039600899,
          -0.888908110764409,
          -0.7286812887095828,
          1.30786948653465,
          -0.6114302591907735,
          0.5466667600703213,
          1.8234840719083296,
          2.2518211503014935,
          1.532745181088449,
          1.69203788289769,
          0.7022921431888608,
          1.9109285289174918,
          0.2804484614653247,
          -1.049841788790346,
          3.603182112776723,
          -0.5242582112536083,
          0.7861182653546214,
          2.0403271912218055,
          0.1689301613237617,
          -0.08526345403740697,
          -0.011024140739629035,
          -0.791675538642383,
          -1.2147270836405089,
          0.7724463413233448,
          -0.30374574130359416,
          -2.3335427199807524,
          -0.35621684950736454,
          0.12430303586946688,
          -1.170621089986697,
          -2.36062744646774,
          -1.636781917549563,
          -0.5023576395671447,
          -2.7309258321583587,
          -1.2423446127955207,
          -0.8386470327706347,
          -1.0079198521398596,
          -0.22761893527392513,
          -0.42160553228633324,
          -0.9631389674046098,
          2.489831978249965,
          0.734374019759687,
          2.115364063407619,
          0.13724873880508356,
          1.0125213152896393,
          -0.3700529157494549,
          -1.781530089631287,
          -1.1887304827614935,
          -0.24042744331689442,
          -0.6167239342012046,
          -0.9734476761826621,
          -0.5688906477444736,
          -0.4861672206217965,
          1.007660051451994,
          -0.30150576336683443,
          0.12897294715117785,
          2.5309300185056194,
          0.9337858603263669,
          0.8418091510500237,
          -0.9333434321358262,
          -0.19397496311706502,
          -0.5671126380023027,
          1.5106561492724941,
          0.18074855667507678,
          -1.0463627822229722,
          -0.7333067303892989,
          -1.024619137581629,
          0.8689648267049016,
          2.4131387627924803,
          -1.0475814842246303,
          0.9736919192976636,
          1.721239293474562,
          -1.3429003712914263,
          -0.5792383396463361,
          1.3474157429635831,
          1.2378265189856161,
          -0.627734490543866,
          -0.466937445312977,
          -0.619543801452287,
          1.424928249001411,
          0.9643381077505926,
          0.1116572745926809,
          0.9643381077505926,
          -0.12094841593244893,
          -0.43451549773971876,
          -0.8717228134320308,
          0.15079746470859592,
          0.2779790895369186,
          1.189489127296593,
          0.13692337593368914,
          2.295129874378311,
          -1.2426905814373947,
          -0.3485694162350358,
          0.302764312262812,
          -0.9565041870588202,
          -0.034557781152382075,
          -0.23528215500303393,
          -0.28771160652307415,
          0.33490144838208774,
          -0.5519801147930536,
          -1.6671675160620312,
          0.3483655714328127,
          -0.6829322826912645,
          0.1027995161211984,
          -1.9959511402427093,
          0.268511846771953,
          1.9946169248668233,
          1.8483060822592732,
          1.055492558867624,
          0.21879040449048226,
          -0.13570197581660728,
          0.985196886190002,
          1.0680519747125845,
          -0.9423944222871246,
          -1.3267365895545937,
          0.2379283177597413,
          1.0906730354380927,
          0.8260360840052886,
          -0.11461723951061502,
          1.8404077114195647,
          1.082354091994071,
          -0.868773862648446,
          -0.5914828614287032,
          -0.8089063660175063,
          0.6170449549147413,
          -0.03580072293818747,
          1.5913428281037119,
          1.3560670015995695,
          -1.62874817073926,
          -1.2933490428322207,
          -0.676348585196239,
          1.1830106693009685,
          0.6030493268732678,
          0.38239048371577616,
          3.024148516645302,
          1.4320445004928857,
          0.34228297341502,
          -1.4187000715910487,
          1.6814999864821398,
          2.7994210517958282,
          -0.04549238763922506,
          0.4657414169487374,
          1.419823945602941,
          0.5888953615807228,
          1.0444386933204348,
          0.5964434905315044,
          0.08844995393029535,
          -0.04549238763922506,
          0.8977977758332196,
          -0.16885058170458198,
          0.5983088128366479,
          0.6667441748139554,
          0.11485247399156119,
          -2.5769252053016865,
          0.2390964075580606,
          2.248756190662399,
          2.5387340249432477,
          -0.05632591154783252,
          0.5964434905315044,
          1.9783020811682765,
          1.3560670015995695,
          2.9160689759183827,
          -0.622579756199668,
          0.25594206718460366,
          -0.290724420760038,
          0.37573869502044527,
          1.555630945672216,
          0.45063092760922496,
          0.7757854374142295,
          0.07431941987263792,
          -1.3080925230982428,
          -1.352434598293573,
          0.29360917681999865,
          3.3099155081569456,
          -0.5551636406866745,
          0.5675987166081053,
          2.6461398776378924,
          0.033997998330897054,
          0.6786040056615542,
          0.1492336042384123,
          -0.4559136008402399,
          2.94655794236236,
          1.948601535631257,
          0.6937156146030253,
          -0.6479161411275285,
          -0.16832643560406652,
          0.92063318895065,
          -0.4507613510772777,
          -1.6238548107932442,
          -1.7149594650926854,
          0.8246937348674312,
          -0.6046810983191553,
          0.9951455987502049,
          -0.49439614316897446,
          -0.19789301436615464,
          -0.17763361203952777,
          -0.08113594162833197,
          -3.591928184508258,
          0.015192898637176442,
          0.4183237628628043,
          -1.343039625106524,
          -1.153338780548083,
          -1.5144988077562607,
          -1.5909581557697066,
          -2.3456999619452206,
          0.5187929455099826,
          -2.0068878431165396,
          -1.561074478588749,
          0.4027243215517692,
          0.3885717411713825,
          2.47119076193706,
          -0.21414035832918005,
          3.0020429581390826,
          2.4311389903409255,
          2.8822811672315227,
          0.964298052137858,
          0.007995287376184422,
          -1.444857564438207,
          -0.2155865258574754,
          -1.0494337432873837,
          -0.16881431329935548,
          -0.7392065333258866,
          2.1790993577352387,
          -1.0820263567320592,
          -0.5618613817516012,
          0.05919103367562574,
          -1.0420534653157887,
          0.12324047273321308,
          -0.06624184533439167,
          -1.5632894769170882,
          -0.20455517338153054,
          -0.28256903175167336,
          -1.7373472894249404,
          -1.0465870893288534,
          0.571893250165838,
          0.031844458972235354,
          -0.012659131268622786,
          1.0406554362647784,
          2.0807189773265082,
          -2.221579005793505,
          -1.2942306228088367,
          -0.9232671973085137,
          1.6648500226504854,
          -2.2517164433175365,
          2.227919979383781,
          -1.4934305722339847,
          0.0675976305387396,
          -0.4220085249074867,
          -1.6224994565962763,
          -0.8568498421627444,
          -1.715611908351699,
          -0.40181400052585226,
          -1.9183111465675262,
          -1.0284176661154847,
          0.5662509076481903,
          -1.93609212904851,
          -1.3661970267771646,
          -0.4790532667477225,
          1.532396117561851,
          0.6372584903149993,
          1.3733798976383906,
          -0.5126351469976406,
          -0.47065776417615385,
          0.0005851604650558106,
          0.8136001906911915,
          0.38997026358277687,
          -0.39546104811196797,
          -1.582552364592883,
          -0.9178690058179535,
          -0.3820309089909236,
          0.15708317010829767,
          -0.9806604314366211,
          1.2573912397734028,
          0.5631582113333841,
          1.1114556668423163,
          0.1930943075400803,
          -3.057357636723083,
          -2.796405090095438,
          0.44419319813298935,
          -0.5425621727635148,
          -0.8201583062849649,
          0.37514319403638247,
          -1.0223780840942387,
          -0.6070712876472284,
          -0.9624492068779569,
          -2.02374713560147,
          -0.08741851902060187,
          -0.2046286417953901,
          -0.08910926007141527,
          -2.0591628392523162,
          -1.1745357862551775,
          -0.6346088648189901,
          -0.5491745735455931,
          0.5095716897531226,
          0.806540610499244,
          0.7411803149126492,
          -0.8558821629061246,
          -0.36576815422792935,
          -0.5309994855824152,
          -0.5213994519208947,
          -0.8095689157079918,
          1.126582546311055,
          -0.20982947444075473,
          -1.1323946066926893,
          0.22119401719295126,
          -1.1950493627964516,
          1.4025390812695433,
          -0.5757347764161718,
          -0.7264869106374389,
          -0.7415878471844212,
          0.06951336384573242,
          -0.20446565868521008,
          -0.01879031406313689,
          0.03139289071179084,
          0.3506700562360752,
          -1.1128956328696058,
          1.8195868927959185,
          1.8713013951568802,
          1.9181525956534962,
          -1.7186688480437697,
          0.8757893106119159,
          0.17563027053701333,
          -0.6929183840508941,
          -0.2872600209762631,
          0.20809406613317066,
          1.7764954026041335,
          -0.4085731850932753,
          0.029405535122962505,
          0.3028902959496628,
          0.9923583707665782,
          0.4337799548368585,
          -1.3564329550862646,
          0.5863758368736306,
          2.9239327364249346,
          1.0230580147774833,
          0.839776814624136,
          2.571609178955064,
          -0.39274683629951296,
          0.31036458933882694,
          1.2122221199360668,
          -0.910527198661446,
          -0.4231354934946351,
          -1.5022933704705315,
          -0.39581140385400515,
          0.11057980583580418,
          -1.1364627595215084,
          0.9890710951795669,
          1.6893322614019726,
          0.9299479085907881,
          -0.4525968776137771,
          -0.7448746955627229,
          1.8574219818393187,
          0.3162113284328082,
          -3.591928184508258,
          -2.7715699519860664,
          -1.0936649608603832,
          -0.8987367758535391,
          -0.7144851932041154,
          0.08471793830475445,
          3.402325258536726,
          0.5915376393811423,
          0.19594602619168272,
          0.035965084981218615,
          -0.7572787491134749,
          0.48004216049067777,
          0.5277834265150196,
          -0.07029951988053626,
          -2.6459203144839663,
          -1.3983743516341594,
          -1.7875077633778902,
          0.8485646204971754,
          1.2059329792106621,
          -1.7241610708089146,
          -0.47215623617893526,
          -0.8206980878304482,
          -0.9083842640904409,
          -0.7454847813329042,
          -0.7426614340923889,
          -0.5761116798393069,
          1.2630604906993117,
          -0.9648409921390919,
          0.19368622313440154,
          0.9996039142658492,
          1.1575246422378067,
          -1.0936649608603832,
          -1.0936649608603832,
          3.024148516645302,
          1.5817331684268634,
          1.6452582761714512,
          -2.404578838074841,
          -2.457424990644713,
          -0.5475715725911342,
          -1.3098373709567734,
          -2.01265219258136,
          -2.462051030380848,
          0.4839182224013321,
          -1.4091483830778597,
          -1.5557878439244355,
          -1.7104659017896562,
          -0.14939377576965032,
          -2.0027033980752855,
          -2.2204584178167077,
          -0.9119564427723753,
          -2.220903123314177,
          -1.7536558307851087,
          -1.3764437205042694,
          -2.539680899330997,
          -1.9288195091233986,
          0.4586528028759602,
          -0.7370750659682069,
          -1.4238717798777552,
          0.3131378501572331,
          0.03164626132905508,
          -0.9437787672942032,
          0.42203314767341865,
          -0.19189119093840776,
          -0.5211679048184913,
          1.8836076923570393,
          1.2546259176505106,
          -1.7980071100359782,
          1.6046581333958092,
          0.5308244007763749,
          -1.4677050692393363,
          -0.07553356999426515,
          -0.9371300061780349,
          0.9744129361419308,
          1.0808327860734268,
          -1.3498838940521132,
          -2.6382976097380926,
          1.1075741810946949,
          -1.1968544636420677,
          -0.0498515700177332,
          -1.336858623691952,
          3.3802062358742155,
          -0.9362765548657944,
          -0.8512302225203643,
          0.8312994793303624,
          1.147415931777524,
          0.8692814620397314,
          -0.0637315039881946,
          -0.45242591189056913,
          -1.0487895677819894,
          -0.9786629053950866,
          -1.1203219593181086,
          -0.6009018213810916,
          0.418624148693118,
          -0.3053760309640843,
          0.18024535423151264,
          -0.08741851902060187,
          -2.1446915046004706,
          0.8614420346143535,
          0.13071407897492052,
          -0.22775045896727958,
          1.1093919174553264,
          0.5061696894655044,
          2.511450929046461,
          -0.3562583850385014,
          0.26395567276692367,
          0.27161526261914515,
          -0.3396231129337279,
          0.8138121170061817,
          1.6452114399898927,
          1.2386818562701005,
          0.8050649466533392,
          0.5777097466141747,
          -0.7454513238920502,
          0.7691464789300272,
          -0.23009953334279923,
          -1.1625225503153807,
          1.0967477999866957,
          -0.7762878624655966,
          -0.5844671710446091,
          -0.6061979063641791,
          -1.4869471807666181,
          1.750344874345482,
          -0.615160306456337,
          -1.6531344263407732,
          0.742715170750738,
          -0.7054157806980522,
          -0.03251912330296426,
          -2.3414449224888667,
          1.8408479769371744,
          0.4150643762265146,
          -0.5229064046857325,
          -0.017125860721714643,
          -1.3049828462456539,
          -1.0897255704646915,
          -3.6952327527777613,
          -1.3907085464763507
         ],
         "yaxis": "y"
        }
       ],
       "layout": {
        "coloraxis": {
         "colorbar": {
          "title": {
           "text": "cluster_pca"
          }
         },
         "colorscale": [
          [
           0,
           "#0d0887"
          ],
          [
           0.1111111111111111,
           "#46039f"
          ],
          [
           0.2222222222222222,
           "#7201a8"
          ],
          [
           0.3333333333333333,
           "#9c179e"
          ],
          [
           0.4444444444444444,
           "#bd3786"
          ],
          [
           0.5555555555555556,
           "#d8576b"
          ],
          [
           0.6666666666666666,
           "#ed7953"
          ],
          [
           0.7777777777777778,
           "#fb9f3a"
          ],
          [
           0.8888888888888888,
           "#fdca26"
          ],
          [
           1,
           "#f0f921"
          ]
         ]
        },
        "legend": {
         "tracegroupgap": 0
        },
        "margin": {
         "t": 60
        },
        "template": {
         "data": {
          "bar": [
           {
            "error_x": {
             "color": "#2a3f5f"
            },
            "error_y": {
             "color": "#2a3f5f"
            },
            "marker": {
             "line": {
              "color": "#E5ECF6",
              "width": 0.5
             },
             "pattern": {
              "fillmode": "overlay",
              "size": 10,
              "solidity": 0.2
             }
            },
            "type": "bar"
           }
          ],
          "barpolar": [
           {
            "marker": {
             "line": {
              "color": "#E5ECF6",
              "width": 0.5
             },
             "pattern": {
              "fillmode": "overlay",
              "size": 10,
              "solidity": 0.2
             }
            },
            "type": "barpolar"
           }
          ],
          "carpet": [
           {
            "aaxis": {
             "endlinecolor": "#2a3f5f",
             "gridcolor": "white",
             "linecolor": "white",
             "minorgridcolor": "white",
             "startlinecolor": "#2a3f5f"
            },
            "baxis": {
             "endlinecolor": "#2a3f5f",
             "gridcolor": "white",
             "linecolor": "white",
             "minorgridcolor": "white",
             "startlinecolor": "#2a3f5f"
            },
            "type": "carpet"
           }
          ],
          "choropleth": [
           {
            "colorbar": {
             "outlinewidth": 0,
             "ticks": ""
            },
            "type": "choropleth"
           }
          ],
          "contour": [
           {
            "colorbar": {
             "outlinewidth": 0,
             "ticks": ""
            },
            "colorscale": [
             [
              0,
              "#0d0887"
             ],
             [
              0.1111111111111111,
              "#46039f"
             ],
             [
              0.2222222222222222,
              "#7201a8"
             ],
             [
              0.3333333333333333,
              "#9c179e"
             ],
             [
              0.4444444444444444,
              "#bd3786"
             ],
             [
              0.5555555555555556,
              "#d8576b"
             ],
             [
              0.6666666666666666,
              "#ed7953"
             ],
             [
              0.7777777777777778,
              "#fb9f3a"
             ],
             [
              0.8888888888888888,
              "#fdca26"
             ],
             [
              1,
              "#f0f921"
             ]
            ],
            "type": "contour"
           }
          ],
          "contourcarpet": [
           {
            "colorbar": {
             "outlinewidth": 0,
             "ticks": ""
            },
            "type": "contourcarpet"
           }
          ],
          "heatmap": [
           {
            "colorbar": {
             "outlinewidth": 0,
             "ticks": ""
            },
            "colorscale": [
             [
              0,
              "#0d0887"
             ],
             [
              0.1111111111111111,
              "#46039f"
             ],
             [
              0.2222222222222222,
              "#7201a8"
             ],
             [
              0.3333333333333333,
              "#9c179e"
             ],
             [
              0.4444444444444444,
              "#bd3786"
             ],
             [
              0.5555555555555556,
              "#d8576b"
             ],
             [
              0.6666666666666666,
              "#ed7953"
             ],
             [
              0.7777777777777778,
              "#fb9f3a"
             ],
             [
              0.8888888888888888,
              "#fdca26"
             ],
             [
              1,
              "#f0f921"
             ]
            ],
            "type": "heatmap"
           }
          ],
          "heatmapgl": [
           {
            "colorbar": {
             "outlinewidth": 0,
             "ticks": ""
            },
            "colorscale": [
             [
              0,
              "#0d0887"
             ],
             [
              0.1111111111111111,
              "#46039f"
             ],
             [
              0.2222222222222222,
              "#7201a8"
             ],
             [
              0.3333333333333333,
              "#9c179e"
             ],
             [
              0.4444444444444444,
              "#bd3786"
             ],
             [
              0.5555555555555556,
              "#d8576b"
             ],
             [
              0.6666666666666666,
              "#ed7953"
             ],
             [
              0.7777777777777778,
              "#fb9f3a"
             ],
             [
              0.8888888888888888,
              "#fdca26"
             ],
             [
              1,
              "#f0f921"
             ]
            ],
            "type": "heatmapgl"
           }
          ],
          "histogram": [
           {
            "marker": {
             "pattern": {
              "fillmode": "overlay",
              "size": 10,
              "solidity": 0.2
             }
            },
            "type": "histogram"
           }
          ],
          "histogram2d": [
           {
            "colorbar": {
             "outlinewidth": 0,
             "ticks": ""
            },
            "colorscale": [
             [
              0,
              "#0d0887"
             ],
             [
              0.1111111111111111,
              "#46039f"
             ],
             [
              0.2222222222222222,
              "#7201a8"
             ],
             [
              0.3333333333333333,
              "#9c179e"
             ],
             [
              0.4444444444444444,
              "#bd3786"
             ],
             [
              0.5555555555555556,
              "#d8576b"
             ],
             [
              0.6666666666666666,
              "#ed7953"
             ],
             [
              0.7777777777777778,
              "#fb9f3a"
             ],
             [
              0.8888888888888888,
              "#fdca26"
             ],
             [
              1,
              "#f0f921"
             ]
            ],
            "type": "histogram2d"
           }
          ],
          "histogram2dcontour": [
           {
            "colorbar": {
             "outlinewidth": 0,
             "ticks": ""
            },
            "colorscale": [
             [
              0,
              "#0d0887"
             ],
             [
              0.1111111111111111,
              "#46039f"
             ],
             [
              0.2222222222222222,
              "#7201a8"
             ],
             [
              0.3333333333333333,
              "#9c179e"
             ],
             [
              0.4444444444444444,
              "#bd3786"
             ],
             [
              0.5555555555555556,
              "#d8576b"
             ],
             [
              0.6666666666666666,
              "#ed7953"
             ],
             [
              0.7777777777777778,
              "#fb9f3a"
             ],
             [
              0.8888888888888888,
              "#fdca26"
             ],
             [
              1,
              "#f0f921"
             ]
            ],
            "type": "histogram2dcontour"
           }
          ],
          "mesh3d": [
           {
            "colorbar": {
             "outlinewidth": 0,
             "ticks": ""
            },
            "type": "mesh3d"
           }
          ],
          "parcoords": [
           {
            "line": {
             "colorbar": {
              "outlinewidth": 0,
              "ticks": ""
             }
            },
            "type": "parcoords"
           }
          ],
          "pie": [
           {
            "automargin": true,
            "type": "pie"
           }
          ],
          "scatter": [
           {
            "fillpattern": {
             "fillmode": "overlay",
             "size": 10,
             "solidity": 0.2
            },
            "type": "scatter"
           }
          ],
          "scatter3d": [
           {
            "line": {
             "colorbar": {
              "outlinewidth": 0,
              "ticks": ""
             }
            },
            "marker": {
             "colorbar": {
              "outlinewidth": 0,
              "ticks": ""
             }
            },
            "type": "scatter3d"
           }
          ],
          "scattercarpet": [
           {
            "marker": {
             "colorbar": {
              "outlinewidth": 0,
              "ticks": ""
             }
            },
            "type": "scattercarpet"
           }
          ],
          "scattergeo": [
           {
            "marker": {
             "colorbar": {
              "outlinewidth": 0,
              "ticks": ""
             }
            },
            "type": "scattergeo"
           }
          ],
          "scattergl": [
           {
            "marker": {
             "colorbar": {
              "outlinewidth": 0,
              "ticks": ""
             }
            },
            "type": "scattergl"
           }
          ],
          "scattermapbox": [
           {
            "marker": {
             "colorbar": {
              "outlinewidth": 0,
              "ticks": ""
             }
            },
            "type": "scattermapbox"
           }
          ],
          "scatterpolar": [
           {
            "marker": {
             "colorbar": {
              "outlinewidth": 0,
              "ticks": ""
             }
            },
            "type": "scatterpolar"
           }
          ],
          "scatterpolargl": [
           {
            "marker": {
             "colorbar": {
              "outlinewidth": 0,
              "ticks": ""
             }
            },
            "type": "scatterpolargl"
           }
          ],
          "scatterternary": [
           {
            "marker": {
             "colorbar": {
              "outlinewidth": 0,
              "ticks": ""
             }
            },
            "type": "scatterternary"
           }
          ],
          "surface": [
           {
            "colorbar": {
             "outlinewidth": 0,
             "ticks": ""
            },
            "colorscale": [
             [
              0,
              "#0d0887"
             ],
             [
              0.1111111111111111,
              "#46039f"
             ],
             [
              0.2222222222222222,
              "#7201a8"
             ],
             [
              0.3333333333333333,
              "#9c179e"
             ],
             [
              0.4444444444444444,
              "#bd3786"
             ],
             [
              0.5555555555555556,
              "#d8576b"
             ],
             [
              0.6666666666666666,
              "#ed7953"
             ],
             [
              0.7777777777777778,
              "#fb9f3a"
             ],
             [
              0.8888888888888888,
              "#fdca26"
             ],
             [
              1,
              "#f0f921"
             ]
            ],
            "type": "surface"
           }
          ],
          "table": [
           {
            "cells": {
             "fill": {
              "color": "#EBF0F8"
             },
             "line": {
              "color": "white"
             }
            },
            "header": {
             "fill": {
              "color": "#C8D4E3"
             },
             "line": {
              "color": "white"
             }
            },
            "type": "table"
           }
          ]
         },
         "layout": {
          "annotationdefaults": {
           "arrowcolor": "#2a3f5f",
           "arrowhead": 0,
           "arrowwidth": 1
          },
          "autotypenumbers": "strict",
          "coloraxis": {
           "colorbar": {
            "outlinewidth": 0,
            "ticks": ""
           }
          },
          "colorscale": {
           "diverging": [
            [
             0,
             "#8e0152"
            ],
            [
             0.1,
             "#c51b7d"
            ],
            [
             0.2,
             "#de77ae"
            ],
            [
             0.3,
             "#f1b6da"
            ],
            [
             0.4,
             "#fde0ef"
            ],
            [
             0.5,
             "#f7f7f7"
            ],
            [
             0.6,
             "#e6f5d0"
            ],
            [
             0.7,
             "#b8e186"
            ],
            [
             0.8,
             "#7fbc41"
            ],
            [
             0.9,
             "#4d9221"
            ],
            [
             1,
             "#276419"
            ]
           ],
           "sequential": [
            [
             0,
             "#0d0887"
            ],
            [
             0.1111111111111111,
             "#46039f"
            ],
            [
             0.2222222222222222,
             "#7201a8"
            ],
            [
             0.3333333333333333,
             "#9c179e"
            ],
            [
             0.4444444444444444,
             "#bd3786"
            ],
            [
             0.5555555555555556,
             "#d8576b"
            ],
            [
             0.6666666666666666,
             "#ed7953"
            ],
            [
             0.7777777777777778,
             "#fb9f3a"
            ],
            [
             0.8888888888888888,
             "#fdca26"
            ],
            [
             1,
             "#f0f921"
            ]
           ],
           "sequentialminus": [
            [
             0,
             "#0d0887"
            ],
            [
             0.1111111111111111,
             "#46039f"
            ],
            [
             0.2222222222222222,
             "#7201a8"
            ],
            [
             0.3333333333333333,
             "#9c179e"
            ],
            [
             0.4444444444444444,
             "#bd3786"
            ],
            [
             0.5555555555555556,
             "#d8576b"
            ],
            [
             0.6666666666666666,
             "#ed7953"
            ],
            [
             0.7777777777777778,
             "#fb9f3a"
            ],
            [
             0.8888888888888888,
             "#fdca26"
            ],
            [
             1,
             "#f0f921"
            ]
           ]
          },
          "colorway": [
           "#636efa",
           "#EF553B",
           "#00cc96",
           "#ab63fa",
           "#FFA15A",
           "#19d3f3",
           "#FF6692",
           "#B6E880",
           "#FF97FF",
           "#FECB52"
          ],
          "font": {
           "color": "#2a3f5f"
          },
          "geo": {
           "bgcolor": "white",
           "lakecolor": "white",
           "landcolor": "#E5ECF6",
           "showlakes": true,
           "showland": true,
           "subunitcolor": "white"
          },
          "hoverlabel": {
           "align": "left"
          },
          "hovermode": "closest",
          "mapbox": {
           "style": "light"
          },
          "paper_bgcolor": "white",
          "plot_bgcolor": "#E5ECF6",
          "polar": {
           "angularaxis": {
            "gridcolor": "white",
            "linecolor": "white",
            "ticks": ""
           },
           "bgcolor": "#E5ECF6",
           "radialaxis": {
            "gridcolor": "white",
            "linecolor": "white",
            "ticks": ""
           }
          },
          "scene": {
           "xaxis": {
            "backgroundcolor": "#E5ECF6",
            "gridcolor": "white",
            "gridwidth": 2,
            "linecolor": "white",
            "showbackground": true,
            "ticks": "",
            "zerolinecolor": "white"
           },
           "yaxis": {
            "backgroundcolor": "#E5ECF6",
            "gridcolor": "white",
            "gridwidth": 2,
            "linecolor": "white",
            "showbackground": true,
            "ticks": "",
            "zerolinecolor": "white"
           },
           "zaxis": {
            "backgroundcolor": "#E5ECF6",
            "gridcolor": "white",
            "gridwidth": 2,
            "linecolor": "white",
            "showbackground": true,
            "ticks": "",
            "zerolinecolor": "white"
           }
          },
          "shapedefaults": {
           "line": {
            "color": "#2a3f5f"
           }
          },
          "ternary": {
           "aaxis": {
            "gridcolor": "white",
            "linecolor": "white",
            "ticks": ""
           },
           "baxis": {
            "gridcolor": "white",
            "linecolor": "white",
            "ticks": ""
           },
           "bgcolor": "#E5ECF6",
           "caxis": {
            "gridcolor": "white",
            "linecolor": "white",
            "ticks": ""
           }
          },
          "title": {
           "x": 0.05
          },
          "xaxis": {
           "automargin": true,
           "gridcolor": "white",
           "linecolor": "white",
           "ticks": "",
           "title": {
            "standoff": 15
           },
           "zerolinecolor": "white",
           "zerolinewidth": 2
          },
          "yaxis": {
           "automargin": true,
           "gridcolor": "white",
           "linecolor": "white",
           "ticks": "",
           "title": {
            "standoff": 15
           },
           "zerolinecolor": "white",
           "zerolinewidth": 2
          }
         }
        },
        "xaxis": {
         "anchor": "y",
         "domain": [
          0,
          1
         ],
         "title": {
          "text": "x"
         }
        },
        "yaxis": {
         "anchor": "x",
         "domain": [
          0,
          1
         ],
         "title": {
          "text": "y"
         }
        }
       }
      }
     },
     "metadata": {},
     "output_type": "display_data"
    }
   ],
   "source": [
    "fig_pca_clusters = px.scatter(projection, x='x', y='y', color='cluster_pca', hover_data=['x', 'y', 'generos'])\n",
    "fig_pca_clusters.show()"
   ]
  },
  {
   "cell_type": "code",
   "execution_count": 545,
   "metadata": {},
   "outputs": [
    {
     "data": {
      "text/plain": [
       "0.492706699472664"
      ]
     },
     "execution_count": 545,
     "metadata": {},
     "output_type": "execute_result"
    }
   ],
   "source": [
    "pca_pipeline[1].explained_variance_ratio_.sum()"
   ]
  },
  {
   "cell_type": "code",
   "execution_count": 546,
   "metadata": {},
   "outputs": [
    {
     "data": {
      "text/plain": [
       "5.421597305805697"
      ]
     },
     "execution_count": 546,
     "metadata": {},
     "output_type": "execute_result"
    }
   ],
   "source": [
    "pca_pipeline[1].explained_variance_.sum()"
   ]
  },
  {
   "cell_type": "code",
   "execution_count": null,
   "metadata": {},
   "outputs": [],
   "source": []
  }
 ],
 "metadata": {
  "kernelspec": {
   "display_name": ".venv",
   "language": "python",
   "name": "python3"
  },
  "language_info": {
   "codemirror_mode": {
    "name": "ipython",
    "version": 3
   },
   "file_extension": ".py",
   "mimetype": "text/x-python",
   "name": "python",
   "nbconvert_exporter": "python",
   "pygments_lexer": "ipython3",
   "version": "3.12.2"
  }
 },
 "nbformat": 4,
 "nbformat_minor": 2
}
